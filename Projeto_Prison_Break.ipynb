{
 "cells": [
  {
   "cell_type": "markdown",
   "id": "6cac5bae",
   "metadata": {},
   "source": [
    "# Projeto Prison Break\n",
    "\n",
    "# O objetivo do projeto é responder às seguintes perguntas:\n",
    "\n",
    "## 1-Em qual ano ocorreram mais tentativas de fuga de helicópteros?\n",
    "## 2-Em quais países ocorreram mais tentativas de fuga de helicópteros?"
   ]
  },
  {
   "cell_type": "markdown",
   "id": "0c3dae12",
   "metadata": {},
   "source": [
    "## WEB SCRAPING DO WIKIPEDIA\n",
    "\n",
    "Utilizado tutorial do Medium de Web Scrapping:\n",
    "https://medium.com/analytics-vidhya/web-scraping-a-wikipedia-table-into-a-dataframe-c52617e1f451\n",
    "\n",
    "Libs Request e BeautifulSoup utilizadas"
   ]
  },
  {
   "cell_type": "code",
   "execution_count": 1,
   "id": "1bdd260c",
   "metadata": {},
   "outputs": [],
   "source": [
    "# LIBS utilizadas durante o projeto\n",
    "\n",
    "import pandas as pd\n",
    "import requests\n",
    "from bs4 import BeautifulSoup\n",
    "import plotly.express as px\n",
    "import numpy as np\n",
    "\n",
    "# Import de Libs para trabalhar com Datas\n",
    "\n",
    "from dateutil.relativedelta import relativedelta\n",
    "from dateutil import parser\n",
    "from dateutil.parser import parse\n",
    "from datetime import date, time, datetime, timedelta\n",
    "\n",
    "# Import de Libs para correlação\n",
    "\n",
    "import seaborn as sn\n",
    "import scipy\n",
    "import statsmodels\n",
    "\n"
   ]
  },
  {
   "cell_type": "code",
   "execution_count": 2,
   "id": "641cc13d",
   "metadata": {},
   "outputs": [],
   "source": [
    "# df_html = pd.read_html('https://en.wikipedia.org/wiki/List_of_helicopter_prison_escapes')"
   ]
  },
  {
   "cell_type": "code",
   "execution_count": 3,
   "id": "d9b9a8a6",
   "metadata": {},
   "outputs": [
    {
     "name": "stdout",
     "output_type": "stream",
     "text": [
      "200\n"
     ]
    }
   ],
   "source": [
    "# get the response in the form of html\n",
    "wikiurl=\"https://en.wikipedia.org/wiki/List_of_helicopter_prison_escapes\"\n",
    "table_class=\"wikitable sortable\"\n",
    "response=requests.get(wikiurl)\n",
    "print(response.status_code)"
   ]
  },
  {
   "cell_type": "code",
   "execution_count": 4,
   "id": "e21dec56",
   "metadata": {},
   "outputs": [
    {
     "name": "stdout",
     "output_type": "stream",
     "text": [
      "<table class=\"wikitable sortable\" style=\"width:100%;\">\n",
      "<tbody><tr>\n",
      "<th style=\"width:11%;\">Date</th>\n",
      "<th style=\"width:14%;\">Prison name</th>\n",
      "<th style=\"width:5%;\">Country</th>\n",
      "<th style=\"width:5%;\">Succeeded</th>\n",
      "<th class=\"unsortable\" style=\"width:15%;\">Escapee(s)</th>\n",
      "<th class=\"unsortable\" style=\"width:55%;\">Details\n",
      "</th></tr>\n",
      "<tr>\n",
      "<td><span data-sort-value=\"1971-07-19 !\">August 19, 1971</span>\n",
      "</td>\n",
      "<td>Santa Martha Acatitla\n",
      "</td>\n",
      "<td><span class=\"flagicon\"><img alt=\"\" class=\"thumbborder\" data-file-height=\"560\" data-file-width=\"980\" decoding=\"async\" height=\"13\" src=\"//upload.wikimedia.org/wikipedia/commons/thumb/f/fc/Flag_of_Mexico.svg/23px-Flag_of_Mexico.svg.png\" srcset=\"//upload.wikimedia.org/wikipedia/commons/thumb/f/fc/Flag_of_Mexico.svg/35px-Flag_of_Mexico.svg.png 1.5x, //upload.wikimedia.org/wikipedia/commons/thumb/f/fc/Flag_of_Mexico.svg/46px-Flag_of_Mexico.svg.png 2x\" width=\"23\"/> </span><a href=\"/wiki/Mexico\" title=\"Mexico\">Mexico</a>\n",
      "</td>\n",
      "<td style=\"background-color: #CEF2CE;\">Yes\n",
      "</td>\n",
      "<td><span data-sort-value=\"Kaplan, Joel David\"><span class=\"vcard\"><span class=\"fn\">Joel David Kaplan</span></span></span>\n",
      "<p><span data-sort-value=\"Contreras Castro, Carlos Antonio\"><span class=\"vcard\"><span class=\"fn\">Carlos Antonio Contreras Castro</span></span></span>\n",
      "</p>\n",
      "</td>\n",
      "<td>Joel David Kaplan was a <a href=\"/wiki/New_York_City\" title=\"New York City\">New York</a> businessman who had been arrested for murder in 1962 in <a href=\"/wiki/Mexico_City\" title=\"Mexico City\">Mexico City</a> and was incarcerated at the Santa Martha Acatitla prison in the <a href=\"/wiki/Iztapalapa\" title=\"Iztapalapa\">Iztapalapa</a> borough of Mexico City.  Joel's sister, Judy Kaplan, arranged the means to help Kaplan escape, and on August 19, 1971, a helicopter landed in the prison yard. The guards mistakenly thought this was an official visit. In two minutes, Kaplan and his cellmate Carlos Antonio Contreras, a <a href=\"/wiki/Venezuela\" title=\"Venezuela\">Venezuelan</a> counterfeiter, were able to board the craft and were piloted away, before any shots were fired.<sup class=\"reference\" id=\"cite_ref-TimeMexico_9-0\"><a href=\"#cite_note-TimeMexico-9\">[9]</a></sup> Both men were flown to <a href=\"/wiki/Texas\" title=\"Texas\">Texas</a> and then different planes flew Kaplan to <a href=\"/wiki/California\" title=\"California\">California</a> and Castro to <a href=\"/wiki/Guatemala\" title=\"Guatemala\">Guatemala</a>.<sup class=\"reference\" id=\"cite_ref-Kaplan_3-1\"><a href=\"#cite_note-Kaplan-3\">[3]</a></sup>  The Mexican government never initiated extradition proceedings against Kaplan.<sup class=\"reference\" id=\"cite_ref-TimeMexico_9-1\"><a href=\"#cite_note-TimeMexico-9\">[9]</a></sup> The escape is told in a book, <i>The 10-Second Jailbreak: The Helicopter Escape of Joel David Kaplan</i>.<sup class=\"reference\" id=\"cite_ref-Kaplan_book_4-1\"><a href=\"#cite_note-Kaplan_book-4\">[4]</a></sup> It also inspired the 1975 <a href=\"/wiki/Action_film\" title=\"Action film\">action movie</a> <i><a href=\"/wiki/Breakout_(1975_film)\" title=\"Breakout (1975 film)\">Breakout</a></i>, which starred <a href=\"/wiki/Charles_Bronson\" title=\"Charles Bronson\">Charles Bronson</a> and <a href=\"/wiki/Robert_Duvall\" title=\"Robert Duvall\">Robert Duvall</a>.<sup class=\"reference\" id=\"cite_ref-TimeMexico_9-2\"><a href=\"#cite_note-TimeMexico-9\">[9]</a></sup>\n",
      "</td></tr>\n",
      "<tr>\n",
      "<td><span data-sort-value=\"1973-10-31 !\">October 31, 1973</span>\n",
      "</td>\n",
      "<td><a class=\"mw-redirect\" href=\"/wiki/Mountjoy_Jail\" title=\"Mountjoy Jail\">Mountjoy Jail</a>\n",
      "</td>\n",
      "<td><span class=\"flagicon\"><img alt=\"\" class=\"thumbborder\" data-file-height=\"600\" data-file-width=\"1200\" decoding=\"async\" height=\"12\" src=\"//upload.wikimedia.org/wikipedia/commons/thumb/4/45/Flag_of_Ireland.svg/23px-Flag_of_Ireland.svg.png\" srcset=\"//upload.wikimedia.org/wikipedia/commons/thumb/4/45/Flag_of_Ireland.svg/35px-Flag_of_Ireland.svg.png 1.5x, //upload.wikimedia.org/wikipedia/commons/thumb/4/45/Flag_of_Ireland.svg/46px-Flag_of_Ireland.svg.png 2x\" width=\"23\"/> </span><a href=\"/wiki/Republic_of_Ireland\" title=\"Republic of Ireland\">Ireland</a>\n",
      "</td>\n",
      "<td style=\"background-color: #CEF2CE;\">Yes\n",
      "</td>\n",
      "<td><span data-sort-value=\"O'Hagan, JB\"><span class=\"vcard\"><span class=\"fn\">JB O'Hagan</span></span></span><br/>\n",
      "<p><a href=\"/wiki/Seamus_Twomey\" title=\"Seamus Twomey\">Seamus Twomey</a><br/>Kevin Mallon\n",
      "</p>\n",
      "</td>\n",
      "<td>On October 31, 1973 an <a href=\"/wiki/Provisional_Irish_Republican_Army\" title=\"Provisional Irish Republican Army\">IRA</a> member hijacked a helicopter and forced the pilot to land in the exercise yard of Dublin's <a class=\"mw-redirect\" href=\"/wiki/Mountjoy_Jail\" title=\"Mountjoy Jail\">Mountjoy Jail</a>'s D Wing at 3:40 p.m., October 31, 1973. Three members of the IRA were <a class=\"mw-redirect\" href=\"/wiki/1973_Mountjoy_Prison_helicopter_escape\" title=\"1973 Mountjoy Prison helicopter escape\">able to escape</a>: <a class=\"mw-redirect\" href=\"/wiki/JB_O%27Hagan\" title=\"JB O'Hagan\">JB O'Hagan</a>, <a href=\"/wiki/Seamus_Twomey\" title=\"Seamus Twomey\">Seamus Twomey</a> and <a class=\"mw-redirect\" href=\"/wiki/Kevin_Mallon_(Irish_republican)\" title=\"Kevin Mallon (Irish republican)\">Kevin Mallon</a>. Another prisoner who also was in the prison was quoted as saying, \"One shamefaced screw apologised to the governor and said he thought it was the new Minister for Defence (<a href=\"/wiki/Paddy_Donegan\" title=\"Paddy Donegan\">Paddy Donegan</a>) arriving. I told him it was our Minister of Defence leaving.\"\n",
      "<p>The Mountjoy helicopter escape became <a class=\"mw-redirect\" href=\"/wiki/Republican_Movement_(Ireland)\" title=\"Republican Movement (Ireland)\">Republican lore</a> and was immortalized by \"<a href=\"/wiki/The_Helicopter_Song\" title=\"The Helicopter Song\">The Helicopter Song</a>\", which contains the lines \"It's up like a bird and over the city. There's three men a'missing I heard the warder say\".<sup class=\"reference\" id=\"cite_ref-mountjoy_1-1\"><a href=\"#cite_note-mountjoy-1\">[1]</a></sup>\n",
      "</p>\n",
      "</td></tr>\n",
      "<tr>\n",
      "<td><span data-sort-value=\"1978-05-24 !\">May 24, 1978</span>\n",
      "</td>\n",
      "<td><a href=\"/wiki/United_States_Penitentiary,_Marion\" title=\"United States Penitentiary, Marion\">United States Penitentiary, Marion</a>\n",
      "</td>\n",
      "<td><span class=\"flagicon\"><img alt=\"\" class=\"thumbborder\" data-file-height=\"650\" data-file-width=\"1235\" decoding=\"async\" height=\"12\" src=\"//upload.wikimedia.org/wikipedia/en/thumb/a/a4/Flag_of_the_United_States.svg/23px-Flag_of_the_United_States.svg.png\" srcset=\"//upload.wikimedia.org/wikipedia/en/thumb/a/a4/Flag_of_the_United_States.svg/35px-Flag_of_the_United_States.svg.png 1.5x, //upload.wikimedia.org/wikipedia/en/thumb/a/a4/Flag_of_the_United_States.svg/46px-Flag_of_the_United_States.svg.png 2x\" width=\"23\"/> </span><a href=\"/wiki/United_States\" title=\"United States\">United States</a>\n",
      "</td>\n",
      "<td style=\"background-color: #F2CECE;\">No\n",
      "</td>\n",
      "<td align=\"left\"><a href=\"/wiki/Garrett_Brock_Trapnell\" title=\"Garrett Brock Trapnell\">Garrett Brock Trapnell</a><br/>Martin Joseph McNally<br/>James Kenneth Johnson\n",
      "</td>\n",
      "<td>43-year-old Barbara Ann Oswald hijacked a <a class=\"mw-redirect\" href=\"/wiki/St._Louis,_Missouri\" title=\"St. Louis, Missouri\">Saint Louis</a>-based charter helicopter and forced the pilot to land in the yard at USP Marion. While landing the aircraft, the pilot, Allen Barklage, who was a <a href=\"/wiki/Vietnam_War\" title=\"Vietnam War\">Vietnam War</a> veteran, struggled with Oswald and managed to wrestle the gun away from her. Barklage then shot and killed Oswald, thwarting the escape.<sup class=\"reference\" id=\"cite_ref-St._Joseph_News-Press_10-0\"><a href=\"#cite_note-St._Joseph_News-Press-10\">[10]</a></sup> A few months later Oswald's daughter <a href=\"/wiki/TWA_Flight_541\" title=\"TWA Flight 541\">hijacked TWA Flight 541</a> in an effort to free Trapnell.\n",
      "</td></tr>\n",
      "<tr>\n",
      "<td><span data-sort-value=\"1981-02-27 !\">February 27, 1981</span>\n",
      "</td>\n",
      "<td>Fleury-Mérogis, Essonne, Ile de France\n",
      "</td>\n",
      "<td><span class=\"flagicon\"><img alt=\"\" class=\"thumbborder\" data-file-height=\"600\" data-file-width=\"900\" decoding=\"async\" height=\"15\" src=\"//upload.wikimedia.org/wikipedia/en/thumb/c/c3/Flag_of_France.svg/23px-Flag_of_France.svg.png\" srcset=\"//upload.wikimedia.org/wikipedia/en/thumb/c/c3/Flag_of_France.svg/35px-Flag_of_France.svg.png 1.5x, //upload.wikimedia.org/wikipedia/en/thumb/c/c3/Flag_of_France.svg/45px-Flag_of_France.svg.png 2x\" width=\"23\"/> </span><a href=\"/wiki/France\" title=\"France\">France</a>\n",
      "</td>\n",
      "<td style=\"background-color: #CEF2CE;\">Yes\n",
      "</td>\n",
      "<td align=\"left\">Gérard Dupré<br/>Daniel Beaumont\n",
      "</td>\n",
      "<td>With the help of Serge Coutel, Gérard Dupré and Daniel Beaumont, succeed in the first and double helicopter escape of a French prison, in Fleury-Mérogis (Essonne), the best kept prison of France. The men hijacked a helicopter and its pilot that they rented to fly from Paris to Orléans. The pilot, Claude Fourcade, was taken hostage and was told that they were holding his wife and daughter hostage (which was not true) ... The flight turned into Paris - Fleury -Merogis - Porte d'Orléans.<sup class=\"reference\" id=\"cite_ref-11\"><a href=\"#cite_note-11\">[11]</a></sup>\n",
      "</td></tr>\n",
      "<tr>\n",
      "<td><span data-sort-value=\"1981-05-7 !\">May 7, 1981</span>\n",
      "</td>\n",
      "<td>Orsainville Prison, Quebec City\n",
      "</td>\n",
      "<td><span class=\"flagicon\"><img alt=\"\" class=\"thumbborder\" data-file-height=\"600\" data-file-width=\"1200\" decoding=\"async\" height=\"12\" src=\"//upload.wikimedia.org/wikipedia/commons/thumb/d/d9/Flag_of_Canada_%28Pantone%29.svg/23px-Flag_of_Canada_%28Pantone%29.svg.png\" srcset=\"//upload.wikimedia.org/wikipedia/commons/thumb/d/d9/Flag_of_Canada_%28Pantone%29.svg/35px-Flag_of_Canada_%28Pantone%29.svg.png 1.5x, //upload.wikimedia.org/wikipedia/commons/thumb/d/d9/Flag_of_Canada_%28Pantone%29.svg/46px-Flag_of_Canada_%28Pantone%29.svg.png 2x\" width=\"23\"/> </span><a href=\"/wiki/Canada\" title=\"Canada\">Canada</a>\n",
      "</td>\n",
      "<td style=\"background-color: #F2CECE;\">No\n",
      "</td>\n",
      "<td align=\"left\">Marina Paquet (hijacker)<br/>Giles Arseneault (prisoner)\n",
      "</td>\n",
      "<td>Marina Paquet held a sawed off shotgun against the back of the head of a helicopter pilot. She demanded that he land in the Orsainville prison courtyard, where her boyfriend (awaiting extradition to California on a murder charge) was set to escape. The pilot, Brian Jenner, feigned a panic attack, put the helicopter through some rough maneuvers and was then able to convince Paquet, in the back seat of the Jet Ranger, to turn over her shotgun and her knife. Jenner then gave her the choice of any landing spot, except the prison. She chose to go back to the airport.\n",
      "<p>The pilot then explained, in great detail, exactly where they were and where they would be landing on arrival at the Quebec City airport. He added that the police would surely be aware by then, that she had hijacked the helicopter but would not yet be aware that she had given up her arms to the pilot. All the time Jenner was squeezing the transmit button on his cyclic stick and the tower was picking up all the details. The moment they touched down at the airport, the woman left the helicopter but the police, who had been advised of the situation by the control tower, were hiding nearby, and captured Paquet within seconds.\n",
      "</p>\n",
      "</td></tr>\n",
      "<tr>\n",
      "<td><span data-sort-value=\"1983-01-31 !\">January, 1983</span>\n",
      "</td>\n",
      "<td><span data-sort-value=\"Pentridge !\"><a href=\"/wiki/HM_Prison_Pentridge\" title=\"HM Prison Pentridge\">Pentridge (HM Prison)</a></span>\n",
      "</td>\n",
      "<td><span class=\"flagicon\"><img alt=\"\" class=\"thumbborder\" data-file-height=\"640\" data-file-width=\"1280\" decoding=\"async\" height=\"12\" src=\"//upload.wikimedia.org/wikipedia/commons/thumb/8/88/Flag_of_Australia_%28converted%29.svg/23px-Flag_of_Australia_%28converted%29.svg.png\" srcset=\"//upload.wikimedia.org/wikipedia/commons/thumb/8/88/Flag_of_Australia_%28converted%29.svg/35px-Flag_of_Australia_%28converted%29.svg.png 1.5x, //upload.wikimedia.org/wikipedia/commons/thumb/8/88/Flag_of_Australia_%28converted%29.svg/46px-Flag_of_Australia_%28converted%29.svg.png 2x\" width=\"23\"/> </span><a href=\"/wiki/Australia\" title=\"Australia\">Australia</a>\n",
      "</td>\n",
      "<td style=\"background-color: #F2CECE;\">No\n",
      "</td>\n",
      "<td><span data-sort-value=\"McMillan, David\"><span class=\"vcard\"><span class=\"fn\"><a href=\"/wiki/David_McMillan_(smuggler)\" title=\"David McMillan (smuggler)\">David McMillan</a></span></span></span>\n",
      "</td>\n",
      "<td>Arrests were made for the 1983 attempted helicopter escape from Melbourne’s Pentridge Prison in Australia.<sup class=\"reference\" id=\"cite_ref-melbournecrime_12-0\"><a href=\"#cite_note-melbournecrime-12\">[12]</a></sup> The three, all held on drug-importation charges, had hired a former <a href=\"/wiki/Special_Air_Service\" title=\"Special Air Service\">SAS</a> soldier, then living in the <a href=\"/wiki/Philippines\" title=\"Philippines\">Philippines</a>, to lift the prisoners from the jail’s tennis court to a nearby van fitted with panels to hide them for the 600 kilometre road trip to Sydney, where a yacht was to take them to <a href=\"/wiki/Manila\" title=\"Manila\">Manila</a>.\n",
      "<p>The plan was thwarted when <a href=\"/wiki/Antony_Moynihan,_3rd_Baron_Moynihan\" title=\"Antony Moynihan, 3rd Baron Moynihan\">Lord Tony Moynihan</a>, himself an exile in the Philippines, informed the <a href=\"/wiki/Australian_Federal_Police\" title=\"Australian Federal Police\">Australian Federal Police</a>, who then ran it as a sting operation. Tony Moynihan would later become an informer against <a href=\"/wiki/Howard_Marks\" title=\"Howard Marks\">Howard Marks</a> in a Florida trial.\n",
      "</p><p>Of the accused, only <a href=\"/wiki/David_McMillan_(smuggler)\" title=\"David McMillan (smuggler)\">David McMillan</a> and his accountant friend who had visited the prison stood trial. During the hearings, few prosecution witnesses used their real names as they were mostly from Moynihan’s former West African <a href=\"/wiki/MI6\" title=\"MI6\">MI6</a> unit. Those on trial were convicted and sentenced.<sup class=\"reference\" id=\"cite_ref-13\"><a href=\"#cite_note-13\">[13]</a></sup>\n",
      "</p>\n",
      "</td></tr>\n",
      "<tr>\n",
      "<td><span data-sort-value=\"1985-12-19 !\">December 19, 1985</span>\n",
      "</td>\n",
      "<td>Perry Correctional Institution, <a href=\"/wiki/Pelzer,_South_Carolina\" title=\"Pelzer, South Carolina\">Pelzer, South Carolina</a>\n",
      "</td>\n",
      "<td><span class=\"flagicon\"><img alt=\"\" class=\"thumbborder\" data-file-height=\"650\" data-file-width=\"1235\" decoding=\"async\" height=\"12\" src=\"//upload.wikimedia.org/wikipedia/en/thumb/a/a4/Flag_of_the_United_States.svg/23px-Flag_of_the_United_States.svg.png\" srcset=\"//upload.wikimedia.org/wikipedia/en/thumb/a/a4/Flag_of_the_United_States.svg/35px-Flag_of_the_United_States.svg.png 1.5x, //upload.wikimedia.org/wikipedia/en/thumb/a/a4/Flag_of_the_United_States.svg/46px-Flag_of_the_United_States.svg.png 2x\" width=\"23\"/> </span><a href=\"/wiki/United_States\" title=\"United States\">United States</a>\n",
      "</td>\n",
      "<td style=\"background-color: #CEF2CE;\">Yes\n",
      "</td>\n",
      "<td align=\"left\">James Rodney Leonard<br/>William Douglas Ballew<br/>Jesse Glenn Smith\n",
      "</td>\n",
      "<td>One murderer, James Rodney Leonard, and two armed robbers, William Douglas Ballew and Jesse Glenn Smith, fled in a helicopter with a pilot and a woman hijacker with a pistol to a getaway car 4 to 5 miles away.<sup class=\"reference\" id=\"cite_ref-14\"><a href=\"#cite_note-14\">[14]</a></sup> The 3-passenger helicopter was so overloaded with 5 occupants that it barely cleared the fence, while flying away in a hail of gunfire that injured one guard. Two other men attempted to escape as well, but either jumped or were pushed off when the pilot told the escapees that the helicopter could not take off.<sup class=\"reference\" id=\"cite_ref-Perry3_15-0\"><a href=\"#cite_note-Perry3-15\">[15]</a></sup> The three escapees were captured on December 23 in <a href=\"/wiki/Camden_County,_Georgia\" title=\"Camden County, Georgia\">Camden County</a>, <a href=\"/wiki/Georgia_(U.S._state)\" title=\"Georgia (U.S. state)\">Georgia</a>.<sup class=\"reference\" id=\"cite_ref-16\"><a href=\"#cite_note-16\">[16]</a></sup>\n",
      "</td></tr>\n",
      "<tr>\n",
      "<td><span data-sort-value=\"1985-12-31 !\">December 31, 1985</span>\n",
      "</td>\n",
      "<td>Cândido Mendes penitentiary, <a href=\"/wiki/Ilha_Grande\" title=\"Ilha Grande\">Ilha Grande</a>, <a href=\"/wiki/Rio_de_Janeiro_(state)\" title=\"Rio de Janeiro (state)\">Rio de Janeiro</a>\n",
      "</td>\n",
      "<td><span class=\"flagicon\"><img alt=\"\" class=\"thumbborder\" data-file-height=\"504\" data-file-width=\"720\" decoding=\"async\" height=\"15\" src=\"//upload.wikimedia.org/wikipedia/en/thumb/0/05/Flag_of_Brazil.svg/22px-Flag_of_Brazil.svg.png\" srcset=\"//upload.wikimedia.org/wikipedia/en/thumb/0/05/Flag_of_Brazil.svg/33px-Flag_of_Brazil.svg.png 1.5x, //upload.wikimedia.org/wikipedia/en/thumb/0/05/Flag_of_Brazil.svg/43px-Flag_of_Brazil.svg.png 2x\" width=\"22\"/> </span><a href=\"/wiki/Brazil\" title=\"Brazil\">Brazil</a>\n",
      "</td>\n",
      "<td style=\"background-color: #CEF2CE;\">Yes\n",
      "</td>\n",
      "<td align=\"left\">José Carlos dos Reis Encina, a.k.a. \"Escadinha\"\n",
      "</td>\n",
      "<td>Drug lord Encina was rescued by José Carlos Gregório, aka \"Gordo\", who rented the <a href=\"/wiki/Bell_47\" title=\"Bell 47\">Bell 47</a> aircraft under the guise of surveying some lands he intended to buy. \"Gordo\" forced the pilot to land and pick up Encina, who had escaped the prison proper earlier. Encina was recaptured three months later after being shot in a firefight.<sup class=\"reference\" id=\"cite_ref-17\"><a href=\"#cite_note-17\">[17]</a></sup>\n",
      "</td></tr>\n",
      "<tr>\n",
      "<td><span data-sort-value=\"1986-05-26 !\">May 26, 1986</span>\n",
      "</td>\n",
      "<td><a class=\"mw-redirect\" href=\"/wiki/Prison_de_la_Sant%C3%A9\" title=\"Prison de la Santé\">Prison de la Santé</a>\n",
      "</td>\n",
      "<td><span class=\"flagicon\"><img alt=\"\" class=\"thumbborder\" data-file-height=\"600\" data-file-width=\"900\" decoding=\"async\" height=\"15\" src=\"//upload.wikimedia.org/wikipedia/en/thumb/c/c3/Flag_of_France.svg/23px-Flag_of_France.svg.png\" srcset=\"//upload.wikimedia.org/wikipedia/en/thumb/c/c3/Flag_of_France.svg/35px-Flag_of_France.svg.png 1.5x, //upload.wikimedia.org/wikipedia/en/thumb/c/c3/Flag_of_France.svg/45px-Flag_of_France.svg.png 2x\" width=\"23\"/> </span><a href=\"/wiki/France\" title=\"France\">France</a>\n",
      "</td>\n",
      "<td style=\"background-color: #CEF2CE;\">Yes\n",
      "</td>\n",
      "<td><span data-sort-value=\"Vaujour, Michel\"><span class=\"vcard\"><span class=\"fn\">Michel Vaujour</span></span></span>\n",
      "</td>\n",
      "<td>Vaujour had 28 years to serve for attempted murder and armed robbery; this was his fourth escape attempt. He made his way to the roof by threatening guards with a fake pistol and nectarines painted as grenades. On top of the jail he was picked up by his wife Nadine, who had taken helicopter pilot lessons especially for the escape.<sup class=\"reference\" id=\"cite_ref-aiton_2005_5-1\"><a href=\"#cite_note-aiton_2005-5\">[5]</a></sup> They landed at a nearby football pitch and fled in a waiting car.<sup class=\"reference\" id=\"cite_ref-lesante_2-2\"><a href=\"#cite_note-lesante-2\">[2]</a></sup> <i><a class=\"mw-redirect\" href=\"/wiki/Paris-Match\" title=\"Paris-Match\">Paris-Match</a></i> published amateur photos of the escape, which was made into a film starring <a href=\"/wiki/B%C3%A9atrice_Dalle\" title=\"Béatrice Dalle\">Béatrice Dalle</a> in 1991.<sup class=\"reference\" id=\"cite_ref-touraine92-3_18-0\"><a href=\"#cite_note-touraine92-3-18\">[18]</a></sup>\n",
      "</td></tr>\n",
      "<tr>\n",
      "<td><span data-sort-value=\"1986-11-05 !\">November 5, 1986</span>\n",
      "</td>\n",
      "<td><a href=\"/wiki/Federal_Correctional_Institution,_Dublin\" title=\"Federal Correctional Institution, Dublin\">Federal Correctional Institution, Dublin</a>\n",
      "</td>\n",
      "<td><span class=\"flagicon\"><img alt=\"\" class=\"thumbborder\" data-file-height=\"650\" data-file-width=\"1235\" decoding=\"async\" height=\"12\" src=\"//upload.wikimedia.org/wikipedia/en/thumb/a/a4/Flag_of_the_United_States.svg/23px-Flag_of_the_United_States.svg.png\" srcset=\"//upload.wikimedia.org/wikipedia/en/thumb/a/a4/Flag_of_the_United_States.svg/35px-Flag_of_the_United_States.svg.png 1.5x, //upload.wikimedia.org/wikipedia/en/thumb/a/a4/Flag_of_the_United_States.svg/46px-Flag_of_the_United_States.svg.png 2x\" width=\"23\"/> </span><a href=\"/wiki/United_States\" title=\"United States\">United States</a>\n",
      "</td>\n",
      "<td style=\"background-color: #CEF2CE;\">Yes\n",
      "</td>\n",
      "<td><span data-sort-value=\"Lopez, Samantha\"><span class=\"vcard\"><span class=\"fn\">Samantha Lopez</span></span></span>\n",
      "</td>\n",
      "<td>Ronald J. McIntosh walked away from a minimum security prison on October 28 and then hijacked a helicopter on November 5.<sup class=\"reference\" id=\"cite_ref-NY_Times_1986_19-0\"><a href=\"#cite_note-NY_Times_1986-19\">[19]</a></sup><sup class=\"reference\" id=\"cite_ref-20\"><a href=\"#cite_note-20\">[20]</a></sup> He used the helicopter to free Samantha Lopez from the <a href=\"/wiki/Federal_Correctional_Institution,_Dublin\" title=\"Federal Correctional Institution, Dublin\">Federal Correctional Institution at Dublin</a>, east of San Francisco. Both were later caught on November 15 when they arrived to pick up wedding rings from a <a href=\"/wiki/California\" title=\"California\">California</a> shopping mall. The authorities were monitoring the account McIntosh used to write the check and the police were waiting for them.\n",
      "<p>Ron McIntosh for his role in the escape was sentenced to 25 years in prison. Samantha Lopez was given five years added to her 50-year sentence for a 1981 bank robbery in Georgia.<sup class=\"reference\" id=\"cite_ref-pleasanton_21-0\"><a href=\"#cite_note-pleasanton-21\">[21]</a></sup> As they were driven away to their separate prisons McIntosh was able to lean out of a car window and yell, \"<i>I love you!\"</i> to Lopez.<sup class=\"reference\" id=\"cite_ref-NYT_I_Love_u_22-0\"><a href=\"#cite_note-NYT_I_Love_u-22\">[22]</a></sup> Samantha Lopez was released from prison on 20 April 2010.<sup class=\"reference\" id=\"cite_ref-Federal_Bureau_of_Prisons_23-0\"><a href=\"#cite_note-Federal_Bureau_of_Prisons-23\">[23]</a></sup>\n",
      "</p>\n",
      "</td></tr>\n",
      "<tr>\n",
      "<td><span data-sort-value=\"1986-11-23 !\">November 23, 1986</span>\n",
      "</td>\n",
      "<td><a href=\"/wiki/Rebibbia\" title=\"Rebibbia\">Prigione di Rebibbia, Roma</a>\n",
      "</td>\n",
      "<td><span class=\"flagicon\"><img alt=\"\" class=\"thumbborder\" data-file-height=\"1000\" data-file-width=\"1500\" decoding=\"async\" height=\"15\" src=\"//upload.wikimedia.org/wikipedia/en/thumb/0/03/Flag_of_Italy.svg/23px-Flag_of_Italy.svg.png\" srcset=\"//upload.wikimedia.org/wikipedia/en/thumb/0/03/Flag_of_Italy.svg/35px-Flag_of_Italy.svg.png 1.5x, //upload.wikimedia.org/wikipedia/en/thumb/0/03/Flag_of_Italy.svg/45px-Flag_of_Italy.svg.png 2x\" width=\"23\"/> </span><a href=\"/wiki/Italy\" title=\"Italy\">Italy</a>\n",
      "</td>\n",
      "<td style=\"background-color: #CEF2CE;\">Yes\n",
      "</td>\n",
      "<td><span data-sort-value=\"Bellaïche, André\"><span class=\"vcard\"><span class=\"fn\">André Bellaïche</span></span></span><br/><span data-sort-value=\"Esposito, Gianluigi\"><span class=\"vcard\"><span class=\"fn\">Gianluigi Esposito</span></span></span><br/><span data-sort-value=\"Cipollari, Luciano\"><span class=\"vcard\"><span class=\"fn\">Luciano  Cipollari</span></span></span>\n",
      "</td>\n",
      "<td>A red cross helicopter was hijacked by two gunmen and forced to fly to the maximum-security <a href=\"/wiki/Rebibbia\" title=\"Rebibbia\">Rebibbia Prison</a> courtyard. The pilot hovered the helicopter three feet off the courtyard ground while around 50 inmates were exercising. While the hijackers laid covering fire, three inmates tried to board the helicopter. One escapee, Andre Bellaiche, 36, was a Tunisian-born Frenchman who was in jail for murder and bank robbery. The other escapee, Gianluigi Esposito, 30, was an arms smuggler accused of providing weapons to Italian terrorists. The third man, Luciano Cipollari, 24, an Italian extradited from France in 1985 for murder, slipped and fell preventing him from escaping. The helicopter flew to a nearby soccer field scattering an ongoing game. The men ran out of the helicopter and hijacked a car to escape.<sup class=\"reference\" id=\"cite_ref-24\"><a href=\"#cite_note-24\">[24]</a></sup> They later managed to flee Italy, but police was able to track them down and they were both arrested again on December 13, 1986. Esposito later revealed that he had intentionally prevented Cipollari from boarding, because he was just 2 years away from being released.<sup class=\"reference\" id=\"cite_ref-25\"><a href=\"#cite_note-25\">[25]</a></sup>\n",
      "</td></tr>\n",
      "<tr>\n",
      "<td><span data-sort-value=\"1987-12-10 !\">December 10, 1987</span>\n",
      "</td>\n",
      "<td><a class=\"mw-redirect\" href=\"/wiki/Gartree_(HM_Prison)\" title=\"Gartree (HM Prison)\">Gartree (HM Prison)</a>\n",
      "</td>\n",
      "<td><span class=\"flagicon\"><img alt=\"\" class=\"thumbborder\" data-file-height=\"600\" data-file-width=\"1200\" decoding=\"async\" height=\"12\" src=\"//upload.wikimedia.org/wikipedia/en/thumb/a/ae/Flag_of_the_United_Kingdom.svg/23px-Flag_of_the_United_Kingdom.svg.png\" srcset=\"//upload.wikimedia.org/wikipedia/en/thumb/a/ae/Flag_of_the_United_Kingdom.svg/35px-Flag_of_the_United_Kingdom.svg.png 1.5x, //upload.wikimedia.org/wikipedia/en/thumb/a/ae/Flag_of_the_United_Kingdom.svg/46px-Flag_of_the_United_Kingdom.svg.png 2x\" width=\"23\"/> </span><a href=\"/wiki/United_Kingdom\" title=\"United Kingdom\">United Kingdom</a>\n",
      "</td>\n",
      "<td style=\"background-color: #CEF2CE;\">Yes\n",
      "</td>\n",
      "<td><span data-sort-value=\"Draper, Sydney\"><span class=\"vcard\"><span class=\"fn\">Sydney Draper</span></span></span><br/>John Kendall\n",
      "</td>\n",
      "<td>At 3:16 p.m. on December 10, 1987, John Kendall and Sydney Draper were sprung from <a class=\"mw-redirect\" href=\"/wiki/Gartree_(HM_Prison)\" title=\"Gartree (HM Prison)\">Gartree's</a> exercise yard with the aid of a hijacked <a href=\"/wiki/Bell_206\" title=\"Bell 206\">Bell 206L helicopter</a>. Kendall was a gangland boss serving eight years while Draper was jailed for murder and serving a life sentence.<sup class=\"reference\" id=\"cite_ref-Gartree_26-0\"><a href=\"#cite_note-Gartree-26\">[26]</a></sup> The escape caused great controversy at the time and led to a tightening of security at the jail. Kendall was recaptured 10 days later but Draper remained at large for 13 months.\n",
      "</td></tr>\n",
      "<tr>\n",
      "<td><span data-sort-value=\"1988-07-11 !\">July 11, 1988</span>\n",
      "</td>\n",
      "<td><a href=\"/wiki/New_Mexico_State_Penitentiary_riot\" title=\"New Mexico State Penitentiary riot\">Santa Fe prison</a>\n",
      "</td>\n",
      "<td><span class=\"flagicon\"><img alt=\"\" class=\"thumbborder\" data-file-height=\"650\" data-file-width=\"1235\" decoding=\"async\" height=\"12\" src=\"//upload.wikimedia.org/wikipedia/en/thumb/a/a4/Flag_of_the_United_States.svg/23px-Flag_of_the_United_States.svg.png\" srcset=\"//upload.wikimedia.org/wikipedia/en/thumb/a/a4/Flag_of_the_United_States.svg/35px-Flag_of_the_United_States.svg.png 1.5x, //upload.wikimedia.org/wikipedia/en/thumb/a/a4/Flag_of_the_United_States.svg/46px-Flag_of_the_United_States.svg.png 2x\" width=\"23\"/> </span><a href=\"/wiki/United_States\" title=\"United States\">United States</a>\n",
      "</td>\n",
      "<td style=\"background-color: #CEF2CE;\">Yes\n",
      "</td>\n",
      "<td><span data-sort-value=\"Danny , Mahoney\"><span class=\"vcard\"><span class=\"fn\">Mahoney Danny </span></span></span><br/>Francis Mitchell<br/>Randy Lackey\n",
      "</td>\n",
      "<td>Pilot Charles Bella was hired to fly a real estate agent around the Santa Fe area. As he was flying his Aerospatiale Gazelle helicopter she pulled a gun and forced him to land in the courtyard of the <a href=\"/wiki/New_Mexico_State_Penitentiary_riot\" title=\"New Mexico State Penitentiary riot\">Santa Fe prison</a>. Three inmates jumped in and he flew the aircraft to another site, pursued by a US Customs Service helicopter that was later joined by a state police helicopter. Pursuing helicopters claimed that Bella tried to force them down through aggressive maneuvers. However, they were able to tail him and police were waiting for the helicopter every time it touched down.<sup class=\"reference\" id=\"cite_ref-Blade_1988_8-1\"><a href=\"#cite_note-Blade_1988-8\">[8]</a></sup><sup class=\"reference\" id=\"cite_ref-LA_TIMEs_1988_27-0\"><a href=\"#cite_note-LA_TIMEs_1988-27\">[27]</a></sup> Two of the prisoners, Francis Mitchell and Randy Lackey, were captured almost right away while Danny Mahoney was later captured with assistance from a canine unit.<sup class=\"reference\" id=\"cite_ref-Blade_1988_8-2\"><a href=\"#cite_note-Blade_1988-8\">[8]</a></sup>\n",
      "</td></tr>\n",
      "<tr>\n",
      "<td><span data-sort-value=\"1989-04-17 !\">April 17, 1989</span>\n",
      "</td>\n",
      "<td><a href=\"/wiki/Federal_Correctional_Institution,_Miami\" title=\"Federal Correctional Institution, Miami\">Federal Holding Facility, Miami</a>, FL\n",
      "</td>\n",
      "<td><span class=\"flagicon\"><img alt=\"\" class=\"thumbborder\" data-file-height=\"650\" data-file-width=\"1235\" decoding=\"async\" height=\"12\" src=\"//upload.wikimedia.org/wikipedia/en/thumb/a/a4/Flag_of_the_United_States.svg/23px-Flag_of_the_United_States.svg.png\" srcset=\"//upload.wikimedia.org/wikipedia/en/thumb/a/a4/Flag_of_the_United_States.svg/35px-Flag_of_the_United_States.svg.png 1.5x, //upload.wikimedia.org/wikipedia/en/thumb/a/a4/Flag_of_the_United_States.svg/46px-Flag_of_the_United_States.svg.png 2x\" width=\"23\"/> </span><a href=\"/wiki/United_States\" title=\"United States\">United States</a>\n",
      "</td>\n",
      "<td style=\"background-color: #F2CECE;\">No\n",
      "</td>\n",
      "<td><span data-sort-value=\"Kramer, Ben\"><span class=\"vcard\"><span class=\"fn\">Ben Kramer</span></span></span>\n",
      "</td>\n",
      "<td>Famous Apache Boat owner and racer Ben Kramer tried to escape by helicopter from the Metropolitan Correctional Center, a Federal Prison (holding) in Southwest Miami on April 17, 1989. The escape failed when the rookie pilot, Charles Clayton Stevens, hovered 12 inches off the ground in a very tight space (200'long by 50' wide). When the 6'-2\", 240 lb Kramer jumped into the small two seater <a href=\"/wiki/Bell_47\" title=\"Bell 47\">Bell 47</a>D-1 (trainer), its rear rotor struck the razor wire, causing it to be uncontrollable. Stevens made an attempt to take off anyway. One of the skids caught on the razor wire, causing the helicopter to catapult over the fence and crash into the prison grounds. Both pilot and escapee sustained extensive injuries.<sup class=\"reference\" id=\"cite_ref-us-court-of-appeals_28-0\"><a href=\"#cite_note-us-court-of-appeals-28\">[28]</a></sup><sup class=\"reference\" id=\"cite_ref-29\"><a href=\"#cite_note-29\">[29]</a></sup>\n",
      "<p>Ben Kramer was serving life without parole for <a href=\"/wiki/Racketeer_Influenced_and_Corrupt_Organizations_Act\" title=\"Racketeer Influenced and Corrupt Organizations Act\">Racketeer Influenced and Corrupt Organizations Act</a> (RICO) charges resulting from drug trafficking, and also pleaded guilty to the murder of fellow boat builder and racer <a class=\"mw-redirect\" href=\"/wiki/Don_Aronow\" title=\"Don Aronow\">Don Aronow</a>, owner of <i>Cigarette Off Shore Boats</i>.<sup class=\"reference\" id=\"cite_ref-us-court-of-appeals_28-1\"><a href=\"#cite_note-us-court-of-appeals-28\">[28]</a></sup>\n",
      "</p>\n",
      "</td></tr>\n",
      "<tr>\n",
      "<td><span data-sort-value=\"1989-08-19 !\">August 19, 1989</span>\n",
      "</td>\n",
      "<td>Arkansas Valley Correctional Facility\n",
      "</td>\n",
      "<td><span class=\"flagicon\"><img alt=\"\" class=\"thumbborder\" data-file-height=\"650\" data-file-width=\"1235\" decoding=\"async\" height=\"12\" src=\"//upload.wikimedia.org/wikipedia/en/thumb/a/a4/Flag_of_the_United_States.svg/23px-Flag_of_the_United_States.svg.png\" srcset=\"//upload.wikimedia.org/wikipedia/en/thumb/a/a4/Flag_of_the_United_States.svg/35px-Flag_of_the_United_States.svg.png 1.5x, //upload.wikimedia.org/wikipedia/en/thumb/a/a4/Flag_of_the_United_States.svg/46px-Flag_of_the_United_States.svg.png 2x\" width=\"23\"/> </span><a href=\"/wiki/United_States\" title=\"United States\">United States</a>\n",
      "</td>\n",
      "<td style=\"background-color: #CEF2CE;\">Yes\n",
      "</td>\n",
      "<td><span data-sort-value=\"Brown, Ralph\"><span class=\"vcard\"><span class=\"fn\">Ralph Brown</span></span></span><br/>Freddie Gonzales\n",
      "</td>\n",
      "<td>Colorado prison inmates Ralph Brown and Freddie Gonzales were able to escape via helicopter. Two women, Rebecca Brown and Patricia Gonzales chartered a helicopter out of Denver Colorado. Once airborne the women held semi-automatic pistols to pilot Tim Graves head and ordered him to land in the prison yard to pick up the two men. They were recaptured in <a href=\"/wiki/Holdrege,_Nebraska\" title=\"Holdrege, Nebraska\">Holdrege, Nebraska</a> that night after firing shots at law enforcement officers.<sup class=\"reference\" id=\"cite_ref-colorado_1989_30-0\"><a href=\"#cite_note-colorado_1989-30\">[30]</a></sup>\n",
      "</td></tr>\n",
      "<tr>\n",
      "<td><span data-sort-value=\"1990-06-19 !\">June 19, 1990</span>\n",
      "</td>\n",
      "<td>Kent Penitentiary, British Columbia\n",
      "</td>\n",
      "<td><span class=\"flagicon\"><img alt=\"\" class=\"thumbborder\" data-file-height=\"600\" data-file-width=\"1200\" decoding=\"async\" height=\"12\" src=\"//upload.wikimedia.org/wikipedia/commons/thumb/d/d9/Flag_of_Canada_%28Pantone%29.svg/23px-Flag_of_Canada_%28Pantone%29.svg.png\" srcset=\"//upload.wikimedia.org/wikipedia/commons/thumb/d/d9/Flag_of_Canada_%28Pantone%29.svg/35px-Flag_of_Canada_%28Pantone%29.svg.png 1.5x, //upload.wikimedia.org/wikipedia/commons/thumb/d/d9/Flag_of_Canada_%28Pantone%29.svg/46px-Flag_of_Canada_%28Pantone%29.svg.png 2x\" width=\"23\"/> </span><a href=\"/wiki/Canada\" title=\"Canada\">Canada</a>\n",
      "</td>\n",
      "<td style=\"background-color: #CEF2CE;\">Yes\n",
      "</td>\n",
      "<td><span data-sort-value=\"Ford, Robert\"><span class=\"vcard\"><span class=\"fn\">Robert Ford</span></span></span><br/>David Thomas\n",
      "</td>\n",
      "<td>Two prisoners, Robert Ford and David Thomas, escaped when a hijacked helicopter landed in the courtyard. They were captured by the <a href=\"/wiki/Royal_Canadian_Mounted_Police\" title=\"Royal Canadian Mounted Police\">RCMP</a> at Harrison Lake two days later. Correctional Officer R. KIRBY was shot during the incident and survived. The pilot, Fred Fandrich of Valley Helicopters, was not injured. The Bell 206 helicopter was damaged by gunfire from prison guards.\n",
      "</td></tr>\n",
      "<tr>\n",
      "<td><span data-sort-value=\"1991-04-07 !\">April 7, 1991</span>\n",
      "</td>\n",
      "<td>Rio Piedras State Penitentiary, Puerto Rico\n",
      "</td>\n",
      "<td><span class=\"flagicon\"><img alt=\"\" class=\"thumbborder\" data-file-height=\"600\" data-file-width=\"900\" decoding=\"async\" height=\"15\" src=\"//upload.wikimedia.org/wikipedia/commons/thumb/2/28/Flag_of_Puerto_Rico.svg/23px-Flag_of_Puerto_Rico.svg.png\" srcset=\"//upload.wikimedia.org/wikipedia/commons/thumb/2/28/Flag_of_Puerto_Rico.svg/35px-Flag_of_Puerto_Rico.svg.png 1.5x, //upload.wikimedia.org/wikipedia/commons/thumb/2/28/Flag_of_Puerto_Rico.svg/45px-Flag_of_Puerto_Rico.svg.png 2x\" width=\"23\"/> </span><a href=\"/wiki/Puerto_Rico\" title=\"Puerto Rico\">Puerto Rico</a>\n",
      "</td>\n",
      "<td style=\"background-color: #CEF2CE;\">Yes\n",
      "</td>\n",
      "<td>William Lane\n",
      "</td>\n",
      "<td>Inmates were able to escape when a helicopter plucked them from the prison. The escape prompted the Puerto Rico House Government Committee to pass a regulation that allowed penal officials to fire on any helicopter aiding an escape attempt.<sup class=\"reference\" id=\"cite_ref-BBC_2616401_31-0\"><a href=\"#cite_note-BBC_2616401-31\">[31]</a></sup> Plans for the escape have been attributed to drug dealer <a class=\"mw-redirect\" href=\"/wiki/Papo_Cachete\" title=\"Papo Cachete\">Papo Cachete</a>, who died during 2019.\n",
      "</td></tr>\n",
      "<tr>\n",
      "<td><span data-sort-value=\"1992-2-24 !\">February 24, 1992</span>\n",
      "</td>\n",
      "<td>Lyon Prison\n",
      "</td>\n",
      "<td><span class=\"flagicon\"><img alt=\"\" class=\"thumbborder\" data-file-height=\"600\" data-file-width=\"900\" decoding=\"async\" height=\"15\" src=\"//upload.wikimedia.org/wikipedia/en/thumb/c/c3/Flag_of_France.svg/23px-Flag_of_France.svg.png\" srcset=\"//upload.wikimedia.org/wikipedia/en/thumb/c/c3/Flag_of_France.svg/35px-Flag_of_France.svg.png 1.5x, //upload.wikimedia.org/wikipedia/en/thumb/c/c3/Flag_of_France.svg/45px-Flag_of_France.svg.png 2x\" width=\"23\"/> </span><a href=\"/wiki/France\" title=\"France\">France</a>\n",
      "</td>\n",
      "<td style=\"background-color: #CEF2CE;\">Yes\n",
      "</td>\n",
      "<td align=\"center\">—\n",
      "</td>\n",
      "<td>Two armed men hijacked a helicopter in Albertville as it was about to take off to pick up skiers in the Alps and forced the pilot to fly to the prison. The helicopter landed in the courtyard and three prisoners clambered aboard. After this successful escape, cables were strung across the central yard at five-metre intervals.<sup class=\"reference\" id=\"cite_ref-aiton_2005_5-2\"><a href=\"#cite_note-aiton_2005-5\">[5]</a></sup>\n",
      "</td></tr>\n",
      "<tr>\n",
      "<td><span data-sort-value=\"1992-12-17 !\">December 1992</span>\n",
      "</td>\n",
      "<td><a href=\"/wiki/Touraine\" title=\"Touraine\">Touraine</a> Central Prison, <a href=\"/wiki/Tours\" title=\"Tours\">Tours</a>\n",
      "</td>\n",
      "<td><span class=\"flagicon\"><img alt=\"\" class=\"thumbborder\" data-file-height=\"600\" data-file-width=\"900\" decoding=\"async\" height=\"15\" src=\"//upload.wikimedia.org/wikipedia/en/thumb/c/c3/Flag_of_France.svg/23px-Flag_of_France.svg.png\" srcset=\"//upload.wikimedia.org/wikipedia/en/thumb/c/c3/Flag_of_France.svg/35px-Flag_of_France.svg.png 1.5x, //upload.wikimedia.org/wikipedia/en/thumb/c/c3/Flag_of_France.svg/45px-Flag_of_France.svg.png 2x\" width=\"23\"/> </span><a href=\"/wiki/France\" title=\"France\">France</a>\n",
      "</td>\n",
      "<td style=\"background-color: #F2CECE;\">No\n",
      "</td>\n",
      "<td align=\"center\">—\n",
      "</td>\n",
      "<td>The would-be escapee was shot dead by prison guards; three others were wounded.<sup class=\"reference\" id=\"cite_ref-touraine92-3_18-1\"><a href=\"#cite_note-touraine92-3-18\">[18]</a></sup>\n",
      "</td></tr>\n",
      "<tr>\n",
      "<td><span data-sort-value=\"1993-06-17 !\">June 17, 1993</span>\n",
      "</td>\n",
      "<td><a href=\"/wiki/Touraine\" title=\"Touraine\">Touraine</a> Central Prison, <a href=\"/wiki/Tours\" title=\"Tours\">Tours</a>\n",
      "</td>\n",
      "<td><span class=\"flagicon\"><img alt=\"\" class=\"thumbborder\" data-file-height=\"600\" data-file-width=\"900\" decoding=\"async\" height=\"15\" src=\"//upload.wikimedia.org/wikipedia/en/thumb/c/c3/Flag_of_France.svg/23px-Flag_of_France.svg.png\" srcset=\"//upload.wikimedia.org/wikipedia/en/thumb/c/c3/Flag_of_France.svg/35px-Flag_of_France.svg.png 1.5x, //upload.wikimedia.org/wikipedia/en/thumb/c/c3/Flag_of_France.svg/45px-Flag_of_France.svg.png 2x\" width=\"23\"/> </span><a href=\"/wiki/France\" title=\"France\">France</a>\n",
      "</td>\n",
      "<td style=\"background-color: #F2CECE;\">No\n",
      "</td>\n",
      "<td><span data-sort-value=\"Vaujour, Michel\"><span class=\"vcard\"><span class=\"fn\">Michel Vaujour</span></span></span>\n",
      "</td>\n",
      "<td>Vaujour and his wife were imprisoned in 1991. A man and woman hijacked a helicopter and held the pilot's family hostage. The wife alerted police and the prison was locked down before the helicopter arrived. It returned to its base, from where the hijackers escaped in a car.<sup class=\"reference\" id=\"cite_ref-touraine92-3_18-2\"><a href=\"#cite_note-touraine92-3-18\">[18]</a></sup>\n",
      "</td></tr>\n",
      "<tr>\n",
      "<td><span data-sort-value=\"1996-12-30 !\">December 30, 1996</span>\n",
      "</td>\n",
      "<td>High Security Prison, Santiago\n",
      "</td>\n",
      "<td><span class=\"flagicon\"><img alt=\"\" class=\"thumbborder\" data-file-height=\"600\" data-file-width=\"900\" decoding=\"async\" height=\"15\" src=\"//upload.wikimedia.org/wikipedia/commons/thumb/7/78/Flag_of_Chile.svg/23px-Flag_of_Chile.svg.png\" srcset=\"//upload.wikimedia.org/wikipedia/commons/thumb/7/78/Flag_of_Chile.svg/35px-Flag_of_Chile.svg.png 1.5x, //upload.wikimedia.org/wikipedia/commons/thumb/7/78/Flag_of_Chile.svg/45px-Flag_of_Chile.svg.png 2x\" width=\"23\"/> </span><a href=\"/wiki/Chile\" title=\"Chile\">Chile</a>\n",
      "</td>\n",
      "<td style=\"background-color: #CEF2CE;\">Yes\n",
      "</td>\n",
      "<td>Four members of the <a href=\"/wiki/Manuel_Rodr%C3%ADguez_Patriotic_Front\" title=\"Manuel Rodríguez Patriotic Front\">Manuel Rodriguez Patriotic Front</a>\n",
      "</td>\n",
      "<td>Two women suspected of involvement were Irish citizens, raising suspicions of a <a class=\"mw-redirect\" href=\"/wiki/Provisional_IRA\" title=\"Provisional IRA\">Provisional IRA</a> link to the left-wing rebel escapees.<sup class=\"reference\" id=\"cite_ref-32\"><a href=\"#cite_note-32\">[32]</a></sup>\n",
      "</td></tr>\n",
      "<tr>\n",
      "<td><span data-sort-value=\"1997-09-18 !\">September 18, 1997</span>\n",
      "</td>\n",
      "<td>De Geerhorst jail\n",
      "</td>\n",
      "<td><span class=\"flagicon\"><img alt=\"\" class=\"thumbborder\" data-file-height=\"600\" data-file-width=\"900\" decoding=\"async\" height=\"15\" src=\"//upload.wikimedia.org/wikipedia/commons/thumb/2/20/Flag_of_the_Netherlands.svg/23px-Flag_of_the_Netherlands.svg.png\" srcset=\"//upload.wikimedia.org/wikipedia/commons/thumb/2/20/Flag_of_the_Netherlands.svg/35px-Flag_of_the_Netherlands.svg.png 1.5x, //upload.wikimedia.org/wikipedia/commons/thumb/2/20/Flag_of_the_Netherlands.svg/45px-Flag_of_the_Netherlands.svg.png 2x\" width=\"23\"/> </span><a href=\"/wiki/Netherlands\" title=\"Netherlands\">Netherlands</a>\n",
      "</td>\n",
      "<td style=\"background-color: #F2CECE;\">No\n",
      "</td>\n",
      "<td align=\"center\">—\n",
      "</td>\n",
      "<td>A September 18, 1997 escape attempt ended in failure when the helicopter crashed into the prison ground of the Dutch prison, De Geerhorst. The helicopter had been stolen earlier in <a href=\"/wiki/Belgium\" title=\"Belgium\">Belgium</a>. The pilot was killed and the Colombian prison escapee, who was serving a long-term sentence for drug trafficking, walked away with slight injuries.<sup class=\"reference\" id=\"cite_ref-degeerhorst_33-0\"><a href=\"#cite_note-degeerhorst-33\">[33]</a></sup>\n",
      "</td></tr>\n",
      "<tr>\n",
      "<td><span data-sort-value=\"1999-03-25 !\">March 25, 1999</span>\n",
      "</td>\n",
      "<td><a class=\"mw-redirect\" href=\"/wiki/Metropolitan_Remand_and_Reception_Centre\" title=\"Metropolitan Remand and Reception Centre\">Metropolitan Remand and Reception Centre</a>\n",
      "</td>\n",
      "<td><span class=\"flagicon\"><img alt=\"\" class=\"thumbborder\" data-file-height=\"640\" data-file-width=\"1280\" decoding=\"async\" height=\"12\" src=\"//upload.wikimedia.org/wikipedia/commons/thumb/8/88/Flag_of_Australia_%28converted%29.svg/23px-Flag_of_Australia_%28converted%29.svg.png\" srcset=\"//upload.wikimedia.org/wikipedia/commons/thumb/8/88/Flag_of_Australia_%28converted%29.svg/35px-Flag_of_Australia_%28converted%29.svg.png 1.5x, //upload.wikimedia.org/wikipedia/commons/thumb/8/88/Flag_of_Australia_%28converted%29.svg/46px-Flag_of_Australia_%28converted%29.svg.png 2x\" width=\"23\"/> </span><a href=\"/wiki/Australia\" title=\"Australia\">Australia</a>\n",
      "</td>\n",
      "<td style=\"background-color: #CEF2CE;\">Yes\n",
      "</td>\n",
      "<td><span data-sort-value=\"Killick, John\"><span class=\"vcard\"><span class=\"fn\"><a href=\"/wiki/John_Killick_(Australian_criminal)\" title=\"John Killick (Australian criminal)\">John Killick</a></span></span></span>\n",
      "</td>\n",
      "<td>On March 25, 1999, librarian <a href=\"/wiki/Lucy_Dudko\" title=\"Lucy Dudko\">Lucy Dudko</a> hired a helicopter under the pretence of checking out the upcoming <a href=\"/wiki/2000_Summer_Olympics\" title=\"2000 Summer Olympics\">Olympic site in Sydney</a>.<sup class=\"reference\" id=\"cite_ref-Irish_Examiner_34-0\"><a href=\"#cite_note-Irish_Examiner-34\">[34]</a></sup> Using a gun she forced pilot Tim Joyce to land on the <a class=\"mw-redirect\" href=\"/wiki/Metropolitan_Remand_and_Reception_Centre\" title=\"Metropolitan Remand and Reception Centre\">Metropolitan Remand and Reception Centre</a> grounds. Waiting was John Killick, who was serving 28 years for armed robberies. He jumped in the helicopter making an escape while being fired on by guards and cheered on by inmates. They landed in a park where Killick hijacked a taxi at gunpoint. The two were able to elude authorities for six weeks before being arrested at the Bass Hill Tourist Park.\n",
      "<p>Lucy Dudko, dubbed <i>Red Lucy</i> by the media, was sentenced to the maximum of 10 years and was sent to <a class=\"mw-redirect\" href=\"/wiki/Mulawa_Correctional_Centre\" title=\"Mulawa Correctional Centre\">Mulawa Correctional Centre</a> women's prison. On May 9, 2006 she was released on parole after serving 7 years of her sentence.<sup class=\"reference\" id=\"cite_ref-metremand_35-0\"><a href=\"#cite_note-metremand-35\">[35]</a></sup> John Killick was released on January 22, 2015, but is not allowed to have contact with Dudko until he turns 80 years old.<sup class=\"reference\" id=\"cite_ref-killick_freed_36-0\"><a href=\"#cite_note-killick_freed-36\">[36]</a></sup>\n",
      "</p>\n",
      "</td></tr>\n",
      "<tr>\n",
      "<td><span data-sort-value=\"2000-06-05 !\">June 5, 2000</span>\n",
      "</td>\n",
      "<td>Martin Treatment Center for Sexually Violent Predators, Martin County Florida\n",
      "</td>\n",
      "<td><span class=\"flagicon\"><img alt=\"\" class=\"thumbborder\" data-file-height=\"650\" data-file-width=\"1235\" decoding=\"async\" height=\"12\" src=\"//upload.wikimedia.org/wikipedia/en/thumb/a/a4/Flag_of_the_United_States.svg/23px-Flag_of_the_United_States.svg.png\" srcset=\"//upload.wikimedia.org/wikipedia/en/thumb/a/a4/Flag_of_the_United_States.svg/35px-Flag_of_the_United_States.svg.png 1.5x, //upload.wikimedia.org/wikipedia/en/thumb/a/a4/Flag_of_the_United_States.svg/46px-Flag_of_the_United_States.svg.png 2x\" width=\"23\"/> </span><a href=\"/wiki/United_States\" title=\"United States\">United States</a>\n",
      "</td>\n",
      "<td style=\"background-color: #CEF2CE;\">Yes\n",
      "</td>\n",
      "<td><span data-sort-value=\"Whitsett, Steven\"><span class=\"vcard\"><span class=\"fn\">Steven Whitsett</span></span></span>\n",
      "</td>\n",
      "<td>Steven Whitsett was serving a civil commitment as a Sexually Violent Predator at the Martin Treatment Center. On June 5, 2000, at approximately 1 p.m., correctional officers patrolling the perimeter of the treatment center reported a helicopter approaching from south of the facility. Piloted by Clifford Burkhart, a former lover of Whitsett, the helicopter landed inside the fenced compound.<sup class=\"reference\" id=\"cite_ref-Time_Whitsett_37-0\"><a href=\"#cite_note-Time_Whitsett-37\">[37]</a></sup> While Whitsett was climbing aboard, the helicopter struck an object. As a result of the damage the helicopter crashed about 100 yards south of the perimeter fence. Twenty-six hours from the time of the escape, a Martin County Sheriff’s deputy spotted Whitsett and Burkhart from a search helicopter. The two men were in a canal, in shoulder-deep water, four miles east of the treatment facility. For the escape and weapons charges stemming from the escape Whitsett received a criminal sentence of 25 years. Whitsett was awaiting a retrial when his conviction was overturned in 2007. For his part in the escape, Burkhart was sentenced to 7 years, followed by 10 years of probation. Burkhart was released from prison in 2007.<sup class=\"reference\" id=\"cite_ref-oppaga_report_38-0\"><a href=\"#cite_note-oppaga_report-38\">[38]</a></sup>\n",
      "</td></tr>\n",
      "<tr>\n",
      "<td><span data-sort-value=\"2000-12-13 !\">December 13, 2000</span>\n",
      "</td>\n",
      "<td>Lyon prison\n",
      "</td>\n",
      "<td><span class=\"flagicon\"><img alt=\"\" class=\"thumbborder\" data-file-height=\"600\" data-file-width=\"900\" decoding=\"async\" height=\"15\" src=\"//upload.wikimedia.org/wikipedia/en/thumb/c/c3/Flag_of_France.svg/23px-Flag_of_France.svg.png\" srcset=\"//upload.wikimedia.org/wikipedia/en/thumb/c/c3/Flag_of_France.svg/35px-Flag_of_France.svg.png 1.5x, //upload.wikimedia.org/wikipedia/en/thumb/c/c3/Flag_of_France.svg/45px-Flag_of_France.svg.png 2x\" width=\"23\"/> </span><a href=\"/wiki/France\" title=\"France\">France</a>\n",
      "</td>\n",
      "<td style=\"background-color: #CEF2CE;\">Yes\n",
      "</td>\n",
      "<td align=\"center\">—\n",
      "</td>\n",
      "<td>Three men were able to escape a prison near Lyon by having an accomplice fly a hijacked helicopter over the prison. A net was lowered and the three inmates were able to grab hold and lifted to freedom. Guards were able to fatally shoot one of the convicts. The remaining two were recaptured after a gun battle with police.<sup class=\"reference\" id=\"cite_ref-aiton_2005_5-3\"><a href=\"#cite_note-aiton_2005-5\">[5]</a></sup>\n",
      "</td></tr>\n",
      "<tr>\n",
      "<td><span data-sort-value=\"2001-01-19 !\">January 19, 2001</span>\n",
      "</td>\n",
      "<td>Luynes prison\n",
      "</td>\n",
      "<td><span class=\"flagicon\"><img alt=\"\" class=\"thumbborder\" data-file-height=\"600\" data-file-width=\"900\" decoding=\"async\" height=\"15\" src=\"//upload.wikimedia.org/wikipedia/en/thumb/c/c3/Flag_of_France.svg/23px-Flag_of_France.svg.png\" srcset=\"//upload.wikimedia.org/wikipedia/en/thumb/c/c3/Flag_of_France.svg/35px-Flag_of_France.svg.png 1.5x, //upload.wikimedia.org/wikipedia/en/thumb/c/c3/Flag_of_France.svg/45px-Flag_of_France.svg.png 2x\" width=\"23\"/> </span><a href=\"/wiki/France\" title=\"France\">France</a>\n",
      "</td>\n",
      "<td style=\"background-color: #CEF2CE;\">Yes\n",
      "</td>\n",
      "<td><span data-sort-value=\"Payet, Pascal\"><span class=\"vcard\"><span class=\"fn\"><a href=\"/wiki/Pascal_Payet\" title=\"Pascal Payet\">Pascal Payet</a></span></span></span>\n",
      "</td>\n",
      "<td><a href=\"/wiki/Pascal_Payet\" title=\"Pascal Payet\">Pascal Payet</a> escaped from <a href=\"/wiki/Luynes,_Bouches-du-Rh%C3%B4ne\" title=\"Luynes, Bouches-du-Rhône\">Luynes</a> prison using a hijacked helicopter.<sup class=\"reference\" id=\"cite_ref-Grasse_6-1\"><a href=\"#cite_note-Grasse-6\">[6]</a></sup>\n",
      "</td></tr>\n",
      "<tr>\n",
      "<td><span data-sort-value=\"2001-03-24 !\">March 24, 2001</span>\n",
      "</td>\n",
      "<td>Draguignan prison\n",
      "</td>\n",
      "<td><span class=\"flagicon\"><img alt=\"\" class=\"thumbborder\" data-file-height=\"600\" data-file-width=\"900\" decoding=\"async\" height=\"15\" src=\"//upload.wikimedia.org/wikipedia/en/thumb/c/c3/Flag_of_France.svg/23px-Flag_of_France.svg.png\" srcset=\"//upload.wikimedia.org/wikipedia/en/thumb/c/c3/Flag_of_France.svg/35px-Flag_of_France.svg.png 1.5x, //upload.wikimedia.org/wikipedia/en/thumb/c/c3/Flag_of_France.svg/45px-Flag_of_France.svg.png 2x\" width=\"23\"/> </span><a href=\"/wiki/France\" title=\"France\">France</a>\n",
      "</td>\n",
      "<td style=\"background-color: #CEF2CE;\">Yes\n",
      "</td>\n",
      "<td><span data-sort-value=\"Carnous, Abdelhamid\"><span class=\"vcard\"><span class=\"fn\">Abdelhamid Carnous</span></span></span><br/>Emile Forma-Sari<br/>Jean-Philippe Lecase\n",
      "</td>\n",
      "<td>On March 24, 2001, an armed man hijacked a helicopter from a nearby airfield. The pilot was forced to land in the courtyard of the prison. Three convicts managed to get aboard before flying 60 kilometres (37 mi) away. Landing in the village of <a href=\"/wiki/Auribeau\" title=\"Auribeau\">Auribeau-sur-Siagne</a>, the pilot was released and the men got into a waiting getaway car. The escapees were later identified as convicted armed robbers Emile Forma-Sari, Jean-Philippe Lecase and Abdelhamid Carnous.<sup class=\"reference\" id=\"cite_ref-draguignan_39-0\"><a href=\"#cite_note-draguignan-39\">[39]</a></sup>\n",
      "</td></tr>\n",
      "<tr>\n",
      "<td><span data-sort-value=\"2001-05-28 !\">May 28, 2001</span>\n",
      "</td>\n",
      "<td>Fresnes prison\n",
      "</td>\n",
      "<td><span class=\"flagicon\"><img alt=\"\" class=\"thumbborder\" data-file-height=\"600\" data-file-width=\"900\" decoding=\"async\" height=\"15\" src=\"//upload.wikimedia.org/wikipedia/en/thumb/c/c3/Flag_of_France.svg/23px-Flag_of_France.svg.png\" srcset=\"//upload.wikimedia.org/wikipedia/en/thumb/c/c3/Flag_of_France.svg/35px-Flag_of_France.svg.png 1.5x, //upload.wikimedia.org/wikipedia/en/thumb/c/c3/Flag_of_France.svg/45px-Flag_of_France.svg.png 2x\" width=\"23\"/> </span><a href=\"/wiki/France\" title=\"France\">France</a>\n",
      "</td>\n",
      "<td style=\"background-color: #F2CECE;\">No\n",
      "</td>\n",
      "<td align=\"center\">—\n",
      "</td>\n",
      "<td>(Although not a helicopter escape in the truest sense, it is listed here because of the large role a helicopter played in the incident). In May 2001 a hijacked helicopter flew over Fresnes prison, south of Paris and dropped weapons in the exercise yard. Two prisoners armed with a bulletproof vest, an automatic pistol and a Kalashnikov dropped by the helicopter were able to take three guards hostage in an attempt to escape from prison. The hostage drama lasted about 24 hours before the prisoners surrendered.<sup class=\"reference\" id=\"cite_ref-independent_2001_40-0\"><a href=\"#cite_note-independent_2001-40\">[40]</a></sup>\n",
      "</td></tr>\n",
      "<tr>\n",
      "<td><span data-sort-value=\"2002-01-17 !\">January 17, 2002</span>\n",
      "</td>\n",
      "<td>Parada Neto Penitentiary\n",
      "</td>\n",
      "<td><span class=\"flagicon\"><img alt=\"\" class=\"thumbborder\" data-file-height=\"504\" data-file-width=\"720\" decoding=\"async\" height=\"15\" src=\"//upload.wikimedia.org/wikipedia/en/thumb/0/05/Flag_of_Brazil.svg/22px-Flag_of_Brazil.svg.png\" srcset=\"//upload.wikimedia.org/wikipedia/en/thumb/0/05/Flag_of_Brazil.svg/33px-Flag_of_Brazil.svg.png 1.5x, //upload.wikimedia.org/wikipedia/en/thumb/0/05/Flag_of_Brazil.svg/43px-Flag_of_Brazil.svg.png 2x\" width=\"22\"/> </span><a href=\"/wiki/Brazil\" title=\"Brazil\">Brazil</a>\n",
      "</td>\n",
      "<td style=\"background-color: #CEF2CE;\">Yes\n",
      "</td>\n",
      "<td align=\"center\">—\n",
      "</td>\n",
      "<td>A helicopter was flown into Parada Neto Penitentiary, freeing two inmates serving time for murder and bank robbery.\n",
      "<p>Earlier in the day two men rented a helicopter pretending to be tourists wanting a panoramic ride over the city. While in the air they drew guns and forced the pilot to land in the central yard of the prison. The inmates jumped aboard, and when the pilot took off again guards opened fire. The helicopter was found abandoned on a football pitch 50 kilometres (31 mi) away full of bullet holes.<sup class=\"reference\" id=\"cite_ref-paradaneto_41-0\"><a href=\"#cite_note-paradaneto-41\">[41]</a></sup>\n",
      "</p>\n",
      "</td></tr>\n",
      "<tr>\n",
      "<td><span data-sort-value=\"2002-12-30 !\">December 30, 2002</span>\n",
      "</td>\n",
      "<td>Las Cucharas prison, Puerto Rico\n",
      "</td>\n",
      "<td><span class=\"flagicon\"><img alt=\"\" class=\"thumbborder\" data-file-height=\"650\" data-file-width=\"1235\" decoding=\"async\" height=\"12\" src=\"//upload.wikimedia.org/wikipedia/en/thumb/a/a4/Flag_of_the_United_States.svg/23px-Flag_of_the_United_States.svg.png\" srcset=\"//upload.wikimedia.org/wikipedia/en/thumb/a/a4/Flag_of_the_United_States.svg/35px-Flag_of_the_United_States.svg.png 1.5x, //upload.wikimedia.org/wikipedia/en/thumb/a/a4/Flag_of_the_United_States.svg/46px-Flag_of_the_United_States.svg.png 2x\" width=\"23\"/> </span><a href=\"/wiki/United_States\" title=\"United States\">United States</a>\n",
      "</td>\n",
      "<td style=\"background-color: #CEF2CE;\">Yes\n",
      "</td>\n",
      "<td><span data-sort-value=\"— !\">Orlando Cartagena</span><br/> Jose Rodriguez<br/> Victor Diaz<br/> Hector Diaz<br/> Jose Tapia<br/>\n",
      "</td>\n",
      "<td>In Puerto Rico five prisoners escaped from Las Cucharas prison in <a href=\"/wiki/Ponce,_Puerto_Rico\" title=\"Ponce, Puerto Rico\">Ponce</a>. Two men had earlier rented the helicopter saying they wanted to inspect construction sites. They forced the pilot at gunpoint to land on the roof of the jail where they picked up the five convicts. To reach the roof the inmates cut a hole in the chain link fence. One was forced to hang onto the skids outside the helicopter as there was no room inside.\n",
      "<p>The escapees were:\n",
      "</p>\n",
      "<ul><li>Orlando Valdes Cartagena, who was serving a 254-year sentence for murder</li>\n",
      "<li>Jose A. Perez Rodriguez, who was serving a 319-year sentence for murder</li>\n",
      "<li>Victor Gonzalez Diaz, who was serving a 113-year sentence</li>\n",
      "<li>Hector Marrero Diaz, who was serving 109-year sentence</li>\n",
      "<li>Jose M. Rojas Tapia, who was serving a 100-year sentence.</li></ul>\n",
      "<p>Of the five, only Victor Gonzalez Diaz wasn't recaptured immediately. The inmates claimed to have killed him soon after the break-out. He later surrendered himself to authorities in January 2003.<sup class=\"reference\" id=\"cite_ref-seattletimes_20021230_42-0\"><a href=\"#cite_note-seattletimes_20021230-42\">[42]</a></sup>\n",
      "</p>\n",
      "</td></tr>\n",
      "<tr>\n",
      "<td><span data-sort-value=\"2003-04-04 !\">April 4, 2003</span>\n",
      "</td>\n",
      "<td>Luynes prison\n",
      "</td>\n",
      "<td><span class=\"flagicon\"><img alt=\"\" class=\"thumbborder\" data-file-height=\"600\" data-file-width=\"900\" decoding=\"async\" height=\"15\" src=\"//upload.wikimedia.org/wikipedia/en/thumb/c/c3/Flag_of_France.svg/23px-Flag_of_France.svg.png\" srcset=\"//upload.wikimedia.org/wikipedia/en/thumb/c/c3/Flag_of_France.svg/35px-Flag_of_France.svg.png 1.5x, //upload.wikimedia.org/wikipedia/en/thumb/c/c3/Flag_of_France.svg/45px-Flag_of_France.svg.png 2x\" width=\"23\"/> </span><a href=\"/wiki/France\" title=\"France\">France</a>\n",
      "</td>\n",
      "<td style=\"background-color: #CEF2CE;\">Yes\n",
      "</td>\n",
      "<td><span data-sort-value=\"— !\">Eric Alboreo</span><br/>Franck Perletto<br/>Michel Valero\n",
      "</td>\n",
      "<td><a href=\"/wiki/Pascal_Payet\" title=\"Pascal Payet\">Pascal Payet</a> organized the helicopter escape of three men, Franck Perletto, Eric Alboreo, and Michel Valero from Luynes prison using a hijacked helicopter.<sup class=\"reference\" id=\"cite_ref-France_43-0\"><a href=\"#cite_note-France-43\">[43]</a></sup> Payet himself escaped from the same Luynes prison in 2001.<sup class=\"reference\" id=\"cite_ref-Grasse_6-2\"><a href=\"#cite_note-Grasse-6\">[6]</a></sup> He and the three men were later captured but in July 2007 again escaped by helicopter from <a href=\"/wiki/Grasse\" title=\"Grasse\">Grasse</a> prison in south-east <a href=\"/wiki/France\" title=\"France\">France</a>.\n",
      "</td></tr>\n",
      "<tr>\n",
      "<td><span data-sort-value=\"2005-07 !\">July 2005</span>\n",
      "</td>\n",
      "<td>France\n",
      "</td>\n",
      "<td><span class=\"flagicon\"><img alt=\"\" class=\"thumbborder\" data-file-height=\"600\" data-file-width=\"900\" decoding=\"async\" height=\"15\" src=\"//upload.wikimedia.org/wikipedia/en/thumb/c/c3/Flag_of_France.svg/23px-Flag_of_France.svg.png\" srcset=\"//upload.wikimedia.org/wikipedia/en/thumb/c/c3/Flag_of_France.svg/35px-Flag_of_France.svg.png 1.5x, //upload.wikimedia.org/wikipedia/en/thumb/c/c3/Flag_of_France.svg/45px-Flag_of_France.svg.png 2x\" width=\"23\"/> </span><a href=\"/wiki/France\" title=\"France\">France</a>\n",
      "</td>\n",
      "<td style=\"background-color: #F2CECE;\">No\n",
      "</td>\n",
      "<td align=\"center\">—\n",
      "</td>\n",
      "<td>A helicopter escape attempt was foiled when alarms were set off as the helicopter tried to land on the roof.<sup class=\"reference\" id=\"cite_ref-aiton_2005_5-4\"><a href=\"#cite_note-aiton_2005-5\">[5]</a></sup>\n",
      "</td></tr>\n",
      "<tr>\n",
      "<td><span data-sort-value=\"2005-12-10 !\">December 10, 2005</span>\n",
      "</td>\n",
      "<td>Aiton Prison\n",
      "</td>\n",
      "<td><span class=\"flagicon\"><img alt=\"\" class=\"thumbborder\" data-file-height=\"600\" data-file-width=\"900\" decoding=\"async\" height=\"15\" src=\"//upload.wikimedia.org/wikipedia/en/thumb/c/c3/Flag_of_France.svg/23px-Flag_of_France.svg.png\" srcset=\"//upload.wikimedia.org/wikipedia/en/thumb/c/c3/Flag_of_France.svg/35px-Flag_of_France.svg.png 1.5x, //upload.wikimedia.org/wikipedia/en/thumb/c/c3/Flag_of_France.svg/45px-Flag_of_France.svg.png 2x\" width=\"23\"/> </span><a href=\"/wiki/France\" title=\"France\">France</a>\n",
      "</td>\n",
      "<td style=\"background-color: #CEF2CE;\">Yes\n",
      "</td>\n",
      "<td align=\"left\">Hubert Selles<br/>Jean-Claude Moretti<br/>Mohamed Bessame\n",
      "</td>\n",
      "<td>On December 10, 2005, two men rented a helicopter under the pretense of using it to do some back-country cross-country skiing. Brandishing guns, the men forced the pilot to land in the yard of the Aiton prison where three inmates boarded the helicopter. One inmate was serving time for a drugs-related conviction, one for armed robbery and the third for leading a robbery. The helicopter landed in open country near <a href=\"/wiki/Grenoble\" title=\"Grenoble\">Grenoble</a> where they left the pilot after relieving him of his phone and radio.<sup class=\"reference\" id=\"cite_ref-aiton_2005_5-5\"><a href=\"#cite_note-aiton_2005-5\">[5]</a></sup>\n",
      "</td></tr>\n",
      "<tr>\n",
      "<td><span data-sort-value=\"2006-06-06 !\">June 6, 2006</span>\n",
      "</td>\n",
      "<td><a href=\"/wiki/Korydallos_Prison\" title=\"Korydallos Prison\">Korydallos Prison</a>\n",
      "</td>\n",
      "<td><span class=\"flagicon\"><img alt=\"\" class=\"thumbborder\" data-file-height=\"400\" data-file-width=\"600\" decoding=\"async\" height=\"15\" src=\"//upload.wikimedia.org/wikipedia/commons/thumb/5/5c/Flag_of_Greece.svg/23px-Flag_of_Greece.svg.png\" srcset=\"//upload.wikimedia.org/wikipedia/commons/thumb/5/5c/Flag_of_Greece.svg/35px-Flag_of_Greece.svg.png 1.5x, //upload.wikimedia.org/wikipedia/commons/thumb/5/5c/Flag_of_Greece.svg/45px-Flag_of_Greece.svg.png 2x\" width=\"23\"/> </span><a href=\"/wiki/Greece\" title=\"Greece\">Greece</a>\n",
      "</td>\n",
      "<td style=\"background-color: #CEF2CE;\">Yes\n",
      "</td>\n",
      "<td><span data-sort-value=\"Paleokostas, Vassilis\"><span class=\"vcard\"><span class=\"fn\"><a class=\"mw-redirect\" href=\"/wiki/Vassilis_Paleokostas\" title=\"Vassilis Paleokostas\">Vassilis Paleokostas</a></span></span></span>\n",
      "</td>\n",
      "<td>On June 6, 2006, Nikos Paleokostas and another man hijacked a helicopter, forcing it to land on the roof of the <a href=\"/wiki/Korydallos_Prison\" title=\"Korydallos Prison\">Korydallos Prison</a>. Two convicts scrambled on, Nikos’s brother, <a class=\"mw-redirect\" href=\"/wiki/Vassilis_Paleokostas\" title=\"Vassilis Paleokostas\">Vassilis Paleokostas</a> who was sentenced to a 25-year sentence for kidnapping and bank robbery and Alket Rizai, who was serving a life sentence for manslaughter. The helicopter flew to a nearby graveyard from where they fled on motorcycles.<sup class=\"reference\" id=\"cite_ref-korydallos_7-1\"><a href=\"#cite_note-korydallos-7\">[7]</a></sup>\n",
      "</td></tr>\n",
      "<tr>\n",
      "<td><span data-sort-value=\"2007-04-15 !\">April 15, 2007</span>\n",
      "</td>\n",
      "<td><a href=\"/wiki/Lantin_Prison\" title=\"Lantin Prison\">Lantin Prison</a>, <a href=\"/wiki/Li%C3%A8ge\" title=\"Liège\">Liège</a>\n",
      "</td>\n",
      "<td><span class=\"flagicon\"><img alt=\"\" class=\"thumbborder\" data-file-height=\"600\" data-file-width=\"900\" decoding=\"async\" height=\"15\" src=\"//upload.wikimedia.org/wikipedia/commons/thumb/9/92/Flag_of_Belgium_%28civil%29.svg/23px-Flag_of_Belgium_%28civil%29.svg.png\" srcset=\"//upload.wikimedia.org/wikipedia/commons/thumb/9/92/Flag_of_Belgium_%28civil%29.svg/35px-Flag_of_Belgium_%28civil%29.svg.png 1.5x, //upload.wikimedia.org/wikipedia/commons/thumb/9/92/Flag_of_Belgium_%28civil%29.svg/45px-Flag_of_Belgium_%28civil%29.svg.png 2x\" width=\"23\"/> </span><a href=\"/wiki/Belgium\" title=\"Belgium\">Belgium</a>\n",
      "</td>\n",
      "<td style=\"background-color: #CEF2CE;\">Yes\n",
      "</td>\n",
      "<td><span data-sort-value=\"Ferdinand, Eric\"><span class=\"vcard\"><span class=\"fn\">Eric Ferdinand</span></span></span>\n",
      "</td>\n",
      "<td>Two men hijacked a small helicopter and forced Pilot Eric Mathieu to land in the courtyard to pick up inmate Eric Ferdinand. Earlier the hijackers paid for the flight at an airfield near the city of <a href=\"/wiki/Sint-Truiden\" title=\"Sint-Truiden\">Sint-Truiden</a> saying they were tourists from <a class=\"mw-redirect\" href=\"/wiki/Marseilles,_France\" title=\"Marseilles, France\">Marseilles</a> but eventually pulled out a pistol and grenade. Ferdinand said he landed around 200 inmates. One climbed on board while the hijackers threw tear gas canisters into the crowd. The helicopter then landed less than a half-mile from the prison, where Ferdinand and the two hijackers got in a waiting car and drove off. Ferdinand was waiting to be extradited when he escaped Lantin Jail was arrested before in <a href=\"/wiki/Belgium\" title=\"Belgium\">Belgium</a> after escaping from a <a href=\"/wiki/Spain\" title=\"Spain\">Spanish</a> jail where he had been serving a sentence for theft, forgery and embezzlement.<sup class=\"reference\" id=\"cite_ref-itn.co.uk_44-0\"><a href=\"#cite_note-itn.co.uk-44\">[44]</a></sup><sup class=\"reference\" id=\"cite_ref-usatoday_2007_45-0\"><a href=\"#cite_note-usatoday_2007-45\">[45]</a></sup><sup class=\"reference\" id=\"cite_ref-msnbc_46-0\"><a href=\"#cite_note-msnbc-46\">[46]</a></sup><sup class=\"reference\" id=\"cite_ref-bbc_10_2007_47-0\"><a href=\"#cite_note-bbc_10_2007-47\">[47]</a></sup>\n",
      "<p>Ferdinand was later arrested and was extradited from Italy to Belgium.<sup class=\"reference\" id=\"cite_ref-levif.09.22.2007_48-0\"><a href=\"#cite_note-levif.09.22.2007-48\">[48]</a></sup> In February 2008, he was sentenced to six years in prison for the escape. Three of his accomplices also received prison terms.<sup class=\"reference\" id=\"cite_ref-levif.02.28.08_49-0\"><a href=\"#cite_note-levif.02.28.08-49\">[49]</a></sup>\n",
      "</p>\n",
      "</td></tr>\n",
      "<tr>\n",
      "<td><span data-sort-value=\"2007-07-15 !\">July 15, 2007</span>\n",
      "</td>\n",
      "<td>Grasse prison\n",
      "</td>\n",
      "<td><span class=\"flagicon\"><img alt=\"\" class=\"thumbborder\" data-file-height=\"600\" data-file-width=\"900\" decoding=\"async\" height=\"15\" src=\"//upload.wikimedia.org/wikipedia/en/thumb/c/c3/Flag_of_France.svg/23px-Flag_of_France.svg.png\" srcset=\"//upload.wikimedia.org/wikipedia/en/thumb/c/c3/Flag_of_France.svg/35px-Flag_of_France.svg.png 1.5x, //upload.wikimedia.org/wikipedia/en/thumb/c/c3/Flag_of_France.svg/45px-Flag_of_France.svg.png 2x\" width=\"23\"/> </span><a href=\"/wiki/France\" title=\"France\">France</a>\n",
      "</td>\n",
      "<td style=\"background-color: #CEF2CE;\">Yes\n",
      "</td>\n",
      "<td><span data-sort-value=\"Payet, Pascal\"><span class=\"vcard\"><span class=\"fn\"><a href=\"/wiki/Pascal_Payet\" title=\"Pascal Payet\">Pascal Payet</a></span></span></span>\n",
      "</td>\n",
      "<td><a href=\"/wiki/Pascal_Payet\" title=\"Pascal Payet\">Pascal Payet</a>, 43, escaped for the third time from Grasse prison using a helicopter that was hijacked by four masked men from <a class=\"mw-redirect\" href=\"/wiki/Cannes_-_Mandelieu_Airport\" title=\"Cannes - Mandelieu Airport\">Cannes-Mandelieu airport (CEQ)</a>.<sup class=\"reference\" id=\"cite_ref-Grasse_6-3\"><a href=\"#cite_note-Grasse-6\">[6]</a></sup> The helicopter landed some time later at <a href=\"/wiki/Brignoles\" title=\"Brignoles\">Brignoles</a>, 38 kilometres (24 mi) north-east of <a href=\"/wiki/Toulon\" title=\"Toulon\">Toulon</a>, <a href=\"/wiki/France\" title=\"France\">France</a>, on the <a class=\"mw-redirect\" href=\"/wiki/Mediterranean\" title=\"Mediterranean\">Mediterranean</a> coast.\n",
      "<p>Payet and his accomplices then fled the scene and the pilot was released unharmed. Payet gained notoriety for using a helicopter in 2001 to escape from <a href=\"/wiki/Luynes,_Bouches-du-Rh%C3%B4ne\" title=\"Luynes, Bouches-du-Rhône\">Luynes</a> prison in southern France and then while still on the run in 2003 organized another escape for fellow inmates from the same Luynes prison. Payet had been serving a 30-year sentence for a murder committed during a robbery on a security van.<sup class=\"reference\" id=\"cite_ref-SMHau_50-0\"><a href=\"#cite_note-SMHau-50\">[50]</a></sup>\n",
      "</p>\n",
      "</td></tr>\n",
      "<tr>\n",
      "<td><span data-sort-value=\"2007-10-28 !\">October 28, 2007</span>\n",
      "</td>\n",
      "<td><a href=\"/wiki/Ittre\" title=\"Ittre\">Ittre</a> prison\n",
      "</td>\n",
      "<td><span class=\"flagicon\"><img alt=\"\" class=\"thumbborder\" data-file-height=\"600\" data-file-width=\"900\" decoding=\"async\" height=\"15\" src=\"//upload.wikimedia.org/wikipedia/commons/thumb/9/92/Flag_of_Belgium_%28civil%29.svg/23px-Flag_of_Belgium_%28civil%29.svg.png\" srcset=\"//upload.wikimedia.org/wikipedia/commons/thumb/9/92/Flag_of_Belgium_%28civil%29.svg/35px-Flag_of_Belgium_%28civil%29.svg.png 1.5x, //upload.wikimedia.org/wikipedia/commons/thumb/9/92/Flag_of_Belgium_%28civil%29.svg/45px-Flag_of_Belgium_%28civil%29.svg.png 2x\" width=\"23\"/> </span><a href=\"/wiki/Belgium\" title=\"Belgium\">Belgium</a>\n",
      "</td>\n",
      "<td style=\"background-color: #F2CECE;\">No\n",
      "</td>\n",
      "<td><span data-sort-value=\"Benallal, Nordin\"><span class=\"vcard\"><span class=\"fn\"><a class=\"mw-redirect\" href=\"/wiki/Nordin_Benallal\" title=\"Nordin Benallal\">Nordin Benallal</a></span></span></span>\n",
      "</td>\n",
      "<td>On Oct 28, 2007, <a class=\"mw-redirect\" href=\"/wiki/Nordin_Benallal\" title=\"Nordin Benallal\">Nordin Benallal</a>, self-styled \"escape king\", arranged accomplices to hijack a helicopter near a prison in <a href=\"/wiki/Ittre\" title=\"Ittre\">Ittre</a>, 30 kilometres (19 mi) south of <a href=\"/wiki/Brussels\" title=\"Brussels\">Brussels</a>, <a href=\"/wiki/Belgium\" title=\"Belgium\">Belgium</a>.<sup class=\"reference\" id=\"cite_ref-bbc_10_2007_47-1\"><a href=\"#cite_note-bbc_10_2007-47\">[47]</a></sup> However, the helicopter was swarmed by other prisoners, floundered and crashed. Benallal and his cohorts then seized two prison guards as hostages and fled in a car parked nearby. He was arrested again two days later by <a href=\"/wiki/Netherlands\" title=\"Netherlands\">Dutch</a> police in <a href=\"/wiki/The_Hague\" title=\"The Hague\">The Hague</a>.<sup class=\"reference\" id=\"cite_ref-smh_51-0\"><a href=\"#cite_note-smh-51\">[51]</a></sup>\n",
      "<p>Nordin Benallal faces over 50 years of jail time has several convictions for armed robbery, carjacking, and previous escape attempts. He has previously run from a prison van, walked out of jail wearing a wig and sunglasses and scaled a prison wall with a rope ladder.<sup class=\"reference\" id=\"cite_ref-Sunday_Telegraph_2007_52-0\"><a href=\"#cite_note-Sunday_Telegraph_2007-52\">[52]</a></sup>\n",
      "</p>\n",
      "</td></tr>\n",
      "<tr>\n",
      "<td><span data-sort-value=\"2009-02-22 !\">February 22, 2009</span>\n",
      "</td>\n",
      "<td>Korydallos Prison\n",
      "</td>\n",
      "<td><span class=\"flagicon\"><img alt=\"\" class=\"thumbborder\" data-file-height=\"400\" data-file-width=\"600\" decoding=\"async\" height=\"15\" src=\"//upload.wikimedia.org/wikipedia/commons/thumb/5/5c/Flag_of_Greece.svg/23px-Flag_of_Greece.svg.png\" srcset=\"//upload.wikimedia.org/wikipedia/commons/thumb/5/5c/Flag_of_Greece.svg/35px-Flag_of_Greece.svg.png 1.5x, //upload.wikimedia.org/wikipedia/commons/thumb/5/5c/Flag_of_Greece.svg/45px-Flag_of_Greece.svg.png 2x\" width=\"23\"/> </span><a href=\"/wiki/Greece\" title=\"Greece\">Greece</a>\n",
      "</td>\n",
      "<td style=\"background-color: #CEF2CE;\">Yes\n",
      "</td>\n",
      "<td><span data-sort-value=\"Paleokostas, Vasilis\"><span class=\"vcard\"><span class=\"fn\"><a class=\"mw-redirect\" href=\"/wiki/Vasilis_Paleokostas\" title=\"Vasilis Paleokostas\">Vasilis Paleokostas</a></span></span></span><br/>Alket Rizai\n",
      "</td>\n",
      "<td>On February 22, 2009 <a class=\"mw-redirect\" href=\"/wiki/Vasilis_Paleokostas\" title=\"Vasilis Paleokostas\">Vasilis Paleokostas</a> and another man (Alket Rizai) escaped from <a href=\"/wiki/Korydallos_Prison\" title=\"Korydallos Prison\">Korydallos Prison</a> by helicopter. They had escaped in a similar manner during 2006 but they were eventually arrested. Their new prison break took place while their trial for the 2006 helicopter-assisted escape was ongoing. They were transferred to <a href=\"/wiki/Korydallos_Prison\" title=\"Korydallos Prison\">Korydallos Prison</a> just one day before their new escape, in order to attend their trial.<sup class=\"reference\" id=\"cite_ref-NYTimes_53-0\"><a href=\"#cite_note-NYTimes-53\">[53]</a></sup> Alket Rizai was recaptured in November 2009.<sup class=\"reference\" id=\"cite_ref-GR_54-0\"><a href=\"#cite_note-GR-54\">[54]</a></sup> Vasilis Paleokostas remains a fugitive.\n",
      "</td></tr>\n",
      "<tr>\n",
      "<td><span data-sort-value=\"2009-04-27 !\">April 27, 2009</span>\n",
      "</td>\n",
      "<td>Domenjod Prison, Réunion\n",
      "</td>\n",
      "<td><span class=\"flagicon\"><img alt=\"\" class=\"thumbborder\" data-file-height=\"600\" data-file-width=\"900\" decoding=\"async\" height=\"15\" src=\"//upload.wikimedia.org/wikipedia/en/thumb/c/c3/Flag_of_France.svg/23px-Flag_of_France.svg.png\" srcset=\"//upload.wikimedia.org/wikipedia/en/thumb/c/c3/Flag_of_France.svg/35px-Flag_of_France.svg.png 1.5x, //upload.wikimedia.org/wikipedia/en/thumb/c/c3/Flag_of_France.svg/45px-Flag_of_France.svg.png 2x\" width=\"23\"/> </span><a href=\"/wiki/France\" title=\"France\">France</a>\n",
      "</td>\n",
      "<td style=\"background-color: #CEF2CE;\">Yes\n",
      "</td>\n",
      "<td><br/>Alexin Jismy<br/>Fabrice Michel\n",
      "</td>\n",
      "<td>Juliano Verbard was a guru of the <i><a href=\"/wiki/Sorrowful_and_Immaculate_Heart_of_Mary_(cult)\" title=\"Sorrowful and Immaculate Heart of Mary (cult)\">Sorrowful and Immaculate Heart of Mary</a></i> launched in 2002 on the island of <a href=\"/wiki/R%C3%A9union\" title=\"Réunion\">Réunion</a>, a French territory in the <a href=\"/wiki/Indian_Ocean\" title=\"Indian Ocean\">Indian Ocean</a>. He was arrested and jailed 15 years<sup class=\"reference\" id=\"cite_ref-BBC_8021789_55-0\"><a href=\"#cite_note-BBC_8021789-55\">[55]</a></sup> in February 2008 for attacks on children aged nine and 13.<sup class=\"reference\" id=\"cite_ref-News.com.au_25394441_56-0\"><a href=\"#cite_note-News.com.au_25394441-56\">[56]</a></sup>\n",
      "<p>On April 27, 2009, Juliano Verbard escaped from the Domenjod Prison near <a href=\"/wiki/Saint-Denis,_R%C3%A9union\" title=\"Saint-Denis, Réunion\">Saint-Denis</a> on the island of Réunion. Three armed accomplices, posing as tourists, hijacked a helicopter and landed in the exercise yard of the prison.<sup class=\"reference\" id=\"cite_ref-france24_04-2009_57-0\"><a href=\"#cite_note-france24_04-2009-57\">[57]</a></sup> He escaped with two followers, father and son duo, Alexin Jismy and Fabrice Michel. Once the three were aboard they took off and landed in a nearby clearing where a van was waiting.<sup class=\"reference\" id=\"cite_ref-france24_04-2009_57-1\"><a href=\"#cite_note-france24_04-2009-57\">[57]</a></sup> He was recaptured on May 6, 2009.<sup class=\"reference\" id=\"cite_ref-BBC_8037082_58-0\"><a href=\"#cite_note-BBC_8037082-58\">[58]</a></sup>\n",
      "</p>\n",
      "</td></tr>\n",
      "<tr>\n",
      "<td><span data-sort-value=\"2009-07-23 !\">July 23, 2009</span>\n",
      "</td>\n",
      "<td>Bruges\n",
      "</td>\n",
      "<td><span class=\"flagicon\"><img alt=\"\" class=\"thumbborder\" data-file-height=\"600\" data-file-width=\"900\" decoding=\"async\" height=\"15\" src=\"//upload.wikimedia.org/wikipedia/commons/thumb/9/92/Flag_of_Belgium_%28civil%29.svg/23px-Flag_of_Belgium_%28civil%29.svg.png\" srcset=\"//upload.wikimedia.org/wikipedia/commons/thumb/9/92/Flag_of_Belgium_%28civil%29.svg/35px-Flag_of_Belgium_%28civil%29.svg.png 1.5x, //upload.wikimedia.org/wikipedia/commons/thumb/9/92/Flag_of_Belgium_%28civil%29.svg/45px-Flag_of_Belgium_%28civil%29.svg.png 2x\" width=\"23\"/> </span><a href=\"/wiki/Belgium\" title=\"Belgium\">Belgium</a>\n",
      "</td>\n",
      "<td style=\"background-color: #CEF2CE;\">Yes\n",
      "</td>\n",
      "<td><span data-sort-value=\"Sekkaki, Ashraf\"><span class=\"vcard\"><span class=\"fn\">Ashraf  Sekkaki</span></span></span> plus three other criminals\n",
      "</td>\n",
      "<td>A man hijacked a helicopter and forced its pilot to land in a prison outside the city of <a href=\"/wiki/Bruges\" title=\"Bruges\">Bruges</a>. The helicopter picked up four men including Ashraf Sekkaki, a 26-year-old convicted bank robber who has been described as one of the most dangerous criminals in Belgium. Sekkaki escaped from another prison in 2003. The escapees then flew to the town of <a href=\"/wiki/Aalter\" title=\"Aalter\">Aalter</a>, then seized a black Mercedes from its female driver and robbed a service station before heading for the Belgian coast.<sup class=\"reference\" id=\"cite_ref-Reuters_2009_59-0\"><a href=\"#cite_note-Reuters_2009-59\">[59]</a></sup> He was captured in Morocco two weeks later.<sup class=\"reference\" id=\"cite_ref-Flandersnews_2009_60-0\"><a href=\"#cite_note-Flandersnews_2009-60\">[60]</a></sup>\n",
      "</td></tr>\n",
      "<tr>\n",
      "<td><span data-sort-value=\"2009-06-25 !\">June 25, 2010</span>\n",
      "</td>\n",
      "<td><a href=\"/wiki/HM_Prison_Isle_of_Wight\" title=\"HM Prison Isle of Wight\">HM Prison Isle of Wight</a>, <a href=\"/wiki/Isle_of_Wight\" title=\"Isle of Wight\">Isle of Wight</a>\n",
      "</td>\n",
      "<td><span class=\"flagicon\"><img alt=\"\" class=\"thumbborder\" data-file-height=\"600\" data-file-width=\"1200\" decoding=\"async\" height=\"12\" src=\"//upload.wikimedia.org/wikipedia/en/thumb/a/ae/Flag_of_the_United_Kingdom.svg/23px-Flag_of_the_United_Kingdom.svg.png\" srcset=\"//upload.wikimedia.org/wikipedia/en/thumb/a/ae/Flag_of_the_United_Kingdom.svg/35px-Flag_of_the_United_Kingdom.svg.png 1.5x, //upload.wikimedia.org/wikipedia/en/thumb/a/ae/Flag_of_the_United_Kingdom.svg/46px-Flag_of_the_United_Kingdom.svg.png 2x\" width=\"23\"/> </span><a href=\"/wiki/United_Kingdom\" title=\"United Kingdom\">United Kingdom</a>\n",
      "</td>\n",
      "<td style=\"background-color: #F2CECE;\">No\n",
      "</td>\n",
      "<td><span data-sort-value=\"Lawrence , Brian\"><span class=\"vcard\"><span class=\"fn\">Brian Lawrence </span></span></span>\n",
      "</td>\n",
      "<td>While never actually reaching the execution phase of the plan, Lawrence communicated with his collaborators via a code written in \"invisible ink\" hidden in <a href=\"/wiki/Sudoku\" title=\"Sudoku\">sudoku</a> puzzles. Officers grew suspicious and eventually discovered the code after a message \"more heat less light\" was found. The escape attempt was planned during the <a href=\"/wiki/Isle_of_Wight_Festival_2010\" title=\"Isle of Wight Festival 2010\">Isle of Wight Festival</a> where it was thought it would arouse less suspicion.<sup class=\"reference\" id=\"cite_ref-61\"><a href=\"#cite_note-61\">[61]</a></sup>\n",
      "</td></tr>\n",
      "<tr>\n",
      "<td><span data-sort-value=\"2012-03-22 !\">March 22, 2012</span>\n",
      "</td>\n",
      "<td><a href=\"/wiki/Sheksna,_Sheksninsky_District,_Vologda_Oblast\" title=\"Sheksna, Sheksninsky District, Vologda Oblast\">Sheksna</a>, Penal colony N17\n",
      "</td>\n",
      "<td><span class=\"flagicon\"><img alt=\"\" class=\"thumbborder\" data-file-height=\"600\" data-file-width=\"900\" decoding=\"async\" height=\"15\" src=\"//upload.wikimedia.org/wikipedia/en/thumb/f/f3/Flag_of_Russia.svg/23px-Flag_of_Russia.svg.png\" srcset=\"//upload.wikimedia.org/wikipedia/en/thumb/f/f3/Flag_of_Russia.svg/35px-Flag_of_Russia.svg.png 1.5x, //upload.wikimedia.org/wikipedia/en/thumb/f/f3/Flag_of_Russia.svg/45px-Flag_of_Russia.svg.png 2x\" width=\"23\"/> </span><a href=\"/wiki/Russia\" title=\"Russia\">Russia</a>\n",
      "</td>\n",
      "<td style=\"background-color: #CEF2CE;\">Yes\n",
      "</td>\n",
      "<td><span data-sort-value=\"Shestakov , Alexey\"><span class=\"vcard\"><span class=\"fn\">Alexey Shestakov </span></span></span>\n",
      "</td>\n",
      "<td>Shestakov was whisked away from a penal colony on a <a href=\"/wiki/Mil_Mi-2\" title=\"Mil Mi-2\">Mi-2</a> helicopter hijacked by his accomplices, and re-captured shortly after his escape.<sup class=\"reference\" id=\"cite_ref-62\"><a href=\"#cite_note-62\">[62]</a></sup>\n",
      "</td></tr>\n",
      "<tr>\n",
      "<td><span data-sort-value=\"2013-02-25 !\">February 24, 2013</span>\n",
      "</td>\n",
      "<td>Trikala Prison, <a href=\"/wiki/Trikala\" title=\"Trikala\">Trikala</a>\n",
      "</td>\n",
      "<td><span class=\"flagicon\"><img alt=\"\" class=\"thumbborder\" data-file-height=\"400\" data-file-width=\"600\" decoding=\"async\" height=\"15\" src=\"//upload.wikimedia.org/wikipedia/commons/thumb/5/5c/Flag_of_Greece.svg/23px-Flag_of_Greece.svg.png\" srcset=\"//upload.wikimedia.org/wikipedia/commons/thumb/5/5c/Flag_of_Greece.svg/35px-Flag_of_Greece.svg.png 1.5x, //upload.wikimedia.org/wikipedia/commons/thumb/5/5c/Flag_of_Greece.svg/45px-Flag_of_Greece.svg.png 2x\" width=\"23\"/> </span><a href=\"/wiki/Greece\" title=\"Greece\">Greece</a>\n",
      "</td>\n",
      "<td style=\"background-color: #F2CECE;\">No\n",
      "</td>\n",
      "<td><span data-sort-value=\"Vlastos , Panagiotis\"><span class=\"vcard\"><span class=\"fn\">Panagiotis Vlastos </span></span></span>\n",
      "</td>\n",
      "<td>The chartered helicopter — carrying two armed passengers, a pilot and a technician — first tried to rip off the chicken-wire fence surrounding Trikala prison with a hook dangling from a rope. But that didn't work, so a rope was lowered down to whisk away Panagiotis Vlastos. Another prisoner, an unnamed Albanian national also in the courtyard at the time, may also have been part of the escape plan.\n",
      "<p>At the same time, the armed passengers used AK-47 assault rifles and Uzi submachine gun to fire on the prison guards. One guard, who was inside a post, was slightly injured by shards of flying glass. He and others returned fire, injuring Vlastos, who had managed to climb into the helicopter, as well as the helicopter's technician. Vlastos fell from a height of about 3 meters (10 feet) into the courtyard, and the helicopter was eventually grounded in the parking lot.\n",
      "</p><p>Prison officials told TV stations Mega and NET that they recovered well over 500 bullets fired from the helicopter. The Ministry of Justice, in statements describing the escape attempt, added that the helicopter passengers also carried, but did not use, \"improvised explosive devices.\"\n",
      "</p>\n",
      "</td></tr>\n",
      "<tr>\n",
      "<td><span data-sort-value=\"2013-02-25 !\">March 17, 2013</span>\n",
      "</td>\n",
      "<td>Saint-Jérôme Detention Facility, Quebec\n",
      "</td>\n",
      "<td><span class=\"flagicon\"><img alt=\"\" class=\"thumbborder\" data-file-height=\"600\" data-file-width=\"1200\" decoding=\"async\" height=\"12\" src=\"//upload.wikimedia.org/wikipedia/commons/thumb/d/d9/Flag_of_Canada_%28Pantone%29.svg/23px-Flag_of_Canada_%28Pantone%29.svg.png\" srcset=\"//upload.wikimedia.org/wikipedia/commons/thumb/d/d9/Flag_of_Canada_%28Pantone%29.svg/35px-Flag_of_Canada_%28Pantone%29.svg.png 1.5x, //upload.wikimedia.org/wikipedia/commons/thumb/d/d9/Flag_of_Canada_%28Pantone%29.svg/46px-Flag_of_Canada_%28Pantone%29.svg.png 2x\" width=\"23\"/> </span><a href=\"/wiki/Canada\" title=\"Canada\">Canada</a>\n",
      "</td>\n",
      "<td style=\"background-color: #CEF2CE;\">Yes\n",
      "</td>\n",
      "<td>Benjamin Hudon-Barbeau<br/>Danny Provençal\n",
      "</td>\n",
      "<td>Two inmates escaped from the Saint-Jérôme Detention Facility by clambering up a rope from an awaiting helicopter. The helicopter had been hijacked at gunpoint by two accomplices and took them to a waiting vehicle, in which they drove to a chalet in the Chertsey area and forced their way in. Local residents reported the incident, and only a few hours later the suspects again drove off, but were soon surrounded by police vehicles, at which point they exited their vehicle and opened fire, with the police returning fire. Fleeing on foot, they were soon captured and the last of the suspects was apprehended overnight. There were no serious injuries reported.<sup class=\"reference\" id=\"cite_ref-63\"><a href=\"#cite_note-63\">[63]</a></sup>\n",
      "</td></tr>\n",
      "<tr>\n",
      "<td><span data-sort-value=\"2014-02-25 !\">June 7, 2014</span>\n",
      "</td>\n",
      "<td>Orsainville Detention Facility, Quebec\n",
      "</td>\n",
      "<td><span class=\"flagicon\"><img alt=\"\" class=\"thumbborder\" data-file-height=\"600\" data-file-width=\"1200\" decoding=\"async\" height=\"12\" src=\"//upload.wikimedia.org/wikipedia/commons/thumb/d/d9/Flag_of_Canada_%28Pantone%29.svg/23px-Flag_of_Canada_%28Pantone%29.svg.png\" srcset=\"//upload.wikimedia.org/wikipedia/commons/thumb/d/d9/Flag_of_Canada_%28Pantone%29.svg/35px-Flag_of_Canada_%28Pantone%29.svg.png 1.5x, //upload.wikimedia.org/wikipedia/commons/thumb/d/d9/Flag_of_Canada_%28Pantone%29.svg/46px-Flag_of_Canada_%28Pantone%29.svg.png 2x\" width=\"23\"/> </span><a href=\"/wiki/Canada\" title=\"Canada\">Canada</a>\n",
      "</td>\n",
      "<td style=\"background-color: #CEF2CE;\">Yes\n",
      "</td>\n",
      "<td>Yves Denis<br/>Denis Lefebvre<br/>Serge Pomerleau\n",
      "</td>\n",
      "<td>Three detainees awaiting trial for murder escaped from a Quebec City prison at around 7:45 p.m. ET. The three detainees were identified as Yves Denis, 35, Denis Lefebvre, 53, and Serge Pomerleau, 49.<sup class=\"reference\" id=\"cite_ref-64\"><a href=\"#cite_note-64\">[64]</a></sup> The three men were arrested a couple weeks later and returned to the same facility from which they previously escaped.<sup class=\"reference\" id=\"cite_ref-65\"><a href=\"#cite_note-65\">[65]</a></sup>\n",
      "</td></tr>\n",
      "<tr>\n",
      "<td><span data-sort-value=\"2016-02-24 !\">February 22, 2016</span>\n",
      "</td>\n",
      "<td><a class=\"mw-redirect\" href=\"/wiki/Thiva\" title=\"Thiva\">Thiva</a>\n",
      "</td>\n",
      "<td><span class=\"flagicon\"><img alt=\"\" class=\"thumbborder\" data-file-height=\"400\" data-file-width=\"600\" decoding=\"async\" height=\"15\" src=\"//upload.wikimedia.org/wikipedia/commons/thumb/5/5c/Flag_of_Greece.svg/23px-Flag_of_Greece.svg.png\" srcset=\"//upload.wikimedia.org/wikipedia/commons/thumb/5/5c/Flag_of_Greece.svg/35px-Flag_of_Greece.svg.png 1.5x, //upload.wikimedia.org/wikipedia/commons/thumb/5/5c/Flag_of_Greece.svg/45px-Flag_of_Greece.svg.png 2x\" width=\"23\"/> </span><a href=\"/wiki/Greece\" title=\"Greece\">Greece</a>\n",
      "</td>\n",
      "<td style=\"background-color: #F2CECE;\">No\n",
      "</td>\n",
      "<td>Pola Roupa<br/>Nikos Maziotis\n",
      "</td>\n",
      "<td>A helicopter pilot foiled an attempted hijack of his apparatus by an armed woman who authorities believe wanted to use it to help convicted terrorist Nikos Maziotis escape from Korydallos prison.\n",
      "<p>In 2013, Maziotis was convicted in absentia to 50 years in prison for setting up the now-defunct Revolutionary Struggle terrorist group, simple complicity in attempted murder, and a series of attacks claimed by group. He had been on the run since 2012 and was arrested in July 2014.\n",
      "According to the anti-terrorist squad, the helicopter was leased by a woman who has since been identified by the pilot as Maziotis’ wife, Pola Roupa, at the municipality of Ermionida, in the Argolis regional unit of the Peloponnese on Sunday, and was supposed to fly to the island of Kythnos after picking up six more passengers.\n",
      "Describing the incident in an announcement, anti-terror police said that the helicopter was near Athens, when the woman pulled out a gun and told the pilot to redirect the aircraft towards the city. The pilot immediately tried to disarm the woman which caused him to lose control of the helicopter and start to lose altitude. During the struggle, the woman shot at him three times without injuring him. Instead, the bullets pierced the instruments. The pilot managed to land the helicopter at an uninhabited mountainous area near the town of Thiva. The woman immediately opened the door and ran away.<sup class=\"reference\" id=\"cite_ref-66\"><a href=\"#cite_note-66\">[66]</a></sup>\n",
      "</p>\n",
      "</td></tr>\n",
      "<tr>\n",
      "<td><span data-sort-value=\"2018-07-01 !\">July 1, 2018</span>\n",
      "</td>\n",
      "<td><a href=\"/wiki/R%C3%A9au\" title=\"Réau\">Réau</a>, near Paris\n",
      "</td>\n",
      "<td><span class=\"flagicon\"><img alt=\"\" class=\"thumbborder\" data-file-height=\"600\" data-file-width=\"900\" decoding=\"async\" height=\"15\" src=\"//upload.wikimedia.org/wikipedia/en/thumb/c/c3/Flag_of_France.svg/23px-Flag_of_France.svg.png\" srcset=\"//upload.wikimedia.org/wikipedia/en/thumb/c/c3/Flag_of_France.svg/35px-Flag_of_France.svg.png 1.5x, //upload.wikimedia.org/wikipedia/en/thumb/c/c3/Flag_of_France.svg/45px-Flag_of_France.svg.png 2x\" width=\"23\"/> </span><a href=\"/wiki/France\" title=\"France\">France</a>\n",
      "</td>\n",
      "<td style=\"background-color: #CEF2CE;\">Yes\n",
      "</td>\n",
      "<td><a href=\"/wiki/R%C3%A9doine_Fa%C3%AFd\" title=\"Rédoine Faïd\">Rédoine Faïd</a>\n",
      "</td>\n",
      "<td>Faïd was helped by several heavily armed men who created a diversion at the prison entrance while the helicopter landed in the courtyard. The helicopter was hijacked along with the pilot, who was later released unharmed but in shock.<sup class=\"reference\" id=\"cite_ref-67\"><a href=\"#cite_note-67\">[67]</a></sup>\n",
      "</td></tr>\n",
      "<tr>\n",
      "<td><span data-sort-value=\"2020-09-25 !\">September 25, 2020</span>\n",
      "</td>\n",
      "<td><a href=\"/wiki/Forest,_Belgium\" title=\"Forest, Belgium\">Forest</a> prison, Brussels\n",
      "</td>\n",
      "<td><span class=\"flagicon\"><img alt=\"\" class=\"thumbborder\" data-file-height=\"600\" data-file-width=\"900\" decoding=\"async\" height=\"15\" src=\"//upload.wikimedia.org/wikipedia/commons/thumb/9/92/Flag_of_Belgium_%28civil%29.svg/23px-Flag_of_Belgium_%28civil%29.svg.png\" srcset=\"//upload.wikimedia.org/wikipedia/commons/thumb/9/92/Flag_of_Belgium_%28civil%29.svg/35px-Flag_of_Belgium_%28civil%29.svg.png 1.5x, //upload.wikimedia.org/wikipedia/commons/thumb/9/92/Flag_of_Belgium_%28civil%29.svg/45px-Flag_of_Belgium_%28civil%29.svg.png 2x\" width=\"23\"/> </span><a href=\"/wiki/Belgium\" title=\"Belgium\">Belgium</a>\n",
      "</td>\n",
      "<td style=\"background-color: #F2CECE;\">No\n",
      "</td>\n",
      "<td><span data-sort-value=\"A. , Kristel\"><span class=\"vcard\"><span class=\"fn\">Kristel A. </span></span></span>\n",
      "</td>\n",
      "<td>Three armed men hijacked a Eurocopter AS355 helicopter in <a href=\"/wiki/Antwerp\" title=\"Antwerp\">Antwerp</a>, Belgium. After take-off from <a href=\"/wiki/Antwerp_International_Airport\" title=\"Antwerp International Airport\">Antwerp Airport</a>, the pilot, a 35-year-old woman, was forced to fly to the women’s prison of Forest. Unable to land, after more than an hour the pilot was forced to land the helicopter close to a highway carpark near the village Hélécine, 40 km east of Brussels. The three hijackers escaped, while the pilot afterwards flew the helicopter to the base of the Federal Police Air Support Detachment.<sup class=\"reference\" id=\"cite_ref-Aviation24_68-0\"><a href=\"#cite_note-Aviation24-68\">[68]</a></sup> Four people were arrested two days later in connection with this helicopter hijacking.<sup class=\"reference\" id=\"cite_ref-vrtnws_69-0\"><a href=\"#cite_note-vrtnws-69\">[69]</a></sup> Mike G., aged 24 from <a href=\"/wiki/Tongeren\" title=\"Tongeren\">Tongeren</a>, convicted drug dealer released out of jail but still under electronic surveillance, was arrested under the suspicion of having organised the failed prison break of his wife Kristel A., aged 27, who is awaiting trial for murder.<sup class=\"reference\" id=\"cite_ref-brusselstimes_70-0\"><a href=\"#cite_note-brusselstimes-70\">[70]</a></sup>\n",
      "</td></tr></tbody></table>\n"
     ]
    }
   ],
   "source": [
    "# parse data from the html into a beautifulsoup object\n",
    "soup = BeautifulSoup(response.text, 'html.parser')\n",
    "helicopter_escape=soup.find('table',{'class':\"wikitable\"})\n",
    "print(helicopter_escape)"
   ]
  },
  {
   "cell_type": "code",
   "execution_count": 5,
   "id": "7104b139",
   "metadata": {},
   "outputs": [
    {
     "name": "stdout",
     "output_type": "stream",
     "text": [
      "[                  Date                                        Prison name  \\\n",
      "0      August 19, 1971                              Santa Martha Acatitla   \n",
      "1     October 31, 1973                                      Mountjoy Jail   \n",
      "2         May 24, 1978                 United States Penitentiary, Marion   \n",
      "3    February 27, 1981             Fleury-Mérogis, Essonne, Ile de France   \n",
      "4          May 7, 1981                    Orsainville Prison, Quebec City   \n",
      "5        January, 1983                              Pentridge (HM Prison)   \n",
      "6    December 19, 1985  Perry Correctional Institution, Pelzer, South ...   \n",
      "7    December 31, 1985  Cândido Mendes penitentiary, Ilha Grande, Rio ...   \n",
      "8         May 26, 1986                                 Prison de la Santé   \n",
      "9     November 5, 1986           Federal Correctional Institution, Dublin   \n",
      "10   November 23, 1986                         Prigione di Rebibbia, Roma   \n",
      "11   December 10, 1987                                Gartree (HM Prison)   \n",
      "12       July 11, 1988                                    Santa Fe prison   \n",
      "13      April 17, 1989                Federal Holding Facility, Miami, FL   \n",
      "14     August 19, 1989              Arkansas Valley Correctional Facility   \n",
      "15       June 19, 1990                Kent Penitentiary, British Columbia   \n",
      "16       April 7, 1991        Rio Piedras State Penitentiary, Puerto Rico   \n",
      "17   February 24, 1992                                        Lyon Prison   \n",
      "18       December 1992                     Touraine Central Prison, Tours   \n",
      "19       June 17, 1993                     Touraine Central Prison, Tours   \n",
      "20   December 30, 1996                     High Security Prison, Santiago   \n",
      "21  September 18, 1997                                  De Geerhorst jail   \n",
      "22      March 25, 1999           Metropolitan Remand and Reception Centre   \n",
      "23        June 5, 2000  Martin Treatment Center for Sexually Violent P...   \n",
      "24   December 13, 2000                                        Lyon prison   \n",
      "25    January 19, 2001                                      Luynes prison   \n",
      "26      March 24, 2001                                  Draguignan prison   \n",
      "27        May 28, 2001                                     Fresnes prison   \n",
      "28    January 17, 2002                           Parada Neto Penitentiary   \n",
      "29   December 30, 2002                   Las Cucharas prison, Puerto Rico   \n",
      "30       April 4, 2003                                      Luynes prison   \n",
      "31           July 2005                                             France   \n",
      "32   December 10, 2005                                       Aiton Prison   \n",
      "33        June 6, 2006                                  Korydallos Prison   \n",
      "34      April 15, 2007                               Lantin Prison, Liège   \n",
      "35       July 15, 2007                                      Grasse prison   \n",
      "36    October 28, 2007                                       Ittre prison   \n",
      "37   February 22, 2009                                  Korydallos Prison   \n",
      "38      April 27, 2009                           Domenjod Prison, Réunion   \n",
      "39       July 23, 2009                                             Bruges   \n",
      "40       June 25, 2010             HM Prison Isle of Wight, Isle of Wight   \n",
      "41      March 22, 2012                          Sheksna, Penal colony N17   \n",
      "42   February 24, 2013                            Trikala Prison, Trikala   \n",
      "43      March 17, 2013            Saint-Jérôme Detention Facility, Quebec   \n",
      "44        June 7, 2014             Orsainville Detention Facility, Quebec   \n",
      "45   February 22, 2016                                              Thiva   \n",
      "46        July 1, 2018                                   Réau, near Paris   \n",
      "47  September 25, 2020                            Forest prison, Brussels   \n",
      "\n",
      "           Country Succeeded  \\\n",
      "0           Mexico       Yes   \n",
      "1          Ireland       Yes   \n",
      "2    United States        No   \n",
      "3           France       Yes   \n",
      "4           Canada        No   \n",
      "5        Australia        No   \n",
      "6    United States       Yes   \n",
      "7           Brazil       Yes   \n",
      "8           France       Yes   \n",
      "9    United States       Yes   \n",
      "10           Italy       Yes   \n",
      "11  United Kingdom       Yes   \n",
      "12   United States       Yes   \n",
      "13   United States        No   \n",
      "14   United States       Yes   \n",
      "15          Canada       Yes   \n",
      "16     Puerto Rico       Yes   \n",
      "17          France       Yes   \n",
      "18          France        No   \n",
      "19          France        No   \n",
      "20           Chile       Yes   \n",
      "21     Netherlands        No   \n",
      "22       Australia       Yes   \n",
      "23   United States       Yes   \n",
      "24          France       Yes   \n",
      "25          France       Yes   \n",
      "26          France       Yes   \n",
      "27          France        No   \n",
      "28          Brazil       Yes   \n",
      "29   United States       Yes   \n",
      "30          France       Yes   \n",
      "31          France        No   \n",
      "32          France       Yes   \n",
      "33          Greece       Yes   \n",
      "34         Belgium       Yes   \n",
      "35          France       Yes   \n",
      "36         Belgium        No   \n",
      "37          Greece       Yes   \n",
      "38          France       Yes   \n",
      "39         Belgium       Yes   \n",
      "40  United Kingdom        No   \n",
      "41          Russia       Yes   \n",
      "42          Greece        No   \n",
      "43          Canada       Yes   \n",
      "44          Canada       Yes   \n",
      "45          Greece        No   \n",
      "46          France       Yes   \n",
      "47         Belgium        No   \n",
      "\n",
      "                                           Escapee(s)  \\\n",
      "0   Joel David Kaplan Carlos Antonio Contreras Castro   \n",
      "1                JB O'Hagan Seamus TwomeyKevin Mallon   \n",
      "2   Garrett Brock TrapnellMartin Joseph McNallyJam...   \n",
      "3                         Gérard DupréDaniel Beaumont   \n",
      "4   Marina Paquet (hijacker)Giles Arseneault (pris...   \n",
      "5                                      David McMillan   \n",
      "6   James Rodney LeonardWilliam Douglas BallewJess...   \n",
      "7     José Carlos dos Reis Encina, a.k.a. \"Escadinha\"   \n",
      "8                                      Michel Vaujour   \n",
      "9                                      Samantha Lopez   \n",
      "10  André BellaïcheGianluigi EspositoLuciano Cipol...   \n",
      "11                          Sydney DraperJohn Kendall   \n",
      "12         Mahoney Danny Francis MitchellRandy Lackey   \n",
      "13                                         Ben Kramer   \n",
      "14                        Ralph BrownFreddie Gonzales   \n",
      "15                            Robert FordDavid Thomas   \n",
      "16                                       William Lane   \n",
      "17                                                  —   \n",
      "18                                                  —   \n",
      "19                                     Michel Vaujour   \n",
      "20  Four members of the Manuel Rodriguez Patriotic...   \n",
      "21                                                  —   \n",
      "22                                       John Killick   \n",
      "23                                    Steven Whitsett   \n",
      "24                                                  —   \n",
      "25                                       Pascal Payet   \n",
      "26  Abdelhamid CarnousEmile Forma-SariJean-Philipp...   \n",
      "27                                                  —   \n",
      "28                                                  —   \n",
      "29  Orlando Cartagena Jose Rodriguez Victor Diaz H...   \n",
      "30           Eric AlboreoFranck PerlettoMichel Valero   \n",
      "31                                                  —   \n",
      "32    Hubert SellesJean-Claude MorettiMohamed Bessame   \n",
      "33                               Vassilis Paleokostas   \n",
      "34                                     Eric Ferdinand   \n",
      "35                                       Pascal Payet   \n",
      "36                                    Nordin Benallal   \n",
      "37                     Vasilis PaleokostasAlket Rizai   \n",
      "38                         Alexin JismyFabrice Michel   \n",
      "39          Ashraf Sekkaki plus three other criminals   \n",
      "40                                     Brian Lawrence   \n",
      "41                                   Alexey Shestakov   \n",
      "42                                 Panagiotis Vlastos   \n",
      "43              Benjamin Hudon-BarbeauDanny Provençal   \n",
      "44            Yves DenisDenis LefebvreSerge Pomerleau   \n",
      "45                           Pola RoupaNikos Maziotis   \n",
      "46                                       Rédoine Faïd   \n",
      "47                                         Kristel A.   \n",
      "\n",
      "                                              Details  \n",
      "0   Joel David Kaplan was a New York businessman w...  \n",
      "1   On October 31, 1973 an IRA member hijacked a h...  \n",
      "2   43-year-old Barbara Ann Oswald hijacked a Sain...  \n",
      "3   With the help of Serge Coutel, Gérard Dupré an...  \n",
      "4   Marina Paquet held a sawed off shotgun against...  \n",
      "5   Arrests were made for the 1983 attempted helic...  \n",
      "6   One murderer, James Rodney Leonard, and two ar...  \n",
      "7   Drug lord Encina was rescued by José Carlos Gr...  \n",
      "8   Vaujour had 28 years to serve for attempted mu...  \n",
      "9   Ronald J. McIntosh walked away from a minimum ...  \n",
      "10  A red cross helicopter was hijacked by two gun...  \n",
      "11  At 3:16 p.m. on December 10, 1987, John Kendal...  \n",
      "12  Pilot Charles Bella was hired to fly a real es...  \n",
      "13  Famous Apache Boat owner and racer Ben Kramer ...  \n",
      "14  Colorado prison inmates Ralph Brown and Freddi...  \n",
      "15  Two prisoners, Robert Ford and David Thomas, e...  \n",
      "16  Inmates were able to escape when a helicopter ...  \n",
      "17  Two armed men hijacked a helicopter in Albertv...  \n",
      "18  The would-be escapee was shot dead by prison g...  \n",
      "19  Vaujour and his wife were imprisoned in 1991. ...  \n",
      "20  Two women suspected of involvement were Irish ...  \n",
      "21  A September 18, 1997 escape attempt ended in f...  \n",
      "22  On March 25, 1999, librarian Lucy Dudko hired ...  \n",
      "23  Steven Whitsett was serving a civil commitment...  \n",
      "24  Three men were able to escape a prison near Ly...  \n",
      "25  Pascal Payet escaped from Luynes prison using ...  \n",
      "26  On March 24, 2001, an armed man hijacked a hel...  \n",
      "27  (Although not a helicopter escape in the trues...  \n",
      "28  A helicopter was flown into Parada Neto Penite...  \n",
      "29  In Puerto Rico five prisoners escaped from Las...  \n",
      "30  Pascal Payet organized the helicopter escape o...  \n",
      "31  A helicopter escape attempt was foiled when al...  \n",
      "32  On December 10, 2005, two men rented a helicop...  \n",
      "33  On June 6, 2006, Nikos Paleokostas and another...  \n",
      "34  Two men hijacked a small helicopter and forced...  \n",
      "35  Pascal Payet, 43, escaped for the third time f...  \n",
      "36  On Oct 28, 2007, Nordin Benallal, self-styled ...  \n",
      "37  On February 22, 2009 Vasilis Paleokostas and a...  \n",
      "38  Juliano Verbard was a guru of the Sorrowful an...  \n",
      "39  A man hijacked a helicopter and forced its pil...  \n",
      "40  While never actually reaching the execution ph...  \n",
      "41  Shestakov was whisked away from a penal colony...  \n",
      "42  The chartered helicopter — carrying two armed ...  \n",
      "43  Two inmates escaped from the Saint-Jérôme Dete...  \n",
      "44  Three detainees awaiting trial for murder esca...  \n",
      "45  A helicopter pilot foiled an attempted hijack ...  \n",
      "46  Faïd was helped by several heavily armed men w...  \n",
      "47  Three armed men hijacked a Eurocopter AS355 he...  ]\n"
     ]
    }
   ],
   "source": [
    "# Retorna uma lista\n",
    "dados=pd.read_html(str(helicopter_escape))\n",
    "print(dados)"
   ]
  },
  {
   "cell_type": "code",
   "execution_count": 6,
   "id": "6b2dbee4",
   "metadata": {
    "scrolled": true
   },
   "outputs": [
    {
     "data": {
      "text/html": [
       "<div>\n",
       "<style scoped>\n",
       "    .dataframe tbody tr th:only-of-type {\n",
       "        vertical-align: middle;\n",
       "    }\n",
       "\n",
       "    .dataframe tbody tr th {\n",
       "        vertical-align: top;\n",
       "    }\n",
       "\n",
       "    .dataframe thead th {\n",
       "        text-align: right;\n",
       "    }\n",
       "</style>\n",
       "<table border=\"1\" class=\"dataframe\">\n",
       "  <thead>\n",
       "    <tr style=\"text-align: right;\">\n",
       "      <th></th>\n",
       "      <th>Date</th>\n",
       "      <th>Prison name</th>\n",
       "      <th>Country</th>\n",
       "      <th>Succeeded</th>\n",
       "      <th>Escapee(s)</th>\n",
       "      <th>Details</th>\n",
       "    </tr>\n",
       "  </thead>\n",
       "  <tbody>\n",
       "    <tr>\n",
       "      <th>0</th>\n",
       "      <td>August 19, 1971</td>\n",
       "      <td>Santa Martha Acatitla</td>\n",
       "      <td>Mexico</td>\n",
       "      <td>Yes</td>\n",
       "      <td>Joel David Kaplan Carlos Antonio Contreras Castro</td>\n",
       "      <td>Joel David Kaplan was a New York businessman w...</td>\n",
       "    </tr>\n",
       "    <tr>\n",
       "      <th>1</th>\n",
       "      <td>October 31, 1973</td>\n",
       "      <td>Mountjoy Jail</td>\n",
       "      <td>Ireland</td>\n",
       "      <td>Yes</td>\n",
       "      <td>JB O'Hagan Seamus TwomeyKevin Mallon</td>\n",
       "      <td>On October 31, 1973 an IRA member hijacked a h...</td>\n",
       "    </tr>\n",
       "    <tr>\n",
       "      <th>2</th>\n",
       "      <td>May 24, 1978</td>\n",
       "      <td>United States Penitentiary, Marion</td>\n",
       "      <td>United States</td>\n",
       "      <td>No</td>\n",
       "      <td>Garrett Brock TrapnellMartin Joseph McNallyJam...</td>\n",
       "      <td>43-year-old Barbara Ann Oswald hijacked a Sain...</td>\n",
       "    </tr>\n",
       "    <tr>\n",
       "      <th>3</th>\n",
       "      <td>February 27, 1981</td>\n",
       "      <td>Fleury-Mérogis, Essonne, Ile de France</td>\n",
       "      <td>France</td>\n",
       "      <td>Yes</td>\n",
       "      <td>Gérard DupréDaniel Beaumont</td>\n",
       "      <td>With the help of Serge Coutel, Gérard Dupré an...</td>\n",
       "    </tr>\n",
       "    <tr>\n",
       "      <th>4</th>\n",
       "      <td>May 7, 1981</td>\n",
       "      <td>Orsainville Prison, Quebec City</td>\n",
       "      <td>Canada</td>\n",
       "      <td>No</td>\n",
       "      <td>Marina Paquet (hijacker)Giles Arseneault (pris...</td>\n",
       "      <td>Marina Paquet held a sawed off shotgun against...</td>\n",
       "    </tr>\n",
       "  </tbody>\n",
       "</table>\n",
       "</div>"
      ],
      "text/plain": [
       "                Date                             Prison name        Country  \\\n",
       "0    August 19, 1971                   Santa Martha Acatitla         Mexico   \n",
       "1   October 31, 1973                           Mountjoy Jail        Ireland   \n",
       "2       May 24, 1978      United States Penitentiary, Marion  United States   \n",
       "3  February 27, 1981  Fleury-Mérogis, Essonne, Ile de France         France   \n",
       "4        May 7, 1981         Orsainville Prison, Quebec City         Canada   \n",
       "\n",
       "  Succeeded                                         Escapee(s)  \\\n",
       "0       Yes  Joel David Kaplan Carlos Antonio Contreras Castro   \n",
       "1       Yes               JB O'Hagan Seamus TwomeyKevin Mallon   \n",
       "2        No  Garrett Brock TrapnellMartin Joseph McNallyJam...   \n",
       "3       Yes                        Gérard DupréDaniel Beaumont   \n",
       "4        No  Marina Paquet (hijacker)Giles Arseneault (pris...   \n",
       "\n",
       "                                             Details  \n",
       "0  Joel David Kaplan was a New York businessman w...  \n",
       "1  On October 31, 1973 an IRA member hijacked a h...  \n",
       "2  43-year-old Barbara Ann Oswald hijacked a Sain...  \n",
       "3  With the help of Serge Coutel, Gérard Dupré an...  \n",
       "4  Marina Paquet held a sawed off shotgun against...  "
      ]
     },
     "execution_count": 6,
     "metadata": {},
     "output_type": "execute_result"
    }
   ],
   "source": [
    "dados_df=pd.DataFrame(dados[0])\n",
    "dados_df.head(5)"
   ]
  },
  {
   "cell_type": "code",
   "execution_count": 7,
   "id": "63557cea",
   "metadata": {},
   "outputs": [
    {
     "name": "stdout",
     "output_type": "stream",
     "text": [
      "<class 'pandas.core.frame.DataFrame'>\n",
      "RangeIndex: 48 entries, 0 to 47\n",
      "Data columns (total 6 columns):\n",
      " #   Column       Non-Null Count  Dtype \n",
      "---  ------       --------------  ----- \n",
      " 0   Date         48 non-null     object\n",
      " 1   Prison name  48 non-null     object\n",
      " 2   Country      48 non-null     object\n",
      " 3   Succeeded    48 non-null     object\n",
      " 4   Escapee(s)   48 non-null     object\n",
      " 5   Details      48 non-null     object\n",
      "dtypes: object(6)\n",
      "memory usage: 2.4+ KB\n"
     ]
    }
   ],
   "source": [
    "dados_df.info()"
   ]
  },
  {
   "cell_type": "code",
   "execution_count": 8,
   "id": "82939370",
   "metadata": {},
   "outputs": [
    {
     "data": {
      "text/html": [
       "<div>\n",
       "<style scoped>\n",
       "    .dataframe tbody tr th:only-of-type {\n",
       "        vertical-align: middle;\n",
       "    }\n",
       "\n",
       "    .dataframe tbody tr th {\n",
       "        vertical-align: top;\n",
       "    }\n",
       "\n",
       "    .dataframe thead th {\n",
       "        text-align: right;\n",
       "    }\n",
       "</style>\n",
       "<table border=\"1\" class=\"dataframe\">\n",
       "  <thead>\n",
       "    <tr style=\"text-align: right;\">\n",
       "      <th></th>\n",
       "      <th>Date</th>\n",
       "      <th>Succeeded</th>\n",
       "    </tr>\n",
       "  </thead>\n",
       "  <tbody>\n",
       "    <tr>\n",
       "      <th>0</th>\n",
       "      <td>August 19, 1971</td>\n",
       "      <td>Yes</td>\n",
       "    </tr>\n",
       "    <tr>\n",
       "      <th>1</th>\n",
       "      <td>October 31, 1973</td>\n",
       "      <td>Yes</td>\n",
       "    </tr>\n",
       "    <tr>\n",
       "      <th>2</th>\n",
       "      <td>May 24, 1978</td>\n",
       "      <td>No</td>\n",
       "    </tr>\n",
       "    <tr>\n",
       "      <th>3</th>\n",
       "      <td>February 27, 1981</td>\n",
       "      <td>Yes</td>\n",
       "    </tr>\n",
       "    <tr>\n",
       "      <th>4</th>\n",
       "      <td>May 7, 1981</td>\n",
       "      <td>No</td>\n",
       "    </tr>\n",
       "  </tbody>\n",
       "</table>\n",
       "</div>"
      ],
      "text/plain": [
       "                Date Succeeded\n",
       "0    August 19, 1971       Yes\n",
       "1   October 31, 1973       Yes\n",
       "2       May 24, 1978        No\n",
       "3  February 27, 1981       Yes\n",
       "4        May 7, 1981        No"
      ]
     },
     "execution_count": 8,
     "metadata": {},
     "output_type": "execute_result"
    }
   ],
   "source": [
    "# Filtro de colunas\n",
    "dados_df[['Date', 'Succeeded']].head(5)"
   ]
  },
  {
   "cell_type": "code",
   "execution_count": 9,
   "id": "9c951de3",
   "metadata": {},
   "outputs": [
    {
     "data": {
      "text/plain": [
       "Date         object\n",
       "Succeeded    object\n",
       "dtype: object"
      ]
     },
     "execution_count": 9,
     "metadata": {},
     "output_type": "execute_result"
    }
   ],
   "source": [
    "# Armazenado as colunas necessárias à resposta 1 em uma variável (select_1)\n",
    "select_1 = dados_df[['Date', 'Succeeded']]\n",
    "\n",
    "# Tipos de Dados\n",
    "select_1.dtypes"
   ]
  },
  {
   "cell_type": "code",
   "execution_count": 10,
   "id": "8e373391",
   "metadata": {},
   "outputs": [
    {
     "name": "stdout",
     "output_type": "stream",
     "text": [
      "<class 'pandas.core.frame.DataFrame'>\n",
      "RangeIndex: 48 entries, 0 to 47\n",
      "Data columns (total 2 columns):\n",
      " #   Column     Non-Null Count  Dtype \n",
      "---  ------     --------------  ----- \n",
      " 0   Date       48 non-null     object\n",
      " 1   Succeeded  48 non-null     object\n",
      "dtypes: object(2)\n",
      "memory usage: 896.0+ bytes\n"
     ]
    }
   ],
   "source": [
    "select_1.info(5)"
   ]
  },
  {
   "cell_type": "code",
   "execution_count": 11,
   "id": "e30f4760",
   "metadata": {},
   "outputs": [
    {
     "data": {
      "text/plain": [
       "0      August 19, 1971\n",
       "1     October 31, 1973\n",
       "2         May 24, 1978\n",
       "3    February 27, 1981\n",
       "4          May 7, 1981\n",
       "Name: Date, dtype: object"
      ]
     },
     "execution_count": 11,
     "metadata": {},
     "output_type": "execute_result"
    }
   ],
   "source": [
    "# Select da coluna Date\n",
    "select_1['Date'].head(5)"
   ]
  },
  {
   "cell_type": "code",
   "execution_count": 12,
   "id": "7a382032",
   "metadata": {},
   "outputs": [
    {
     "data": {
      "text/html": [
       "<div>\n",
       "<style scoped>\n",
       "    .dataframe tbody tr th:only-of-type {\n",
       "        vertical-align: middle;\n",
       "    }\n",
       "\n",
       "    .dataframe tbody tr th {\n",
       "        vertical-align: top;\n",
       "    }\n",
       "\n",
       "    .dataframe thead th {\n",
       "        text-align: right;\n",
       "    }\n",
       "</style>\n",
       "<table border=\"1\" class=\"dataframe\">\n",
       "  <thead>\n",
       "    <tr style=\"text-align: right;\">\n",
       "      <th></th>\n",
       "      <th>Date</th>\n",
       "    </tr>\n",
       "  </thead>\n",
       "  <tbody>\n",
       "    <tr>\n",
       "      <th>0</th>\n",
       "      <td>August 19, 1971</td>\n",
       "    </tr>\n",
       "    <tr>\n",
       "      <th>1</th>\n",
       "      <td>October 31, 1973</td>\n",
       "    </tr>\n",
       "    <tr>\n",
       "      <th>2</th>\n",
       "      <td>May 24, 1978</td>\n",
       "    </tr>\n",
       "    <tr>\n",
       "      <th>3</th>\n",
       "      <td>February 27, 1981</td>\n",
       "    </tr>\n",
       "    <tr>\n",
       "      <th>4</th>\n",
       "      <td>May 7, 1981</td>\n",
       "    </tr>\n",
       "  </tbody>\n",
       "</table>\n",
       "</div>"
      ],
      "text/plain": [
       "                Date\n",
       "0    August 19, 1971\n",
       "1   October 31, 1973\n",
       "2       May 24, 1978\n",
       "3  February 27, 1981\n",
       "4        May 7, 1981"
      ]
     },
     "execution_count": 12,
     "metadata": {},
     "output_type": "execute_result"
    }
   ],
   "source": [
    "#Transforma a coluna Date em um DataFrame\n",
    "coluna_date_df = pd.DataFrame(select_1['Date'])\n",
    "coluna_date_df.head(5)"
   ]
  },
  {
   "cell_type": "code",
   "execution_count": 13,
   "id": "f3634686",
   "metadata": {},
   "outputs": [
    {
     "data": {
      "text/plain": [
       "Date    object\n",
       "dtype: object"
      ]
     },
     "execution_count": 13,
     "metadata": {},
     "output_type": "execute_result"
    }
   ],
   "source": [
    "coluna_date_df.dtypes"
   ]
  },
  {
   "cell_type": "markdown",
   "id": "dc5a4a2d",
   "metadata": {},
   "source": [
    "# Separação do ano da coluna Date\n",
    "\n",
    "## Links úteis para manipular datas:\n",
    "\n",
    " https://pandas.pydata.org/docs/reference/api/pandas.to_datetime.html\n",
    " https://pandas.pydata.org/docs/reference/api/pandas.to_datetime.html\n",
    " https://pandas.pydata.org/pandas-docs/stable/reference/api/pandas.DataFrame.apply.html\n",
    " https://medium.com/@ajeet214/conversion-between-datetime-object-and-string-in-python-b1bc527a18\n",
    " data:https://pt.stackoverflow.com/questions/380653/como-separar-o-ano-de-uma-data-com-python-e-pandas\n",
    "    "
   ]
  },
  {
   "cell_type": "markdown",
   "id": "393b579c",
   "metadata": {},
   "source": [
    "# Códigos tentados\n",
    "\n",
    "#dt = datetime.strptime('May 7, 1981', format)\n",
    "#datetime.datetime.strptime('May 7, 1981', '%m%%Y').date()\n",
    "\n",
    "#coluna_date_df['Date'] = pd.to_datetime(coluna_date_df['Date']) \n",
    "#coluna_date_df.head(5)\n",
    "\n",
    "#coluna_date_df = coluna_date_df.groupby('Ano').count()['Data_tratada']\n",
    "#coluna_date_df.reset_index()\n",
    "\n",
    "#coluna_date_df.merge(df_count, left_on='Ano', right_on='Ano', how='left').sort_values('Contagem', ascending=False).\n",
    "\n",
    "#coluna_date_df['Group_by_ano'] = coluna_date_df.pivot_table(index = ['Ano'], aggfunc ='size')\n",
    "#coluna_date_df\n",
    "\n",
    "#Teste utilizando a função \"to_datetime\", retornou valores NaT para dias faltantes.\n",
    "#pd.to_datetime(coluna_date_df['Date'].astype(str), format='%B %d, %Y', errors='coerce').head(5)\n",
    "\n",
    "\n",
    "#data = dados_1['Date']\n",
    "#data.str.split(',')\n",
    "\n",
    "#data = dados_1['Date'] # se o resultado for uma lista das datas do banco\n",
    "#ano = [a.split('/')[-1] for a in data]\n",
    "#dados_1['Date'] = ano\n",
    "\n",
    "#dados_1['Date'] = pd.to_datetime(dados_1['Date'], format='%d/%m/%Y')"
   ]
  },
  {
   "cell_type": "code",
   "execution_count": 14,
   "id": "195853d4",
   "metadata": {},
   "outputs": [
    {
     "name": "stdout",
     "output_type": "stream",
     "text": [
      "5 7 1981\n"
     ]
    }
   ],
   "source": [
    "# Teste de exemplo usando parser\n",
    "\n",
    "parse('May 7, 1981')\n",
    "\n",
    "dt = parser.parse(\"May 7, 1981\")\n",
    "print(dt.month, dt.day, dt.year)\n"
   ]
  },
  {
   "cell_type": "code",
   "execution_count": 15,
   "id": "83fe6b8e",
   "metadata": {},
   "outputs": [
    {
     "data": {
      "text/plain": [
       "0   1971-08-19\n",
       "1   1973-10-31\n",
       "2   1978-05-24\n",
       "3   1981-02-27\n",
       "4   1981-05-07\n",
       "Name: Date, dtype: datetime64[ns]"
      ]
     },
     "execution_count": 15,
     "metadata": {},
     "output_type": "execute_result"
    }
   ],
   "source": [
    "# Utilizado a função do pandas \"apply\", que aplica funções para todas as linhas ou colunas usando axis. Escolhida por\n",
    "#substituir os dias faltantes pelo dia vigente.\n",
    "\n",
    "# https://pandas.pydata.org/pandas-docs/stable/reference/api/pandas.DataFrame.apply.html\n",
    "coluna_date_df['Date'].apply(parse).head(5)"
   ]
  },
  {
   "cell_type": "code",
   "execution_count": 16,
   "id": "6b57e883",
   "metadata": {
    "scrolled": true
   },
   "outputs": [
    {
     "data": {
      "text/html": [
       "<div>\n",
       "<style scoped>\n",
       "    .dataframe tbody tr th:only-of-type {\n",
       "        vertical-align: middle;\n",
       "    }\n",
       "\n",
       "    .dataframe tbody tr th {\n",
       "        vertical-align: top;\n",
       "    }\n",
       "\n",
       "    .dataframe thead th {\n",
       "        text-align: right;\n",
       "    }\n",
       "</style>\n",
       "<table border=\"1\" class=\"dataframe\">\n",
       "  <thead>\n",
       "    <tr style=\"text-align: right;\">\n",
       "      <th></th>\n",
       "      <th>Date</th>\n",
       "      <th>Data_tratada</th>\n",
       "    </tr>\n",
       "  </thead>\n",
       "  <tbody>\n",
       "    <tr>\n",
       "      <th>0</th>\n",
       "      <td>August 19, 1971</td>\n",
       "      <td>1971-08-19</td>\n",
       "    </tr>\n",
       "    <tr>\n",
       "      <th>1</th>\n",
       "      <td>October 31, 1973</td>\n",
       "      <td>1973-10-31</td>\n",
       "    </tr>\n",
       "    <tr>\n",
       "      <th>2</th>\n",
       "      <td>May 24, 1978</td>\n",
       "      <td>1978-05-24</td>\n",
       "    </tr>\n",
       "    <tr>\n",
       "      <th>3</th>\n",
       "      <td>February 27, 1981</td>\n",
       "      <td>1981-02-27</td>\n",
       "    </tr>\n",
       "    <tr>\n",
       "      <th>4</th>\n",
       "      <td>May 7, 1981</td>\n",
       "      <td>1981-05-07</td>\n",
       "    </tr>\n",
       "  </tbody>\n",
       "</table>\n",
       "</div>"
      ],
      "text/plain": [
       "                Date Data_tratada\n",
       "0    August 19, 1971   1971-08-19\n",
       "1   October 31, 1973   1973-10-31\n",
       "2       May 24, 1978   1978-05-24\n",
       "3  February 27, 1981   1981-02-27\n",
       "4        May 7, 1981   1981-05-07"
      ]
     },
     "execution_count": 16,
     "metadata": {},
     "output_type": "execute_result"
    }
   ],
   "source": [
    "# Atribuindo resultado da View a uma nova coluna no DataFrame\n",
    "coluna_date_df['Data_tratada'] = coluna_date_df['Date'].apply(parse)\n",
    "coluna_date_df.head(5)"
   ]
  },
  {
   "cell_type": "code",
   "execution_count": 17,
   "id": "05110b44",
   "metadata": {},
   "outputs": [
    {
     "data": {
      "text/html": [
       "<div>\n",
       "<style scoped>\n",
       "    .dataframe tbody tr th:only-of-type {\n",
       "        vertical-align: middle;\n",
       "    }\n",
       "\n",
       "    .dataframe tbody tr th {\n",
       "        vertical-align: top;\n",
       "    }\n",
       "\n",
       "    .dataframe thead th {\n",
       "        text-align: right;\n",
       "    }\n",
       "</style>\n",
       "<table border=\"1\" class=\"dataframe\">\n",
       "  <thead>\n",
       "    <tr style=\"text-align: right;\">\n",
       "      <th></th>\n",
       "      <th>Date</th>\n",
       "      <th>Data_tratada</th>\n",
       "      <th>Ano</th>\n",
       "    </tr>\n",
       "  </thead>\n",
       "  <tbody>\n",
       "    <tr>\n",
       "      <th>0</th>\n",
       "      <td>August 19, 1971</td>\n",
       "      <td>1971-08-19</td>\n",
       "      <td>1971</td>\n",
       "    </tr>\n",
       "    <tr>\n",
       "      <th>1</th>\n",
       "      <td>October 31, 1973</td>\n",
       "      <td>1973-10-31</td>\n",
       "      <td>1973</td>\n",
       "    </tr>\n",
       "    <tr>\n",
       "      <th>2</th>\n",
       "      <td>May 24, 1978</td>\n",
       "      <td>1978-05-24</td>\n",
       "      <td>1978</td>\n",
       "    </tr>\n",
       "    <tr>\n",
       "      <th>3</th>\n",
       "      <td>February 27, 1981</td>\n",
       "      <td>1981-02-27</td>\n",
       "      <td>1981</td>\n",
       "    </tr>\n",
       "    <tr>\n",
       "      <th>4</th>\n",
       "      <td>May 7, 1981</td>\n",
       "      <td>1981-05-07</td>\n",
       "      <td>1981</td>\n",
       "    </tr>\n",
       "  </tbody>\n",
       "</table>\n",
       "</div>"
      ],
      "text/plain": [
       "                Date Data_tratada   Ano\n",
       "0    August 19, 1971   1971-08-19  1971\n",
       "1   October 31, 1973   1973-10-31  1973\n",
       "2       May 24, 1978   1978-05-24  1978\n",
       "3  February 27, 1981   1981-02-27  1981\n",
       "4        May 7, 1981   1981-05-07  1981"
      ]
     },
     "execution_count": 17,
     "metadata": {},
     "output_type": "execute_result"
    }
   ],
   "source": [
    "# Função dt.year usada para extrair apenas o ano da coluna \"Data_tratada\"\n",
    "coluna_date_df['Ano'] = coluna_date_df['Data_tratada'].dt.year\n",
    "coluna_date_df.head(5)"
   ]
  },
  {
   "cell_type": "code",
   "execution_count": 18,
   "id": "d764b7c3",
   "metadata": {},
   "outputs": [
    {
     "data": {
      "text/plain": [
       "Index(['Date', 'Data_tratada'], dtype='object')"
      ]
     },
     "execution_count": 18,
     "metadata": {},
     "output_type": "execute_result"
    }
   ],
   "source": [
    "coluna_date_df.groupby('Ano').count().columns"
   ]
  },
  {
   "cell_type": "markdown",
   "id": "84a647e8",
   "metadata": {},
   "source": [
    "# Resposta da questão 1: \n",
    "## 1-Em qual ano ocorreram mais tentativas de fuga de helicópteros?"
   ]
  },
  {
   "cell_type": "code",
   "execution_count": 19,
   "id": "c3e5646d",
   "metadata": {},
   "outputs": [
    {
     "data": {
      "text/html": [
       "<div>\n",
       "<style scoped>\n",
       "    .dataframe tbody tr th:only-of-type {\n",
       "        vertical-align: middle;\n",
       "    }\n",
       "\n",
       "    .dataframe tbody tr th {\n",
       "        vertical-align: top;\n",
       "    }\n",
       "\n",
       "    .dataframe thead th {\n",
       "        text-align: right;\n",
       "    }\n",
       "</style>\n",
       "<table border=\"1\" class=\"dataframe\">\n",
       "  <thead>\n",
       "    <tr style=\"text-align: right;\">\n",
       "      <th></th>\n",
       "      <th>Ano</th>\n",
       "      <th>Contagem</th>\n",
       "    </tr>\n",
       "  </thead>\n",
       "  <tbody>\n",
       "    <tr>\n",
       "      <th>0</th>\n",
       "      <td>2009</td>\n",
       "      <td>3</td>\n",
       "    </tr>\n",
       "    <tr>\n",
       "      <th>1</th>\n",
       "      <td>2001</td>\n",
       "      <td>3</td>\n",
       "    </tr>\n",
       "    <tr>\n",
       "      <th>2</th>\n",
       "      <td>1986</td>\n",
       "      <td>3</td>\n",
       "    </tr>\n",
       "    <tr>\n",
       "      <th>3</th>\n",
       "      <td>2007</td>\n",
       "      <td>3</td>\n",
       "    </tr>\n",
       "    <tr>\n",
       "      <th>4</th>\n",
       "      <td>2002</td>\n",
       "      <td>2</td>\n",
       "    </tr>\n",
       "    <tr>\n",
       "      <th>5</th>\n",
       "      <td>1981</td>\n",
       "      <td>2</td>\n",
       "    </tr>\n",
       "    <tr>\n",
       "      <th>6</th>\n",
       "      <td>2000</td>\n",
       "      <td>2</td>\n",
       "    </tr>\n",
       "    <tr>\n",
       "      <th>7</th>\n",
       "      <td>1985</td>\n",
       "      <td>2</td>\n",
       "    </tr>\n",
       "    <tr>\n",
       "      <th>8</th>\n",
       "      <td>2005</td>\n",
       "      <td>2</td>\n",
       "    </tr>\n",
       "    <tr>\n",
       "      <th>9</th>\n",
       "      <td>2013</td>\n",
       "      <td>2</td>\n",
       "    </tr>\n",
       "    <tr>\n",
       "      <th>10</th>\n",
       "      <td>1989</td>\n",
       "      <td>2</td>\n",
       "    </tr>\n",
       "    <tr>\n",
       "      <th>11</th>\n",
       "      <td>1992</td>\n",
       "      <td>2</td>\n",
       "    </tr>\n",
       "    <tr>\n",
       "      <th>12</th>\n",
       "      <td>2006</td>\n",
       "      <td>1</td>\n",
       "    </tr>\n",
       "    <tr>\n",
       "      <th>13</th>\n",
       "      <td>1971</td>\n",
       "      <td>1</td>\n",
       "    </tr>\n",
       "    <tr>\n",
       "      <th>14</th>\n",
       "      <td>2010</td>\n",
       "      <td>1</td>\n",
       "    </tr>\n",
       "    <tr>\n",
       "      <th>15</th>\n",
       "      <td>2003</td>\n",
       "      <td>1</td>\n",
       "    </tr>\n",
       "    <tr>\n",
       "      <th>16</th>\n",
       "      <td>2014</td>\n",
       "      <td>1</td>\n",
       "    </tr>\n",
       "    <tr>\n",
       "      <th>17</th>\n",
       "      <td>2016</td>\n",
       "      <td>1</td>\n",
       "    </tr>\n",
       "    <tr>\n",
       "      <th>18</th>\n",
       "      <td>2018</td>\n",
       "      <td>1</td>\n",
       "    </tr>\n",
       "    <tr>\n",
       "      <th>19</th>\n",
       "      <td>2012</td>\n",
       "      <td>1</td>\n",
       "    </tr>\n",
       "    <tr>\n",
       "      <th>20</th>\n",
       "      <td>1999</td>\n",
       "      <td>1</td>\n",
       "    </tr>\n",
       "    <tr>\n",
       "      <th>21</th>\n",
       "      <td>1973</td>\n",
       "      <td>1</td>\n",
       "    </tr>\n",
       "    <tr>\n",
       "      <th>22</th>\n",
       "      <td>1997</td>\n",
       "      <td>1</td>\n",
       "    </tr>\n",
       "    <tr>\n",
       "      <th>23</th>\n",
       "      <td>1996</td>\n",
       "      <td>1</td>\n",
       "    </tr>\n",
       "    <tr>\n",
       "      <th>24</th>\n",
       "      <td>1993</td>\n",
       "      <td>1</td>\n",
       "    </tr>\n",
       "    <tr>\n",
       "      <th>25</th>\n",
       "      <td>1991</td>\n",
       "      <td>1</td>\n",
       "    </tr>\n",
       "    <tr>\n",
       "      <th>26</th>\n",
       "      <td>1990</td>\n",
       "      <td>1</td>\n",
       "    </tr>\n",
       "    <tr>\n",
       "      <th>27</th>\n",
       "      <td>1988</td>\n",
       "      <td>1</td>\n",
       "    </tr>\n",
       "    <tr>\n",
       "      <th>28</th>\n",
       "      <td>1987</td>\n",
       "      <td>1</td>\n",
       "    </tr>\n",
       "    <tr>\n",
       "      <th>29</th>\n",
       "      <td>1983</td>\n",
       "      <td>1</td>\n",
       "    </tr>\n",
       "    <tr>\n",
       "      <th>30</th>\n",
       "      <td>1978</td>\n",
       "      <td>1</td>\n",
       "    </tr>\n",
       "    <tr>\n",
       "      <th>31</th>\n",
       "      <td>2020</td>\n",
       "      <td>1</td>\n",
       "    </tr>\n",
       "  </tbody>\n",
       "</table>\n",
       "</div>"
      ],
      "text/plain": [
       "     Ano  Contagem\n",
       "0   2009         3\n",
       "1   2001         3\n",
       "2   1986         3\n",
       "3   2007         3\n",
       "4   2002         2\n",
       "5   1981         2\n",
       "6   2000         2\n",
       "7   1985         2\n",
       "8   2005         2\n",
       "9   2013         2\n",
       "10  1989         2\n",
       "11  1992         2\n",
       "12  2006         1\n",
       "13  1971         1\n",
       "14  2010         1\n",
       "15  2003         1\n",
       "16  2014         1\n",
       "17  2016         1\n",
       "18  2018         1\n",
       "19  2012         1\n",
       "20  1999         1\n",
       "21  1973         1\n",
       "22  1997         1\n",
       "23  1996         1\n",
       "24  1993         1\n",
       "25  1991         1\n",
       "26  1990         1\n",
       "27  1988         1\n",
       "28  1987         1\n",
       "29  1983         1\n",
       "30  1978         1\n",
       "31  2020         1"
      ]
     },
     "execution_count": 19,
     "metadata": {},
     "output_type": "execute_result"
    }
   ],
   "source": [
    "#Resposta da primeira pergunta, os anos que mais ocorreram tentativas de fuga de helic foram \"2009, 2001, 1996, 2007\"\n",
    "\n",
    "df_count = coluna_date_df.groupby('Ano').count().reset_index()[['Ano','Date']].sort_values('Date', ascending=False)\n",
    "df_count.columns = ['Ano', 'Contagem']\n",
    "df_count = df_count.reset_index(drop=True)\n",
    "df_count"
   ]
  },
  {
   "cell_type": "code",
   "execution_count": 20,
   "id": "0c0279fb",
   "metadata": {},
   "outputs": [
    {
     "data": {
      "text/html": [
       "<div>\n",
       "<style scoped>\n",
       "    .dataframe tbody tr th:only-of-type {\n",
       "        vertical-align: middle;\n",
       "    }\n",
       "\n",
       "    .dataframe tbody tr th {\n",
       "        vertical-align: top;\n",
       "    }\n",
       "\n",
       "    .dataframe thead th {\n",
       "        text-align: right;\n",
       "    }\n",
       "</style>\n",
       "<table border=\"1\" class=\"dataframe\">\n",
       "  <thead>\n",
       "    <tr style=\"text-align: right;\">\n",
       "      <th></th>\n",
       "      <th>Date</th>\n",
       "      <th>Data_tratada</th>\n",
       "      <th>Ano</th>\n",
       "    </tr>\n",
       "  </thead>\n",
       "  <tbody>\n",
       "    <tr>\n",
       "      <th>6</th>\n",
       "      <td>December 19, 1985</td>\n",
       "      <td>1985-12-19</td>\n",
       "      <td>1985</td>\n",
       "    </tr>\n",
       "    <tr>\n",
       "      <th>7</th>\n",
       "      <td>December 31, 1985</td>\n",
       "      <td>1985-12-31</td>\n",
       "      <td>1985</td>\n",
       "    </tr>\n",
       "  </tbody>\n",
       "</table>\n",
       "</div>"
      ],
      "text/plain": [
       "                Date Data_tratada   Ano\n",
       "6  December 19, 1985   1985-12-19  1985\n",
       "7  December 31, 1985   1985-12-31  1985"
      ]
     },
     "execution_count": 20,
     "metadata": {},
     "output_type": "execute_result"
    }
   ],
   "source": [
    "# Teste para verificar se agrupou\n",
    "coluna_date_df.query('Ano==1985')"
   ]
  },
  {
   "cell_type": "markdown",
   "id": "5a708574",
   "metadata": {},
   "source": [
    "# Resposta da questão 2:\n",
    "\n",
    "## Em quais países ocorreram mais tentativas de fuga mediante sequestro de helicópteros?"
   ]
  },
  {
   "cell_type": "code",
   "execution_count": 110,
   "id": "4a93917b",
   "metadata": {},
   "outputs": [
    {
     "data": {
      "text/plain": [
       "[                  Date                                        Prison name  \\\n",
       " 0      August 19, 1971                              Santa Martha Acatitla   \n",
       " 1     October 31, 1973                                      Mountjoy Jail   \n",
       " 2         May 24, 1978                 United States Penitentiary, Marion   \n",
       " 3    February 27, 1981             Fleury-Mérogis, Essonne, Ile de France   \n",
       " 4          May 7, 1981                    Orsainville Prison, Quebec City   \n",
       " 5        January, 1983                              Pentridge (HM Prison)   \n",
       " 6    December 19, 1985  Perry Correctional Institution, Pelzer, South ...   \n",
       " 7    December 31, 1985  Cândido Mendes penitentiary, Ilha Grande, Rio ...   \n",
       " 8         May 26, 1986                                 Prison de la Santé   \n",
       " 9     November 5, 1986           Federal Correctional Institution, Dublin   \n",
       " 10   November 23, 1986                         Prigione di Rebibbia, Roma   \n",
       " 11   December 10, 1987                                Gartree (HM Prison)   \n",
       " 12       July 11, 1988                                    Santa Fe prison   \n",
       " 13      April 17, 1989                Federal Holding Facility, Miami, FL   \n",
       " 14     August 19, 1989              Arkansas Valley Correctional Facility   \n",
       " 15       June 19, 1990                Kent Penitentiary, British Columbia   \n",
       " 16       April 7, 1991        Rio Piedras State Penitentiary, Puerto Rico   \n",
       " 17   February 24, 1992                                        Lyon Prison   \n",
       " 18       December 1992                     Touraine Central Prison, Tours   \n",
       " 19       June 17, 1993                     Touraine Central Prison, Tours   \n",
       " 20   December 30, 1996                     High Security Prison, Santiago   \n",
       " 21  September 18, 1997                                  De Geerhorst jail   \n",
       " 22      March 25, 1999           Metropolitan Remand and Reception Centre   \n",
       " 23        June 5, 2000  Martin Treatment Center for Sexually Violent P...   \n",
       " 24   December 13, 2000                                        Lyon prison   \n",
       " 25    January 19, 2001                                      Luynes prison   \n",
       " 26      March 24, 2001                                  Draguignan prison   \n",
       " 27        May 28, 2001                                     Fresnes prison   \n",
       " 28    January 17, 2002                           Parada Neto Penitentiary   \n",
       " 29   December 30, 2002                   Las Cucharas prison, Puerto Rico   \n",
       " 30       April 4, 2003                                      Luynes prison   \n",
       " 31           July 2005                                             France   \n",
       " 32   December 10, 2005                                       Aiton Prison   \n",
       " 33        June 6, 2006                                  Korydallos Prison   \n",
       " 34      April 15, 2007                               Lantin Prison, Liège   \n",
       " 35       July 15, 2007                                      Grasse prison   \n",
       " 36    October 28, 2007                                       Ittre prison   \n",
       " 37   February 22, 2009                                  Korydallos Prison   \n",
       " 38      April 27, 2009                           Domenjod Prison, Réunion   \n",
       " 39       July 23, 2009                                             Bruges   \n",
       " 40       June 25, 2010             HM Prison Isle of Wight, Isle of Wight   \n",
       " 41      March 22, 2012                          Sheksna, Penal colony N17   \n",
       " 42   February 24, 2013                            Trikala Prison, Trikala   \n",
       " 43      March 17, 2013            Saint-Jérôme Detention Facility, Quebec   \n",
       " 44        June 7, 2014             Orsainville Detention Facility, Quebec   \n",
       " 45   February 22, 2016                                              Thiva   \n",
       " 46        July 1, 2018                                   Réau, near Paris   \n",
       " 47  September 25, 2020                            Forest prison, Brussels   \n",
       " \n",
       "            Country Succeeded  \\\n",
       " 0           Mexico       Yes   \n",
       " 1          Ireland       Yes   \n",
       " 2    United States        No   \n",
       " 3           France       Yes   \n",
       " 4           Canada        No   \n",
       " 5        Australia        No   \n",
       " 6    United States       Yes   \n",
       " 7           Brazil       Yes   \n",
       " 8           France       Yes   \n",
       " 9    United States       Yes   \n",
       " 10           Italy       Yes   \n",
       " 11  United Kingdom       Yes   \n",
       " 12   United States       Yes   \n",
       " 13   United States        No   \n",
       " 14   United States       Yes   \n",
       " 15          Canada       Yes   \n",
       " 16     Puerto Rico       Yes   \n",
       " 17          France       Yes   \n",
       " 18          France        No   \n",
       " 19          France        No   \n",
       " 20           Chile       Yes   \n",
       " 21     Netherlands        No   \n",
       " 22       Australia       Yes   \n",
       " 23   United States       Yes   \n",
       " 24          France       Yes   \n",
       " 25          France       Yes   \n",
       " 26          France       Yes   \n",
       " 27          France        No   \n",
       " 28          Brazil       Yes   \n",
       " 29   United States       Yes   \n",
       " 30          France       Yes   \n",
       " 31          France        No   \n",
       " 32          France       Yes   \n",
       " 33          Greece       Yes   \n",
       " 34         Belgium       Yes   \n",
       " 35          France       Yes   \n",
       " 36         Belgium        No   \n",
       " 37          Greece       Yes   \n",
       " 38          France       Yes   \n",
       " 39         Belgium       Yes   \n",
       " 40  United Kingdom        No   \n",
       " 41          Russia       Yes   \n",
       " 42          Greece        No   \n",
       " 43          Canada       Yes   \n",
       " 44          Canada       Yes   \n",
       " 45          Greece        No   \n",
       " 46          France       Yes   \n",
       " 47         Belgium        No   \n",
       " \n",
       "                                            Escapee(s)  \\\n",
       " 0   Joel David Kaplan Carlos Antonio Contreras Castro   \n",
       " 1                JB O'Hagan Seamus TwomeyKevin Mallon   \n",
       " 2   Garrett Brock TrapnellMartin Joseph McNallyJam...   \n",
       " 3                         Gérard DupréDaniel Beaumont   \n",
       " 4   Marina Paquet (hijacker)Giles Arseneault (pris...   \n",
       " 5                                      David McMillan   \n",
       " 6   James Rodney LeonardWilliam Douglas BallewJess...   \n",
       " 7     José Carlos dos Reis Encina, a.k.a. \"Escadinha\"   \n",
       " 8                                      Michel Vaujour   \n",
       " 9                                      Samantha Lopez   \n",
       " 10  André BellaïcheGianluigi EspositoLuciano Cipol...   \n",
       " 11                          Sydney DraperJohn Kendall   \n",
       " 12         Mahoney Danny Francis MitchellRandy Lackey   \n",
       " 13                                         Ben Kramer   \n",
       " 14                        Ralph BrownFreddie Gonzales   \n",
       " 15                            Robert FordDavid Thomas   \n",
       " 16                                       William Lane   \n",
       " 17                                                  —   \n",
       " 18                                                  —   \n",
       " 19                                     Michel Vaujour   \n",
       " 20  Four members of the Manuel Rodriguez Patriotic...   \n",
       " 21                                                  —   \n",
       " 22                                       John Killick   \n",
       " 23                                    Steven Whitsett   \n",
       " 24                                                  —   \n",
       " 25                                       Pascal Payet   \n",
       " 26  Abdelhamid CarnousEmile Forma-SariJean-Philipp...   \n",
       " 27                                                  —   \n",
       " 28                                                  —   \n",
       " 29  Orlando Cartagena Jose Rodriguez Victor Diaz H...   \n",
       " 30           Eric AlboreoFranck PerlettoMichel Valero   \n",
       " 31                                                  —   \n",
       " 32    Hubert SellesJean-Claude MorettiMohamed Bessame   \n",
       " 33                               Vassilis Paleokostas   \n",
       " 34                                     Eric Ferdinand   \n",
       " 35                                       Pascal Payet   \n",
       " 36                                    Nordin Benallal   \n",
       " 37                     Vasilis PaleokostasAlket Rizai   \n",
       " 38                         Alexin JismyFabrice Michel   \n",
       " 39          Ashraf Sekkaki plus three other criminals   \n",
       " 40                                     Brian Lawrence   \n",
       " 41                                   Alexey Shestakov   \n",
       " 42                                 Panagiotis Vlastos   \n",
       " 43              Benjamin Hudon-BarbeauDanny Provençal   \n",
       " 44            Yves DenisDenis LefebvreSerge Pomerleau   \n",
       " 45                           Pola RoupaNikos Maziotis   \n",
       " 46                                       Rédoine Faïd   \n",
       " 47                                         Kristel A.   \n",
       " \n",
       "                                               Details  \n",
       " 0   Joel David Kaplan was a New York businessman w...  \n",
       " 1   On October 31, 1973 an IRA member hijacked a h...  \n",
       " 2   43-year-old Barbara Ann Oswald hijacked a Sain...  \n",
       " 3   With the help of Serge Coutel, Gérard Dupré an...  \n",
       " 4   Marina Paquet held a sawed off shotgun against...  \n",
       " 5   Arrests were made for the 1983 attempted helic...  \n",
       " 6   One murderer, James Rodney Leonard, and two ar...  \n",
       " 7   Drug lord Encina was rescued by José Carlos Gr...  \n",
       " 8   Vaujour had 28 years to serve for attempted mu...  \n",
       " 9   Ronald J. McIntosh walked away from a minimum ...  \n",
       " 10  A red cross helicopter was hijacked by two gun...  \n",
       " 11  At 3:16 p.m. on December 10, 1987, John Kendal...  \n",
       " 12  Pilot Charles Bella was hired to fly a real es...  \n",
       " 13  Famous Apache Boat owner and racer Ben Kramer ...  \n",
       " 14  Colorado prison inmates Ralph Brown and Freddi...  \n",
       " 15  Two prisoners, Robert Ford and David Thomas, e...  \n",
       " 16  Inmates were able to escape when a helicopter ...  \n",
       " 17  Two armed men hijacked a helicopter in Albertv...  \n",
       " 18  The would-be escapee was shot dead by prison g...  \n",
       " 19  Vaujour and his wife were imprisoned in 1991. ...  \n",
       " 20  Two women suspected of involvement were Irish ...  \n",
       " 21  A September 18, 1997 escape attempt ended in f...  \n",
       " 22  On March 25, 1999, librarian Lucy Dudko hired ...  \n",
       " 23  Steven Whitsett was serving a civil commitment...  \n",
       " 24  Three men were able to escape a prison near Ly...  \n",
       " 25  Pascal Payet escaped from Luynes prison using ...  \n",
       " 26  On March 24, 2001, an armed man hijacked a hel...  \n",
       " 27  (Although not a helicopter escape in the trues...  \n",
       " 28  A helicopter was flown into Parada Neto Penite...  \n",
       " 29  In Puerto Rico five prisoners escaped from Las...  \n",
       " 30  Pascal Payet organized the helicopter escape o...  \n",
       " 31  A helicopter escape attempt was foiled when al...  \n",
       " 32  On December 10, 2005, two men rented a helicop...  \n",
       " 33  On June 6, 2006, Nikos Paleokostas and another...  \n",
       " 34  Two men hijacked a small helicopter and forced...  \n",
       " 35  Pascal Payet, 43, escaped for the third time f...  \n",
       " 36  On Oct 28, 2007, Nordin Benallal, self-styled ...  \n",
       " 37  On February 22, 2009 Vasilis Paleokostas and a...  \n",
       " 38  Juliano Verbard was a guru of the Sorrowful an...  \n",
       " 39  A man hijacked a helicopter and forced its pil...  \n",
       " 40  While never actually reaching the execution ph...  \n",
       " 41  Shestakov was whisked away from a penal colony...  \n",
       " 42  The chartered helicopter — carrying two armed ...  \n",
       " 43  Two inmates escaped from the Saint-Jérôme Dete...  \n",
       " 44  Three detainees awaiting trial for murder esca...  \n",
       " 45  A helicopter pilot foiled an attempted hijack ...  \n",
       " 46  Faïd was helped by several heavily armed men w...  \n",
       " 47  Three armed men hijacked a Eurocopter AS355 he...  ]"
      ]
     },
     "execution_count": 110,
     "metadata": {},
     "output_type": "execute_result"
    }
   ],
   "source": [
    "dados=pd.read_html(str(helicopter_escape))\n",
    "dados"
   ]
  },
  {
   "cell_type": "code",
   "execution_count": 22,
   "id": "05d06300",
   "metadata": {},
   "outputs": [
    {
     "data": {
      "text/html": [
       "<div>\n",
       "<style scoped>\n",
       "    .dataframe tbody tr th:only-of-type {\n",
       "        vertical-align: middle;\n",
       "    }\n",
       "\n",
       "    .dataframe tbody tr th {\n",
       "        vertical-align: top;\n",
       "    }\n",
       "\n",
       "    .dataframe thead th {\n",
       "        text-align: right;\n",
       "    }\n",
       "</style>\n",
       "<table border=\"1\" class=\"dataframe\">\n",
       "  <thead>\n",
       "    <tr style=\"text-align: right;\">\n",
       "      <th></th>\n",
       "      <th>Country</th>\n",
       "      <th>Succeeded</th>\n",
       "    </tr>\n",
       "  </thead>\n",
       "  <tbody>\n",
       "    <tr>\n",
       "      <th>0</th>\n",
       "      <td>France</td>\n",
       "      <td>15</td>\n",
       "    </tr>\n",
       "    <tr>\n",
       "      <th>1</th>\n",
       "      <td>United States</td>\n",
       "      <td>8</td>\n",
       "    </tr>\n",
       "    <tr>\n",
       "      <th>2</th>\n",
       "      <td>Belgium</td>\n",
       "      <td>4</td>\n",
       "    </tr>\n",
       "    <tr>\n",
       "      <th>3</th>\n",
       "      <td>Canada</td>\n",
       "      <td>4</td>\n",
       "    </tr>\n",
       "    <tr>\n",
       "      <th>4</th>\n",
       "      <td>Greece</td>\n",
       "      <td>4</td>\n",
       "    </tr>\n",
       "    <tr>\n",
       "      <th>5</th>\n",
       "      <td>Australia</td>\n",
       "      <td>2</td>\n",
       "    </tr>\n",
       "    <tr>\n",
       "      <th>6</th>\n",
       "      <td>Brazil</td>\n",
       "      <td>2</td>\n",
       "    </tr>\n",
       "    <tr>\n",
       "      <th>7</th>\n",
       "      <td>United Kingdom</td>\n",
       "      <td>2</td>\n",
       "    </tr>\n",
       "    <tr>\n",
       "      <th>8</th>\n",
       "      <td>Chile</td>\n",
       "      <td>1</td>\n",
       "    </tr>\n",
       "    <tr>\n",
       "      <th>9</th>\n",
       "      <td>Ireland</td>\n",
       "      <td>1</td>\n",
       "    </tr>\n",
       "    <tr>\n",
       "      <th>10</th>\n",
       "      <td>Italy</td>\n",
       "      <td>1</td>\n",
       "    </tr>\n",
       "    <tr>\n",
       "      <th>11</th>\n",
       "      <td>Mexico</td>\n",
       "      <td>1</td>\n",
       "    </tr>\n",
       "    <tr>\n",
       "      <th>12</th>\n",
       "      <td>Netherlands</td>\n",
       "      <td>1</td>\n",
       "    </tr>\n",
       "    <tr>\n",
       "      <th>13</th>\n",
       "      <td>Puerto Rico</td>\n",
       "      <td>1</td>\n",
       "    </tr>\n",
       "    <tr>\n",
       "      <th>14</th>\n",
       "      <td>Russia</td>\n",
       "      <td>1</td>\n",
       "    </tr>\n",
       "  </tbody>\n",
       "</table>\n",
       "</div>"
      ],
      "text/plain": [
       "           Country  Succeeded\n",
       "0           France         15\n",
       "1    United States          8\n",
       "2          Belgium          4\n",
       "3           Canada          4\n",
       "4           Greece          4\n",
       "5        Australia          2\n",
       "6           Brazil          2\n",
       "7   United Kingdom          2\n",
       "8            Chile          1\n",
       "9          Ireland          1\n",
       "10           Italy          1\n",
       "11          Mexico          1\n",
       "12     Netherlands          1\n",
       "13     Puerto Rico          1\n",
       "14          Russia          1"
      ]
     },
     "execution_count": 22,
     "metadata": {},
     "output_type": "execute_result"
    }
   ],
   "source": [
    "# Resposta da segunda pergunta: Em quais países ocorreram mais tentativas de fuga mediante sequestro de helicópteros?\n",
    "# Foi possível verificar que os países com mais tentativas de fuga de helicóptero foram a França(15 tentativas),\n",
    "# Estados Unidos(8 tentativas) seguidos de Belgica, Canada e Grécia todos com 4 tentativas.\n",
    "\n",
    "dados_2 = pd.DataFrame(dados[0])\n",
    "dados_2 = dados_2[['Country', 'Succeeded']].groupby('Country').count()[['Succeeded']].sort_values('Succeeded', ascending=False).reset_index()\n",
    "dados_2"
   ]
  },
  {
   "cell_type": "markdown",
   "id": "53129c92",
   "metadata": {},
   "source": [
    "# Gráficos"
   ]
  },
  {
   "cell_type": "markdown",
   "id": "84776658",
   "metadata": {},
   "source": [
    "## Questão 1 : Anos em que ocorreram mais tentativas de fuga de helicótero"
   ]
  },
  {
   "cell_type": "code",
   "execution_count": 60,
   "id": "0d2e2e41",
   "metadata": {},
   "outputs": [
    {
     "data": {
      "application/vnd.plotly.v1+json": {
       "config": {
        "plotlyServerURL": "https://plot.ly"
       },
       "data": [
        {
         "alignmentgroup": "True",
         "hovertemplate": "Ano=%{x}<br>Tentativas de fuga=%{marker.color}<extra></extra>",
         "legendgroup": "",
         "marker": {
          "color": [
           3,
           3,
           3,
           3,
           2,
           2,
           2,
           2,
           2,
           2,
           2,
           2,
           1,
           1,
           1,
           1,
           1,
           1,
           1,
           1,
           1,
           1,
           1,
           1,
           1,
           1,
           1,
           1,
           1,
           1,
           1,
           1
          ],
          "coloraxis": "coloraxis",
          "pattern": {
           "shape": ""
          }
         },
         "name": "",
         "offsetgroup": "",
         "orientation": "v",
         "showlegend": false,
         "textposition": "auto",
         "type": "bar",
         "x": [
          "2009",
          "2001",
          "1986",
          "2007",
          "2002",
          "1981",
          "2000",
          "1985",
          "2005",
          "2013",
          "1989",
          "1992",
          "2006",
          "1971",
          "2010",
          "2003",
          "2014",
          "2016",
          "2018",
          "2012",
          "1999",
          "1973",
          "1997",
          "1996",
          "1993",
          "1991",
          "1990",
          "1988",
          "1987",
          "1983",
          "1978",
          "2020"
         ],
         "xaxis": "x",
         "y": [
          3,
          3,
          3,
          3,
          2,
          2,
          2,
          2,
          2,
          2,
          2,
          2,
          1,
          1,
          1,
          1,
          1,
          1,
          1,
          1,
          1,
          1,
          1,
          1,
          1,
          1,
          1,
          1,
          1,
          1,
          1,
          1
         ],
         "yaxis": "y"
        }
       ],
       "layout": {
        "barmode": "relative",
        "coloraxis": {
         "colorbar": {
          "title": {
           "text": "Tentativas de fuga"
          }
         },
         "colorscale": [
          [
           0,
           "#0d0887"
          ],
          [
           0.1111111111111111,
           "#46039f"
          ],
          [
           0.2222222222222222,
           "#7201a8"
          ],
          [
           0.3333333333333333,
           "#9c179e"
          ],
          [
           0.4444444444444444,
           "#bd3786"
          ],
          [
           0.5555555555555556,
           "#d8576b"
          ],
          [
           0.6666666666666666,
           "#ed7953"
          ],
          [
           0.7777777777777778,
           "#fb9f3a"
          ],
          [
           0.8888888888888888,
           "#fdca26"
          ],
          [
           1,
           "#f0f921"
          ]
         ]
        },
        "legend": {
         "tracegroupgap": 0
        },
        "margin": {
         "t": 60
        },
        "template": {
         "data": {
          "bar": [
           {
            "error_x": {
             "color": "#2a3f5f"
            },
            "error_y": {
             "color": "#2a3f5f"
            },
            "marker": {
             "line": {
              "color": "#E5ECF6",
              "width": 0.5
             },
             "pattern": {
              "fillmode": "overlay",
              "size": 10,
              "solidity": 0.2
             }
            },
            "type": "bar"
           }
          ],
          "barpolar": [
           {
            "marker": {
             "line": {
              "color": "#E5ECF6",
              "width": 0.5
             },
             "pattern": {
              "fillmode": "overlay",
              "size": 10,
              "solidity": 0.2
             }
            },
            "type": "barpolar"
           }
          ],
          "carpet": [
           {
            "aaxis": {
             "endlinecolor": "#2a3f5f",
             "gridcolor": "white",
             "linecolor": "white",
             "minorgridcolor": "white",
             "startlinecolor": "#2a3f5f"
            },
            "baxis": {
             "endlinecolor": "#2a3f5f",
             "gridcolor": "white",
             "linecolor": "white",
             "minorgridcolor": "white",
             "startlinecolor": "#2a3f5f"
            },
            "type": "carpet"
           }
          ],
          "choropleth": [
           {
            "colorbar": {
             "outlinewidth": 0,
             "ticks": ""
            },
            "type": "choropleth"
           }
          ],
          "contour": [
           {
            "colorbar": {
             "outlinewidth": 0,
             "ticks": ""
            },
            "colorscale": [
             [
              0,
              "#0d0887"
             ],
             [
              0.1111111111111111,
              "#46039f"
             ],
             [
              0.2222222222222222,
              "#7201a8"
             ],
             [
              0.3333333333333333,
              "#9c179e"
             ],
             [
              0.4444444444444444,
              "#bd3786"
             ],
             [
              0.5555555555555556,
              "#d8576b"
             ],
             [
              0.6666666666666666,
              "#ed7953"
             ],
             [
              0.7777777777777778,
              "#fb9f3a"
             ],
             [
              0.8888888888888888,
              "#fdca26"
             ],
             [
              1,
              "#f0f921"
             ]
            ],
            "type": "contour"
           }
          ],
          "contourcarpet": [
           {
            "colorbar": {
             "outlinewidth": 0,
             "ticks": ""
            },
            "type": "contourcarpet"
           }
          ],
          "heatmap": [
           {
            "colorbar": {
             "outlinewidth": 0,
             "ticks": ""
            },
            "colorscale": [
             [
              0,
              "#0d0887"
             ],
             [
              0.1111111111111111,
              "#46039f"
             ],
             [
              0.2222222222222222,
              "#7201a8"
             ],
             [
              0.3333333333333333,
              "#9c179e"
             ],
             [
              0.4444444444444444,
              "#bd3786"
             ],
             [
              0.5555555555555556,
              "#d8576b"
             ],
             [
              0.6666666666666666,
              "#ed7953"
             ],
             [
              0.7777777777777778,
              "#fb9f3a"
             ],
             [
              0.8888888888888888,
              "#fdca26"
             ],
             [
              1,
              "#f0f921"
             ]
            ],
            "type": "heatmap"
           }
          ],
          "heatmapgl": [
           {
            "colorbar": {
             "outlinewidth": 0,
             "ticks": ""
            },
            "colorscale": [
             [
              0,
              "#0d0887"
             ],
             [
              0.1111111111111111,
              "#46039f"
             ],
             [
              0.2222222222222222,
              "#7201a8"
             ],
             [
              0.3333333333333333,
              "#9c179e"
             ],
             [
              0.4444444444444444,
              "#bd3786"
             ],
             [
              0.5555555555555556,
              "#d8576b"
             ],
             [
              0.6666666666666666,
              "#ed7953"
             ],
             [
              0.7777777777777778,
              "#fb9f3a"
             ],
             [
              0.8888888888888888,
              "#fdca26"
             ],
             [
              1,
              "#f0f921"
             ]
            ],
            "type": "heatmapgl"
           }
          ],
          "histogram": [
           {
            "marker": {
             "pattern": {
              "fillmode": "overlay",
              "size": 10,
              "solidity": 0.2
             }
            },
            "type": "histogram"
           }
          ],
          "histogram2d": [
           {
            "colorbar": {
             "outlinewidth": 0,
             "ticks": ""
            },
            "colorscale": [
             [
              0,
              "#0d0887"
             ],
             [
              0.1111111111111111,
              "#46039f"
             ],
             [
              0.2222222222222222,
              "#7201a8"
             ],
             [
              0.3333333333333333,
              "#9c179e"
             ],
             [
              0.4444444444444444,
              "#bd3786"
             ],
             [
              0.5555555555555556,
              "#d8576b"
             ],
             [
              0.6666666666666666,
              "#ed7953"
             ],
             [
              0.7777777777777778,
              "#fb9f3a"
             ],
             [
              0.8888888888888888,
              "#fdca26"
             ],
             [
              1,
              "#f0f921"
             ]
            ],
            "type": "histogram2d"
           }
          ],
          "histogram2dcontour": [
           {
            "colorbar": {
             "outlinewidth": 0,
             "ticks": ""
            },
            "colorscale": [
             [
              0,
              "#0d0887"
             ],
             [
              0.1111111111111111,
              "#46039f"
             ],
             [
              0.2222222222222222,
              "#7201a8"
             ],
             [
              0.3333333333333333,
              "#9c179e"
             ],
             [
              0.4444444444444444,
              "#bd3786"
             ],
             [
              0.5555555555555556,
              "#d8576b"
             ],
             [
              0.6666666666666666,
              "#ed7953"
             ],
             [
              0.7777777777777778,
              "#fb9f3a"
             ],
             [
              0.8888888888888888,
              "#fdca26"
             ],
             [
              1,
              "#f0f921"
             ]
            ],
            "type": "histogram2dcontour"
           }
          ],
          "mesh3d": [
           {
            "colorbar": {
             "outlinewidth": 0,
             "ticks": ""
            },
            "type": "mesh3d"
           }
          ],
          "parcoords": [
           {
            "line": {
             "colorbar": {
              "outlinewidth": 0,
              "ticks": ""
             }
            },
            "type": "parcoords"
           }
          ],
          "pie": [
           {
            "automargin": true,
            "type": "pie"
           }
          ],
          "scatter": [
           {
            "marker": {
             "colorbar": {
              "outlinewidth": 0,
              "ticks": ""
             }
            },
            "type": "scatter"
           }
          ],
          "scatter3d": [
           {
            "line": {
             "colorbar": {
              "outlinewidth": 0,
              "ticks": ""
             }
            },
            "marker": {
             "colorbar": {
              "outlinewidth": 0,
              "ticks": ""
             }
            },
            "type": "scatter3d"
           }
          ],
          "scattercarpet": [
           {
            "marker": {
             "colorbar": {
              "outlinewidth": 0,
              "ticks": ""
             }
            },
            "type": "scattercarpet"
           }
          ],
          "scattergeo": [
           {
            "marker": {
             "colorbar": {
              "outlinewidth": 0,
              "ticks": ""
             }
            },
            "type": "scattergeo"
           }
          ],
          "scattergl": [
           {
            "marker": {
             "colorbar": {
              "outlinewidth": 0,
              "ticks": ""
             }
            },
            "type": "scattergl"
           }
          ],
          "scattermapbox": [
           {
            "marker": {
             "colorbar": {
              "outlinewidth": 0,
              "ticks": ""
             }
            },
            "type": "scattermapbox"
           }
          ],
          "scatterpolar": [
           {
            "marker": {
             "colorbar": {
              "outlinewidth": 0,
              "ticks": ""
             }
            },
            "type": "scatterpolar"
           }
          ],
          "scatterpolargl": [
           {
            "marker": {
             "colorbar": {
              "outlinewidth": 0,
              "ticks": ""
             }
            },
            "type": "scatterpolargl"
           }
          ],
          "scatterternary": [
           {
            "marker": {
             "colorbar": {
              "outlinewidth": 0,
              "ticks": ""
             }
            },
            "type": "scatterternary"
           }
          ],
          "surface": [
           {
            "colorbar": {
             "outlinewidth": 0,
             "ticks": ""
            },
            "colorscale": [
             [
              0,
              "#0d0887"
             ],
             [
              0.1111111111111111,
              "#46039f"
             ],
             [
              0.2222222222222222,
              "#7201a8"
             ],
             [
              0.3333333333333333,
              "#9c179e"
             ],
             [
              0.4444444444444444,
              "#bd3786"
             ],
             [
              0.5555555555555556,
              "#d8576b"
             ],
             [
              0.6666666666666666,
              "#ed7953"
             ],
             [
              0.7777777777777778,
              "#fb9f3a"
             ],
             [
              0.8888888888888888,
              "#fdca26"
             ],
             [
              1,
              "#f0f921"
             ]
            ],
            "type": "surface"
           }
          ],
          "table": [
           {
            "cells": {
             "fill": {
              "color": "#EBF0F8"
             },
             "line": {
              "color": "white"
             }
            },
            "header": {
             "fill": {
              "color": "#C8D4E3"
             },
             "line": {
              "color": "white"
             }
            },
            "type": "table"
           }
          ]
         },
         "layout": {
          "annotationdefaults": {
           "arrowcolor": "#2a3f5f",
           "arrowhead": 0,
           "arrowwidth": 1
          },
          "autotypenumbers": "strict",
          "coloraxis": {
           "colorbar": {
            "outlinewidth": 0,
            "ticks": ""
           }
          },
          "colorscale": {
           "diverging": [
            [
             0,
             "#8e0152"
            ],
            [
             0.1,
             "#c51b7d"
            ],
            [
             0.2,
             "#de77ae"
            ],
            [
             0.3,
             "#f1b6da"
            ],
            [
             0.4,
             "#fde0ef"
            ],
            [
             0.5,
             "#f7f7f7"
            ],
            [
             0.6,
             "#e6f5d0"
            ],
            [
             0.7,
             "#b8e186"
            ],
            [
             0.8,
             "#7fbc41"
            ],
            [
             0.9,
             "#4d9221"
            ],
            [
             1,
             "#276419"
            ]
           ],
           "sequential": [
            [
             0,
             "#0d0887"
            ],
            [
             0.1111111111111111,
             "#46039f"
            ],
            [
             0.2222222222222222,
             "#7201a8"
            ],
            [
             0.3333333333333333,
             "#9c179e"
            ],
            [
             0.4444444444444444,
             "#bd3786"
            ],
            [
             0.5555555555555556,
             "#d8576b"
            ],
            [
             0.6666666666666666,
             "#ed7953"
            ],
            [
             0.7777777777777778,
             "#fb9f3a"
            ],
            [
             0.8888888888888888,
             "#fdca26"
            ],
            [
             1,
             "#f0f921"
            ]
           ],
           "sequentialminus": [
            [
             0,
             "#0d0887"
            ],
            [
             0.1111111111111111,
             "#46039f"
            ],
            [
             0.2222222222222222,
             "#7201a8"
            ],
            [
             0.3333333333333333,
             "#9c179e"
            ],
            [
             0.4444444444444444,
             "#bd3786"
            ],
            [
             0.5555555555555556,
             "#d8576b"
            ],
            [
             0.6666666666666666,
             "#ed7953"
            ],
            [
             0.7777777777777778,
             "#fb9f3a"
            ],
            [
             0.8888888888888888,
             "#fdca26"
            ],
            [
             1,
             "#f0f921"
            ]
           ]
          },
          "colorway": [
           "#636efa",
           "#EF553B",
           "#00cc96",
           "#ab63fa",
           "#FFA15A",
           "#19d3f3",
           "#FF6692",
           "#B6E880",
           "#FF97FF",
           "#FECB52"
          ],
          "font": {
           "color": "#2a3f5f"
          },
          "geo": {
           "bgcolor": "white",
           "lakecolor": "white",
           "landcolor": "#E5ECF6",
           "showlakes": true,
           "showland": true,
           "subunitcolor": "white"
          },
          "hoverlabel": {
           "align": "left"
          },
          "hovermode": "closest",
          "mapbox": {
           "style": "light"
          },
          "paper_bgcolor": "white",
          "plot_bgcolor": "#E5ECF6",
          "polar": {
           "angularaxis": {
            "gridcolor": "white",
            "linecolor": "white",
            "ticks": ""
           },
           "bgcolor": "#E5ECF6",
           "radialaxis": {
            "gridcolor": "white",
            "linecolor": "white",
            "ticks": ""
           }
          },
          "scene": {
           "xaxis": {
            "backgroundcolor": "#E5ECF6",
            "gridcolor": "white",
            "gridwidth": 2,
            "linecolor": "white",
            "showbackground": true,
            "ticks": "",
            "zerolinecolor": "white"
           },
           "yaxis": {
            "backgroundcolor": "#E5ECF6",
            "gridcolor": "white",
            "gridwidth": 2,
            "linecolor": "white",
            "showbackground": true,
            "ticks": "",
            "zerolinecolor": "white"
           },
           "zaxis": {
            "backgroundcolor": "#E5ECF6",
            "gridcolor": "white",
            "gridwidth": 2,
            "linecolor": "white",
            "showbackground": true,
            "ticks": "",
            "zerolinecolor": "white"
           }
          },
          "shapedefaults": {
           "line": {
            "color": "#2a3f5f"
           }
          },
          "ternary": {
           "aaxis": {
            "gridcolor": "white",
            "linecolor": "white",
            "ticks": ""
           },
           "baxis": {
            "gridcolor": "white",
            "linecolor": "white",
            "ticks": ""
           },
           "bgcolor": "#E5ECF6",
           "caxis": {
            "gridcolor": "white",
            "linecolor": "white",
            "ticks": ""
           }
          },
          "title": {
           "x": 0.05
          },
          "xaxis": {
           "automargin": true,
           "gridcolor": "white",
           "linecolor": "white",
           "ticks": "",
           "title": {
            "standoff": 15
           },
           "zerolinecolor": "white",
           "zerolinewidth": 2
          },
          "yaxis": {
           "automargin": true,
           "gridcolor": "white",
           "linecolor": "white",
           "ticks": "",
           "title": {
            "standoff": 15
           },
           "zerolinecolor": "white",
           "zerolinewidth": 2
          }
         }
        },
        "xaxis": {
         "anchor": "y",
         "domain": [
          0,
          1
         ],
         "title": {
          "text": "Ano"
         }
        },
        "yaxis": {
         "anchor": "x",
         "domain": [
          0,
          1
         ],
         "title": {
          "text": "Tentativas de fuga"
         }
        }
       }
      },
      "text/html": [
       "<div>                            <div id=\"c4423aa7-b3de-4c5a-a6ea-216c742222af\" class=\"plotly-graph-div\" style=\"height:525px; width:100%;\"></div>            <script type=\"text/javascript\">                require([\"plotly\"], function(Plotly) {                    window.PLOTLYENV=window.PLOTLYENV || {};                                    if (document.getElementById(\"c4423aa7-b3de-4c5a-a6ea-216c742222af\")) {                    Plotly.newPlot(                        \"c4423aa7-b3de-4c5a-a6ea-216c742222af\",                        [{\"alignmentgroup\":\"True\",\"hovertemplate\":\"Ano=%{x}<br>Tentativas de fuga=%{marker.color}<extra></extra>\",\"legendgroup\":\"\",\"marker\":{\"color\":[3,3,3,3,2,2,2,2,2,2,2,2,1,1,1,1,1,1,1,1,1,1,1,1,1,1,1,1,1,1,1,1],\"coloraxis\":\"coloraxis\",\"pattern\":{\"shape\":\"\"}},\"name\":\"\",\"offsetgroup\":\"\",\"orientation\":\"v\",\"showlegend\":false,\"textposition\":\"auto\",\"x\":[\"2009\",\"2001\",\"1986\",\"2007\",\"2002\",\"1981\",\"2000\",\"1985\",\"2005\",\"2013\",\"1989\",\"1992\",\"2006\",\"1971\",\"2010\",\"2003\",\"2014\",\"2016\",\"2018\",\"2012\",\"1999\",\"1973\",\"1997\",\"1996\",\"1993\",\"1991\",\"1990\",\"1988\",\"1987\",\"1983\",\"1978\",\"2020\"],\"xaxis\":\"x\",\"y\":[3,3,3,3,2,2,2,2,2,2,2,2,1,1,1,1,1,1,1,1,1,1,1,1,1,1,1,1,1,1,1,1],\"yaxis\":\"y\",\"type\":\"bar\"}],                        {\"template\":{\"data\":{\"bar\":[{\"error_x\":{\"color\":\"#2a3f5f\"},\"error_y\":{\"color\":\"#2a3f5f\"},\"marker\":{\"line\":{\"color\":\"#E5ECF6\",\"width\":0.5},\"pattern\":{\"fillmode\":\"overlay\",\"size\":10,\"solidity\":0.2}},\"type\":\"bar\"}],\"barpolar\":[{\"marker\":{\"line\":{\"color\":\"#E5ECF6\",\"width\":0.5},\"pattern\":{\"fillmode\":\"overlay\",\"size\":10,\"solidity\":0.2}},\"type\":\"barpolar\"}],\"carpet\":[{\"aaxis\":{\"endlinecolor\":\"#2a3f5f\",\"gridcolor\":\"white\",\"linecolor\":\"white\",\"minorgridcolor\":\"white\",\"startlinecolor\":\"#2a3f5f\"},\"baxis\":{\"endlinecolor\":\"#2a3f5f\",\"gridcolor\":\"white\",\"linecolor\":\"white\",\"minorgridcolor\":\"white\",\"startlinecolor\":\"#2a3f5f\"},\"type\":\"carpet\"}],\"choropleth\":[{\"colorbar\":{\"outlinewidth\":0,\"ticks\":\"\"},\"type\":\"choropleth\"}],\"contour\":[{\"colorbar\":{\"outlinewidth\":0,\"ticks\":\"\"},\"colorscale\":[[0.0,\"#0d0887\"],[0.1111111111111111,\"#46039f\"],[0.2222222222222222,\"#7201a8\"],[0.3333333333333333,\"#9c179e\"],[0.4444444444444444,\"#bd3786\"],[0.5555555555555556,\"#d8576b\"],[0.6666666666666666,\"#ed7953\"],[0.7777777777777778,\"#fb9f3a\"],[0.8888888888888888,\"#fdca26\"],[1.0,\"#f0f921\"]],\"type\":\"contour\"}],\"contourcarpet\":[{\"colorbar\":{\"outlinewidth\":0,\"ticks\":\"\"},\"type\":\"contourcarpet\"}],\"heatmap\":[{\"colorbar\":{\"outlinewidth\":0,\"ticks\":\"\"},\"colorscale\":[[0.0,\"#0d0887\"],[0.1111111111111111,\"#46039f\"],[0.2222222222222222,\"#7201a8\"],[0.3333333333333333,\"#9c179e\"],[0.4444444444444444,\"#bd3786\"],[0.5555555555555556,\"#d8576b\"],[0.6666666666666666,\"#ed7953\"],[0.7777777777777778,\"#fb9f3a\"],[0.8888888888888888,\"#fdca26\"],[1.0,\"#f0f921\"]],\"type\":\"heatmap\"}],\"heatmapgl\":[{\"colorbar\":{\"outlinewidth\":0,\"ticks\":\"\"},\"colorscale\":[[0.0,\"#0d0887\"],[0.1111111111111111,\"#46039f\"],[0.2222222222222222,\"#7201a8\"],[0.3333333333333333,\"#9c179e\"],[0.4444444444444444,\"#bd3786\"],[0.5555555555555556,\"#d8576b\"],[0.6666666666666666,\"#ed7953\"],[0.7777777777777778,\"#fb9f3a\"],[0.8888888888888888,\"#fdca26\"],[1.0,\"#f0f921\"]],\"type\":\"heatmapgl\"}],\"histogram\":[{\"marker\":{\"pattern\":{\"fillmode\":\"overlay\",\"size\":10,\"solidity\":0.2}},\"type\":\"histogram\"}],\"histogram2d\":[{\"colorbar\":{\"outlinewidth\":0,\"ticks\":\"\"},\"colorscale\":[[0.0,\"#0d0887\"],[0.1111111111111111,\"#46039f\"],[0.2222222222222222,\"#7201a8\"],[0.3333333333333333,\"#9c179e\"],[0.4444444444444444,\"#bd3786\"],[0.5555555555555556,\"#d8576b\"],[0.6666666666666666,\"#ed7953\"],[0.7777777777777778,\"#fb9f3a\"],[0.8888888888888888,\"#fdca26\"],[1.0,\"#f0f921\"]],\"type\":\"histogram2d\"}],\"histogram2dcontour\":[{\"colorbar\":{\"outlinewidth\":0,\"ticks\":\"\"},\"colorscale\":[[0.0,\"#0d0887\"],[0.1111111111111111,\"#46039f\"],[0.2222222222222222,\"#7201a8\"],[0.3333333333333333,\"#9c179e\"],[0.4444444444444444,\"#bd3786\"],[0.5555555555555556,\"#d8576b\"],[0.6666666666666666,\"#ed7953\"],[0.7777777777777778,\"#fb9f3a\"],[0.8888888888888888,\"#fdca26\"],[1.0,\"#f0f921\"]],\"type\":\"histogram2dcontour\"}],\"mesh3d\":[{\"colorbar\":{\"outlinewidth\":0,\"ticks\":\"\"},\"type\":\"mesh3d\"}],\"parcoords\":[{\"line\":{\"colorbar\":{\"outlinewidth\":0,\"ticks\":\"\"}},\"type\":\"parcoords\"}],\"pie\":[{\"automargin\":true,\"type\":\"pie\"}],\"scatter\":[{\"marker\":{\"colorbar\":{\"outlinewidth\":0,\"ticks\":\"\"}},\"type\":\"scatter\"}],\"scatter3d\":[{\"line\":{\"colorbar\":{\"outlinewidth\":0,\"ticks\":\"\"}},\"marker\":{\"colorbar\":{\"outlinewidth\":0,\"ticks\":\"\"}},\"type\":\"scatter3d\"}],\"scattercarpet\":[{\"marker\":{\"colorbar\":{\"outlinewidth\":0,\"ticks\":\"\"}},\"type\":\"scattercarpet\"}],\"scattergeo\":[{\"marker\":{\"colorbar\":{\"outlinewidth\":0,\"ticks\":\"\"}},\"type\":\"scattergeo\"}],\"scattergl\":[{\"marker\":{\"colorbar\":{\"outlinewidth\":0,\"ticks\":\"\"}},\"type\":\"scattergl\"}],\"scattermapbox\":[{\"marker\":{\"colorbar\":{\"outlinewidth\":0,\"ticks\":\"\"}},\"type\":\"scattermapbox\"}],\"scatterpolar\":[{\"marker\":{\"colorbar\":{\"outlinewidth\":0,\"ticks\":\"\"}},\"type\":\"scatterpolar\"}],\"scatterpolargl\":[{\"marker\":{\"colorbar\":{\"outlinewidth\":0,\"ticks\":\"\"}},\"type\":\"scatterpolargl\"}],\"scatterternary\":[{\"marker\":{\"colorbar\":{\"outlinewidth\":0,\"ticks\":\"\"}},\"type\":\"scatterternary\"}],\"surface\":[{\"colorbar\":{\"outlinewidth\":0,\"ticks\":\"\"},\"colorscale\":[[0.0,\"#0d0887\"],[0.1111111111111111,\"#46039f\"],[0.2222222222222222,\"#7201a8\"],[0.3333333333333333,\"#9c179e\"],[0.4444444444444444,\"#bd3786\"],[0.5555555555555556,\"#d8576b\"],[0.6666666666666666,\"#ed7953\"],[0.7777777777777778,\"#fb9f3a\"],[0.8888888888888888,\"#fdca26\"],[1.0,\"#f0f921\"]],\"type\":\"surface\"}],\"table\":[{\"cells\":{\"fill\":{\"color\":\"#EBF0F8\"},\"line\":{\"color\":\"white\"}},\"header\":{\"fill\":{\"color\":\"#C8D4E3\"},\"line\":{\"color\":\"white\"}},\"type\":\"table\"}]},\"layout\":{\"annotationdefaults\":{\"arrowcolor\":\"#2a3f5f\",\"arrowhead\":0,\"arrowwidth\":1},\"autotypenumbers\":\"strict\",\"coloraxis\":{\"colorbar\":{\"outlinewidth\":0,\"ticks\":\"\"}},\"colorscale\":{\"diverging\":[[0,\"#8e0152\"],[0.1,\"#c51b7d\"],[0.2,\"#de77ae\"],[0.3,\"#f1b6da\"],[0.4,\"#fde0ef\"],[0.5,\"#f7f7f7\"],[0.6,\"#e6f5d0\"],[0.7,\"#b8e186\"],[0.8,\"#7fbc41\"],[0.9,\"#4d9221\"],[1,\"#276419\"]],\"sequential\":[[0.0,\"#0d0887\"],[0.1111111111111111,\"#46039f\"],[0.2222222222222222,\"#7201a8\"],[0.3333333333333333,\"#9c179e\"],[0.4444444444444444,\"#bd3786\"],[0.5555555555555556,\"#d8576b\"],[0.6666666666666666,\"#ed7953\"],[0.7777777777777778,\"#fb9f3a\"],[0.8888888888888888,\"#fdca26\"],[1.0,\"#f0f921\"]],\"sequentialminus\":[[0.0,\"#0d0887\"],[0.1111111111111111,\"#46039f\"],[0.2222222222222222,\"#7201a8\"],[0.3333333333333333,\"#9c179e\"],[0.4444444444444444,\"#bd3786\"],[0.5555555555555556,\"#d8576b\"],[0.6666666666666666,\"#ed7953\"],[0.7777777777777778,\"#fb9f3a\"],[0.8888888888888888,\"#fdca26\"],[1.0,\"#f0f921\"]]},\"colorway\":[\"#636efa\",\"#EF553B\",\"#00cc96\",\"#ab63fa\",\"#FFA15A\",\"#19d3f3\",\"#FF6692\",\"#B6E880\",\"#FF97FF\",\"#FECB52\"],\"font\":{\"color\":\"#2a3f5f\"},\"geo\":{\"bgcolor\":\"white\",\"lakecolor\":\"white\",\"landcolor\":\"#E5ECF6\",\"showlakes\":true,\"showland\":true,\"subunitcolor\":\"white\"},\"hoverlabel\":{\"align\":\"left\"},\"hovermode\":\"closest\",\"mapbox\":{\"style\":\"light\"},\"paper_bgcolor\":\"white\",\"plot_bgcolor\":\"#E5ECF6\",\"polar\":{\"angularaxis\":{\"gridcolor\":\"white\",\"linecolor\":\"white\",\"ticks\":\"\"},\"bgcolor\":\"#E5ECF6\",\"radialaxis\":{\"gridcolor\":\"white\",\"linecolor\":\"white\",\"ticks\":\"\"}},\"scene\":{\"xaxis\":{\"backgroundcolor\":\"#E5ECF6\",\"gridcolor\":\"white\",\"gridwidth\":2,\"linecolor\":\"white\",\"showbackground\":true,\"ticks\":\"\",\"zerolinecolor\":\"white\"},\"yaxis\":{\"backgroundcolor\":\"#E5ECF6\",\"gridcolor\":\"white\",\"gridwidth\":2,\"linecolor\":\"white\",\"showbackground\":true,\"ticks\":\"\",\"zerolinecolor\":\"white\"},\"zaxis\":{\"backgroundcolor\":\"#E5ECF6\",\"gridcolor\":\"white\",\"gridwidth\":2,\"linecolor\":\"white\",\"showbackground\":true,\"ticks\":\"\",\"zerolinecolor\":\"white\"}},\"shapedefaults\":{\"line\":{\"color\":\"#2a3f5f\"}},\"ternary\":{\"aaxis\":{\"gridcolor\":\"white\",\"linecolor\":\"white\",\"ticks\":\"\"},\"baxis\":{\"gridcolor\":\"white\",\"linecolor\":\"white\",\"ticks\":\"\"},\"bgcolor\":\"#E5ECF6\",\"caxis\":{\"gridcolor\":\"white\",\"linecolor\":\"white\",\"ticks\":\"\"}},\"title\":{\"x\":0.05},\"xaxis\":{\"automargin\":true,\"gridcolor\":\"white\",\"linecolor\":\"white\",\"ticks\":\"\",\"title\":{\"standoff\":15},\"zerolinecolor\":\"white\",\"zerolinewidth\":2},\"yaxis\":{\"automargin\":true,\"gridcolor\":\"white\",\"linecolor\":\"white\",\"ticks\":\"\",\"title\":{\"standoff\":15},\"zerolinecolor\":\"white\",\"zerolinewidth\":2}}},\"xaxis\":{\"anchor\":\"y\",\"domain\":[0.0,1.0],\"title\":{\"text\":\"Ano\"}},\"yaxis\":{\"anchor\":\"x\",\"domain\":[0.0,1.0],\"title\":{\"text\":\"Tentativas de fuga\"}},\"coloraxis\":{\"colorbar\":{\"title\":{\"text\":\"Tentativas de fuga\"}},\"colorscale\":[[0.0,\"#0d0887\"],[0.1111111111111111,\"#46039f\"],[0.2222222222222222,\"#7201a8\"],[0.3333333333333333,\"#9c179e\"],[0.4444444444444444,\"#bd3786\"],[0.5555555555555556,\"#d8576b\"],[0.6666666666666666,\"#ed7953\"],[0.7777777777777778,\"#fb9f3a\"],[0.8888888888888888,\"#fdca26\"],[1.0,\"#f0f921\"]]},\"legend\":{\"tracegroupgap\":0},\"margin\":{\"t\":60},\"barmode\":\"relative\"},                        {\"responsive\": true}                    ).then(function(){\n",
       "                            \n",
       "var gd = document.getElementById('c4423aa7-b3de-4c5a-a6ea-216c742222af');\n",
       "var x = new MutationObserver(function (mutations, observer) {{\n",
       "        var display = window.getComputedStyle(gd).display;\n",
       "        if (!display || display === 'none') {{\n",
       "            console.log([gd, 'removed!']);\n",
       "            Plotly.purge(gd);\n",
       "            observer.disconnect();\n",
       "        }}\n",
       "}});\n",
       "\n",
       "// Listen for the removal of the full notebook cells\n",
       "var notebookContainer = gd.closest('#notebook-container');\n",
       "if (notebookContainer) {{\n",
       "    x.observe(notebookContainer, {childList: true});\n",
       "}}\n",
       "\n",
       "// Listen for the clearing of the current output cell\n",
       "var outputEl = gd.closest('.output');\n",
       "if (outputEl) {{\n",
       "    x.observe(outputEl, {childList: true});\n",
       "}}\n",
       "\n",
       "                        })                };                });            </script>        </div>"
      ]
     },
     "metadata": {},
     "output_type": "display_data"
    }
   ],
   "source": [
    "df_count['Ano']=df_count['Ano'].astype(str)\n",
    "\n",
    "fig = px.bar(df_count, x='Ano', y='Contagem', color=\"Contagem\",\n",
    "            labels={\"Ano\":\"Ano\", \"Contagem\":\"Tentativas de fuga\", \"Contagem\":\"Tentativas de fuga\"})\n",
    "fig.show()"
   ]
  },
  {
   "cell_type": "markdown",
   "id": "b5c65ebf",
   "metadata": {},
   "source": [
    "## Questão 2: Países em que ocorreram mais tentativas de fuga de helicópteros?"
   ]
  },
  {
   "cell_type": "code",
   "execution_count": 59,
   "id": "2415e5c4",
   "metadata": {},
   "outputs": [
    {
     "data": {
      "application/vnd.plotly.v1+json": {
       "config": {
        "plotlyServerURL": "https://plot.ly"
       },
       "data": [
        {
         "alignmentgroup": "True",
         "hovertemplate": "Países=%{x}<br>Tentativas de fuga=%{y}<extra></extra>",
         "legendgroup": "France",
         "marker": {
          "color": "#636efa",
          "pattern": {
           "shape": ""
          }
         },
         "name": "France",
         "offsetgroup": "France",
         "orientation": "v",
         "showlegend": true,
         "textposition": "auto",
         "type": "bar",
         "x": [
          "France"
         ],
         "xaxis": "x",
         "y": [
          15
         ],
         "yaxis": "y"
        },
        {
         "alignmentgroup": "True",
         "hovertemplate": "Países=%{x}<br>Tentativas de fuga=%{y}<extra></extra>",
         "legendgroup": "United States",
         "marker": {
          "color": "#EF553B",
          "pattern": {
           "shape": ""
          }
         },
         "name": "United States",
         "offsetgroup": "United States",
         "orientation": "v",
         "showlegend": true,
         "textposition": "auto",
         "type": "bar",
         "x": [
          "United States"
         ],
         "xaxis": "x",
         "y": [
          8
         ],
         "yaxis": "y"
        },
        {
         "alignmentgroup": "True",
         "hovertemplate": "Países=%{x}<br>Tentativas de fuga=%{y}<extra></extra>",
         "legendgroup": "Belgium",
         "marker": {
          "color": "#00cc96",
          "pattern": {
           "shape": ""
          }
         },
         "name": "Belgium",
         "offsetgroup": "Belgium",
         "orientation": "v",
         "showlegend": true,
         "textposition": "auto",
         "type": "bar",
         "x": [
          "Belgium"
         ],
         "xaxis": "x",
         "y": [
          4
         ],
         "yaxis": "y"
        },
        {
         "alignmentgroup": "True",
         "hovertemplate": "Países=%{x}<br>Tentativas de fuga=%{y}<extra></extra>",
         "legendgroup": "Canada",
         "marker": {
          "color": "#ab63fa",
          "pattern": {
           "shape": ""
          }
         },
         "name": "Canada",
         "offsetgroup": "Canada",
         "orientation": "v",
         "showlegend": true,
         "textposition": "auto",
         "type": "bar",
         "x": [
          "Canada"
         ],
         "xaxis": "x",
         "y": [
          4
         ],
         "yaxis": "y"
        },
        {
         "alignmentgroup": "True",
         "hovertemplate": "Países=%{x}<br>Tentativas de fuga=%{y}<extra></extra>",
         "legendgroup": "Greece",
         "marker": {
          "color": "#FFA15A",
          "pattern": {
           "shape": ""
          }
         },
         "name": "Greece",
         "offsetgroup": "Greece",
         "orientation": "v",
         "showlegend": true,
         "textposition": "auto",
         "type": "bar",
         "x": [
          "Greece"
         ],
         "xaxis": "x",
         "y": [
          4
         ],
         "yaxis": "y"
        },
        {
         "alignmentgroup": "True",
         "hovertemplate": "Países=%{x}<br>Tentativas de fuga=%{y}<extra></extra>",
         "legendgroup": "Australia",
         "marker": {
          "color": "#19d3f3",
          "pattern": {
           "shape": ""
          }
         },
         "name": "Australia",
         "offsetgroup": "Australia",
         "orientation": "v",
         "showlegend": true,
         "textposition": "auto",
         "type": "bar",
         "x": [
          "Australia"
         ],
         "xaxis": "x",
         "y": [
          2
         ],
         "yaxis": "y"
        },
        {
         "alignmentgroup": "True",
         "hovertemplate": "Países=%{x}<br>Tentativas de fuga=%{y}<extra></extra>",
         "legendgroup": "Brazil",
         "marker": {
          "color": "#FF6692",
          "pattern": {
           "shape": ""
          }
         },
         "name": "Brazil",
         "offsetgroup": "Brazil",
         "orientation": "v",
         "showlegend": true,
         "textposition": "auto",
         "type": "bar",
         "x": [
          "Brazil"
         ],
         "xaxis": "x",
         "y": [
          2
         ],
         "yaxis": "y"
        },
        {
         "alignmentgroup": "True",
         "hovertemplate": "Países=%{x}<br>Tentativas de fuga=%{y}<extra></extra>",
         "legendgroup": "United Kingdom",
         "marker": {
          "color": "#B6E880",
          "pattern": {
           "shape": ""
          }
         },
         "name": "United Kingdom",
         "offsetgroup": "United Kingdom",
         "orientation": "v",
         "showlegend": true,
         "textposition": "auto",
         "type": "bar",
         "x": [
          "United Kingdom"
         ],
         "xaxis": "x",
         "y": [
          2
         ],
         "yaxis": "y"
        },
        {
         "alignmentgroup": "True",
         "hovertemplate": "Países=%{x}<br>Tentativas de fuga=%{y}<extra></extra>",
         "legendgroup": "Chile",
         "marker": {
          "color": "#FF97FF",
          "pattern": {
           "shape": ""
          }
         },
         "name": "Chile",
         "offsetgroup": "Chile",
         "orientation": "v",
         "showlegend": true,
         "textposition": "auto",
         "type": "bar",
         "x": [
          "Chile"
         ],
         "xaxis": "x",
         "y": [
          1
         ],
         "yaxis": "y"
        },
        {
         "alignmentgroup": "True",
         "hovertemplate": "Países=%{x}<br>Tentativas de fuga=%{y}<extra></extra>",
         "legendgroup": "Ireland",
         "marker": {
          "color": "#FECB52",
          "pattern": {
           "shape": ""
          }
         },
         "name": "Ireland",
         "offsetgroup": "Ireland",
         "orientation": "v",
         "showlegend": true,
         "textposition": "auto",
         "type": "bar",
         "x": [
          "Ireland"
         ],
         "xaxis": "x",
         "y": [
          1
         ],
         "yaxis": "y"
        },
        {
         "alignmentgroup": "True",
         "hovertemplate": "Países=%{x}<br>Tentativas de fuga=%{y}<extra></extra>",
         "legendgroup": "Italy",
         "marker": {
          "color": "#636efa",
          "pattern": {
           "shape": ""
          }
         },
         "name": "Italy",
         "offsetgroup": "Italy",
         "orientation": "v",
         "showlegend": true,
         "textposition": "auto",
         "type": "bar",
         "x": [
          "Italy"
         ],
         "xaxis": "x",
         "y": [
          1
         ],
         "yaxis": "y"
        },
        {
         "alignmentgroup": "True",
         "hovertemplate": "Países=%{x}<br>Tentativas de fuga=%{y}<extra></extra>",
         "legendgroup": "Mexico",
         "marker": {
          "color": "#EF553B",
          "pattern": {
           "shape": ""
          }
         },
         "name": "Mexico",
         "offsetgroup": "Mexico",
         "orientation": "v",
         "showlegend": true,
         "textposition": "auto",
         "type": "bar",
         "x": [
          "Mexico"
         ],
         "xaxis": "x",
         "y": [
          1
         ],
         "yaxis": "y"
        },
        {
         "alignmentgroup": "True",
         "hovertemplate": "Países=%{x}<br>Tentativas de fuga=%{y}<extra></extra>",
         "legendgroup": "Netherlands",
         "marker": {
          "color": "#00cc96",
          "pattern": {
           "shape": ""
          }
         },
         "name": "Netherlands",
         "offsetgroup": "Netherlands",
         "orientation": "v",
         "showlegend": true,
         "textposition": "auto",
         "type": "bar",
         "x": [
          "Netherlands"
         ],
         "xaxis": "x",
         "y": [
          1
         ],
         "yaxis": "y"
        },
        {
         "alignmentgroup": "True",
         "hovertemplate": "Países=%{x}<br>Tentativas de fuga=%{y}<extra></extra>",
         "legendgroup": "Puerto Rico",
         "marker": {
          "color": "#ab63fa",
          "pattern": {
           "shape": ""
          }
         },
         "name": "Puerto Rico",
         "offsetgroup": "Puerto Rico",
         "orientation": "v",
         "showlegend": true,
         "textposition": "auto",
         "type": "bar",
         "x": [
          "Puerto Rico"
         ],
         "xaxis": "x",
         "y": [
          1
         ],
         "yaxis": "y"
        },
        {
         "alignmentgroup": "True",
         "hovertemplate": "Países=%{x}<br>Tentativas de fuga=%{y}<extra></extra>",
         "legendgroup": "Russia",
         "marker": {
          "color": "#FFA15A",
          "pattern": {
           "shape": ""
          }
         },
         "name": "Russia",
         "offsetgroup": "Russia",
         "orientation": "v",
         "showlegend": true,
         "textposition": "auto",
         "type": "bar",
         "x": [
          "Russia"
         ],
         "xaxis": "x",
         "y": [
          1
         ],
         "yaxis": "y"
        }
       ],
       "layout": {
        "barmode": "relative",
        "legend": {
         "title": {
          "text": "Países"
         },
         "tracegroupgap": 0
        },
        "margin": {
         "t": 60
        },
        "template": {
         "data": {
          "bar": [
           {
            "error_x": {
             "color": "#2a3f5f"
            },
            "error_y": {
             "color": "#2a3f5f"
            },
            "marker": {
             "line": {
              "color": "#E5ECF6",
              "width": 0.5
             },
             "pattern": {
              "fillmode": "overlay",
              "size": 10,
              "solidity": 0.2
             }
            },
            "type": "bar"
           }
          ],
          "barpolar": [
           {
            "marker": {
             "line": {
              "color": "#E5ECF6",
              "width": 0.5
             },
             "pattern": {
              "fillmode": "overlay",
              "size": 10,
              "solidity": 0.2
             }
            },
            "type": "barpolar"
           }
          ],
          "carpet": [
           {
            "aaxis": {
             "endlinecolor": "#2a3f5f",
             "gridcolor": "white",
             "linecolor": "white",
             "minorgridcolor": "white",
             "startlinecolor": "#2a3f5f"
            },
            "baxis": {
             "endlinecolor": "#2a3f5f",
             "gridcolor": "white",
             "linecolor": "white",
             "minorgridcolor": "white",
             "startlinecolor": "#2a3f5f"
            },
            "type": "carpet"
           }
          ],
          "choropleth": [
           {
            "colorbar": {
             "outlinewidth": 0,
             "ticks": ""
            },
            "type": "choropleth"
           }
          ],
          "contour": [
           {
            "colorbar": {
             "outlinewidth": 0,
             "ticks": ""
            },
            "colorscale": [
             [
              0,
              "#0d0887"
             ],
             [
              0.1111111111111111,
              "#46039f"
             ],
             [
              0.2222222222222222,
              "#7201a8"
             ],
             [
              0.3333333333333333,
              "#9c179e"
             ],
             [
              0.4444444444444444,
              "#bd3786"
             ],
             [
              0.5555555555555556,
              "#d8576b"
             ],
             [
              0.6666666666666666,
              "#ed7953"
             ],
             [
              0.7777777777777778,
              "#fb9f3a"
             ],
             [
              0.8888888888888888,
              "#fdca26"
             ],
             [
              1,
              "#f0f921"
             ]
            ],
            "type": "contour"
           }
          ],
          "contourcarpet": [
           {
            "colorbar": {
             "outlinewidth": 0,
             "ticks": ""
            },
            "type": "contourcarpet"
           }
          ],
          "heatmap": [
           {
            "colorbar": {
             "outlinewidth": 0,
             "ticks": ""
            },
            "colorscale": [
             [
              0,
              "#0d0887"
             ],
             [
              0.1111111111111111,
              "#46039f"
             ],
             [
              0.2222222222222222,
              "#7201a8"
             ],
             [
              0.3333333333333333,
              "#9c179e"
             ],
             [
              0.4444444444444444,
              "#bd3786"
             ],
             [
              0.5555555555555556,
              "#d8576b"
             ],
             [
              0.6666666666666666,
              "#ed7953"
             ],
             [
              0.7777777777777778,
              "#fb9f3a"
             ],
             [
              0.8888888888888888,
              "#fdca26"
             ],
             [
              1,
              "#f0f921"
             ]
            ],
            "type": "heatmap"
           }
          ],
          "heatmapgl": [
           {
            "colorbar": {
             "outlinewidth": 0,
             "ticks": ""
            },
            "colorscale": [
             [
              0,
              "#0d0887"
             ],
             [
              0.1111111111111111,
              "#46039f"
             ],
             [
              0.2222222222222222,
              "#7201a8"
             ],
             [
              0.3333333333333333,
              "#9c179e"
             ],
             [
              0.4444444444444444,
              "#bd3786"
             ],
             [
              0.5555555555555556,
              "#d8576b"
             ],
             [
              0.6666666666666666,
              "#ed7953"
             ],
             [
              0.7777777777777778,
              "#fb9f3a"
             ],
             [
              0.8888888888888888,
              "#fdca26"
             ],
             [
              1,
              "#f0f921"
             ]
            ],
            "type": "heatmapgl"
           }
          ],
          "histogram": [
           {
            "marker": {
             "pattern": {
              "fillmode": "overlay",
              "size": 10,
              "solidity": 0.2
             }
            },
            "type": "histogram"
           }
          ],
          "histogram2d": [
           {
            "colorbar": {
             "outlinewidth": 0,
             "ticks": ""
            },
            "colorscale": [
             [
              0,
              "#0d0887"
             ],
             [
              0.1111111111111111,
              "#46039f"
             ],
             [
              0.2222222222222222,
              "#7201a8"
             ],
             [
              0.3333333333333333,
              "#9c179e"
             ],
             [
              0.4444444444444444,
              "#bd3786"
             ],
             [
              0.5555555555555556,
              "#d8576b"
             ],
             [
              0.6666666666666666,
              "#ed7953"
             ],
             [
              0.7777777777777778,
              "#fb9f3a"
             ],
             [
              0.8888888888888888,
              "#fdca26"
             ],
             [
              1,
              "#f0f921"
             ]
            ],
            "type": "histogram2d"
           }
          ],
          "histogram2dcontour": [
           {
            "colorbar": {
             "outlinewidth": 0,
             "ticks": ""
            },
            "colorscale": [
             [
              0,
              "#0d0887"
             ],
             [
              0.1111111111111111,
              "#46039f"
             ],
             [
              0.2222222222222222,
              "#7201a8"
             ],
             [
              0.3333333333333333,
              "#9c179e"
             ],
             [
              0.4444444444444444,
              "#bd3786"
             ],
             [
              0.5555555555555556,
              "#d8576b"
             ],
             [
              0.6666666666666666,
              "#ed7953"
             ],
             [
              0.7777777777777778,
              "#fb9f3a"
             ],
             [
              0.8888888888888888,
              "#fdca26"
             ],
             [
              1,
              "#f0f921"
             ]
            ],
            "type": "histogram2dcontour"
           }
          ],
          "mesh3d": [
           {
            "colorbar": {
             "outlinewidth": 0,
             "ticks": ""
            },
            "type": "mesh3d"
           }
          ],
          "parcoords": [
           {
            "line": {
             "colorbar": {
              "outlinewidth": 0,
              "ticks": ""
             }
            },
            "type": "parcoords"
           }
          ],
          "pie": [
           {
            "automargin": true,
            "type": "pie"
           }
          ],
          "scatter": [
           {
            "marker": {
             "colorbar": {
              "outlinewidth": 0,
              "ticks": ""
             }
            },
            "type": "scatter"
           }
          ],
          "scatter3d": [
           {
            "line": {
             "colorbar": {
              "outlinewidth": 0,
              "ticks": ""
             }
            },
            "marker": {
             "colorbar": {
              "outlinewidth": 0,
              "ticks": ""
             }
            },
            "type": "scatter3d"
           }
          ],
          "scattercarpet": [
           {
            "marker": {
             "colorbar": {
              "outlinewidth": 0,
              "ticks": ""
             }
            },
            "type": "scattercarpet"
           }
          ],
          "scattergeo": [
           {
            "marker": {
             "colorbar": {
              "outlinewidth": 0,
              "ticks": ""
             }
            },
            "type": "scattergeo"
           }
          ],
          "scattergl": [
           {
            "marker": {
             "colorbar": {
              "outlinewidth": 0,
              "ticks": ""
             }
            },
            "type": "scattergl"
           }
          ],
          "scattermapbox": [
           {
            "marker": {
             "colorbar": {
              "outlinewidth": 0,
              "ticks": ""
             }
            },
            "type": "scattermapbox"
           }
          ],
          "scatterpolar": [
           {
            "marker": {
             "colorbar": {
              "outlinewidth": 0,
              "ticks": ""
             }
            },
            "type": "scatterpolar"
           }
          ],
          "scatterpolargl": [
           {
            "marker": {
             "colorbar": {
              "outlinewidth": 0,
              "ticks": ""
             }
            },
            "type": "scatterpolargl"
           }
          ],
          "scatterternary": [
           {
            "marker": {
             "colorbar": {
              "outlinewidth": 0,
              "ticks": ""
             }
            },
            "type": "scatterternary"
           }
          ],
          "surface": [
           {
            "colorbar": {
             "outlinewidth": 0,
             "ticks": ""
            },
            "colorscale": [
             [
              0,
              "#0d0887"
             ],
             [
              0.1111111111111111,
              "#46039f"
             ],
             [
              0.2222222222222222,
              "#7201a8"
             ],
             [
              0.3333333333333333,
              "#9c179e"
             ],
             [
              0.4444444444444444,
              "#bd3786"
             ],
             [
              0.5555555555555556,
              "#d8576b"
             ],
             [
              0.6666666666666666,
              "#ed7953"
             ],
             [
              0.7777777777777778,
              "#fb9f3a"
             ],
             [
              0.8888888888888888,
              "#fdca26"
             ],
             [
              1,
              "#f0f921"
             ]
            ],
            "type": "surface"
           }
          ],
          "table": [
           {
            "cells": {
             "fill": {
              "color": "#EBF0F8"
             },
             "line": {
              "color": "white"
             }
            },
            "header": {
             "fill": {
              "color": "#C8D4E3"
             },
             "line": {
              "color": "white"
             }
            },
            "type": "table"
           }
          ]
         },
         "layout": {
          "annotationdefaults": {
           "arrowcolor": "#2a3f5f",
           "arrowhead": 0,
           "arrowwidth": 1
          },
          "autotypenumbers": "strict",
          "coloraxis": {
           "colorbar": {
            "outlinewidth": 0,
            "ticks": ""
           }
          },
          "colorscale": {
           "diverging": [
            [
             0,
             "#8e0152"
            ],
            [
             0.1,
             "#c51b7d"
            ],
            [
             0.2,
             "#de77ae"
            ],
            [
             0.3,
             "#f1b6da"
            ],
            [
             0.4,
             "#fde0ef"
            ],
            [
             0.5,
             "#f7f7f7"
            ],
            [
             0.6,
             "#e6f5d0"
            ],
            [
             0.7,
             "#b8e186"
            ],
            [
             0.8,
             "#7fbc41"
            ],
            [
             0.9,
             "#4d9221"
            ],
            [
             1,
             "#276419"
            ]
           ],
           "sequential": [
            [
             0,
             "#0d0887"
            ],
            [
             0.1111111111111111,
             "#46039f"
            ],
            [
             0.2222222222222222,
             "#7201a8"
            ],
            [
             0.3333333333333333,
             "#9c179e"
            ],
            [
             0.4444444444444444,
             "#bd3786"
            ],
            [
             0.5555555555555556,
             "#d8576b"
            ],
            [
             0.6666666666666666,
             "#ed7953"
            ],
            [
             0.7777777777777778,
             "#fb9f3a"
            ],
            [
             0.8888888888888888,
             "#fdca26"
            ],
            [
             1,
             "#f0f921"
            ]
           ],
           "sequentialminus": [
            [
             0,
             "#0d0887"
            ],
            [
             0.1111111111111111,
             "#46039f"
            ],
            [
             0.2222222222222222,
             "#7201a8"
            ],
            [
             0.3333333333333333,
             "#9c179e"
            ],
            [
             0.4444444444444444,
             "#bd3786"
            ],
            [
             0.5555555555555556,
             "#d8576b"
            ],
            [
             0.6666666666666666,
             "#ed7953"
            ],
            [
             0.7777777777777778,
             "#fb9f3a"
            ],
            [
             0.8888888888888888,
             "#fdca26"
            ],
            [
             1,
             "#f0f921"
            ]
           ]
          },
          "colorway": [
           "#636efa",
           "#EF553B",
           "#00cc96",
           "#ab63fa",
           "#FFA15A",
           "#19d3f3",
           "#FF6692",
           "#B6E880",
           "#FF97FF",
           "#FECB52"
          ],
          "font": {
           "color": "#2a3f5f"
          },
          "geo": {
           "bgcolor": "white",
           "lakecolor": "white",
           "landcolor": "#E5ECF6",
           "showlakes": true,
           "showland": true,
           "subunitcolor": "white"
          },
          "hoverlabel": {
           "align": "left"
          },
          "hovermode": "closest",
          "mapbox": {
           "style": "light"
          },
          "paper_bgcolor": "white",
          "plot_bgcolor": "#E5ECF6",
          "polar": {
           "angularaxis": {
            "gridcolor": "white",
            "linecolor": "white",
            "ticks": ""
           },
           "bgcolor": "#E5ECF6",
           "radialaxis": {
            "gridcolor": "white",
            "linecolor": "white",
            "ticks": ""
           }
          },
          "scene": {
           "xaxis": {
            "backgroundcolor": "#E5ECF6",
            "gridcolor": "white",
            "gridwidth": 2,
            "linecolor": "white",
            "showbackground": true,
            "ticks": "",
            "zerolinecolor": "white"
           },
           "yaxis": {
            "backgroundcolor": "#E5ECF6",
            "gridcolor": "white",
            "gridwidth": 2,
            "linecolor": "white",
            "showbackground": true,
            "ticks": "",
            "zerolinecolor": "white"
           },
           "zaxis": {
            "backgroundcolor": "#E5ECF6",
            "gridcolor": "white",
            "gridwidth": 2,
            "linecolor": "white",
            "showbackground": true,
            "ticks": "",
            "zerolinecolor": "white"
           }
          },
          "shapedefaults": {
           "line": {
            "color": "#2a3f5f"
           }
          },
          "ternary": {
           "aaxis": {
            "gridcolor": "white",
            "linecolor": "white",
            "ticks": ""
           },
           "baxis": {
            "gridcolor": "white",
            "linecolor": "white",
            "ticks": ""
           },
           "bgcolor": "#E5ECF6",
           "caxis": {
            "gridcolor": "white",
            "linecolor": "white",
            "ticks": ""
           }
          },
          "title": {
           "x": 0.05
          },
          "xaxis": {
           "automargin": true,
           "gridcolor": "white",
           "linecolor": "white",
           "ticks": "",
           "title": {
            "standoff": 15
           },
           "zerolinecolor": "white",
           "zerolinewidth": 2
          },
          "yaxis": {
           "automargin": true,
           "gridcolor": "white",
           "linecolor": "white",
           "ticks": "",
           "title": {
            "standoff": 15
           },
           "zerolinecolor": "white",
           "zerolinewidth": 2
          }
         }
        },
        "xaxis": {
         "anchor": "y",
         "categoryarray": [
          "France",
          "United States",
          "Belgium",
          "Canada",
          "Greece",
          "Australia",
          "Brazil",
          "United Kingdom",
          "Chile",
          "Ireland",
          "Italy",
          "Mexico",
          "Netherlands",
          "Puerto Rico",
          "Russia"
         ],
         "categoryorder": "array",
         "domain": [
          0,
          1
         ],
         "title": {
          "text": "Países"
         }
        },
        "yaxis": {
         "anchor": "x",
         "domain": [
          0,
          1
         ],
         "title": {
          "text": "Tentativas de fuga"
         }
        }
       }
      },
      "text/html": [
       "<div>                            <div id=\"28eb0b60-e58c-4c54-90cc-66b31cc3ca8f\" class=\"plotly-graph-div\" style=\"height:525px; width:100%;\"></div>            <script type=\"text/javascript\">                require([\"plotly\"], function(Plotly) {                    window.PLOTLYENV=window.PLOTLYENV || {};                                    if (document.getElementById(\"28eb0b60-e58c-4c54-90cc-66b31cc3ca8f\")) {                    Plotly.newPlot(                        \"28eb0b60-e58c-4c54-90cc-66b31cc3ca8f\",                        [{\"alignmentgroup\":\"True\",\"hovertemplate\":\"Pa\\u00edses=%{x}<br>Tentativas de fuga=%{y}<extra></extra>\",\"legendgroup\":\"France\",\"marker\":{\"color\":\"#636efa\",\"pattern\":{\"shape\":\"\"}},\"name\":\"France\",\"offsetgroup\":\"France\",\"orientation\":\"v\",\"showlegend\":true,\"textposition\":\"auto\",\"x\":[\"France\"],\"xaxis\":\"x\",\"y\":[15],\"yaxis\":\"y\",\"type\":\"bar\"},{\"alignmentgroup\":\"True\",\"hovertemplate\":\"Pa\\u00edses=%{x}<br>Tentativas de fuga=%{y}<extra></extra>\",\"legendgroup\":\"United States\",\"marker\":{\"color\":\"#EF553B\",\"pattern\":{\"shape\":\"\"}},\"name\":\"United States\",\"offsetgroup\":\"United States\",\"orientation\":\"v\",\"showlegend\":true,\"textposition\":\"auto\",\"x\":[\"United States\"],\"xaxis\":\"x\",\"y\":[8],\"yaxis\":\"y\",\"type\":\"bar\"},{\"alignmentgroup\":\"True\",\"hovertemplate\":\"Pa\\u00edses=%{x}<br>Tentativas de fuga=%{y}<extra></extra>\",\"legendgroup\":\"Belgium\",\"marker\":{\"color\":\"#00cc96\",\"pattern\":{\"shape\":\"\"}},\"name\":\"Belgium\",\"offsetgroup\":\"Belgium\",\"orientation\":\"v\",\"showlegend\":true,\"textposition\":\"auto\",\"x\":[\"Belgium\"],\"xaxis\":\"x\",\"y\":[4],\"yaxis\":\"y\",\"type\":\"bar\"},{\"alignmentgroup\":\"True\",\"hovertemplate\":\"Pa\\u00edses=%{x}<br>Tentativas de fuga=%{y}<extra></extra>\",\"legendgroup\":\"Canada\",\"marker\":{\"color\":\"#ab63fa\",\"pattern\":{\"shape\":\"\"}},\"name\":\"Canada\",\"offsetgroup\":\"Canada\",\"orientation\":\"v\",\"showlegend\":true,\"textposition\":\"auto\",\"x\":[\"Canada\"],\"xaxis\":\"x\",\"y\":[4],\"yaxis\":\"y\",\"type\":\"bar\"},{\"alignmentgroup\":\"True\",\"hovertemplate\":\"Pa\\u00edses=%{x}<br>Tentativas de fuga=%{y}<extra></extra>\",\"legendgroup\":\"Greece\",\"marker\":{\"color\":\"#FFA15A\",\"pattern\":{\"shape\":\"\"}},\"name\":\"Greece\",\"offsetgroup\":\"Greece\",\"orientation\":\"v\",\"showlegend\":true,\"textposition\":\"auto\",\"x\":[\"Greece\"],\"xaxis\":\"x\",\"y\":[4],\"yaxis\":\"y\",\"type\":\"bar\"},{\"alignmentgroup\":\"True\",\"hovertemplate\":\"Pa\\u00edses=%{x}<br>Tentativas de fuga=%{y}<extra></extra>\",\"legendgroup\":\"Australia\",\"marker\":{\"color\":\"#19d3f3\",\"pattern\":{\"shape\":\"\"}},\"name\":\"Australia\",\"offsetgroup\":\"Australia\",\"orientation\":\"v\",\"showlegend\":true,\"textposition\":\"auto\",\"x\":[\"Australia\"],\"xaxis\":\"x\",\"y\":[2],\"yaxis\":\"y\",\"type\":\"bar\"},{\"alignmentgroup\":\"True\",\"hovertemplate\":\"Pa\\u00edses=%{x}<br>Tentativas de fuga=%{y}<extra></extra>\",\"legendgroup\":\"Brazil\",\"marker\":{\"color\":\"#FF6692\",\"pattern\":{\"shape\":\"\"}},\"name\":\"Brazil\",\"offsetgroup\":\"Brazil\",\"orientation\":\"v\",\"showlegend\":true,\"textposition\":\"auto\",\"x\":[\"Brazil\"],\"xaxis\":\"x\",\"y\":[2],\"yaxis\":\"y\",\"type\":\"bar\"},{\"alignmentgroup\":\"True\",\"hovertemplate\":\"Pa\\u00edses=%{x}<br>Tentativas de fuga=%{y}<extra></extra>\",\"legendgroup\":\"United Kingdom\",\"marker\":{\"color\":\"#B6E880\",\"pattern\":{\"shape\":\"\"}},\"name\":\"United Kingdom\",\"offsetgroup\":\"United Kingdom\",\"orientation\":\"v\",\"showlegend\":true,\"textposition\":\"auto\",\"x\":[\"United Kingdom\"],\"xaxis\":\"x\",\"y\":[2],\"yaxis\":\"y\",\"type\":\"bar\"},{\"alignmentgroup\":\"True\",\"hovertemplate\":\"Pa\\u00edses=%{x}<br>Tentativas de fuga=%{y}<extra></extra>\",\"legendgroup\":\"Chile\",\"marker\":{\"color\":\"#FF97FF\",\"pattern\":{\"shape\":\"\"}},\"name\":\"Chile\",\"offsetgroup\":\"Chile\",\"orientation\":\"v\",\"showlegend\":true,\"textposition\":\"auto\",\"x\":[\"Chile\"],\"xaxis\":\"x\",\"y\":[1],\"yaxis\":\"y\",\"type\":\"bar\"},{\"alignmentgroup\":\"True\",\"hovertemplate\":\"Pa\\u00edses=%{x}<br>Tentativas de fuga=%{y}<extra></extra>\",\"legendgroup\":\"Ireland\",\"marker\":{\"color\":\"#FECB52\",\"pattern\":{\"shape\":\"\"}},\"name\":\"Ireland\",\"offsetgroup\":\"Ireland\",\"orientation\":\"v\",\"showlegend\":true,\"textposition\":\"auto\",\"x\":[\"Ireland\"],\"xaxis\":\"x\",\"y\":[1],\"yaxis\":\"y\",\"type\":\"bar\"},{\"alignmentgroup\":\"True\",\"hovertemplate\":\"Pa\\u00edses=%{x}<br>Tentativas de fuga=%{y}<extra></extra>\",\"legendgroup\":\"Italy\",\"marker\":{\"color\":\"#636efa\",\"pattern\":{\"shape\":\"\"}},\"name\":\"Italy\",\"offsetgroup\":\"Italy\",\"orientation\":\"v\",\"showlegend\":true,\"textposition\":\"auto\",\"x\":[\"Italy\"],\"xaxis\":\"x\",\"y\":[1],\"yaxis\":\"y\",\"type\":\"bar\"},{\"alignmentgroup\":\"True\",\"hovertemplate\":\"Pa\\u00edses=%{x}<br>Tentativas de fuga=%{y}<extra></extra>\",\"legendgroup\":\"Mexico\",\"marker\":{\"color\":\"#EF553B\",\"pattern\":{\"shape\":\"\"}},\"name\":\"Mexico\",\"offsetgroup\":\"Mexico\",\"orientation\":\"v\",\"showlegend\":true,\"textposition\":\"auto\",\"x\":[\"Mexico\"],\"xaxis\":\"x\",\"y\":[1],\"yaxis\":\"y\",\"type\":\"bar\"},{\"alignmentgroup\":\"True\",\"hovertemplate\":\"Pa\\u00edses=%{x}<br>Tentativas de fuga=%{y}<extra></extra>\",\"legendgroup\":\"Netherlands\",\"marker\":{\"color\":\"#00cc96\",\"pattern\":{\"shape\":\"\"}},\"name\":\"Netherlands\",\"offsetgroup\":\"Netherlands\",\"orientation\":\"v\",\"showlegend\":true,\"textposition\":\"auto\",\"x\":[\"Netherlands\"],\"xaxis\":\"x\",\"y\":[1],\"yaxis\":\"y\",\"type\":\"bar\"},{\"alignmentgroup\":\"True\",\"hovertemplate\":\"Pa\\u00edses=%{x}<br>Tentativas de fuga=%{y}<extra></extra>\",\"legendgroup\":\"Puerto Rico\",\"marker\":{\"color\":\"#ab63fa\",\"pattern\":{\"shape\":\"\"}},\"name\":\"Puerto Rico\",\"offsetgroup\":\"Puerto Rico\",\"orientation\":\"v\",\"showlegend\":true,\"textposition\":\"auto\",\"x\":[\"Puerto Rico\"],\"xaxis\":\"x\",\"y\":[1],\"yaxis\":\"y\",\"type\":\"bar\"},{\"alignmentgroup\":\"True\",\"hovertemplate\":\"Pa\\u00edses=%{x}<br>Tentativas de fuga=%{y}<extra></extra>\",\"legendgroup\":\"Russia\",\"marker\":{\"color\":\"#FFA15A\",\"pattern\":{\"shape\":\"\"}},\"name\":\"Russia\",\"offsetgroup\":\"Russia\",\"orientation\":\"v\",\"showlegend\":true,\"textposition\":\"auto\",\"x\":[\"Russia\"],\"xaxis\":\"x\",\"y\":[1],\"yaxis\":\"y\",\"type\":\"bar\"}],                        {\"template\":{\"data\":{\"bar\":[{\"error_x\":{\"color\":\"#2a3f5f\"},\"error_y\":{\"color\":\"#2a3f5f\"},\"marker\":{\"line\":{\"color\":\"#E5ECF6\",\"width\":0.5},\"pattern\":{\"fillmode\":\"overlay\",\"size\":10,\"solidity\":0.2}},\"type\":\"bar\"}],\"barpolar\":[{\"marker\":{\"line\":{\"color\":\"#E5ECF6\",\"width\":0.5},\"pattern\":{\"fillmode\":\"overlay\",\"size\":10,\"solidity\":0.2}},\"type\":\"barpolar\"}],\"carpet\":[{\"aaxis\":{\"endlinecolor\":\"#2a3f5f\",\"gridcolor\":\"white\",\"linecolor\":\"white\",\"minorgridcolor\":\"white\",\"startlinecolor\":\"#2a3f5f\"},\"baxis\":{\"endlinecolor\":\"#2a3f5f\",\"gridcolor\":\"white\",\"linecolor\":\"white\",\"minorgridcolor\":\"white\",\"startlinecolor\":\"#2a3f5f\"},\"type\":\"carpet\"}],\"choropleth\":[{\"colorbar\":{\"outlinewidth\":0,\"ticks\":\"\"},\"type\":\"choropleth\"}],\"contour\":[{\"colorbar\":{\"outlinewidth\":0,\"ticks\":\"\"},\"colorscale\":[[0.0,\"#0d0887\"],[0.1111111111111111,\"#46039f\"],[0.2222222222222222,\"#7201a8\"],[0.3333333333333333,\"#9c179e\"],[0.4444444444444444,\"#bd3786\"],[0.5555555555555556,\"#d8576b\"],[0.6666666666666666,\"#ed7953\"],[0.7777777777777778,\"#fb9f3a\"],[0.8888888888888888,\"#fdca26\"],[1.0,\"#f0f921\"]],\"type\":\"contour\"}],\"contourcarpet\":[{\"colorbar\":{\"outlinewidth\":0,\"ticks\":\"\"},\"type\":\"contourcarpet\"}],\"heatmap\":[{\"colorbar\":{\"outlinewidth\":0,\"ticks\":\"\"},\"colorscale\":[[0.0,\"#0d0887\"],[0.1111111111111111,\"#46039f\"],[0.2222222222222222,\"#7201a8\"],[0.3333333333333333,\"#9c179e\"],[0.4444444444444444,\"#bd3786\"],[0.5555555555555556,\"#d8576b\"],[0.6666666666666666,\"#ed7953\"],[0.7777777777777778,\"#fb9f3a\"],[0.8888888888888888,\"#fdca26\"],[1.0,\"#f0f921\"]],\"type\":\"heatmap\"}],\"heatmapgl\":[{\"colorbar\":{\"outlinewidth\":0,\"ticks\":\"\"},\"colorscale\":[[0.0,\"#0d0887\"],[0.1111111111111111,\"#46039f\"],[0.2222222222222222,\"#7201a8\"],[0.3333333333333333,\"#9c179e\"],[0.4444444444444444,\"#bd3786\"],[0.5555555555555556,\"#d8576b\"],[0.6666666666666666,\"#ed7953\"],[0.7777777777777778,\"#fb9f3a\"],[0.8888888888888888,\"#fdca26\"],[1.0,\"#f0f921\"]],\"type\":\"heatmapgl\"}],\"histogram\":[{\"marker\":{\"pattern\":{\"fillmode\":\"overlay\",\"size\":10,\"solidity\":0.2}},\"type\":\"histogram\"}],\"histogram2d\":[{\"colorbar\":{\"outlinewidth\":0,\"ticks\":\"\"},\"colorscale\":[[0.0,\"#0d0887\"],[0.1111111111111111,\"#46039f\"],[0.2222222222222222,\"#7201a8\"],[0.3333333333333333,\"#9c179e\"],[0.4444444444444444,\"#bd3786\"],[0.5555555555555556,\"#d8576b\"],[0.6666666666666666,\"#ed7953\"],[0.7777777777777778,\"#fb9f3a\"],[0.8888888888888888,\"#fdca26\"],[1.0,\"#f0f921\"]],\"type\":\"histogram2d\"}],\"histogram2dcontour\":[{\"colorbar\":{\"outlinewidth\":0,\"ticks\":\"\"},\"colorscale\":[[0.0,\"#0d0887\"],[0.1111111111111111,\"#46039f\"],[0.2222222222222222,\"#7201a8\"],[0.3333333333333333,\"#9c179e\"],[0.4444444444444444,\"#bd3786\"],[0.5555555555555556,\"#d8576b\"],[0.6666666666666666,\"#ed7953\"],[0.7777777777777778,\"#fb9f3a\"],[0.8888888888888888,\"#fdca26\"],[1.0,\"#f0f921\"]],\"type\":\"histogram2dcontour\"}],\"mesh3d\":[{\"colorbar\":{\"outlinewidth\":0,\"ticks\":\"\"},\"type\":\"mesh3d\"}],\"parcoords\":[{\"line\":{\"colorbar\":{\"outlinewidth\":0,\"ticks\":\"\"}},\"type\":\"parcoords\"}],\"pie\":[{\"automargin\":true,\"type\":\"pie\"}],\"scatter\":[{\"marker\":{\"colorbar\":{\"outlinewidth\":0,\"ticks\":\"\"}},\"type\":\"scatter\"}],\"scatter3d\":[{\"line\":{\"colorbar\":{\"outlinewidth\":0,\"ticks\":\"\"}},\"marker\":{\"colorbar\":{\"outlinewidth\":0,\"ticks\":\"\"}},\"type\":\"scatter3d\"}],\"scattercarpet\":[{\"marker\":{\"colorbar\":{\"outlinewidth\":0,\"ticks\":\"\"}},\"type\":\"scattercarpet\"}],\"scattergeo\":[{\"marker\":{\"colorbar\":{\"outlinewidth\":0,\"ticks\":\"\"}},\"type\":\"scattergeo\"}],\"scattergl\":[{\"marker\":{\"colorbar\":{\"outlinewidth\":0,\"ticks\":\"\"}},\"type\":\"scattergl\"}],\"scattermapbox\":[{\"marker\":{\"colorbar\":{\"outlinewidth\":0,\"ticks\":\"\"}},\"type\":\"scattermapbox\"}],\"scatterpolar\":[{\"marker\":{\"colorbar\":{\"outlinewidth\":0,\"ticks\":\"\"}},\"type\":\"scatterpolar\"}],\"scatterpolargl\":[{\"marker\":{\"colorbar\":{\"outlinewidth\":0,\"ticks\":\"\"}},\"type\":\"scatterpolargl\"}],\"scatterternary\":[{\"marker\":{\"colorbar\":{\"outlinewidth\":0,\"ticks\":\"\"}},\"type\":\"scatterternary\"}],\"surface\":[{\"colorbar\":{\"outlinewidth\":0,\"ticks\":\"\"},\"colorscale\":[[0.0,\"#0d0887\"],[0.1111111111111111,\"#46039f\"],[0.2222222222222222,\"#7201a8\"],[0.3333333333333333,\"#9c179e\"],[0.4444444444444444,\"#bd3786\"],[0.5555555555555556,\"#d8576b\"],[0.6666666666666666,\"#ed7953\"],[0.7777777777777778,\"#fb9f3a\"],[0.8888888888888888,\"#fdca26\"],[1.0,\"#f0f921\"]],\"type\":\"surface\"}],\"table\":[{\"cells\":{\"fill\":{\"color\":\"#EBF0F8\"},\"line\":{\"color\":\"white\"}},\"header\":{\"fill\":{\"color\":\"#C8D4E3\"},\"line\":{\"color\":\"white\"}},\"type\":\"table\"}]},\"layout\":{\"annotationdefaults\":{\"arrowcolor\":\"#2a3f5f\",\"arrowhead\":0,\"arrowwidth\":1},\"autotypenumbers\":\"strict\",\"coloraxis\":{\"colorbar\":{\"outlinewidth\":0,\"ticks\":\"\"}},\"colorscale\":{\"diverging\":[[0,\"#8e0152\"],[0.1,\"#c51b7d\"],[0.2,\"#de77ae\"],[0.3,\"#f1b6da\"],[0.4,\"#fde0ef\"],[0.5,\"#f7f7f7\"],[0.6,\"#e6f5d0\"],[0.7,\"#b8e186\"],[0.8,\"#7fbc41\"],[0.9,\"#4d9221\"],[1,\"#276419\"]],\"sequential\":[[0.0,\"#0d0887\"],[0.1111111111111111,\"#46039f\"],[0.2222222222222222,\"#7201a8\"],[0.3333333333333333,\"#9c179e\"],[0.4444444444444444,\"#bd3786\"],[0.5555555555555556,\"#d8576b\"],[0.6666666666666666,\"#ed7953\"],[0.7777777777777778,\"#fb9f3a\"],[0.8888888888888888,\"#fdca26\"],[1.0,\"#f0f921\"]],\"sequentialminus\":[[0.0,\"#0d0887\"],[0.1111111111111111,\"#46039f\"],[0.2222222222222222,\"#7201a8\"],[0.3333333333333333,\"#9c179e\"],[0.4444444444444444,\"#bd3786\"],[0.5555555555555556,\"#d8576b\"],[0.6666666666666666,\"#ed7953\"],[0.7777777777777778,\"#fb9f3a\"],[0.8888888888888888,\"#fdca26\"],[1.0,\"#f0f921\"]]},\"colorway\":[\"#636efa\",\"#EF553B\",\"#00cc96\",\"#ab63fa\",\"#FFA15A\",\"#19d3f3\",\"#FF6692\",\"#B6E880\",\"#FF97FF\",\"#FECB52\"],\"font\":{\"color\":\"#2a3f5f\"},\"geo\":{\"bgcolor\":\"white\",\"lakecolor\":\"white\",\"landcolor\":\"#E5ECF6\",\"showlakes\":true,\"showland\":true,\"subunitcolor\":\"white\"},\"hoverlabel\":{\"align\":\"left\"},\"hovermode\":\"closest\",\"mapbox\":{\"style\":\"light\"},\"paper_bgcolor\":\"white\",\"plot_bgcolor\":\"#E5ECF6\",\"polar\":{\"angularaxis\":{\"gridcolor\":\"white\",\"linecolor\":\"white\",\"ticks\":\"\"},\"bgcolor\":\"#E5ECF6\",\"radialaxis\":{\"gridcolor\":\"white\",\"linecolor\":\"white\",\"ticks\":\"\"}},\"scene\":{\"xaxis\":{\"backgroundcolor\":\"#E5ECF6\",\"gridcolor\":\"white\",\"gridwidth\":2,\"linecolor\":\"white\",\"showbackground\":true,\"ticks\":\"\",\"zerolinecolor\":\"white\"},\"yaxis\":{\"backgroundcolor\":\"#E5ECF6\",\"gridcolor\":\"white\",\"gridwidth\":2,\"linecolor\":\"white\",\"showbackground\":true,\"ticks\":\"\",\"zerolinecolor\":\"white\"},\"zaxis\":{\"backgroundcolor\":\"#E5ECF6\",\"gridcolor\":\"white\",\"gridwidth\":2,\"linecolor\":\"white\",\"showbackground\":true,\"ticks\":\"\",\"zerolinecolor\":\"white\"}},\"shapedefaults\":{\"line\":{\"color\":\"#2a3f5f\"}},\"ternary\":{\"aaxis\":{\"gridcolor\":\"white\",\"linecolor\":\"white\",\"ticks\":\"\"},\"baxis\":{\"gridcolor\":\"white\",\"linecolor\":\"white\",\"ticks\":\"\"},\"bgcolor\":\"#E5ECF6\",\"caxis\":{\"gridcolor\":\"white\",\"linecolor\":\"white\",\"ticks\":\"\"}},\"title\":{\"x\":0.05},\"xaxis\":{\"automargin\":true,\"gridcolor\":\"white\",\"linecolor\":\"white\",\"ticks\":\"\",\"title\":{\"standoff\":15},\"zerolinecolor\":\"white\",\"zerolinewidth\":2},\"yaxis\":{\"automargin\":true,\"gridcolor\":\"white\",\"linecolor\":\"white\",\"ticks\":\"\",\"title\":{\"standoff\":15},\"zerolinecolor\":\"white\",\"zerolinewidth\":2}}},\"xaxis\":{\"anchor\":\"y\",\"domain\":[0.0,1.0],\"title\":{\"text\":\"Pa\\u00edses\"},\"categoryorder\":\"array\",\"categoryarray\":[\"France\",\"United States\",\"Belgium\",\"Canada\",\"Greece\",\"Australia\",\"Brazil\",\"United Kingdom\",\"Chile\",\"Ireland\",\"Italy\",\"Mexico\",\"Netherlands\",\"Puerto Rico\",\"Russia\"]},\"yaxis\":{\"anchor\":\"x\",\"domain\":[0.0,1.0],\"title\":{\"text\":\"Tentativas de fuga\"}},\"legend\":{\"title\":{\"text\":\"Pa\\u00edses\"},\"tracegroupgap\":0},\"margin\":{\"t\":60},\"barmode\":\"relative\"},                        {\"responsive\": true}                    ).then(function(){\n",
       "                            \n",
       "var gd = document.getElementById('28eb0b60-e58c-4c54-90cc-66b31cc3ca8f');\n",
       "var x = new MutationObserver(function (mutations, observer) {{\n",
       "        var display = window.getComputedStyle(gd).display;\n",
       "        if (!display || display === 'none') {{\n",
       "            console.log([gd, 'removed!']);\n",
       "            Plotly.purge(gd);\n",
       "            observer.disconnect();\n",
       "        }}\n",
       "}});\n",
       "\n",
       "// Listen for the removal of the full notebook cells\n",
       "var notebookContainer = gd.closest('#notebook-container');\n",
       "if (notebookContainer) {{\n",
       "    x.observe(notebookContainer, {childList: true});\n",
       "}}\n",
       "\n",
       "// Listen for the clearing of the current output cell\n",
       "var outputEl = gd.closest('.output');\n",
       "if (outputEl) {{\n",
       "    x.observe(outputEl, {childList: true});\n",
       "}}\n",
       "\n",
       "                        })                };                });            </script>        </div>"
      ]
     },
     "metadata": {},
     "output_type": "display_data"
    }
   ],
   "source": [
    "fig = px.bar(dados_2, x='Country', y='Succeeded', color='Country',\n",
    "            labels={\"Country\":\"Países\", \"Succeeded\":\"Tentativas de fuga\", \"Country\":\"Países\"})\n",
    "fig.show()"
   ]
  },
  {
   "cell_type": "markdown",
   "id": "b5e210ce",
   "metadata": {},
   "source": [
    "# Questões extras sugeridas:\n",
    "\n",
    "## 3 - Em quais países as fugas de helicópteto tem maior chance de sucesso?\n",
    "\n",
    "## 4 - Como o número de fugitivos afeta o sucesso?\n",
    "\n",
    "## 5 - Quais fugitivos fizeram isso mais de uma vez?"
   ]
  },
  {
   "cell_type": "code",
   "execution_count": 25,
   "id": "f021c3f6",
   "metadata": {},
   "outputs": [
    {
     "data": {
      "text/plain": [
       "[                  Date                                        Prison name  \\\n",
       " 0      August 19, 1971                              Santa Martha Acatitla   \n",
       " 1     October 31, 1973                                      Mountjoy Jail   \n",
       " 2         May 24, 1978                 United States Penitentiary, Marion   \n",
       " 3    February 27, 1981             Fleury-Mérogis, Essonne, Ile de France   \n",
       " 4          May 7, 1981                    Orsainville Prison, Quebec City   \n",
       " 5        January, 1983                              Pentridge (HM Prison)   \n",
       " 6    December 19, 1985  Perry Correctional Institution, Pelzer, South ...   \n",
       " 7    December 31, 1985  Cândido Mendes penitentiary, Ilha Grande, Rio ...   \n",
       " 8         May 26, 1986                                 Prison de la Santé   \n",
       " 9     November 5, 1986           Federal Correctional Institution, Dublin   \n",
       " 10   November 23, 1986                         Prigione di Rebibbia, Roma   \n",
       " 11   December 10, 1987                                Gartree (HM Prison)   \n",
       " 12       July 11, 1988                                    Santa Fe prison   \n",
       " 13      April 17, 1989                Federal Holding Facility, Miami, FL   \n",
       " 14     August 19, 1989              Arkansas Valley Correctional Facility   \n",
       " 15       June 19, 1990                Kent Penitentiary, British Columbia   \n",
       " 16       April 7, 1991        Rio Piedras State Penitentiary, Puerto Rico   \n",
       " 17   February 24, 1992                                        Lyon Prison   \n",
       " 18       December 1992                     Touraine Central Prison, Tours   \n",
       " 19       June 17, 1993                     Touraine Central Prison, Tours   \n",
       " 20   December 30, 1996                     High Security Prison, Santiago   \n",
       " 21  September 18, 1997                                  De Geerhorst jail   \n",
       " 22      March 25, 1999           Metropolitan Remand and Reception Centre   \n",
       " 23        June 5, 2000  Martin Treatment Center for Sexually Violent P...   \n",
       " 24   December 13, 2000                                        Lyon prison   \n",
       " 25    January 19, 2001                                      Luynes prison   \n",
       " 26      March 24, 2001                                  Draguignan prison   \n",
       " 27        May 28, 2001                                     Fresnes prison   \n",
       " 28    January 17, 2002                           Parada Neto Penitentiary   \n",
       " 29   December 30, 2002                   Las Cucharas prison, Puerto Rico   \n",
       " 30       April 4, 2003                                      Luynes prison   \n",
       " 31           July 2005                                             France   \n",
       " 32   December 10, 2005                                       Aiton Prison   \n",
       " 33        June 6, 2006                                  Korydallos Prison   \n",
       " 34      April 15, 2007                               Lantin Prison, Liège   \n",
       " 35       July 15, 2007                                      Grasse prison   \n",
       " 36    October 28, 2007                                       Ittre prison   \n",
       " 37   February 22, 2009                                  Korydallos Prison   \n",
       " 38      April 27, 2009                           Domenjod Prison, Réunion   \n",
       " 39       July 23, 2009                                             Bruges   \n",
       " 40       June 25, 2010             HM Prison Isle of Wight, Isle of Wight   \n",
       " 41      March 22, 2012                          Sheksna, Penal colony N17   \n",
       " 42   February 24, 2013                            Trikala Prison, Trikala   \n",
       " 43      March 17, 2013            Saint-Jérôme Detention Facility, Quebec   \n",
       " 44        June 7, 2014             Orsainville Detention Facility, Quebec   \n",
       " 45   February 22, 2016                                              Thiva   \n",
       " 46        July 1, 2018                                   Réau, near Paris   \n",
       " 47  September 25, 2020                            Forest prison, Brussels   \n",
       " \n",
       "            Country Succeeded  \\\n",
       " 0           Mexico       Yes   \n",
       " 1          Ireland       Yes   \n",
       " 2    United States        No   \n",
       " 3           France       Yes   \n",
       " 4           Canada        No   \n",
       " 5        Australia        No   \n",
       " 6    United States       Yes   \n",
       " 7           Brazil       Yes   \n",
       " 8           France       Yes   \n",
       " 9    United States       Yes   \n",
       " 10           Italy       Yes   \n",
       " 11  United Kingdom       Yes   \n",
       " 12   United States       Yes   \n",
       " 13   United States        No   \n",
       " 14   United States       Yes   \n",
       " 15          Canada       Yes   \n",
       " 16     Puerto Rico       Yes   \n",
       " 17          France       Yes   \n",
       " 18          France        No   \n",
       " 19          France        No   \n",
       " 20           Chile       Yes   \n",
       " 21     Netherlands        No   \n",
       " 22       Australia       Yes   \n",
       " 23   United States       Yes   \n",
       " 24          France       Yes   \n",
       " 25          France       Yes   \n",
       " 26          France       Yes   \n",
       " 27          France        No   \n",
       " 28          Brazil       Yes   \n",
       " 29   United States       Yes   \n",
       " 30          France       Yes   \n",
       " 31          France        No   \n",
       " 32          France       Yes   \n",
       " 33          Greece       Yes   \n",
       " 34         Belgium       Yes   \n",
       " 35          France       Yes   \n",
       " 36         Belgium        No   \n",
       " 37          Greece       Yes   \n",
       " 38          France       Yes   \n",
       " 39         Belgium       Yes   \n",
       " 40  United Kingdom        No   \n",
       " 41          Russia       Yes   \n",
       " 42          Greece        No   \n",
       " 43          Canada       Yes   \n",
       " 44          Canada       Yes   \n",
       " 45          Greece        No   \n",
       " 46          France       Yes   \n",
       " 47         Belgium        No   \n",
       " \n",
       "                                            Escapee(s)  \\\n",
       " 0   Joel David Kaplan Carlos Antonio Contreras Castro   \n",
       " 1                JB O'Hagan Seamus TwomeyKevin Mallon   \n",
       " 2   Garrett Brock TrapnellMartin Joseph McNallyJam...   \n",
       " 3                         Gérard DupréDaniel Beaumont   \n",
       " 4   Marina Paquet (hijacker)Giles Arseneault (pris...   \n",
       " 5                                      David McMillan   \n",
       " 6   James Rodney LeonardWilliam Douglas BallewJess...   \n",
       " 7     José Carlos dos Reis Encina, a.k.a. \"Escadinha\"   \n",
       " 8                                      Michel Vaujour   \n",
       " 9                                      Samantha Lopez   \n",
       " 10  André BellaïcheGianluigi EspositoLuciano Cipol...   \n",
       " 11                          Sydney DraperJohn Kendall   \n",
       " 12         Mahoney Danny Francis MitchellRandy Lackey   \n",
       " 13                                         Ben Kramer   \n",
       " 14                        Ralph BrownFreddie Gonzales   \n",
       " 15                            Robert FordDavid Thomas   \n",
       " 16                                       William Lane   \n",
       " 17                                                  —   \n",
       " 18                                                  —   \n",
       " 19                                     Michel Vaujour   \n",
       " 20  Four members of the Manuel Rodriguez Patriotic...   \n",
       " 21                                                  —   \n",
       " 22                                       John Killick   \n",
       " 23                                    Steven Whitsett   \n",
       " 24                                                  —   \n",
       " 25                                       Pascal Payet   \n",
       " 26  Abdelhamid CarnousEmile Forma-SariJean-Philipp...   \n",
       " 27                                                  —   \n",
       " 28                                                  —   \n",
       " 29  Orlando Cartagena Jose Rodriguez Victor Diaz H...   \n",
       " 30           Eric AlboreoFranck PerlettoMichel Valero   \n",
       " 31                                                  —   \n",
       " 32    Hubert SellesJean-Claude MorettiMohamed Bessame   \n",
       " 33                               Vassilis Paleokostas   \n",
       " 34                                     Eric Ferdinand   \n",
       " 35                                       Pascal Payet   \n",
       " 36                                    Nordin Benallal   \n",
       " 37                     Vasilis PaleokostasAlket Rizai   \n",
       " 38                         Alexin JismyFabrice Michel   \n",
       " 39          Ashraf Sekkaki plus three other criminals   \n",
       " 40                                     Brian Lawrence   \n",
       " 41                                   Alexey Shestakov   \n",
       " 42                                 Panagiotis Vlastos   \n",
       " 43              Benjamin Hudon-BarbeauDanny Provençal   \n",
       " 44            Yves DenisDenis LefebvreSerge Pomerleau   \n",
       " 45                           Pola RoupaNikos Maziotis   \n",
       " 46                                       Rédoine Faïd   \n",
       " 47                                         Kristel A.   \n",
       " \n",
       "                                               Details  \n",
       " 0   Joel David Kaplan was a New York businessman w...  \n",
       " 1   On October 31, 1973 an IRA member hijacked a h...  \n",
       " 2   43-year-old Barbara Ann Oswald hijacked a Sain...  \n",
       " 3   With the help of Serge Coutel, Gérard Dupré an...  \n",
       " 4   Marina Paquet held a sawed off shotgun against...  \n",
       " 5   Arrests were made for the 1983 attempted helic...  \n",
       " 6   One murderer, James Rodney Leonard, and two ar...  \n",
       " 7   Drug lord Encina was rescued by José Carlos Gr...  \n",
       " 8   Vaujour had 28 years to serve for attempted mu...  \n",
       " 9   Ronald J. McIntosh walked away from a minimum ...  \n",
       " 10  A red cross helicopter was hijacked by two gun...  \n",
       " 11  At 3:16 p.m. on December 10, 1987, John Kendal...  \n",
       " 12  Pilot Charles Bella was hired to fly a real es...  \n",
       " 13  Famous Apache Boat owner and racer Ben Kramer ...  \n",
       " 14  Colorado prison inmates Ralph Brown and Freddi...  \n",
       " 15  Two prisoners, Robert Ford and David Thomas, e...  \n",
       " 16  Inmates were able to escape when a helicopter ...  \n",
       " 17  Two armed men hijacked a helicopter in Albertv...  \n",
       " 18  The would-be escapee was shot dead by prison g...  \n",
       " 19  Vaujour and his wife were imprisoned in 1991. ...  \n",
       " 20  Two women suspected of involvement were Irish ...  \n",
       " 21  A September 18, 1997 escape attempt ended in f...  \n",
       " 22  On March 25, 1999, librarian Lucy Dudko hired ...  \n",
       " 23  Steven Whitsett was serving a civil commitment...  \n",
       " 24  Three men were able to escape a prison near Ly...  \n",
       " 25  Pascal Payet escaped from Luynes prison using ...  \n",
       " 26  On March 24, 2001, an armed man hijacked a hel...  \n",
       " 27  (Although not a helicopter escape in the trues...  \n",
       " 28  A helicopter was flown into Parada Neto Penite...  \n",
       " 29  In Puerto Rico five prisoners escaped from Las...  \n",
       " 30  Pascal Payet organized the helicopter escape o...  \n",
       " 31  A helicopter escape attempt was foiled when al...  \n",
       " 32  On December 10, 2005, two men rented a helicop...  \n",
       " 33  On June 6, 2006, Nikos Paleokostas and another...  \n",
       " 34  Two men hijacked a small helicopter and forced...  \n",
       " 35  Pascal Payet, 43, escaped for the third time f...  \n",
       " 36  On Oct 28, 2007, Nordin Benallal, self-styled ...  \n",
       " 37  On February 22, 2009 Vasilis Paleokostas and a...  \n",
       " 38  Juliano Verbard was a guru of the Sorrowful an...  \n",
       " 39  A man hijacked a helicopter and forced its pil...  \n",
       " 40  While never actually reaching the execution ph...  \n",
       " 41  Shestakov was whisked away from a penal colony...  \n",
       " 42  The chartered helicopter — carrying two armed ...  \n",
       " 43  Two inmates escaped from the Saint-Jérôme Dete...  \n",
       " 44  Three detainees awaiting trial for murder esca...  \n",
       " 45  A helicopter pilot foiled an attempted hijack ...  \n",
       " 46  Faïd was helped by several heavily armed men w...  \n",
       " 47  Three armed men hijacked a Eurocopter AS355 he...  ]"
      ]
     },
     "execution_count": 25,
     "metadata": {},
     "output_type": "execute_result"
    }
   ],
   "source": [
    "dados=pd.read_html(str(helicopter_escape))\n",
    "dados"
   ]
  },
  {
   "cell_type": "code",
   "execution_count": 26,
   "id": "dc2aa2ec",
   "metadata": {},
   "outputs": [
    {
     "data": {
      "text/html": [
       "<div>\n",
       "<style scoped>\n",
       "    .dataframe tbody tr th:only-of-type {\n",
       "        vertical-align: middle;\n",
       "    }\n",
       "\n",
       "    .dataframe tbody tr th {\n",
       "        vertical-align: top;\n",
       "    }\n",
       "\n",
       "    .dataframe thead th {\n",
       "        text-align: right;\n",
       "    }\n",
       "</style>\n",
       "<table border=\"1\" class=\"dataframe\">\n",
       "  <thead>\n",
       "    <tr style=\"text-align: right;\">\n",
       "      <th></th>\n",
       "      <th>Date</th>\n",
       "      <th>Prison name</th>\n",
       "      <th>Country</th>\n",
       "      <th>Succeeded</th>\n",
       "      <th>Escapee(s)</th>\n",
       "      <th>Details</th>\n",
       "    </tr>\n",
       "  </thead>\n",
       "  <tbody>\n",
       "    <tr>\n",
       "      <th>0</th>\n",
       "      <td>August 19, 1971</td>\n",
       "      <td>Santa Martha Acatitla</td>\n",
       "      <td>Mexico</td>\n",
       "      <td>Yes</td>\n",
       "      <td>Joel David Kaplan Carlos Antonio Contreras Castro</td>\n",
       "      <td>Joel David Kaplan was a New York businessman w...</td>\n",
       "    </tr>\n",
       "    <tr>\n",
       "      <th>1</th>\n",
       "      <td>October 31, 1973</td>\n",
       "      <td>Mountjoy Jail</td>\n",
       "      <td>Ireland</td>\n",
       "      <td>Yes</td>\n",
       "      <td>JB O'Hagan Seamus TwomeyKevin Mallon</td>\n",
       "      <td>On October 31, 1973 an IRA member hijacked a h...</td>\n",
       "    </tr>\n",
       "    <tr>\n",
       "      <th>2</th>\n",
       "      <td>May 24, 1978</td>\n",
       "      <td>United States Penitentiary, Marion</td>\n",
       "      <td>United States</td>\n",
       "      <td>No</td>\n",
       "      <td>Garrett Brock TrapnellMartin Joseph McNallyJam...</td>\n",
       "      <td>43-year-old Barbara Ann Oswald hijacked a Sain...</td>\n",
       "    </tr>\n",
       "    <tr>\n",
       "      <th>3</th>\n",
       "      <td>February 27, 1981</td>\n",
       "      <td>Fleury-Mérogis, Essonne, Ile de France</td>\n",
       "      <td>France</td>\n",
       "      <td>Yes</td>\n",
       "      <td>Gérard DupréDaniel Beaumont</td>\n",
       "      <td>With the help of Serge Coutel, Gérard Dupré an...</td>\n",
       "    </tr>\n",
       "    <tr>\n",
       "      <th>4</th>\n",
       "      <td>May 7, 1981</td>\n",
       "      <td>Orsainville Prison, Quebec City</td>\n",
       "      <td>Canada</td>\n",
       "      <td>No</td>\n",
       "      <td>Marina Paquet (hijacker)Giles Arseneault (pris...</td>\n",
       "      <td>Marina Paquet held a sawed off shotgun against...</td>\n",
       "    </tr>\n",
       "  </tbody>\n",
       "</table>\n",
       "</div>"
      ],
      "text/plain": [
       "                Date                             Prison name        Country  \\\n",
       "0    August 19, 1971                   Santa Martha Acatitla         Mexico   \n",
       "1   October 31, 1973                           Mountjoy Jail        Ireland   \n",
       "2       May 24, 1978      United States Penitentiary, Marion  United States   \n",
       "3  February 27, 1981  Fleury-Mérogis, Essonne, Ile de France         France   \n",
       "4        May 7, 1981         Orsainville Prison, Quebec City         Canada   \n",
       "\n",
       "  Succeeded                                         Escapee(s)  \\\n",
       "0       Yes  Joel David Kaplan Carlos Antonio Contreras Castro   \n",
       "1       Yes               JB O'Hagan Seamus TwomeyKevin Mallon   \n",
       "2        No  Garrett Brock TrapnellMartin Joseph McNallyJam...   \n",
       "3       Yes                        Gérard DupréDaniel Beaumont   \n",
       "4        No  Marina Paquet (hijacker)Giles Arseneault (pris...   \n",
       "\n",
       "                                             Details  \n",
       "0  Joel David Kaplan was a New York businessman w...  \n",
       "1  On October 31, 1973 an IRA member hijacked a h...  \n",
       "2  43-year-old Barbara Ann Oswald hijacked a Sain...  \n",
       "3  With the help of Serge Coutel, Gérard Dupré an...  \n",
       "4  Marina Paquet held a sawed off shotgun against...  "
      ]
     },
     "execution_count": 26,
     "metadata": {},
     "output_type": "execute_result"
    }
   ],
   "source": [
    "dados_c = pd.DataFrame(dados[0])\n",
    "dados_c.head(5)"
   ]
  },
  {
   "cell_type": "code",
   "execution_count": 27,
   "id": "e4cbf537",
   "metadata": {
    "scrolled": true
   },
   "outputs": [
    {
     "data": {
      "text/html": [
       "<div>\n",
       "<style scoped>\n",
       "    .dataframe tbody tr th:only-of-type {\n",
       "        vertical-align: middle;\n",
       "    }\n",
       "\n",
       "    .dataframe tbody tr th {\n",
       "        vertical-align: top;\n",
       "    }\n",
       "\n",
       "    .dataframe thead th {\n",
       "        text-align: right;\n",
       "    }\n",
       "</style>\n",
       "<table border=\"1\" class=\"dataframe\">\n",
       "  <thead>\n",
       "    <tr style=\"text-align: right;\">\n",
       "      <th></th>\n",
       "      <th>Country</th>\n",
       "      <th>Succeeded</th>\n",
       "    </tr>\n",
       "  </thead>\n",
       "  <tbody>\n",
       "    <tr>\n",
       "      <th>0</th>\n",
       "      <td>Mexico</td>\n",
       "      <td>Yes</td>\n",
       "    </tr>\n",
       "    <tr>\n",
       "      <th>1</th>\n",
       "      <td>Ireland</td>\n",
       "      <td>Yes</td>\n",
       "    </tr>\n",
       "    <tr>\n",
       "      <th>2</th>\n",
       "      <td>United States</td>\n",
       "      <td>No</td>\n",
       "    </tr>\n",
       "    <tr>\n",
       "      <th>3</th>\n",
       "      <td>France</td>\n",
       "      <td>Yes</td>\n",
       "    </tr>\n",
       "    <tr>\n",
       "      <th>4</th>\n",
       "      <td>Canada</td>\n",
       "      <td>No</td>\n",
       "    </tr>\n",
       "    <tr>\n",
       "      <th>5</th>\n",
       "      <td>Australia</td>\n",
       "      <td>No</td>\n",
       "    </tr>\n",
       "    <tr>\n",
       "      <th>6</th>\n",
       "      <td>United States</td>\n",
       "      <td>Yes</td>\n",
       "    </tr>\n",
       "    <tr>\n",
       "      <th>7</th>\n",
       "      <td>Brazil</td>\n",
       "      <td>Yes</td>\n",
       "    </tr>\n",
       "    <tr>\n",
       "      <th>8</th>\n",
       "      <td>France</td>\n",
       "      <td>Yes</td>\n",
       "    </tr>\n",
       "    <tr>\n",
       "      <th>9</th>\n",
       "      <td>United States</td>\n",
       "      <td>Yes</td>\n",
       "    </tr>\n",
       "    <tr>\n",
       "      <th>10</th>\n",
       "      <td>Italy</td>\n",
       "      <td>Yes</td>\n",
       "    </tr>\n",
       "    <tr>\n",
       "      <th>11</th>\n",
       "      <td>United Kingdom</td>\n",
       "      <td>Yes</td>\n",
       "    </tr>\n",
       "    <tr>\n",
       "      <th>12</th>\n",
       "      <td>United States</td>\n",
       "      <td>Yes</td>\n",
       "    </tr>\n",
       "    <tr>\n",
       "      <th>13</th>\n",
       "      <td>United States</td>\n",
       "      <td>No</td>\n",
       "    </tr>\n",
       "    <tr>\n",
       "      <th>14</th>\n",
       "      <td>United States</td>\n",
       "      <td>Yes</td>\n",
       "    </tr>\n",
       "    <tr>\n",
       "      <th>15</th>\n",
       "      <td>Canada</td>\n",
       "      <td>Yes</td>\n",
       "    </tr>\n",
       "    <tr>\n",
       "      <th>16</th>\n",
       "      <td>Puerto Rico</td>\n",
       "      <td>Yes</td>\n",
       "    </tr>\n",
       "    <tr>\n",
       "      <th>17</th>\n",
       "      <td>France</td>\n",
       "      <td>Yes</td>\n",
       "    </tr>\n",
       "    <tr>\n",
       "      <th>18</th>\n",
       "      <td>France</td>\n",
       "      <td>No</td>\n",
       "    </tr>\n",
       "    <tr>\n",
       "      <th>19</th>\n",
       "      <td>France</td>\n",
       "      <td>No</td>\n",
       "    </tr>\n",
       "    <tr>\n",
       "      <th>20</th>\n",
       "      <td>Chile</td>\n",
       "      <td>Yes</td>\n",
       "    </tr>\n",
       "    <tr>\n",
       "      <th>21</th>\n",
       "      <td>Netherlands</td>\n",
       "      <td>No</td>\n",
       "    </tr>\n",
       "    <tr>\n",
       "      <th>22</th>\n",
       "      <td>Australia</td>\n",
       "      <td>Yes</td>\n",
       "    </tr>\n",
       "    <tr>\n",
       "      <th>23</th>\n",
       "      <td>United States</td>\n",
       "      <td>Yes</td>\n",
       "    </tr>\n",
       "    <tr>\n",
       "      <th>24</th>\n",
       "      <td>France</td>\n",
       "      <td>Yes</td>\n",
       "    </tr>\n",
       "    <tr>\n",
       "      <th>25</th>\n",
       "      <td>France</td>\n",
       "      <td>Yes</td>\n",
       "    </tr>\n",
       "    <tr>\n",
       "      <th>26</th>\n",
       "      <td>France</td>\n",
       "      <td>Yes</td>\n",
       "    </tr>\n",
       "    <tr>\n",
       "      <th>27</th>\n",
       "      <td>France</td>\n",
       "      <td>No</td>\n",
       "    </tr>\n",
       "    <tr>\n",
       "      <th>28</th>\n",
       "      <td>Brazil</td>\n",
       "      <td>Yes</td>\n",
       "    </tr>\n",
       "    <tr>\n",
       "      <th>29</th>\n",
       "      <td>United States</td>\n",
       "      <td>Yes</td>\n",
       "    </tr>\n",
       "    <tr>\n",
       "      <th>30</th>\n",
       "      <td>France</td>\n",
       "      <td>Yes</td>\n",
       "    </tr>\n",
       "    <tr>\n",
       "      <th>31</th>\n",
       "      <td>France</td>\n",
       "      <td>No</td>\n",
       "    </tr>\n",
       "    <tr>\n",
       "      <th>32</th>\n",
       "      <td>France</td>\n",
       "      <td>Yes</td>\n",
       "    </tr>\n",
       "    <tr>\n",
       "      <th>33</th>\n",
       "      <td>Greece</td>\n",
       "      <td>Yes</td>\n",
       "    </tr>\n",
       "    <tr>\n",
       "      <th>34</th>\n",
       "      <td>Belgium</td>\n",
       "      <td>Yes</td>\n",
       "    </tr>\n",
       "    <tr>\n",
       "      <th>35</th>\n",
       "      <td>France</td>\n",
       "      <td>Yes</td>\n",
       "    </tr>\n",
       "    <tr>\n",
       "      <th>36</th>\n",
       "      <td>Belgium</td>\n",
       "      <td>No</td>\n",
       "    </tr>\n",
       "    <tr>\n",
       "      <th>37</th>\n",
       "      <td>Greece</td>\n",
       "      <td>Yes</td>\n",
       "    </tr>\n",
       "    <tr>\n",
       "      <th>38</th>\n",
       "      <td>France</td>\n",
       "      <td>Yes</td>\n",
       "    </tr>\n",
       "    <tr>\n",
       "      <th>39</th>\n",
       "      <td>Belgium</td>\n",
       "      <td>Yes</td>\n",
       "    </tr>\n",
       "    <tr>\n",
       "      <th>40</th>\n",
       "      <td>United Kingdom</td>\n",
       "      <td>No</td>\n",
       "    </tr>\n",
       "    <tr>\n",
       "      <th>41</th>\n",
       "      <td>Russia</td>\n",
       "      <td>Yes</td>\n",
       "    </tr>\n",
       "    <tr>\n",
       "      <th>42</th>\n",
       "      <td>Greece</td>\n",
       "      <td>No</td>\n",
       "    </tr>\n",
       "    <tr>\n",
       "      <th>43</th>\n",
       "      <td>Canada</td>\n",
       "      <td>Yes</td>\n",
       "    </tr>\n",
       "    <tr>\n",
       "      <th>44</th>\n",
       "      <td>Canada</td>\n",
       "      <td>Yes</td>\n",
       "    </tr>\n",
       "    <tr>\n",
       "      <th>45</th>\n",
       "      <td>Greece</td>\n",
       "      <td>No</td>\n",
       "    </tr>\n",
       "    <tr>\n",
       "      <th>46</th>\n",
       "      <td>France</td>\n",
       "      <td>Yes</td>\n",
       "    </tr>\n",
       "    <tr>\n",
       "      <th>47</th>\n",
       "      <td>Belgium</td>\n",
       "      <td>No</td>\n",
       "    </tr>\n",
       "  </tbody>\n",
       "</table>\n",
       "</div>"
      ],
      "text/plain": [
       "           Country Succeeded\n",
       "0           Mexico       Yes\n",
       "1          Ireland       Yes\n",
       "2    United States        No\n",
       "3           France       Yes\n",
       "4           Canada        No\n",
       "5        Australia        No\n",
       "6    United States       Yes\n",
       "7           Brazil       Yes\n",
       "8           France       Yes\n",
       "9    United States       Yes\n",
       "10           Italy       Yes\n",
       "11  United Kingdom       Yes\n",
       "12   United States       Yes\n",
       "13   United States        No\n",
       "14   United States       Yes\n",
       "15          Canada       Yes\n",
       "16     Puerto Rico       Yes\n",
       "17          France       Yes\n",
       "18          France        No\n",
       "19          France        No\n",
       "20           Chile       Yes\n",
       "21     Netherlands        No\n",
       "22       Australia       Yes\n",
       "23   United States       Yes\n",
       "24          France       Yes\n",
       "25          France       Yes\n",
       "26          France       Yes\n",
       "27          France        No\n",
       "28          Brazil       Yes\n",
       "29   United States       Yes\n",
       "30          France       Yes\n",
       "31          France        No\n",
       "32          France       Yes\n",
       "33          Greece       Yes\n",
       "34         Belgium       Yes\n",
       "35          France       Yes\n",
       "36         Belgium        No\n",
       "37          Greece       Yes\n",
       "38          France       Yes\n",
       "39         Belgium       Yes\n",
       "40  United Kingdom        No\n",
       "41          Russia       Yes\n",
       "42          Greece        No\n",
       "43          Canada       Yes\n",
       "44          Canada       Yes\n",
       "45          Greece        No\n",
       "46          France       Yes\n",
       "47         Belgium        No"
      ]
     },
     "execution_count": 27,
     "metadata": {},
     "output_type": "execute_result"
    }
   ],
   "source": [
    "select = dados_c[['Country','Succeeded']]\n",
    "select"
   ]
  },
  {
   "cell_type": "code",
   "execution_count": 28,
   "id": "1df0b4d0",
   "metadata": {},
   "outputs": [],
   "source": [
    "\n",
    "fugas_sucesso = select[select['Succeeded'] == 'Yes'].groupby('Country').count().sort_values('Succeeded', ascending=False).reset_index()\n"
   ]
  },
  {
   "cell_type": "code",
   "execution_count": 29,
   "id": "b3b378b2",
   "metadata": {},
   "outputs": [],
   "source": [
    "fugas_falha = select[select['Succeeded'] == 'No'].groupby('Country').count().sort_values('Succeeded', ascending=False).reset_index()"
   ]
  },
  {
   "cell_type": "markdown",
   "id": "8fb41e4f",
   "metadata": {},
   "source": [
    "## Separação da coluna \"Succeeded\" = total de tentativas em duas colunas \"Sucesso\" e \"Falha\""
   ]
  },
  {
   "cell_type": "code",
   "execution_count": 30,
   "id": "2c078178",
   "metadata": {},
   "outputs": [
    {
     "data": {
      "text/html": [
       "<div>\n",
       "<style scoped>\n",
       "    .dataframe tbody tr th:only-of-type {\n",
       "        vertical-align: middle;\n",
       "    }\n",
       "\n",
       "    .dataframe tbody tr th {\n",
       "        vertical-align: top;\n",
       "    }\n",
       "\n",
       "    .dataframe thead th {\n",
       "        text-align: right;\n",
       "    }\n",
       "</style>\n",
       "<table border=\"1\" class=\"dataframe\">\n",
       "  <thead>\n",
       "    <tr style=\"text-align: right;\">\n",
       "      <th></th>\n",
       "      <th>Country</th>\n",
       "      <th>Sucesso</th>\n",
       "      <th>Falha</th>\n",
       "    </tr>\n",
       "  </thead>\n",
       "  <tbody>\n",
       "    <tr>\n",
       "      <th>0</th>\n",
       "      <td>France</td>\n",
       "      <td>11.0</td>\n",
       "      <td>4.0</td>\n",
       "    </tr>\n",
       "    <tr>\n",
       "      <th>1</th>\n",
       "      <td>United States</td>\n",
       "      <td>6.0</td>\n",
       "      <td>2.0</td>\n",
       "    </tr>\n",
       "    <tr>\n",
       "      <th>2</th>\n",
       "      <td>Canada</td>\n",
       "      <td>3.0</td>\n",
       "      <td>1.0</td>\n",
       "    </tr>\n",
       "    <tr>\n",
       "      <th>3</th>\n",
       "      <td>Belgium</td>\n",
       "      <td>2.0</td>\n",
       "      <td>2.0</td>\n",
       "    </tr>\n",
       "    <tr>\n",
       "      <th>4</th>\n",
       "      <td>Brazil</td>\n",
       "      <td>2.0</td>\n",
       "      <td>NaN</td>\n",
       "    </tr>\n",
       "    <tr>\n",
       "      <th>5</th>\n",
       "      <td>Greece</td>\n",
       "      <td>2.0</td>\n",
       "      <td>2.0</td>\n",
       "    </tr>\n",
       "    <tr>\n",
       "      <th>6</th>\n",
       "      <td>Australia</td>\n",
       "      <td>1.0</td>\n",
       "      <td>1.0</td>\n",
       "    </tr>\n",
       "    <tr>\n",
       "      <th>7</th>\n",
       "      <td>Chile</td>\n",
       "      <td>1.0</td>\n",
       "      <td>NaN</td>\n",
       "    </tr>\n",
       "    <tr>\n",
       "      <th>8</th>\n",
       "      <td>Ireland</td>\n",
       "      <td>1.0</td>\n",
       "      <td>NaN</td>\n",
       "    </tr>\n",
       "    <tr>\n",
       "      <th>9</th>\n",
       "      <td>Italy</td>\n",
       "      <td>1.0</td>\n",
       "      <td>NaN</td>\n",
       "    </tr>\n",
       "    <tr>\n",
       "      <th>10</th>\n",
       "      <td>Mexico</td>\n",
       "      <td>1.0</td>\n",
       "      <td>NaN</td>\n",
       "    </tr>\n",
       "    <tr>\n",
       "      <th>11</th>\n",
       "      <td>Puerto Rico</td>\n",
       "      <td>1.0</td>\n",
       "      <td>NaN</td>\n",
       "    </tr>\n",
       "    <tr>\n",
       "      <th>12</th>\n",
       "      <td>Russia</td>\n",
       "      <td>1.0</td>\n",
       "      <td>NaN</td>\n",
       "    </tr>\n",
       "    <tr>\n",
       "      <th>13</th>\n",
       "      <td>United Kingdom</td>\n",
       "      <td>1.0</td>\n",
       "      <td>1.0</td>\n",
       "    </tr>\n",
       "    <tr>\n",
       "      <th>14</th>\n",
       "      <td>Netherlands</td>\n",
       "      <td>NaN</td>\n",
       "      <td>1.0</td>\n",
       "    </tr>\n",
       "  </tbody>\n",
       "</table>\n",
       "</div>"
      ],
      "text/plain": [
       "           Country  Sucesso  Falha\n",
       "0           France     11.0    4.0\n",
       "1    United States      6.0    2.0\n",
       "2           Canada      3.0    1.0\n",
       "3          Belgium      2.0    2.0\n",
       "4           Brazil      2.0    NaN\n",
       "5           Greece      2.0    2.0\n",
       "6        Australia      1.0    1.0\n",
       "7            Chile      1.0    NaN\n",
       "8          Ireland      1.0    NaN\n",
       "9            Italy      1.0    NaN\n",
       "10          Mexico      1.0    NaN\n",
       "11     Puerto Rico      1.0    NaN\n",
       "12          Russia      1.0    NaN\n",
       "13  United Kingdom      1.0    1.0\n",
       "14     Netherlands      NaN    1.0"
      ]
     },
     "execution_count": 30,
     "metadata": {},
     "output_type": "execute_result"
    }
   ],
   "source": [
    "fugas_merge = fugas_sucesso.merge(fugas_falha, left_on='Country', right_on='Country', how='outer')\n",
    "fugas_merge.columns=['Country', 'Sucesso', 'Falha']\n",
    "fugas_merge"
   ]
  },
  {
   "cell_type": "code",
   "execution_count": 31,
   "id": "978c0a05",
   "metadata": {},
   "outputs": [
    {
     "data": {
      "text/html": [
       "<div>\n",
       "<style scoped>\n",
       "    .dataframe tbody tr th:only-of-type {\n",
       "        vertical-align: middle;\n",
       "    }\n",
       "\n",
       "    .dataframe tbody tr th {\n",
       "        vertical-align: top;\n",
       "    }\n",
       "\n",
       "    .dataframe thead th {\n",
       "        text-align: right;\n",
       "    }\n",
       "</style>\n",
       "<table border=\"1\" class=\"dataframe\">\n",
       "  <thead>\n",
       "    <tr style=\"text-align: right;\">\n",
       "      <th></th>\n",
       "      <th>Country</th>\n",
       "      <th>Sucesso</th>\n",
       "      <th>Falha</th>\n",
       "    </tr>\n",
       "  </thead>\n",
       "  <tbody>\n",
       "    <tr>\n",
       "      <th>0</th>\n",
       "      <td>France</td>\n",
       "      <td>11.0</td>\n",
       "      <td>4.0</td>\n",
       "    </tr>\n",
       "    <tr>\n",
       "      <th>1</th>\n",
       "      <td>United States</td>\n",
       "      <td>6.0</td>\n",
       "      <td>2.0</td>\n",
       "    </tr>\n",
       "    <tr>\n",
       "      <th>2</th>\n",
       "      <td>Canada</td>\n",
       "      <td>3.0</td>\n",
       "      <td>1.0</td>\n",
       "    </tr>\n",
       "    <tr>\n",
       "      <th>3</th>\n",
       "      <td>Belgium</td>\n",
       "      <td>2.0</td>\n",
       "      <td>2.0</td>\n",
       "    </tr>\n",
       "    <tr>\n",
       "      <th>4</th>\n",
       "      <td>Brazil</td>\n",
       "      <td>2.0</td>\n",
       "      <td>NaN</td>\n",
       "    </tr>\n",
       "    <tr>\n",
       "      <th>5</th>\n",
       "      <td>Greece</td>\n",
       "      <td>2.0</td>\n",
       "      <td>2.0</td>\n",
       "    </tr>\n",
       "    <tr>\n",
       "      <th>6</th>\n",
       "      <td>Australia</td>\n",
       "      <td>1.0</td>\n",
       "      <td>1.0</td>\n",
       "    </tr>\n",
       "    <tr>\n",
       "      <th>7</th>\n",
       "      <td>Chile</td>\n",
       "      <td>1.0</td>\n",
       "      <td>NaN</td>\n",
       "    </tr>\n",
       "    <tr>\n",
       "      <th>8</th>\n",
       "      <td>Ireland</td>\n",
       "      <td>1.0</td>\n",
       "      <td>NaN</td>\n",
       "    </tr>\n",
       "    <tr>\n",
       "      <th>9</th>\n",
       "      <td>Italy</td>\n",
       "      <td>1.0</td>\n",
       "      <td>NaN</td>\n",
       "    </tr>\n",
       "    <tr>\n",
       "      <th>10</th>\n",
       "      <td>Mexico</td>\n",
       "      <td>1.0</td>\n",
       "      <td>NaN</td>\n",
       "    </tr>\n",
       "    <tr>\n",
       "      <th>11</th>\n",
       "      <td>Puerto Rico</td>\n",
       "      <td>1.0</td>\n",
       "      <td>NaN</td>\n",
       "    </tr>\n",
       "    <tr>\n",
       "      <th>12</th>\n",
       "      <td>Russia</td>\n",
       "      <td>1.0</td>\n",
       "      <td>NaN</td>\n",
       "    </tr>\n",
       "    <tr>\n",
       "      <th>13</th>\n",
       "      <td>United Kingdom</td>\n",
       "      <td>1.0</td>\n",
       "      <td>1.0</td>\n",
       "    </tr>\n",
       "    <tr>\n",
       "      <th>14</th>\n",
       "      <td>Netherlands</td>\n",
       "      <td>0.0</td>\n",
       "      <td>1.0</td>\n",
       "    </tr>\n",
       "  </tbody>\n",
       "</table>\n",
       "</div>"
      ],
      "text/plain": [
       "           Country  Sucesso  Falha\n",
       "0           France     11.0    4.0\n",
       "1    United States      6.0    2.0\n",
       "2           Canada      3.0    1.0\n",
       "3          Belgium      2.0    2.0\n",
       "4           Brazil      2.0    NaN\n",
       "5           Greece      2.0    2.0\n",
       "6        Australia      1.0    1.0\n",
       "7            Chile      1.0    NaN\n",
       "8          Ireland      1.0    NaN\n",
       "9            Italy      1.0    NaN\n",
       "10          Mexico      1.0    NaN\n",
       "11     Puerto Rico      1.0    NaN\n",
       "12          Russia      1.0    NaN\n",
       "13  United Kingdom      1.0    1.0\n",
       "14     Netherlands      0.0    1.0"
      ]
     },
     "execution_count": 31,
     "metadata": {},
     "output_type": "execute_result"
    }
   ],
   "source": [
    "fugas_merge['Sucesso'] = fugas_merge['Sucesso'].fillna(0)\n",
    "fugas_merge"
   ]
  },
  {
   "cell_type": "code",
   "execution_count": 32,
   "id": "27e8ddfe",
   "metadata": {},
   "outputs": [
    {
     "data": {
      "text/html": [
       "<div>\n",
       "<style scoped>\n",
       "    .dataframe tbody tr th:only-of-type {\n",
       "        vertical-align: middle;\n",
       "    }\n",
       "\n",
       "    .dataframe tbody tr th {\n",
       "        vertical-align: top;\n",
       "    }\n",
       "\n",
       "    .dataframe thead th {\n",
       "        text-align: right;\n",
       "    }\n",
       "</style>\n",
       "<table border=\"1\" class=\"dataframe\">\n",
       "  <thead>\n",
       "    <tr style=\"text-align: right;\">\n",
       "      <th></th>\n",
       "      <th>Country</th>\n",
       "      <th>Sucesso</th>\n",
       "      <th>Falha</th>\n",
       "    </tr>\n",
       "  </thead>\n",
       "  <tbody>\n",
       "    <tr>\n",
       "      <th>0</th>\n",
       "      <td>France</td>\n",
       "      <td>11.0</td>\n",
       "      <td>4.0</td>\n",
       "    </tr>\n",
       "    <tr>\n",
       "      <th>1</th>\n",
       "      <td>United States</td>\n",
       "      <td>6.0</td>\n",
       "      <td>2.0</td>\n",
       "    </tr>\n",
       "    <tr>\n",
       "      <th>2</th>\n",
       "      <td>Canada</td>\n",
       "      <td>3.0</td>\n",
       "      <td>1.0</td>\n",
       "    </tr>\n",
       "    <tr>\n",
       "      <th>3</th>\n",
       "      <td>Belgium</td>\n",
       "      <td>2.0</td>\n",
       "      <td>2.0</td>\n",
       "    </tr>\n",
       "    <tr>\n",
       "      <th>4</th>\n",
       "      <td>Brazil</td>\n",
       "      <td>2.0</td>\n",
       "      <td>0.0</td>\n",
       "    </tr>\n",
       "    <tr>\n",
       "      <th>5</th>\n",
       "      <td>Greece</td>\n",
       "      <td>2.0</td>\n",
       "      <td>2.0</td>\n",
       "    </tr>\n",
       "    <tr>\n",
       "      <th>6</th>\n",
       "      <td>Australia</td>\n",
       "      <td>1.0</td>\n",
       "      <td>1.0</td>\n",
       "    </tr>\n",
       "    <tr>\n",
       "      <th>7</th>\n",
       "      <td>Chile</td>\n",
       "      <td>1.0</td>\n",
       "      <td>0.0</td>\n",
       "    </tr>\n",
       "    <tr>\n",
       "      <th>8</th>\n",
       "      <td>Ireland</td>\n",
       "      <td>1.0</td>\n",
       "      <td>0.0</td>\n",
       "    </tr>\n",
       "    <tr>\n",
       "      <th>9</th>\n",
       "      <td>Italy</td>\n",
       "      <td>1.0</td>\n",
       "      <td>0.0</td>\n",
       "    </tr>\n",
       "    <tr>\n",
       "      <th>10</th>\n",
       "      <td>Mexico</td>\n",
       "      <td>1.0</td>\n",
       "      <td>0.0</td>\n",
       "    </tr>\n",
       "    <tr>\n",
       "      <th>11</th>\n",
       "      <td>Puerto Rico</td>\n",
       "      <td>1.0</td>\n",
       "      <td>0.0</td>\n",
       "    </tr>\n",
       "    <tr>\n",
       "      <th>12</th>\n",
       "      <td>Russia</td>\n",
       "      <td>1.0</td>\n",
       "      <td>0.0</td>\n",
       "    </tr>\n",
       "    <tr>\n",
       "      <th>13</th>\n",
       "      <td>United Kingdom</td>\n",
       "      <td>1.0</td>\n",
       "      <td>1.0</td>\n",
       "    </tr>\n",
       "    <tr>\n",
       "      <th>14</th>\n",
       "      <td>Netherlands</td>\n",
       "      <td>0.0</td>\n",
       "      <td>1.0</td>\n",
       "    </tr>\n",
       "  </tbody>\n",
       "</table>\n",
       "</div>"
      ],
      "text/plain": [
       "           Country  Sucesso  Falha\n",
       "0           France     11.0    4.0\n",
       "1    United States      6.0    2.0\n",
       "2           Canada      3.0    1.0\n",
       "3          Belgium      2.0    2.0\n",
       "4           Brazil      2.0    0.0\n",
       "5           Greece      2.0    2.0\n",
       "6        Australia      1.0    1.0\n",
       "7            Chile      1.0    0.0\n",
       "8          Ireland      1.0    0.0\n",
       "9            Italy      1.0    0.0\n",
       "10          Mexico      1.0    0.0\n",
       "11     Puerto Rico      1.0    0.0\n",
       "12          Russia      1.0    0.0\n",
       "13  United Kingdom      1.0    1.0\n",
       "14     Netherlands      0.0    1.0"
      ]
     },
     "execution_count": 32,
     "metadata": {},
     "output_type": "execute_result"
    }
   ],
   "source": [
    "fugas_merge['Falha'] = fugas_merge['Falha'].fillna(0)\n",
    "fugas_merge\n"
   ]
  },
  {
   "cell_type": "code",
   "execution_count": 33,
   "id": "ab5b0dec",
   "metadata": {},
   "outputs": [
    {
     "data": {
      "text/html": [
       "<div>\n",
       "<style scoped>\n",
       "    .dataframe tbody tr th:only-of-type {\n",
       "        vertical-align: middle;\n",
       "    }\n",
       "\n",
       "    .dataframe tbody tr th {\n",
       "        vertical-align: top;\n",
       "    }\n",
       "\n",
       "    .dataframe thead th {\n",
       "        text-align: right;\n",
       "    }\n",
       "</style>\n",
       "<table border=\"1\" class=\"dataframe\">\n",
       "  <thead>\n",
       "    <tr style=\"text-align: right;\">\n",
       "      <th></th>\n",
       "      <th>Country</th>\n",
       "      <th>Sucesso</th>\n",
       "      <th>Falha</th>\n",
       "      <th>Total_tentativas</th>\n",
       "    </tr>\n",
       "  </thead>\n",
       "  <tbody>\n",
       "    <tr>\n",
       "      <th>0</th>\n",
       "      <td>France</td>\n",
       "      <td>11.0</td>\n",
       "      <td>4.0</td>\n",
       "      <td>15.0</td>\n",
       "    </tr>\n",
       "    <tr>\n",
       "      <th>1</th>\n",
       "      <td>United States</td>\n",
       "      <td>6.0</td>\n",
       "      <td>2.0</td>\n",
       "      <td>8.0</td>\n",
       "    </tr>\n",
       "    <tr>\n",
       "      <th>2</th>\n",
       "      <td>Canada</td>\n",
       "      <td>3.0</td>\n",
       "      <td>1.0</td>\n",
       "      <td>4.0</td>\n",
       "    </tr>\n",
       "    <tr>\n",
       "      <th>3</th>\n",
       "      <td>Belgium</td>\n",
       "      <td>2.0</td>\n",
       "      <td>2.0</td>\n",
       "      <td>4.0</td>\n",
       "    </tr>\n",
       "    <tr>\n",
       "      <th>4</th>\n",
       "      <td>Brazil</td>\n",
       "      <td>2.0</td>\n",
       "      <td>0.0</td>\n",
       "      <td>2.0</td>\n",
       "    </tr>\n",
       "    <tr>\n",
       "      <th>5</th>\n",
       "      <td>Greece</td>\n",
       "      <td>2.0</td>\n",
       "      <td>2.0</td>\n",
       "      <td>4.0</td>\n",
       "    </tr>\n",
       "    <tr>\n",
       "      <th>6</th>\n",
       "      <td>Australia</td>\n",
       "      <td>1.0</td>\n",
       "      <td>1.0</td>\n",
       "      <td>2.0</td>\n",
       "    </tr>\n",
       "    <tr>\n",
       "      <th>7</th>\n",
       "      <td>Chile</td>\n",
       "      <td>1.0</td>\n",
       "      <td>0.0</td>\n",
       "      <td>1.0</td>\n",
       "    </tr>\n",
       "    <tr>\n",
       "      <th>8</th>\n",
       "      <td>Ireland</td>\n",
       "      <td>1.0</td>\n",
       "      <td>0.0</td>\n",
       "      <td>1.0</td>\n",
       "    </tr>\n",
       "    <tr>\n",
       "      <th>9</th>\n",
       "      <td>Italy</td>\n",
       "      <td>1.0</td>\n",
       "      <td>0.0</td>\n",
       "      <td>1.0</td>\n",
       "    </tr>\n",
       "    <tr>\n",
       "      <th>10</th>\n",
       "      <td>Mexico</td>\n",
       "      <td>1.0</td>\n",
       "      <td>0.0</td>\n",
       "      <td>1.0</td>\n",
       "    </tr>\n",
       "    <tr>\n",
       "      <th>11</th>\n",
       "      <td>Puerto Rico</td>\n",
       "      <td>1.0</td>\n",
       "      <td>0.0</td>\n",
       "      <td>1.0</td>\n",
       "    </tr>\n",
       "    <tr>\n",
       "      <th>12</th>\n",
       "      <td>Russia</td>\n",
       "      <td>1.0</td>\n",
       "      <td>0.0</td>\n",
       "      <td>1.0</td>\n",
       "    </tr>\n",
       "    <tr>\n",
       "      <th>13</th>\n",
       "      <td>United Kingdom</td>\n",
       "      <td>1.0</td>\n",
       "      <td>1.0</td>\n",
       "      <td>2.0</td>\n",
       "    </tr>\n",
       "    <tr>\n",
       "      <th>14</th>\n",
       "      <td>Netherlands</td>\n",
       "      <td>0.0</td>\n",
       "      <td>1.0</td>\n",
       "      <td>1.0</td>\n",
       "    </tr>\n",
       "  </tbody>\n",
       "</table>\n",
       "</div>"
      ],
      "text/plain": [
       "           Country  Sucesso  Falha  Total_tentativas\n",
       "0           France     11.0    4.0              15.0\n",
       "1    United States      6.0    2.0               8.0\n",
       "2           Canada      3.0    1.0               4.0\n",
       "3          Belgium      2.0    2.0               4.0\n",
       "4           Brazil      2.0    0.0               2.0\n",
       "5           Greece      2.0    2.0               4.0\n",
       "6        Australia      1.0    1.0               2.0\n",
       "7            Chile      1.0    0.0               1.0\n",
       "8          Ireland      1.0    0.0               1.0\n",
       "9            Italy      1.0    0.0               1.0\n",
       "10          Mexico      1.0    0.0               1.0\n",
       "11     Puerto Rico      1.0    0.0               1.0\n",
       "12          Russia      1.0    0.0               1.0\n",
       "13  United Kingdom      1.0    1.0               2.0\n",
       "14     Netherlands      0.0    1.0               1.0"
      ]
     },
     "execution_count": 33,
     "metadata": {},
     "output_type": "execute_result"
    }
   ],
   "source": [
    "fugas_merge['Total_tentativas'] = fugas_merge['Falha']+fugas_merge['Sucesso']\n",
    "fugas_merge\n"
   ]
  },
  {
   "cell_type": "code",
   "execution_count": 34,
   "id": "f2783ec9",
   "metadata": {},
   "outputs": [
    {
     "data": {
      "text/html": [
       "<div>\n",
       "<style scoped>\n",
       "    .dataframe tbody tr th:only-of-type {\n",
       "        vertical-align: middle;\n",
       "    }\n",
       "\n",
       "    .dataframe tbody tr th {\n",
       "        vertical-align: top;\n",
       "    }\n",
       "\n",
       "    .dataframe thead th {\n",
       "        text-align: right;\n",
       "    }\n",
       "</style>\n",
       "<table border=\"1\" class=\"dataframe\">\n",
       "  <thead>\n",
       "    <tr style=\"text-align: right;\">\n",
       "      <th></th>\n",
       "      <th>Country</th>\n",
       "      <th>Sucesso</th>\n",
       "      <th>Falha</th>\n",
       "      <th>Total_tentativas</th>\n",
       "      <th>Chance_sucesso</th>\n",
       "    </tr>\n",
       "  </thead>\n",
       "  <tbody>\n",
       "    <tr>\n",
       "      <th>0</th>\n",
       "      <td>France</td>\n",
       "      <td>11.0</td>\n",
       "      <td>4.0</td>\n",
       "      <td>15.0</td>\n",
       "      <td>73.333333</td>\n",
       "    </tr>\n",
       "    <tr>\n",
       "      <th>1</th>\n",
       "      <td>United States</td>\n",
       "      <td>6.0</td>\n",
       "      <td>2.0</td>\n",
       "      <td>8.0</td>\n",
       "      <td>75.000000</td>\n",
       "    </tr>\n",
       "    <tr>\n",
       "      <th>2</th>\n",
       "      <td>Canada</td>\n",
       "      <td>3.0</td>\n",
       "      <td>1.0</td>\n",
       "      <td>4.0</td>\n",
       "      <td>75.000000</td>\n",
       "    </tr>\n",
       "    <tr>\n",
       "      <th>3</th>\n",
       "      <td>Belgium</td>\n",
       "      <td>2.0</td>\n",
       "      <td>2.0</td>\n",
       "      <td>4.0</td>\n",
       "      <td>50.000000</td>\n",
       "    </tr>\n",
       "    <tr>\n",
       "      <th>4</th>\n",
       "      <td>Brazil</td>\n",
       "      <td>2.0</td>\n",
       "      <td>0.0</td>\n",
       "      <td>2.0</td>\n",
       "      <td>100.000000</td>\n",
       "    </tr>\n",
       "    <tr>\n",
       "      <th>5</th>\n",
       "      <td>Greece</td>\n",
       "      <td>2.0</td>\n",
       "      <td>2.0</td>\n",
       "      <td>4.0</td>\n",
       "      <td>50.000000</td>\n",
       "    </tr>\n",
       "    <tr>\n",
       "      <th>6</th>\n",
       "      <td>Australia</td>\n",
       "      <td>1.0</td>\n",
       "      <td>1.0</td>\n",
       "      <td>2.0</td>\n",
       "      <td>50.000000</td>\n",
       "    </tr>\n",
       "    <tr>\n",
       "      <th>7</th>\n",
       "      <td>Chile</td>\n",
       "      <td>1.0</td>\n",
       "      <td>0.0</td>\n",
       "      <td>1.0</td>\n",
       "      <td>100.000000</td>\n",
       "    </tr>\n",
       "    <tr>\n",
       "      <th>8</th>\n",
       "      <td>Ireland</td>\n",
       "      <td>1.0</td>\n",
       "      <td>0.0</td>\n",
       "      <td>1.0</td>\n",
       "      <td>100.000000</td>\n",
       "    </tr>\n",
       "    <tr>\n",
       "      <th>9</th>\n",
       "      <td>Italy</td>\n",
       "      <td>1.0</td>\n",
       "      <td>0.0</td>\n",
       "      <td>1.0</td>\n",
       "      <td>100.000000</td>\n",
       "    </tr>\n",
       "    <tr>\n",
       "      <th>10</th>\n",
       "      <td>Mexico</td>\n",
       "      <td>1.0</td>\n",
       "      <td>0.0</td>\n",
       "      <td>1.0</td>\n",
       "      <td>100.000000</td>\n",
       "    </tr>\n",
       "    <tr>\n",
       "      <th>11</th>\n",
       "      <td>Puerto Rico</td>\n",
       "      <td>1.0</td>\n",
       "      <td>0.0</td>\n",
       "      <td>1.0</td>\n",
       "      <td>100.000000</td>\n",
       "    </tr>\n",
       "    <tr>\n",
       "      <th>12</th>\n",
       "      <td>Russia</td>\n",
       "      <td>1.0</td>\n",
       "      <td>0.0</td>\n",
       "      <td>1.0</td>\n",
       "      <td>100.000000</td>\n",
       "    </tr>\n",
       "    <tr>\n",
       "      <th>13</th>\n",
       "      <td>United Kingdom</td>\n",
       "      <td>1.0</td>\n",
       "      <td>1.0</td>\n",
       "      <td>2.0</td>\n",
       "      <td>50.000000</td>\n",
       "    </tr>\n",
       "    <tr>\n",
       "      <th>14</th>\n",
       "      <td>Netherlands</td>\n",
       "      <td>0.0</td>\n",
       "      <td>1.0</td>\n",
       "      <td>1.0</td>\n",
       "      <td>0.000000</td>\n",
       "    </tr>\n",
       "  </tbody>\n",
       "</table>\n",
       "</div>"
      ],
      "text/plain": [
       "           Country  Sucesso  Falha  Total_tentativas  Chance_sucesso\n",
       "0           France     11.0    4.0              15.0       73.333333\n",
       "1    United States      6.0    2.0               8.0       75.000000\n",
       "2           Canada      3.0    1.0               4.0       75.000000\n",
       "3          Belgium      2.0    2.0               4.0       50.000000\n",
       "4           Brazil      2.0    0.0               2.0      100.000000\n",
       "5           Greece      2.0    2.0               4.0       50.000000\n",
       "6        Australia      1.0    1.0               2.0       50.000000\n",
       "7            Chile      1.0    0.0               1.0      100.000000\n",
       "8          Ireland      1.0    0.0               1.0      100.000000\n",
       "9            Italy      1.0    0.0               1.0      100.000000\n",
       "10          Mexico      1.0    0.0               1.0      100.000000\n",
       "11     Puerto Rico      1.0    0.0               1.0      100.000000\n",
       "12          Russia      1.0    0.0               1.0      100.000000\n",
       "13  United Kingdom      1.0    1.0               2.0       50.000000\n",
       "14     Netherlands      0.0    1.0               1.0        0.000000"
      ]
     },
     "execution_count": 34,
     "metadata": {},
     "output_type": "execute_result"
    }
   ],
   "source": [
    "fugas_merge['Chance_sucesso'] = (fugas_merge['Sucesso']/fugas_merge['Total_tentativas'])*100\n",
    "fugas_merge\n"
   ]
  },
  {
   "cell_type": "markdown",
   "id": "18eead17",
   "metadata": {},
   "source": [
    "## Resposta da 3 questão: Em quais países as fugas de helicópteto tem maior chance de sucesso?"
   ]
  },
  {
   "cell_type": "code",
   "execution_count": 85,
   "id": "3854392f",
   "metadata": {},
   "outputs": [
    {
     "data": {
      "text/html": [
       "<div>\n",
       "<style scoped>\n",
       "    .dataframe tbody tr th:only-of-type {\n",
       "        vertical-align: middle;\n",
       "    }\n",
       "\n",
       "    .dataframe tbody tr th {\n",
       "        vertical-align: top;\n",
       "    }\n",
       "\n",
       "    .dataframe thead th {\n",
       "        text-align: right;\n",
       "    }\n",
       "</style>\n",
       "<table border=\"1\" class=\"dataframe\">\n",
       "  <thead>\n",
       "    <tr style=\"text-align: right;\">\n",
       "      <th></th>\n",
       "      <th>Country</th>\n",
       "      <th>Sucesso</th>\n",
       "      <th>Falha</th>\n",
       "      <th>Total_tentativas</th>\n",
       "      <th>Chance_sucesso</th>\n",
       "      <th>Chance_insucesso</th>\n",
       "    </tr>\n",
       "  </thead>\n",
       "  <tbody>\n",
       "    <tr>\n",
       "      <th>4</th>\n",
       "      <td>Brazil</td>\n",
       "      <td>2.0</td>\n",
       "      <td>0.0</td>\n",
       "      <td>2.0</td>\n",
       "      <td>100.000000</td>\n",
       "      <td>0.000000</td>\n",
       "    </tr>\n",
       "    <tr>\n",
       "      <th>7</th>\n",
       "      <td>Chile</td>\n",
       "      <td>1.0</td>\n",
       "      <td>0.0</td>\n",
       "      <td>1.0</td>\n",
       "      <td>100.000000</td>\n",
       "      <td>0.000000</td>\n",
       "    </tr>\n",
       "    <tr>\n",
       "      <th>8</th>\n",
       "      <td>Ireland</td>\n",
       "      <td>1.0</td>\n",
       "      <td>0.0</td>\n",
       "      <td>1.0</td>\n",
       "      <td>100.000000</td>\n",
       "      <td>0.000000</td>\n",
       "    </tr>\n",
       "    <tr>\n",
       "      <th>9</th>\n",
       "      <td>Italy</td>\n",
       "      <td>1.0</td>\n",
       "      <td>0.0</td>\n",
       "      <td>1.0</td>\n",
       "      <td>100.000000</td>\n",
       "      <td>0.000000</td>\n",
       "    </tr>\n",
       "    <tr>\n",
       "      <th>10</th>\n",
       "      <td>Mexico</td>\n",
       "      <td>1.0</td>\n",
       "      <td>0.0</td>\n",
       "      <td>1.0</td>\n",
       "      <td>100.000000</td>\n",
       "      <td>0.000000</td>\n",
       "    </tr>\n",
       "    <tr>\n",
       "      <th>11</th>\n",
       "      <td>Puerto Rico</td>\n",
       "      <td>1.0</td>\n",
       "      <td>0.0</td>\n",
       "      <td>1.0</td>\n",
       "      <td>100.000000</td>\n",
       "      <td>0.000000</td>\n",
       "    </tr>\n",
       "    <tr>\n",
       "      <th>12</th>\n",
       "      <td>Russia</td>\n",
       "      <td>1.0</td>\n",
       "      <td>0.0</td>\n",
       "      <td>1.0</td>\n",
       "      <td>100.000000</td>\n",
       "      <td>0.000000</td>\n",
       "    </tr>\n",
       "    <tr>\n",
       "      <th>1</th>\n",
       "      <td>United States</td>\n",
       "      <td>6.0</td>\n",
       "      <td>2.0</td>\n",
       "      <td>8.0</td>\n",
       "      <td>75.000000</td>\n",
       "      <td>25.000000</td>\n",
       "    </tr>\n",
       "    <tr>\n",
       "      <th>2</th>\n",
       "      <td>Canada</td>\n",
       "      <td>3.0</td>\n",
       "      <td>1.0</td>\n",
       "      <td>4.0</td>\n",
       "      <td>75.000000</td>\n",
       "      <td>25.000000</td>\n",
       "    </tr>\n",
       "    <tr>\n",
       "      <th>0</th>\n",
       "      <td>France</td>\n",
       "      <td>11.0</td>\n",
       "      <td>4.0</td>\n",
       "      <td>15.0</td>\n",
       "      <td>73.333333</td>\n",
       "      <td>26.666667</td>\n",
       "    </tr>\n",
       "    <tr>\n",
       "      <th>3</th>\n",
       "      <td>Belgium</td>\n",
       "      <td>2.0</td>\n",
       "      <td>2.0</td>\n",
       "      <td>4.0</td>\n",
       "      <td>50.000000</td>\n",
       "      <td>50.000000</td>\n",
       "    </tr>\n",
       "    <tr>\n",
       "      <th>5</th>\n",
       "      <td>Greece</td>\n",
       "      <td>2.0</td>\n",
       "      <td>2.0</td>\n",
       "      <td>4.0</td>\n",
       "      <td>50.000000</td>\n",
       "      <td>50.000000</td>\n",
       "    </tr>\n",
       "    <tr>\n",
       "      <th>6</th>\n",
       "      <td>Australia</td>\n",
       "      <td>1.0</td>\n",
       "      <td>1.0</td>\n",
       "      <td>2.0</td>\n",
       "      <td>50.000000</td>\n",
       "      <td>50.000000</td>\n",
       "    </tr>\n",
       "    <tr>\n",
       "      <th>13</th>\n",
       "      <td>United Kingdom</td>\n",
       "      <td>1.0</td>\n",
       "      <td>1.0</td>\n",
       "      <td>2.0</td>\n",
       "      <td>50.000000</td>\n",
       "      <td>50.000000</td>\n",
       "    </tr>\n",
       "    <tr>\n",
       "      <th>14</th>\n",
       "      <td>Netherlands</td>\n",
       "      <td>0.0</td>\n",
       "      <td>1.0</td>\n",
       "      <td>1.0</td>\n",
       "      <td>0.000000</td>\n",
       "      <td>100.000000</td>\n",
       "    </tr>\n",
       "  </tbody>\n",
       "</table>\n",
       "</div>"
      ],
      "text/plain": [
       "           Country  Sucesso  Falha  Total_tentativas  Chance_sucesso  \\\n",
       "4           Brazil      2.0    0.0               2.0      100.000000   \n",
       "7            Chile      1.0    0.0               1.0      100.000000   \n",
       "8          Ireland      1.0    0.0               1.0      100.000000   \n",
       "9            Italy      1.0    0.0               1.0      100.000000   \n",
       "10          Mexico      1.0    0.0               1.0      100.000000   \n",
       "11     Puerto Rico      1.0    0.0               1.0      100.000000   \n",
       "12          Russia      1.0    0.0               1.0      100.000000   \n",
       "1    United States      6.0    2.0               8.0       75.000000   \n",
       "2           Canada      3.0    1.0               4.0       75.000000   \n",
       "0           France     11.0    4.0              15.0       73.333333   \n",
       "3          Belgium      2.0    2.0               4.0       50.000000   \n",
       "5           Greece      2.0    2.0               4.0       50.000000   \n",
       "6        Australia      1.0    1.0               2.0       50.000000   \n",
       "13  United Kingdom      1.0    1.0               2.0       50.000000   \n",
       "14     Netherlands      0.0    1.0               1.0        0.000000   \n",
       "\n",
       "    Chance_insucesso  \n",
       "4           0.000000  \n",
       "7           0.000000  \n",
       "8           0.000000  \n",
       "9           0.000000  \n",
       "10          0.000000  \n",
       "11          0.000000  \n",
       "12          0.000000  \n",
       "1          25.000000  \n",
       "2          25.000000  \n",
       "0          26.666667  \n",
       "3          50.000000  \n",
       "5          50.000000  \n",
       "6          50.000000  \n",
       "13         50.000000  \n",
       "14        100.000000  "
      ]
     },
     "execution_count": 85,
     "metadata": {},
     "output_type": "execute_result"
    }
   ],
   "source": [
    "## Os países em que fugas prisionais de helicóptero tem mais chance de sucesso são: Brasil, \n",
    "## Chile, Irlanda, Itália, México, Porto Rico e Rússia\n",
    "\n",
    "fugas_merge['Chance_insucesso'] = (fugas_merge['Falha']/fugas_merge['Total_tentativas'])*100\n",
    "fugas_merge = fugas_merge.sort_values(['Chance_sucesso', 'Sucesso'], ascending=False)\n",
    "fugas_merge"
   ]
  },
  {
   "cell_type": "markdown",
   "id": "69ffea0a",
   "metadata": {},
   "source": [
    "## Gráfico questão 3: Países em que fugas de helicóptero tem mais chance de sucesso"
   ]
  },
  {
   "cell_type": "code",
   "execution_count": 82,
   "id": "bc0b1af0",
   "metadata": {},
   "outputs": [
    {
     "data": {
      "application/vnd.plotly.v1+json": {
       "config": {
        "plotlyServerURL": "https://plot.ly"
       },
       "data": [
        {
         "alignmentgroup": "True",
         "bingroup": "x",
         "histfunc": "sum",
         "hovertemplate": "Chance_sucesso=100.0<br>Country=%{x}<br>sum of Chance_sucesso=%{y}<extra></extra>",
         "legendgroup": "100.0",
         "marker": {
          "color": "#636efa",
          "pattern": {
           "shape": ""
          }
         },
         "name": "100.0",
         "offsetgroup": "100.0",
         "orientation": "v",
         "showlegend": true,
         "type": "histogram",
         "x": [
          "Brazil",
          "Chile",
          "Ireland",
          "Italy",
          "Mexico",
          "Puerto Rico",
          "Russia"
         ],
         "xaxis": "x",
         "y": [
          100,
          100,
          100,
          100,
          100,
          100,
          100
         ],
         "yaxis": "y"
        },
        {
         "alignmentgroup": "True",
         "bingroup": "x",
         "histfunc": "sum",
         "hovertemplate": "Chance_sucesso=75.0<br>Country=%{x}<br>sum of Chance_sucesso=%{y}<extra></extra>",
         "legendgroup": "75.0",
         "marker": {
          "color": "#EF553B",
          "pattern": {
           "shape": ""
          }
         },
         "name": "75.0",
         "offsetgroup": "75.0",
         "orientation": "v",
         "showlegend": true,
         "type": "histogram",
         "x": [
          "United States",
          "Canada"
         ],
         "xaxis": "x",
         "y": [
          75,
          75
         ],
         "yaxis": "y"
        },
        {
         "alignmentgroup": "True",
         "bingroup": "x",
         "histfunc": "sum",
         "hovertemplate": "Chance_sucesso=73.33333333333333<br>Country=%{x}<br>sum of Chance_sucesso=%{y}<extra></extra>",
         "legendgroup": "73.33333333333333",
         "marker": {
          "color": "#00cc96",
          "pattern": {
           "shape": ""
          }
         },
         "name": "73.33333333333333",
         "offsetgroup": "73.33333333333333",
         "orientation": "v",
         "showlegend": true,
         "type": "histogram",
         "x": [
          "France"
         ],
         "xaxis": "x",
         "y": [
          73.33333333333333
         ],
         "yaxis": "y"
        },
        {
         "alignmentgroup": "True",
         "bingroup": "x",
         "histfunc": "sum",
         "hovertemplate": "Chance_sucesso=50.0<br>Country=%{x}<br>sum of Chance_sucesso=%{y}<extra></extra>",
         "legendgroup": "50.0",
         "marker": {
          "color": "#ab63fa",
          "pattern": {
           "shape": ""
          }
         },
         "name": "50.0",
         "offsetgroup": "50.0",
         "orientation": "v",
         "showlegend": true,
         "type": "histogram",
         "x": [
          "Belgium",
          "Greece",
          "Australia",
          "United Kingdom"
         ],
         "xaxis": "x",
         "y": [
          50,
          50,
          50,
          50
         ],
         "yaxis": "y"
        },
        {
         "alignmentgroup": "True",
         "bingroup": "x",
         "histfunc": "sum",
         "hovertemplate": "Chance_sucesso=0.0<br>Country=%{x}<br>sum of Chance_sucesso=%{y}<extra></extra>",
         "legendgroup": "0.0",
         "marker": {
          "color": "#FFA15A",
          "pattern": {
           "shape": ""
          }
         },
         "name": "0.0",
         "offsetgroup": "0.0",
         "orientation": "v",
         "showlegend": true,
         "type": "histogram",
         "x": [
          "Netherlands"
         ],
         "xaxis": "x",
         "y": [
          0
         ],
         "yaxis": "y"
        }
       ],
       "layout": {
        "barmode": "relative",
        "legend": {
         "title": {
          "text": "Chance_sucesso"
         },
         "tracegroupgap": 0
        },
        "margin": {
         "t": 60
        },
        "template": {
         "data": {
          "bar": [
           {
            "error_x": {
             "color": "#2a3f5f"
            },
            "error_y": {
             "color": "#2a3f5f"
            },
            "marker": {
             "line": {
              "color": "#E5ECF6",
              "width": 0.5
             },
             "pattern": {
              "fillmode": "overlay",
              "size": 10,
              "solidity": 0.2
             }
            },
            "type": "bar"
           }
          ],
          "barpolar": [
           {
            "marker": {
             "line": {
              "color": "#E5ECF6",
              "width": 0.5
             },
             "pattern": {
              "fillmode": "overlay",
              "size": 10,
              "solidity": 0.2
             }
            },
            "type": "barpolar"
           }
          ],
          "carpet": [
           {
            "aaxis": {
             "endlinecolor": "#2a3f5f",
             "gridcolor": "white",
             "linecolor": "white",
             "minorgridcolor": "white",
             "startlinecolor": "#2a3f5f"
            },
            "baxis": {
             "endlinecolor": "#2a3f5f",
             "gridcolor": "white",
             "linecolor": "white",
             "minorgridcolor": "white",
             "startlinecolor": "#2a3f5f"
            },
            "type": "carpet"
           }
          ],
          "choropleth": [
           {
            "colorbar": {
             "outlinewidth": 0,
             "ticks": ""
            },
            "type": "choropleth"
           }
          ],
          "contour": [
           {
            "colorbar": {
             "outlinewidth": 0,
             "ticks": ""
            },
            "colorscale": [
             [
              0,
              "#0d0887"
             ],
             [
              0.1111111111111111,
              "#46039f"
             ],
             [
              0.2222222222222222,
              "#7201a8"
             ],
             [
              0.3333333333333333,
              "#9c179e"
             ],
             [
              0.4444444444444444,
              "#bd3786"
             ],
             [
              0.5555555555555556,
              "#d8576b"
             ],
             [
              0.6666666666666666,
              "#ed7953"
             ],
             [
              0.7777777777777778,
              "#fb9f3a"
             ],
             [
              0.8888888888888888,
              "#fdca26"
             ],
             [
              1,
              "#f0f921"
             ]
            ],
            "type": "contour"
           }
          ],
          "contourcarpet": [
           {
            "colorbar": {
             "outlinewidth": 0,
             "ticks": ""
            },
            "type": "contourcarpet"
           }
          ],
          "heatmap": [
           {
            "colorbar": {
             "outlinewidth": 0,
             "ticks": ""
            },
            "colorscale": [
             [
              0,
              "#0d0887"
             ],
             [
              0.1111111111111111,
              "#46039f"
             ],
             [
              0.2222222222222222,
              "#7201a8"
             ],
             [
              0.3333333333333333,
              "#9c179e"
             ],
             [
              0.4444444444444444,
              "#bd3786"
             ],
             [
              0.5555555555555556,
              "#d8576b"
             ],
             [
              0.6666666666666666,
              "#ed7953"
             ],
             [
              0.7777777777777778,
              "#fb9f3a"
             ],
             [
              0.8888888888888888,
              "#fdca26"
             ],
             [
              1,
              "#f0f921"
             ]
            ],
            "type": "heatmap"
           }
          ],
          "heatmapgl": [
           {
            "colorbar": {
             "outlinewidth": 0,
             "ticks": ""
            },
            "colorscale": [
             [
              0,
              "#0d0887"
             ],
             [
              0.1111111111111111,
              "#46039f"
             ],
             [
              0.2222222222222222,
              "#7201a8"
             ],
             [
              0.3333333333333333,
              "#9c179e"
             ],
             [
              0.4444444444444444,
              "#bd3786"
             ],
             [
              0.5555555555555556,
              "#d8576b"
             ],
             [
              0.6666666666666666,
              "#ed7953"
             ],
             [
              0.7777777777777778,
              "#fb9f3a"
             ],
             [
              0.8888888888888888,
              "#fdca26"
             ],
             [
              1,
              "#f0f921"
             ]
            ],
            "type": "heatmapgl"
           }
          ],
          "histogram": [
           {
            "marker": {
             "pattern": {
              "fillmode": "overlay",
              "size": 10,
              "solidity": 0.2
             }
            },
            "type": "histogram"
           }
          ],
          "histogram2d": [
           {
            "colorbar": {
             "outlinewidth": 0,
             "ticks": ""
            },
            "colorscale": [
             [
              0,
              "#0d0887"
             ],
             [
              0.1111111111111111,
              "#46039f"
             ],
             [
              0.2222222222222222,
              "#7201a8"
             ],
             [
              0.3333333333333333,
              "#9c179e"
             ],
             [
              0.4444444444444444,
              "#bd3786"
             ],
             [
              0.5555555555555556,
              "#d8576b"
             ],
             [
              0.6666666666666666,
              "#ed7953"
             ],
             [
              0.7777777777777778,
              "#fb9f3a"
             ],
             [
              0.8888888888888888,
              "#fdca26"
             ],
             [
              1,
              "#f0f921"
             ]
            ],
            "type": "histogram2d"
           }
          ],
          "histogram2dcontour": [
           {
            "colorbar": {
             "outlinewidth": 0,
             "ticks": ""
            },
            "colorscale": [
             [
              0,
              "#0d0887"
             ],
             [
              0.1111111111111111,
              "#46039f"
             ],
             [
              0.2222222222222222,
              "#7201a8"
             ],
             [
              0.3333333333333333,
              "#9c179e"
             ],
             [
              0.4444444444444444,
              "#bd3786"
             ],
             [
              0.5555555555555556,
              "#d8576b"
             ],
             [
              0.6666666666666666,
              "#ed7953"
             ],
             [
              0.7777777777777778,
              "#fb9f3a"
             ],
             [
              0.8888888888888888,
              "#fdca26"
             ],
             [
              1,
              "#f0f921"
             ]
            ],
            "type": "histogram2dcontour"
           }
          ],
          "mesh3d": [
           {
            "colorbar": {
             "outlinewidth": 0,
             "ticks": ""
            },
            "type": "mesh3d"
           }
          ],
          "parcoords": [
           {
            "line": {
             "colorbar": {
              "outlinewidth": 0,
              "ticks": ""
             }
            },
            "type": "parcoords"
           }
          ],
          "pie": [
           {
            "automargin": true,
            "type": "pie"
           }
          ],
          "scatter": [
           {
            "marker": {
             "colorbar": {
              "outlinewidth": 0,
              "ticks": ""
             }
            },
            "type": "scatter"
           }
          ],
          "scatter3d": [
           {
            "line": {
             "colorbar": {
              "outlinewidth": 0,
              "ticks": ""
             }
            },
            "marker": {
             "colorbar": {
              "outlinewidth": 0,
              "ticks": ""
             }
            },
            "type": "scatter3d"
           }
          ],
          "scattercarpet": [
           {
            "marker": {
             "colorbar": {
              "outlinewidth": 0,
              "ticks": ""
             }
            },
            "type": "scattercarpet"
           }
          ],
          "scattergeo": [
           {
            "marker": {
             "colorbar": {
              "outlinewidth": 0,
              "ticks": ""
             }
            },
            "type": "scattergeo"
           }
          ],
          "scattergl": [
           {
            "marker": {
             "colorbar": {
              "outlinewidth": 0,
              "ticks": ""
             }
            },
            "type": "scattergl"
           }
          ],
          "scattermapbox": [
           {
            "marker": {
             "colorbar": {
              "outlinewidth": 0,
              "ticks": ""
             }
            },
            "type": "scattermapbox"
           }
          ],
          "scatterpolar": [
           {
            "marker": {
             "colorbar": {
              "outlinewidth": 0,
              "ticks": ""
             }
            },
            "type": "scatterpolar"
           }
          ],
          "scatterpolargl": [
           {
            "marker": {
             "colorbar": {
              "outlinewidth": 0,
              "ticks": ""
             }
            },
            "type": "scatterpolargl"
           }
          ],
          "scatterternary": [
           {
            "marker": {
             "colorbar": {
              "outlinewidth": 0,
              "ticks": ""
             }
            },
            "type": "scatterternary"
           }
          ],
          "surface": [
           {
            "colorbar": {
             "outlinewidth": 0,
             "ticks": ""
            },
            "colorscale": [
             [
              0,
              "#0d0887"
             ],
             [
              0.1111111111111111,
              "#46039f"
             ],
             [
              0.2222222222222222,
              "#7201a8"
             ],
             [
              0.3333333333333333,
              "#9c179e"
             ],
             [
              0.4444444444444444,
              "#bd3786"
             ],
             [
              0.5555555555555556,
              "#d8576b"
             ],
             [
              0.6666666666666666,
              "#ed7953"
             ],
             [
              0.7777777777777778,
              "#fb9f3a"
             ],
             [
              0.8888888888888888,
              "#fdca26"
             ],
             [
              1,
              "#f0f921"
             ]
            ],
            "type": "surface"
           }
          ],
          "table": [
           {
            "cells": {
             "fill": {
              "color": "#EBF0F8"
             },
             "line": {
              "color": "white"
             }
            },
            "header": {
             "fill": {
              "color": "#C8D4E3"
             },
             "line": {
              "color": "white"
             }
            },
            "type": "table"
           }
          ]
         },
         "layout": {
          "annotationdefaults": {
           "arrowcolor": "#2a3f5f",
           "arrowhead": 0,
           "arrowwidth": 1
          },
          "autotypenumbers": "strict",
          "coloraxis": {
           "colorbar": {
            "outlinewidth": 0,
            "ticks": ""
           }
          },
          "colorscale": {
           "diverging": [
            [
             0,
             "#8e0152"
            ],
            [
             0.1,
             "#c51b7d"
            ],
            [
             0.2,
             "#de77ae"
            ],
            [
             0.3,
             "#f1b6da"
            ],
            [
             0.4,
             "#fde0ef"
            ],
            [
             0.5,
             "#f7f7f7"
            ],
            [
             0.6,
             "#e6f5d0"
            ],
            [
             0.7,
             "#b8e186"
            ],
            [
             0.8,
             "#7fbc41"
            ],
            [
             0.9,
             "#4d9221"
            ],
            [
             1,
             "#276419"
            ]
           ],
           "sequential": [
            [
             0,
             "#0d0887"
            ],
            [
             0.1111111111111111,
             "#46039f"
            ],
            [
             0.2222222222222222,
             "#7201a8"
            ],
            [
             0.3333333333333333,
             "#9c179e"
            ],
            [
             0.4444444444444444,
             "#bd3786"
            ],
            [
             0.5555555555555556,
             "#d8576b"
            ],
            [
             0.6666666666666666,
             "#ed7953"
            ],
            [
             0.7777777777777778,
             "#fb9f3a"
            ],
            [
             0.8888888888888888,
             "#fdca26"
            ],
            [
             1,
             "#f0f921"
            ]
           ],
           "sequentialminus": [
            [
             0,
             "#0d0887"
            ],
            [
             0.1111111111111111,
             "#46039f"
            ],
            [
             0.2222222222222222,
             "#7201a8"
            ],
            [
             0.3333333333333333,
             "#9c179e"
            ],
            [
             0.4444444444444444,
             "#bd3786"
            ],
            [
             0.5555555555555556,
             "#d8576b"
            ],
            [
             0.6666666666666666,
             "#ed7953"
            ],
            [
             0.7777777777777778,
             "#fb9f3a"
            ],
            [
             0.8888888888888888,
             "#fdca26"
            ],
            [
             1,
             "#f0f921"
            ]
           ]
          },
          "colorway": [
           "#636efa",
           "#EF553B",
           "#00cc96",
           "#ab63fa",
           "#FFA15A",
           "#19d3f3",
           "#FF6692",
           "#B6E880",
           "#FF97FF",
           "#FECB52"
          ],
          "font": {
           "color": "#2a3f5f"
          },
          "geo": {
           "bgcolor": "white",
           "lakecolor": "white",
           "landcolor": "#E5ECF6",
           "showlakes": true,
           "showland": true,
           "subunitcolor": "white"
          },
          "hoverlabel": {
           "align": "left"
          },
          "hovermode": "closest",
          "mapbox": {
           "style": "light"
          },
          "paper_bgcolor": "white",
          "plot_bgcolor": "#E5ECF6",
          "polar": {
           "angularaxis": {
            "gridcolor": "white",
            "linecolor": "white",
            "ticks": ""
           },
           "bgcolor": "#E5ECF6",
           "radialaxis": {
            "gridcolor": "white",
            "linecolor": "white",
            "ticks": ""
           }
          },
          "scene": {
           "xaxis": {
            "backgroundcolor": "#E5ECF6",
            "gridcolor": "white",
            "gridwidth": 2,
            "linecolor": "white",
            "showbackground": true,
            "ticks": "",
            "zerolinecolor": "white"
           },
           "yaxis": {
            "backgroundcolor": "#E5ECF6",
            "gridcolor": "white",
            "gridwidth": 2,
            "linecolor": "white",
            "showbackground": true,
            "ticks": "",
            "zerolinecolor": "white"
           },
           "zaxis": {
            "backgroundcolor": "#E5ECF6",
            "gridcolor": "white",
            "gridwidth": 2,
            "linecolor": "white",
            "showbackground": true,
            "ticks": "",
            "zerolinecolor": "white"
           }
          },
          "shapedefaults": {
           "line": {
            "color": "#2a3f5f"
           }
          },
          "ternary": {
           "aaxis": {
            "gridcolor": "white",
            "linecolor": "white",
            "ticks": ""
           },
           "baxis": {
            "gridcolor": "white",
            "linecolor": "white",
            "ticks": ""
           },
           "bgcolor": "#E5ECF6",
           "caxis": {
            "gridcolor": "white",
            "linecolor": "white",
            "ticks": ""
           }
          },
          "title": {
           "x": 0.05
          },
          "xaxis": {
           "automargin": true,
           "gridcolor": "white",
           "linecolor": "white",
           "ticks": "",
           "title": {
            "standoff": 15
           },
           "zerolinecolor": "white",
           "zerolinewidth": 2
          },
          "yaxis": {
           "automargin": true,
           "gridcolor": "white",
           "linecolor": "white",
           "ticks": "",
           "title": {
            "standoff": 15
           },
           "zerolinecolor": "white",
           "zerolinewidth": 2
          }
         }
        },
        "xaxis": {
         "anchor": "y",
         "domain": [
          0,
          1
         ],
         "title": {
          "text": "Country"
         }
        },
        "yaxis": {
         "anchor": "x",
         "categoryarray": [
          0,
          50,
          73.33333333333333,
          75,
          100
         ],
         "categoryorder": "array",
         "domain": [
          0,
          1
         ],
         "title": {
          "text": "sum of Chance_sucesso"
         }
        }
       }
      },
      "text/html": [
       "<div>                            <div id=\"a003538d-0b2f-4df7-a888-8b30bfd5a7a6\" class=\"plotly-graph-div\" style=\"height:525px; width:100%;\"></div>            <script type=\"text/javascript\">                require([\"plotly\"], function(Plotly) {                    window.PLOTLYENV=window.PLOTLYENV || {};                                    if (document.getElementById(\"a003538d-0b2f-4df7-a888-8b30bfd5a7a6\")) {                    Plotly.newPlot(                        \"a003538d-0b2f-4df7-a888-8b30bfd5a7a6\",                        [{\"alignmentgroup\":\"True\",\"bingroup\":\"x\",\"histfunc\":\"sum\",\"hovertemplate\":\"Chance_sucesso=100.0<br>Country=%{x}<br>sum of Chance_sucesso=%{y}<extra></extra>\",\"legendgroup\":\"100.0\",\"marker\":{\"color\":\"#636efa\",\"pattern\":{\"shape\":\"\"}},\"name\":\"100.0\",\"offsetgroup\":\"100.0\",\"orientation\":\"v\",\"showlegend\":true,\"x\":[\"Brazil\",\"Chile\",\"Ireland\",\"Italy\",\"Mexico\",\"Puerto Rico\",\"Russia\"],\"xaxis\":\"x\",\"y\":[100.0,100.0,100.0,100.0,100.0,100.0,100.0],\"yaxis\":\"y\",\"type\":\"histogram\"},{\"alignmentgroup\":\"True\",\"bingroup\":\"x\",\"histfunc\":\"sum\",\"hovertemplate\":\"Chance_sucesso=75.0<br>Country=%{x}<br>sum of Chance_sucesso=%{y}<extra></extra>\",\"legendgroup\":\"75.0\",\"marker\":{\"color\":\"#EF553B\",\"pattern\":{\"shape\":\"\"}},\"name\":\"75.0\",\"offsetgroup\":\"75.0\",\"orientation\":\"v\",\"showlegend\":true,\"x\":[\"United States\",\"Canada\"],\"xaxis\":\"x\",\"y\":[75.0,75.0],\"yaxis\":\"y\",\"type\":\"histogram\"},{\"alignmentgroup\":\"True\",\"bingroup\":\"x\",\"histfunc\":\"sum\",\"hovertemplate\":\"Chance_sucesso=73.33333333333333<br>Country=%{x}<br>sum of Chance_sucesso=%{y}<extra></extra>\",\"legendgroup\":\"73.33333333333333\",\"marker\":{\"color\":\"#00cc96\",\"pattern\":{\"shape\":\"\"}},\"name\":\"73.33333333333333\",\"offsetgroup\":\"73.33333333333333\",\"orientation\":\"v\",\"showlegend\":true,\"x\":[\"France\"],\"xaxis\":\"x\",\"y\":[73.33333333333333],\"yaxis\":\"y\",\"type\":\"histogram\"},{\"alignmentgroup\":\"True\",\"bingroup\":\"x\",\"histfunc\":\"sum\",\"hovertemplate\":\"Chance_sucesso=50.0<br>Country=%{x}<br>sum of Chance_sucesso=%{y}<extra></extra>\",\"legendgroup\":\"50.0\",\"marker\":{\"color\":\"#ab63fa\",\"pattern\":{\"shape\":\"\"}},\"name\":\"50.0\",\"offsetgroup\":\"50.0\",\"orientation\":\"v\",\"showlegend\":true,\"x\":[\"Belgium\",\"Greece\",\"Australia\",\"United Kingdom\"],\"xaxis\":\"x\",\"y\":[50.0,50.0,50.0,50.0],\"yaxis\":\"y\",\"type\":\"histogram\"},{\"alignmentgroup\":\"True\",\"bingroup\":\"x\",\"histfunc\":\"sum\",\"hovertemplate\":\"Chance_sucesso=0.0<br>Country=%{x}<br>sum of Chance_sucesso=%{y}<extra></extra>\",\"legendgroup\":\"0.0\",\"marker\":{\"color\":\"#FFA15A\",\"pattern\":{\"shape\":\"\"}},\"name\":\"0.0\",\"offsetgroup\":\"0.0\",\"orientation\":\"v\",\"showlegend\":true,\"x\":[\"Netherlands\"],\"xaxis\":\"x\",\"y\":[0.0],\"yaxis\":\"y\",\"type\":\"histogram\"}],                        {\"template\":{\"data\":{\"bar\":[{\"error_x\":{\"color\":\"#2a3f5f\"},\"error_y\":{\"color\":\"#2a3f5f\"},\"marker\":{\"line\":{\"color\":\"#E5ECF6\",\"width\":0.5},\"pattern\":{\"fillmode\":\"overlay\",\"size\":10,\"solidity\":0.2}},\"type\":\"bar\"}],\"barpolar\":[{\"marker\":{\"line\":{\"color\":\"#E5ECF6\",\"width\":0.5},\"pattern\":{\"fillmode\":\"overlay\",\"size\":10,\"solidity\":0.2}},\"type\":\"barpolar\"}],\"carpet\":[{\"aaxis\":{\"endlinecolor\":\"#2a3f5f\",\"gridcolor\":\"white\",\"linecolor\":\"white\",\"minorgridcolor\":\"white\",\"startlinecolor\":\"#2a3f5f\"},\"baxis\":{\"endlinecolor\":\"#2a3f5f\",\"gridcolor\":\"white\",\"linecolor\":\"white\",\"minorgridcolor\":\"white\",\"startlinecolor\":\"#2a3f5f\"},\"type\":\"carpet\"}],\"choropleth\":[{\"colorbar\":{\"outlinewidth\":0,\"ticks\":\"\"},\"type\":\"choropleth\"}],\"contour\":[{\"colorbar\":{\"outlinewidth\":0,\"ticks\":\"\"},\"colorscale\":[[0.0,\"#0d0887\"],[0.1111111111111111,\"#46039f\"],[0.2222222222222222,\"#7201a8\"],[0.3333333333333333,\"#9c179e\"],[0.4444444444444444,\"#bd3786\"],[0.5555555555555556,\"#d8576b\"],[0.6666666666666666,\"#ed7953\"],[0.7777777777777778,\"#fb9f3a\"],[0.8888888888888888,\"#fdca26\"],[1.0,\"#f0f921\"]],\"type\":\"contour\"}],\"contourcarpet\":[{\"colorbar\":{\"outlinewidth\":0,\"ticks\":\"\"},\"type\":\"contourcarpet\"}],\"heatmap\":[{\"colorbar\":{\"outlinewidth\":0,\"ticks\":\"\"},\"colorscale\":[[0.0,\"#0d0887\"],[0.1111111111111111,\"#46039f\"],[0.2222222222222222,\"#7201a8\"],[0.3333333333333333,\"#9c179e\"],[0.4444444444444444,\"#bd3786\"],[0.5555555555555556,\"#d8576b\"],[0.6666666666666666,\"#ed7953\"],[0.7777777777777778,\"#fb9f3a\"],[0.8888888888888888,\"#fdca26\"],[1.0,\"#f0f921\"]],\"type\":\"heatmap\"}],\"heatmapgl\":[{\"colorbar\":{\"outlinewidth\":0,\"ticks\":\"\"},\"colorscale\":[[0.0,\"#0d0887\"],[0.1111111111111111,\"#46039f\"],[0.2222222222222222,\"#7201a8\"],[0.3333333333333333,\"#9c179e\"],[0.4444444444444444,\"#bd3786\"],[0.5555555555555556,\"#d8576b\"],[0.6666666666666666,\"#ed7953\"],[0.7777777777777778,\"#fb9f3a\"],[0.8888888888888888,\"#fdca26\"],[1.0,\"#f0f921\"]],\"type\":\"heatmapgl\"}],\"histogram\":[{\"marker\":{\"pattern\":{\"fillmode\":\"overlay\",\"size\":10,\"solidity\":0.2}},\"type\":\"histogram\"}],\"histogram2d\":[{\"colorbar\":{\"outlinewidth\":0,\"ticks\":\"\"},\"colorscale\":[[0.0,\"#0d0887\"],[0.1111111111111111,\"#46039f\"],[0.2222222222222222,\"#7201a8\"],[0.3333333333333333,\"#9c179e\"],[0.4444444444444444,\"#bd3786\"],[0.5555555555555556,\"#d8576b\"],[0.6666666666666666,\"#ed7953\"],[0.7777777777777778,\"#fb9f3a\"],[0.8888888888888888,\"#fdca26\"],[1.0,\"#f0f921\"]],\"type\":\"histogram2d\"}],\"histogram2dcontour\":[{\"colorbar\":{\"outlinewidth\":0,\"ticks\":\"\"},\"colorscale\":[[0.0,\"#0d0887\"],[0.1111111111111111,\"#46039f\"],[0.2222222222222222,\"#7201a8\"],[0.3333333333333333,\"#9c179e\"],[0.4444444444444444,\"#bd3786\"],[0.5555555555555556,\"#d8576b\"],[0.6666666666666666,\"#ed7953\"],[0.7777777777777778,\"#fb9f3a\"],[0.8888888888888888,\"#fdca26\"],[1.0,\"#f0f921\"]],\"type\":\"histogram2dcontour\"}],\"mesh3d\":[{\"colorbar\":{\"outlinewidth\":0,\"ticks\":\"\"},\"type\":\"mesh3d\"}],\"parcoords\":[{\"line\":{\"colorbar\":{\"outlinewidth\":0,\"ticks\":\"\"}},\"type\":\"parcoords\"}],\"pie\":[{\"automargin\":true,\"type\":\"pie\"}],\"scatter\":[{\"marker\":{\"colorbar\":{\"outlinewidth\":0,\"ticks\":\"\"}},\"type\":\"scatter\"}],\"scatter3d\":[{\"line\":{\"colorbar\":{\"outlinewidth\":0,\"ticks\":\"\"}},\"marker\":{\"colorbar\":{\"outlinewidth\":0,\"ticks\":\"\"}},\"type\":\"scatter3d\"}],\"scattercarpet\":[{\"marker\":{\"colorbar\":{\"outlinewidth\":0,\"ticks\":\"\"}},\"type\":\"scattercarpet\"}],\"scattergeo\":[{\"marker\":{\"colorbar\":{\"outlinewidth\":0,\"ticks\":\"\"}},\"type\":\"scattergeo\"}],\"scattergl\":[{\"marker\":{\"colorbar\":{\"outlinewidth\":0,\"ticks\":\"\"}},\"type\":\"scattergl\"}],\"scattermapbox\":[{\"marker\":{\"colorbar\":{\"outlinewidth\":0,\"ticks\":\"\"}},\"type\":\"scattermapbox\"}],\"scatterpolar\":[{\"marker\":{\"colorbar\":{\"outlinewidth\":0,\"ticks\":\"\"}},\"type\":\"scatterpolar\"}],\"scatterpolargl\":[{\"marker\":{\"colorbar\":{\"outlinewidth\":0,\"ticks\":\"\"}},\"type\":\"scatterpolargl\"}],\"scatterternary\":[{\"marker\":{\"colorbar\":{\"outlinewidth\":0,\"ticks\":\"\"}},\"type\":\"scatterternary\"}],\"surface\":[{\"colorbar\":{\"outlinewidth\":0,\"ticks\":\"\"},\"colorscale\":[[0.0,\"#0d0887\"],[0.1111111111111111,\"#46039f\"],[0.2222222222222222,\"#7201a8\"],[0.3333333333333333,\"#9c179e\"],[0.4444444444444444,\"#bd3786\"],[0.5555555555555556,\"#d8576b\"],[0.6666666666666666,\"#ed7953\"],[0.7777777777777778,\"#fb9f3a\"],[0.8888888888888888,\"#fdca26\"],[1.0,\"#f0f921\"]],\"type\":\"surface\"}],\"table\":[{\"cells\":{\"fill\":{\"color\":\"#EBF0F8\"},\"line\":{\"color\":\"white\"}},\"header\":{\"fill\":{\"color\":\"#C8D4E3\"},\"line\":{\"color\":\"white\"}},\"type\":\"table\"}]},\"layout\":{\"annotationdefaults\":{\"arrowcolor\":\"#2a3f5f\",\"arrowhead\":0,\"arrowwidth\":1},\"autotypenumbers\":\"strict\",\"coloraxis\":{\"colorbar\":{\"outlinewidth\":0,\"ticks\":\"\"}},\"colorscale\":{\"diverging\":[[0,\"#8e0152\"],[0.1,\"#c51b7d\"],[0.2,\"#de77ae\"],[0.3,\"#f1b6da\"],[0.4,\"#fde0ef\"],[0.5,\"#f7f7f7\"],[0.6,\"#e6f5d0\"],[0.7,\"#b8e186\"],[0.8,\"#7fbc41\"],[0.9,\"#4d9221\"],[1,\"#276419\"]],\"sequential\":[[0.0,\"#0d0887\"],[0.1111111111111111,\"#46039f\"],[0.2222222222222222,\"#7201a8\"],[0.3333333333333333,\"#9c179e\"],[0.4444444444444444,\"#bd3786\"],[0.5555555555555556,\"#d8576b\"],[0.6666666666666666,\"#ed7953\"],[0.7777777777777778,\"#fb9f3a\"],[0.8888888888888888,\"#fdca26\"],[1.0,\"#f0f921\"]],\"sequentialminus\":[[0.0,\"#0d0887\"],[0.1111111111111111,\"#46039f\"],[0.2222222222222222,\"#7201a8\"],[0.3333333333333333,\"#9c179e\"],[0.4444444444444444,\"#bd3786\"],[0.5555555555555556,\"#d8576b\"],[0.6666666666666666,\"#ed7953\"],[0.7777777777777778,\"#fb9f3a\"],[0.8888888888888888,\"#fdca26\"],[1.0,\"#f0f921\"]]},\"colorway\":[\"#636efa\",\"#EF553B\",\"#00cc96\",\"#ab63fa\",\"#FFA15A\",\"#19d3f3\",\"#FF6692\",\"#B6E880\",\"#FF97FF\",\"#FECB52\"],\"font\":{\"color\":\"#2a3f5f\"},\"geo\":{\"bgcolor\":\"white\",\"lakecolor\":\"white\",\"landcolor\":\"#E5ECF6\",\"showlakes\":true,\"showland\":true,\"subunitcolor\":\"white\"},\"hoverlabel\":{\"align\":\"left\"},\"hovermode\":\"closest\",\"mapbox\":{\"style\":\"light\"},\"paper_bgcolor\":\"white\",\"plot_bgcolor\":\"#E5ECF6\",\"polar\":{\"angularaxis\":{\"gridcolor\":\"white\",\"linecolor\":\"white\",\"ticks\":\"\"},\"bgcolor\":\"#E5ECF6\",\"radialaxis\":{\"gridcolor\":\"white\",\"linecolor\":\"white\",\"ticks\":\"\"}},\"scene\":{\"xaxis\":{\"backgroundcolor\":\"#E5ECF6\",\"gridcolor\":\"white\",\"gridwidth\":2,\"linecolor\":\"white\",\"showbackground\":true,\"ticks\":\"\",\"zerolinecolor\":\"white\"},\"yaxis\":{\"backgroundcolor\":\"#E5ECF6\",\"gridcolor\":\"white\",\"gridwidth\":2,\"linecolor\":\"white\",\"showbackground\":true,\"ticks\":\"\",\"zerolinecolor\":\"white\"},\"zaxis\":{\"backgroundcolor\":\"#E5ECF6\",\"gridcolor\":\"white\",\"gridwidth\":2,\"linecolor\":\"white\",\"showbackground\":true,\"ticks\":\"\",\"zerolinecolor\":\"white\"}},\"shapedefaults\":{\"line\":{\"color\":\"#2a3f5f\"}},\"ternary\":{\"aaxis\":{\"gridcolor\":\"white\",\"linecolor\":\"white\",\"ticks\":\"\"},\"baxis\":{\"gridcolor\":\"white\",\"linecolor\":\"white\",\"ticks\":\"\"},\"bgcolor\":\"#E5ECF6\",\"caxis\":{\"gridcolor\":\"white\",\"linecolor\":\"white\",\"ticks\":\"\"}},\"title\":{\"x\":0.05},\"xaxis\":{\"automargin\":true,\"gridcolor\":\"white\",\"linecolor\":\"white\",\"ticks\":\"\",\"title\":{\"standoff\":15},\"zerolinecolor\":\"white\",\"zerolinewidth\":2},\"yaxis\":{\"automargin\":true,\"gridcolor\":\"white\",\"linecolor\":\"white\",\"ticks\":\"\",\"title\":{\"standoff\":15},\"zerolinecolor\":\"white\",\"zerolinewidth\":2}}},\"xaxis\":{\"anchor\":\"y\",\"domain\":[0.0,1.0],\"title\":{\"text\":\"Country\"}},\"yaxis\":{\"anchor\":\"x\",\"domain\":[0.0,1.0],\"title\":{\"text\":\"sum of Chance_sucesso\"},\"categoryorder\":\"array\",\"categoryarray\":[0.0,50.0,73.33333333333333,75.0,100.0]},\"legend\":{\"title\":{\"text\":\"Chance_sucesso\"},\"tracegroupgap\":0},\"margin\":{\"t\":60},\"barmode\":\"relative\"},                        {\"responsive\": true}                    ).then(function(){\n",
       "                            \n",
       "var gd = document.getElementById('a003538d-0b2f-4df7-a888-8b30bfd5a7a6');\n",
       "var x = new MutationObserver(function (mutations, observer) {{\n",
       "        var display = window.getComputedStyle(gd).display;\n",
       "        if (!display || display === 'none') {{\n",
       "            console.log([gd, 'removed!']);\n",
       "            Plotly.purge(gd);\n",
       "            observer.disconnect();\n",
       "        }}\n",
       "}});\n",
       "\n",
       "// Listen for the removal of the full notebook cells\n",
       "var notebookContainer = gd.closest('#notebook-container');\n",
       "if (notebookContainer) {{\n",
       "    x.observe(notebookContainer, {childList: true});\n",
       "}}\n",
       "\n",
       "// Listen for the clearing of the current output cell\n",
       "var outputEl = gd.closest('.output');\n",
       "if (outputEl) {{\n",
       "    x.observe(outputEl, {childList: true});\n",
       "}}\n",
       "\n",
       "                        })                };                });            </script>        </div>"
      ]
     },
     "metadata": {},
     "output_type": "display_data"
    }
   ],
   "source": [
    "fig = px.histogram(fugas_merge, x='Country', y='Chance_sucesso', color='Chance_sucesso')\n",
    "fig.show()"
   ]
  },
  {
   "cell_type": "code",
   "execution_count": 37,
   "id": "4d275638",
   "metadata": {},
   "outputs": [],
   "source": [
    "# Percentual de falha com list comprehension não utilizado no projeto\n",
    "#[-i if i > 0 else i for i in fugas_merge['Chance_insucesso']] \n",
    "\n",
    "# Percentual de falha teste não utilizado pois acrescenta - em todos os valores\n",
    "#-fugas_merge['Chance_insucesso']"
   ]
  },
  {
   "cell_type": "code",
   "execution_count": 38,
   "id": "4a00d404",
   "metadata": {},
   "outputs": [
    {
     "data": {
      "text/plain": [
       "[0.0,\n",
       " 0.0,\n",
       " 0.0,\n",
       " 0.0,\n",
       " 0.0,\n",
       " 0.0,\n",
       " 0.0,\n",
       " -25.0,\n",
       " -25.0,\n",
       " -26.666666666666668,\n",
       " -50.0,\n",
       " -50.0,\n",
       " -50.0,\n",
       " -50.0,\n",
       " -100.0]"
      ]
     },
     "execution_count": 38,
     "metadata": {},
     "output_type": "execute_result"
    }
   ],
   "source": [
    "# Percentual de falha com for adotado no projeto\n",
    "Negativo = []\n",
    "for i in fugas_merge['Chance_insucesso']:\n",
    "    if i > 0: \n",
    "        Negativo.append(-i)\n",
    "    else:\n",
    "        Negativo.append(i)\n",
    "Negativo"
   ]
  },
  {
   "cell_type": "code",
   "execution_count": 39,
   "id": "03b3469c",
   "metadata": {},
   "outputs": [
    {
     "data": {
      "text/html": [
       "<div>\n",
       "<style scoped>\n",
       "    .dataframe tbody tr th:only-of-type {\n",
       "        vertical-align: middle;\n",
       "    }\n",
       "\n",
       "    .dataframe tbody tr th {\n",
       "        vertical-align: top;\n",
       "    }\n",
       "\n",
       "    .dataframe thead th {\n",
       "        text-align: right;\n",
       "    }\n",
       "</style>\n",
       "<table border=\"1\" class=\"dataframe\">\n",
       "  <thead>\n",
       "    <tr style=\"text-align: right;\">\n",
       "      <th></th>\n",
       "      <th>Country</th>\n",
       "      <th>Sucesso</th>\n",
       "      <th>Falha</th>\n",
       "      <th>Total_tentativas</th>\n",
       "      <th>Chance_sucesso</th>\n",
       "      <th>Chance_insucesso</th>\n",
       "    </tr>\n",
       "  </thead>\n",
       "  <tbody>\n",
       "    <tr>\n",
       "      <th>4</th>\n",
       "      <td>Brazil</td>\n",
       "      <td>2.0</td>\n",
       "      <td>0.0</td>\n",
       "      <td>2.0</td>\n",
       "      <td>100.000000</td>\n",
       "      <td>0.000000</td>\n",
       "    </tr>\n",
       "    <tr>\n",
       "      <th>7</th>\n",
       "      <td>Chile</td>\n",
       "      <td>1.0</td>\n",
       "      <td>0.0</td>\n",
       "      <td>1.0</td>\n",
       "      <td>100.000000</td>\n",
       "      <td>0.000000</td>\n",
       "    </tr>\n",
       "    <tr>\n",
       "      <th>8</th>\n",
       "      <td>Ireland</td>\n",
       "      <td>1.0</td>\n",
       "      <td>0.0</td>\n",
       "      <td>1.0</td>\n",
       "      <td>100.000000</td>\n",
       "      <td>0.000000</td>\n",
       "    </tr>\n",
       "    <tr>\n",
       "      <th>9</th>\n",
       "      <td>Italy</td>\n",
       "      <td>1.0</td>\n",
       "      <td>0.0</td>\n",
       "      <td>1.0</td>\n",
       "      <td>100.000000</td>\n",
       "      <td>0.000000</td>\n",
       "    </tr>\n",
       "    <tr>\n",
       "      <th>10</th>\n",
       "      <td>Mexico</td>\n",
       "      <td>1.0</td>\n",
       "      <td>0.0</td>\n",
       "      <td>1.0</td>\n",
       "      <td>100.000000</td>\n",
       "      <td>0.000000</td>\n",
       "    </tr>\n",
       "    <tr>\n",
       "      <th>11</th>\n",
       "      <td>Puerto Rico</td>\n",
       "      <td>1.0</td>\n",
       "      <td>0.0</td>\n",
       "      <td>1.0</td>\n",
       "      <td>100.000000</td>\n",
       "      <td>0.000000</td>\n",
       "    </tr>\n",
       "    <tr>\n",
       "      <th>12</th>\n",
       "      <td>Russia</td>\n",
       "      <td>1.0</td>\n",
       "      <td>0.0</td>\n",
       "      <td>1.0</td>\n",
       "      <td>100.000000</td>\n",
       "      <td>0.000000</td>\n",
       "    </tr>\n",
       "    <tr>\n",
       "      <th>1</th>\n",
       "      <td>United States</td>\n",
       "      <td>6.0</td>\n",
       "      <td>2.0</td>\n",
       "      <td>8.0</td>\n",
       "      <td>75.000000</td>\n",
       "      <td>25.000000</td>\n",
       "    </tr>\n",
       "    <tr>\n",
       "      <th>2</th>\n",
       "      <td>Canada</td>\n",
       "      <td>3.0</td>\n",
       "      <td>1.0</td>\n",
       "      <td>4.0</td>\n",
       "      <td>75.000000</td>\n",
       "      <td>25.000000</td>\n",
       "    </tr>\n",
       "    <tr>\n",
       "      <th>0</th>\n",
       "      <td>France</td>\n",
       "      <td>11.0</td>\n",
       "      <td>4.0</td>\n",
       "      <td>15.0</td>\n",
       "      <td>73.333333</td>\n",
       "      <td>26.666667</td>\n",
       "    </tr>\n",
       "    <tr>\n",
       "      <th>3</th>\n",
       "      <td>Belgium</td>\n",
       "      <td>2.0</td>\n",
       "      <td>2.0</td>\n",
       "      <td>4.0</td>\n",
       "      <td>50.000000</td>\n",
       "      <td>50.000000</td>\n",
       "    </tr>\n",
       "    <tr>\n",
       "      <th>5</th>\n",
       "      <td>Greece</td>\n",
       "      <td>2.0</td>\n",
       "      <td>2.0</td>\n",
       "      <td>4.0</td>\n",
       "      <td>50.000000</td>\n",
       "      <td>50.000000</td>\n",
       "    </tr>\n",
       "    <tr>\n",
       "      <th>6</th>\n",
       "      <td>Australia</td>\n",
       "      <td>1.0</td>\n",
       "      <td>1.0</td>\n",
       "      <td>2.0</td>\n",
       "      <td>50.000000</td>\n",
       "      <td>50.000000</td>\n",
       "    </tr>\n",
       "    <tr>\n",
       "      <th>13</th>\n",
       "      <td>United Kingdom</td>\n",
       "      <td>1.0</td>\n",
       "      <td>1.0</td>\n",
       "      <td>2.0</td>\n",
       "      <td>50.000000</td>\n",
       "      <td>50.000000</td>\n",
       "    </tr>\n",
       "    <tr>\n",
       "      <th>14</th>\n",
       "      <td>Netherlands</td>\n",
       "      <td>0.0</td>\n",
       "      <td>1.0</td>\n",
       "      <td>1.0</td>\n",
       "      <td>0.000000</td>\n",
       "      <td>100.000000</td>\n",
       "    </tr>\n",
       "  </tbody>\n",
       "</table>\n",
       "</div>"
      ],
      "text/plain": [
       "           Country  Sucesso  Falha  Total_tentativas  Chance_sucesso  \\\n",
       "4           Brazil      2.0    0.0               2.0      100.000000   \n",
       "7            Chile      1.0    0.0               1.0      100.000000   \n",
       "8          Ireland      1.0    0.0               1.0      100.000000   \n",
       "9            Italy      1.0    0.0               1.0      100.000000   \n",
       "10          Mexico      1.0    0.0               1.0      100.000000   \n",
       "11     Puerto Rico      1.0    0.0               1.0      100.000000   \n",
       "12          Russia      1.0    0.0               1.0      100.000000   \n",
       "1    United States      6.0    2.0               8.0       75.000000   \n",
       "2           Canada      3.0    1.0               4.0       75.000000   \n",
       "0           France     11.0    4.0              15.0       73.333333   \n",
       "3          Belgium      2.0    2.0               4.0       50.000000   \n",
       "5           Greece      2.0    2.0               4.0       50.000000   \n",
       "6        Australia      1.0    1.0               2.0       50.000000   \n",
       "13  United Kingdom      1.0    1.0               2.0       50.000000   \n",
       "14     Netherlands      0.0    1.0               1.0        0.000000   \n",
       "\n",
       "    Chance_insucesso  \n",
       "4           0.000000  \n",
       "7           0.000000  \n",
       "8           0.000000  \n",
       "9           0.000000  \n",
       "10          0.000000  \n",
       "11          0.000000  \n",
       "12          0.000000  \n",
       "1          25.000000  \n",
       "2          25.000000  \n",
       "0          26.666667  \n",
       "3          50.000000  \n",
       "5          50.000000  \n",
       "6          50.000000  \n",
       "13         50.000000  \n",
       "14        100.000000  "
      ]
     },
     "execution_count": 39,
     "metadata": {},
     "output_type": "execute_result"
    }
   ],
   "source": [
    "fugas_merge"
   ]
  },
  {
   "cell_type": "code",
   "execution_count": 40,
   "id": "5d13f575",
   "metadata": {},
   "outputs": [
    {
     "data": {
      "text/plain": [
       "4       0.000000\n",
       "7       0.000000\n",
       "8       0.000000\n",
       "9       0.000000\n",
       "10      0.000000\n",
       "11      0.000000\n",
       "12      0.000000\n",
       "1      25.000000\n",
       "2      25.000000\n",
       "0      26.666667\n",
       "3      50.000000\n",
       "5      50.000000\n",
       "6      50.000000\n",
       "13     50.000000\n",
       "14    100.000000\n",
       "Name: Chance_insucesso, dtype: float64"
      ]
     },
     "execution_count": 40,
     "metadata": {},
     "output_type": "execute_result"
    }
   ],
   "source": [
    "fugas_merge['Chance_insucesso']"
   ]
  },
  {
   "cell_type": "markdown",
   "id": "549eb39a",
   "metadata": {},
   "source": [
    "   ## Gráfico questão 3: Chances de sucesso e falha de fugas de helicóptero por país"
   ]
  },
  {
   "cell_type": "code",
   "execution_count": 58,
   "id": "a39db19d",
   "metadata": {},
   "outputs": [
    {
     "data": {
      "application/vnd.plotly.v1+json": {
       "config": {
        "plotlyServerURL": "https://plot.ly"
       },
       "data": [
        {
         "base": [
          0,
          0,
          0,
          0,
          0,
          0,
          0,
          -25,
          -25,
          -26.666666666666668,
          -50,
          -50,
          -50,
          -50,
          -100
         ],
         "marker": {
          "color": "crimson"
         },
         "name": "Chance de Falha",
         "textposition": "outside",
         "texttemplate": "%{y:.2s}",
         "type": "bar",
         "x": [
          "Brazil",
          "Chile",
          "Ireland",
          "Italy",
          "Mexico",
          "Puerto Rico",
          "Russia",
          "United States",
          "Canada",
          "France",
          "Belgium",
          "Greece",
          "Australia",
          "United Kingdom",
          "Netherlands"
         ],
         "y": [
          0,
          0,
          0,
          0,
          0,
          0,
          0,
          25,
          25,
          26.666666666666668,
          50,
          50,
          50,
          50,
          100
         ]
        },
        {
         "base": 0,
         "marker": {
          "color": "lightslategrey"
         },
         "name": "Chance de Sucesso",
         "textposition": "outside",
         "texttemplate": "%{y:.2s}",
         "type": "bar",
         "x": [
          "Brazil",
          "Chile",
          "Ireland",
          "Italy",
          "Mexico",
          "Puerto Rico",
          "Russia",
          "United States",
          "Canada",
          "France",
          "Belgium",
          "Greece",
          "Australia",
          "United Kingdom",
          "Netherlands"
         ],
         "y": [
          100,
          100,
          100,
          100,
          100,
          100,
          100,
          75,
          75,
          73.33333333333333,
          50,
          50,
          50,
          50,
          0
         ]
        }
       ],
       "layout": {
        "template": {
         "data": {
          "bar": [
           {
            "error_x": {
             "color": "#2a3f5f"
            },
            "error_y": {
             "color": "#2a3f5f"
            },
            "marker": {
             "line": {
              "color": "#E5ECF6",
              "width": 0.5
             },
             "pattern": {
              "fillmode": "overlay",
              "size": 10,
              "solidity": 0.2
             }
            },
            "type": "bar"
           }
          ],
          "barpolar": [
           {
            "marker": {
             "line": {
              "color": "#E5ECF6",
              "width": 0.5
             },
             "pattern": {
              "fillmode": "overlay",
              "size": 10,
              "solidity": 0.2
             }
            },
            "type": "barpolar"
           }
          ],
          "carpet": [
           {
            "aaxis": {
             "endlinecolor": "#2a3f5f",
             "gridcolor": "white",
             "linecolor": "white",
             "minorgridcolor": "white",
             "startlinecolor": "#2a3f5f"
            },
            "baxis": {
             "endlinecolor": "#2a3f5f",
             "gridcolor": "white",
             "linecolor": "white",
             "minorgridcolor": "white",
             "startlinecolor": "#2a3f5f"
            },
            "type": "carpet"
           }
          ],
          "choropleth": [
           {
            "colorbar": {
             "outlinewidth": 0,
             "ticks": ""
            },
            "type": "choropleth"
           }
          ],
          "contour": [
           {
            "colorbar": {
             "outlinewidth": 0,
             "ticks": ""
            },
            "colorscale": [
             [
              0,
              "#0d0887"
             ],
             [
              0.1111111111111111,
              "#46039f"
             ],
             [
              0.2222222222222222,
              "#7201a8"
             ],
             [
              0.3333333333333333,
              "#9c179e"
             ],
             [
              0.4444444444444444,
              "#bd3786"
             ],
             [
              0.5555555555555556,
              "#d8576b"
             ],
             [
              0.6666666666666666,
              "#ed7953"
             ],
             [
              0.7777777777777778,
              "#fb9f3a"
             ],
             [
              0.8888888888888888,
              "#fdca26"
             ],
             [
              1,
              "#f0f921"
             ]
            ],
            "type": "contour"
           }
          ],
          "contourcarpet": [
           {
            "colorbar": {
             "outlinewidth": 0,
             "ticks": ""
            },
            "type": "contourcarpet"
           }
          ],
          "heatmap": [
           {
            "colorbar": {
             "outlinewidth": 0,
             "ticks": ""
            },
            "colorscale": [
             [
              0,
              "#0d0887"
             ],
             [
              0.1111111111111111,
              "#46039f"
             ],
             [
              0.2222222222222222,
              "#7201a8"
             ],
             [
              0.3333333333333333,
              "#9c179e"
             ],
             [
              0.4444444444444444,
              "#bd3786"
             ],
             [
              0.5555555555555556,
              "#d8576b"
             ],
             [
              0.6666666666666666,
              "#ed7953"
             ],
             [
              0.7777777777777778,
              "#fb9f3a"
             ],
             [
              0.8888888888888888,
              "#fdca26"
             ],
             [
              1,
              "#f0f921"
             ]
            ],
            "type": "heatmap"
           }
          ],
          "heatmapgl": [
           {
            "colorbar": {
             "outlinewidth": 0,
             "ticks": ""
            },
            "colorscale": [
             [
              0,
              "#0d0887"
             ],
             [
              0.1111111111111111,
              "#46039f"
             ],
             [
              0.2222222222222222,
              "#7201a8"
             ],
             [
              0.3333333333333333,
              "#9c179e"
             ],
             [
              0.4444444444444444,
              "#bd3786"
             ],
             [
              0.5555555555555556,
              "#d8576b"
             ],
             [
              0.6666666666666666,
              "#ed7953"
             ],
             [
              0.7777777777777778,
              "#fb9f3a"
             ],
             [
              0.8888888888888888,
              "#fdca26"
             ],
             [
              1,
              "#f0f921"
             ]
            ],
            "type": "heatmapgl"
           }
          ],
          "histogram": [
           {
            "marker": {
             "pattern": {
              "fillmode": "overlay",
              "size": 10,
              "solidity": 0.2
             }
            },
            "type": "histogram"
           }
          ],
          "histogram2d": [
           {
            "colorbar": {
             "outlinewidth": 0,
             "ticks": ""
            },
            "colorscale": [
             [
              0,
              "#0d0887"
             ],
             [
              0.1111111111111111,
              "#46039f"
             ],
             [
              0.2222222222222222,
              "#7201a8"
             ],
             [
              0.3333333333333333,
              "#9c179e"
             ],
             [
              0.4444444444444444,
              "#bd3786"
             ],
             [
              0.5555555555555556,
              "#d8576b"
             ],
             [
              0.6666666666666666,
              "#ed7953"
             ],
             [
              0.7777777777777778,
              "#fb9f3a"
             ],
             [
              0.8888888888888888,
              "#fdca26"
             ],
             [
              1,
              "#f0f921"
             ]
            ],
            "type": "histogram2d"
           }
          ],
          "histogram2dcontour": [
           {
            "colorbar": {
             "outlinewidth": 0,
             "ticks": ""
            },
            "colorscale": [
             [
              0,
              "#0d0887"
             ],
             [
              0.1111111111111111,
              "#46039f"
             ],
             [
              0.2222222222222222,
              "#7201a8"
             ],
             [
              0.3333333333333333,
              "#9c179e"
             ],
             [
              0.4444444444444444,
              "#bd3786"
             ],
             [
              0.5555555555555556,
              "#d8576b"
             ],
             [
              0.6666666666666666,
              "#ed7953"
             ],
             [
              0.7777777777777778,
              "#fb9f3a"
             ],
             [
              0.8888888888888888,
              "#fdca26"
             ],
             [
              1,
              "#f0f921"
             ]
            ],
            "type": "histogram2dcontour"
           }
          ],
          "mesh3d": [
           {
            "colorbar": {
             "outlinewidth": 0,
             "ticks": ""
            },
            "type": "mesh3d"
           }
          ],
          "parcoords": [
           {
            "line": {
             "colorbar": {
              "outlinewidth": 0,
              "ticks": ""
             }
            },
            "type": "parcoords"
           }
          ],
          "pie": [
           {
            "automargin": true,
            "type": "pie"
           }
          ],
          "scatter": [
           {
            "marker": {
             "colorbar": {
              "outlinewidth": 0,
              "ticks": ""
             }
            },
            "type": "scatter"
           }
          ],
          "scatter3d": [
           {
            "line": {
             "colorbar": {
              "outlinewidth": 0,
              "ticks": ""
             }
            },
            "marker": {
             "colorbar": {
              "outlinewidth": 0,
              "ticks": ""
             }
            },
            "type": "scatter3d"
           }
          ],
          "scattercarpet": [
           {
            "marker": {
             "colorbar": {
              "outlinewidth": 0,
              "ticks": ""
             }
            },
            "type": "scattercarpet"
           }
          ],
          "scattergeo": [
           {
            "marker": {
             "colorbar": {
              "outlinewidth": 0,
              "ticks": ""
             }
            },
            "type": "scattergeo"
           }
          ],
          "scattergl": [
           {
            "marker": {
             "colorbar": {
              "outlinewidth": 0,
              "ticks": ""
             }
            },
            "type": "scattergl"
           }
          ],
          "scattermapbox": [
           {
            "marker": {
             "colorbar": {
              "outlinewidth": 0,
              "ticks": ""
             }
            },
            "type": "scattermapbox"
           }
          ],
          "scatterpolar": [
           {
            "marker": {
             "colorbar": {
              "outlinewidth": 0,
              "ticks": ""
             }
            },
            "type": "scatterpolar"
           }
          ],
          "scatterpolargl": [
           {
            "marker": {
             "colorbar": {
              "outlinewidth": 0,
              "ticks": ""
             }
            },
            "type": "scatterpolargl"
           }
          ],
          "scatterternary": [
           {
            "marker": {
             "colorbar": {
              "outlinewidth": 0,
              "ticks": ""
             }
            },
            "type": "scatterternary"
           }
          ],
          "surface": [
           {
            "colorbar": {
             "outlinewidth": 0,
             "ticks": ""
            },
            "colorscale": [
             [
              0,
              "#0d0887"
             ],
             [
              0.1111111111111111,
              "#46039f"
             ],
             [
              0.2222222222222222,
              "#7201a8"
             ],
             [
              0.3333333333333333,
              "#9c179e"
             ],
             [
              0.4444444444444444,
              "#bd3786"
             ],
             [
              0.5555555555555556,
              "#d8576b"
             ],
             [
              0.6666666666666666,
              "#ed7953"
             ],
             [
              0.7777777777777778,
              "#fb9f3a"
             ],
             [
              0.8888888888888888,
              "#fdca26"
             ],
             [
              1,
              "#f0f921"
             ]
            ],
            "type": "surface"
           }
          ],
          "table": [
           {
            "cells": {
             "fill": {
              "color": "#EBF0F8"
             },
             "line": {
              "color": "white"
             }
            },
            "header": {
             "fill": {
              "color": "#C8D4E3"
             },
             "line": {
              "color": "white"
             }
            },
            "type": "table"
           }
          ]
         },
         "layout": {
          "annotationdefaults": {
           "arrowcolor": "#2a3f5f",
           "arrowhead": 0,
           "arrowwidth": 1
          },
          "autotypenumbers": "strict",
          "coloraxis": {
           "colorbar": {
            "outlinewidth": 0,
            "ticks": ""
           }
          },
          "colorscale": {
           "diverging": [
            [
             0,
             "#8e0152"
            ],
            [
             0.1,
             "#c51b7d"
            ],
            [
             0.2,
             "#de77ae"
            ],
            [
             0.3,
             "#f1b6da"
            ],
            [
             0.4,
             "#fde0ef"
            ],
            [
             0.5,
             "#f7f7f7"
            ],
            [
             0.6,
             "#e6f5d0"
            ],
            [
             0.7,
             "#b8e186"
            ],
            [
             0.8,
             "#7fbc41"
            ],
            [
             0.9,
             "#4d9221"
            ],
            [
             1,
             "#276419"
            ]
           ],
           "sequential": [
            [
             0,
             "#0d0887"
            ],
            [
             0.1111111111111111,
             "#46039f"
            ],
            [
             0.2222222222222222,
             "#7201a8"
            ],
            [
             0.3333333333333333,
             "#9c179e"
            ],
            [
             0.4444444444444444,
             "#bd3786"
            ],
            [
             0.5555555555555556,
             "#d8576b"
            ],
            [
             0.6666666666666666,
             "#ed7953"
            ],
            [
             0.7777777777777778,
             "#fb9f3a"
            ],
            [
             0.8888888888888888,
             "#fdca26"
            ],
            [
             1,
             "#f0f921"
            ]
           ],
           "sequentialminus": [
            [
             0,
             "#0d0887"
            ],
            [
             0.1111111111111111,
             "#46039f"
            ],
            [
             0.2222222222222222,
             "#7201a8"
            ],
            [
             0.3333333333333333,
             "#9c179e"
            ],
            [
             0.4444444444444444,
             "#bd3786"
            ],
            [
             0.5555555555555556,
             "#d8576b"
            ],
            [
             0.6666666666666666,
             "#ed7953"
            ],
            [
             0.7777777777777778,
             "#fb9f3a"
            ],
            [
             0.8888888888888888,
             "#fdca26"
            ],
            [
             1,
             "#f0f921"
            ]
           ]
          },
          "colorway": [
           "#636efa",
           "#EF553B",
           "#00cc96",
           "#ab63fa",
           "#FFA15A",
           "#19d3f3",
           "#FF6692",
           "#B6E880",
           "#FF97FF",
           "#FECB52"
          ],
          "font": {
           "color": "#2a3f5f"
          },
          "geo": {
           "bgcolor": "white",
           "lakecolor": "white",
           "landcolor": "#E5ECF6",
           "showlakes": true,
           "showland": true,
           "subunitcolor": "white"
          },
          "hoverlabel": {
           "align": "left"
          },
          "hovermode": "closest",
          "mapbox": {
           "style": "light"
          },
          "paper_bgcolor": "white",
          "plot_bgcolor": "#E5ECF6",
          "polar": {
           "angularaxis": {
            "gridcolor": "white",
            "linecolor": "white",
            "ticks": ""
           },
           "bgcolor": "#E5ECF6",
           "radialaxis": {
            "gridcolor": "white",
            "linecolor": "white",
            "ticks": ""
           }
          },
          "scene": {
           "xaxis": {
            "backgroundcolor": "#E5ECF6",
            "gridcolor": "white",
            "gridwidth": 2,
            "linecolor": "white",
            "showbackground": true,
            "ticks": "",
            "zerolinecolor": "white"
           },
           "yaxis": {
            "backgroundcolor": "#E5ECF6",
            "gridcolor": "white",
            "gridwidth": 2,
            "linecolor": "white",
            "showbackground": true,
            "ticks": "",
            "zerolinecolor": "white"
           },
           "zaxis": {
            "backgroundcolor": "#E5ECF6",
            "gridcolor": "white",
            "gridwidth": 2,
            "linecolor": "white",
            "showbackground": true,
            "ticks": "",
            "zerolinecolor": "white"
           }
          },
          "shapedefaults": {
           "line": {
            "color": "#2a3f5f"
           }
          },
          "ternary": {
           "aaxis": {
            "gridcolor": "white",
            "linecolor": "white",
            "ticks": ""
           },
           "baxis": {
            "gridcolor": "white",
            "linecolor": "white",
            "ticks": ""
           },
           "bgcolor": "#E5ECF6",
           "caxis": {
            "gridcolor": "white",
            "linecolor": "white",
            "ticks": ""
           }
          },
          "title": {
           "x": 0.05
          },
          "xaxis": {
           "automargin": true,
           "gridcolor": "white",
           "linecolor": "white",
           "ticks": "",
           "title": {
            "standoff": 15
           },
           "zerolinecolor": "white",
           "zerolinewidth": 2
          },
          "yaxis": {
           "automargin": true,
           "gridcolor": "white",
           "linecolor": "white",
           "ticks": "",
           "title": {
            "standoff": 15
           },
           "zerolinecolor": "white",
           "zerolinewidth": 2
          }
         }
        },
        "uniformtext": {
         "minsize": 8,
         "mode": "hide"
        }
       }
      },
      "text/html": [
       "<div>                            <div id=\"44e5ca1e-6673-4013-8f8e-25759765aef4\" class=\"plotly-graph-div\" style=\"height:525px; width:100%;\"></div>            <script type=\"text/javascript\">                require([\"plotly\"], function(Plotly) {                    window.PLOTLYENV=window.PLOTLYENV || {};                                    if (document.getElementById(\"44e5ca1e-6673-4013-8f8e-25759765aef4\")) {                    Plotly.newPlot(                        \"44e5ca1e-6673-4013-8f8e-25759765aef4\",                        [{\"base\":[0.0,0.0,0.0,0.0,0.0,0.0,0.0,-25.0,-25.0,-26.666666666666668,-50.0,-50.0,-50.0,-50.0,-100.0],\"marker\":{\"color\":\"crimson\"},\"name\":\"Chance de Falha\",\"x\":[\"Brazil\",\"Chile\",\"Ireland\",\"Italy\",\"Mexico\",\"Puerto Rico\",\"Russia\",\"United States\",\"Canada\",\"France\",\"Belgium\",\"Greece\",\"Australia\",\"United Kingdom\",\"Netherlands\"],\"y\":[0.0,0.0,0.0,0.0,0.0,0.0,0.0,25.0,25.0,26.666666666666668,50.0,50.0,50.0,50.0,100.0],\"type\":\"bar\",\"textposition\":\"outside\",\"texttemplate\":\"%{y:.2s}\"},{\"base\":0,\"marker\":{\"color\":\"lightslategrey\"},\"name\":\"Chance de Sucesso\",\"x\":[\"Brazil\",\"Chile\",\"Ireland\",\"Italy\",\"Mexico\",\"Puerto Rico\",\"Russia\",\"United States\",\"Canada\",\"France\",\"Belgium\",\"Greece\",\"Australia\",\"United Kingdom\",\"Netherlands\"],\"y\":[100.0,100.0,100.0,100.0,100.0,100.0,100.0,75.0,75.0,73.33333333333333,50.0,50.0,50.0,50.0,0.0],\"type\":\"bar\",\"textposition\":\"outside\",\"texttemplate\":\"%{y:.2s}\"}],                        {\"template\":{\"data\":{\"bar\":[{\"error_x\":{\"color\":\"#2a3f5f\"},\"error_y\":{\"color\":\"#2a3f5f\"},\"marker\":{\"line\":{\"color\":\"#E5ECF6\",\"width\":0.5},\"pattern\":{\"fillmode\":\"overlay\",\"size\":10,\"solidity\":0.2}},\"type\":\"bar\"}],\"barpolar\":[{\"marker\":{\"line\":{\"color\":\"#E5ECF6\",\"width\":0.5},\"pattern\":{\"fillmode\":\"overlay\",\"size\":10,\"solidity\":0.2}},\"type\":\"barpolar\"}],\"carpet\":[{\"aaxis\":{\"endlinecolor\":\"#2a3f5f\",\"gridcolor\":\"white\",\"linecolor\":\"white\",\"minorgridcolor\":\"white\",\"startlinecolor\":\"#2a3f5f\"},\"baxis\":{\"endlinecolor\":\"#2a3f5f\",\"gridcolor\":\"white\",\"linecolor\":\"white\",\"minorgridcolor\":\"white\",\"startlinecolor\":\"#2a3f5f\"},\"type\":\"carpet\"}],\"choropleth\":[{\"colorbar\":{\"outlinewidth\":0,\"ticks\":\"\"},\"type\":\"choropleth\"}],\"contour\":[{\"colorbar\":{\"outlinewidth\":0,\"ticks\":\"\"},\"colorscale\":[[0.0,\"#0d0887\"],[0.1111111111111111,\"#46039f\"],[0.2222222222222222,\"#7201a8\"],[0.3333333333333333,\"#9c179e\"],[0.4444444444444444,\"#bd3786\"],[0.5555555555555556,\"#d8576b\"],[0.6666666666666666,\"#ed7953\"],[0.7777777777777778,\"#fb9f3a\"],[0.8888888888888888,\"#fdca26\"],[1.0,\"#f0f921\"]],\"type\":\"contour\"}],\"contourcarpet\":[{\"colorbar\":{\"outlinewidth\":0,\"ticks\":\"\"},\"type\":\"contourcarpet\"}],\"heatmap\":[{\"colorbar\":{\"outlinewidth\":0,\"ticks\":\"\"},\"colorscale\":[[0.0,\"#0d0887\"],[0.1111111111111111,\"#46039f\"],[0.2222222222222222,\"#7201a8\"],[0.3333333333333333,\"#9c179e\"],[0.4444444444444444,\"#bd3786\"],[0.5555555555555556,\"#d8576b\"],[0.6666666666666666,\"#ed7953\"],[0.7777777777777778,\"#fb9f3a\"],[0.8888888888888888,\"#fdca26\"],[1.0,\"#f0f921\"]],\"type\":\"heatmap\"}],\"heatmapgl\":[{\"colorbar\":{\"outlinewidth\":0,\"ticks\":\"\"},\"colorscale\":[[0.0,\"#0d0887\"],[0.1111111111111111,\"#46039f\"],[0.2222222222222222,\"#7201a8\"],[0.3333333333333333,\"#9c179e\"],[0.4444444444444444,\"#bd3786\"],[0.5555555555555556,\"#d8576b\"],[0.6666666666666666,\"#ed7953\"],[0.7777777777777778,\"#fb9f3a\"],[0.8888888888888888,\"#fdca26\"],[1.0,\"#f0f921\"]],\"type\":\"heatmapgl\"}],\"histogram\":[{\"marker\":{\"pattern\":{\"fillmode\":\"overlay\",\"size\":10,\"solidity\":0.2}},\"type\":\"histogram\"}],\"histogram2d\":[{\"colorbar\":{\"outlinewidth\":0,\"ticks\":\"\"},\"colorscale\":[[0.0,\"#0d0887\"],[0.1111111111111111,\"#46039f\"],[0.2222222222222222,\"#7201a8\"],[0.3333333333333333,\"#9c179e\"],[0.4444444444444444,\"#bd3786\"],[0.5555555555555556,\"#d8576b\"],[0.6666666666666666,\"#ed7953\"],[0.7777777777777778,\"#fb9f3a\"],[0.8888888888888888,\"#fdca26\"],[1.0,\"#f0f921\"]],\"type\":\"histogram2d\"}],\"histogram2dcontour\":[{\"colorbar\":{\"outlinewidth\":0,\"ticks\":\"\"},\"colorscale\":[[0.0,\"#0d0887\"],[0.1111111111111111,\"#46039f\"],[0.2222222222222222,\"#7201a8\"],[0.3333333333333333,\"#9c179e\"],[0.4444444444444444,\"#bd3786\"],[0.5555555555555556,\"#d8576b\"],[0.6666666666666666,\"#ed7953\"],[0.7777777777777778,\"#fb9f3a\"],[0.8888888888888888,\"#fdca26\"],[1.0,\"#f0f921\"]],\"type\":\"histogram2dcontour\"}],\"mesh3d\":[{\"colorbar\":{\"outlinewidth\":0,\"ticks\":\"\"},\"type\":\"mesh3d\"}],\"parcoords\":[{\"line\":{\"colorbar\":{\"outlinewidth\":0,\"ticks\":\"\"}},\"type\":\"parcoords\"}],\"pie\":[{\"automargin\":true,\"type\":\"pie\"}],\"scatter\":[{\"marker\":{\"colorbar\":{\"outlinewidth\":0,\"ticks\":\"\"}},\"type\":\"scatter\"}],\"scatter3d\":[{\"line\":{\"colorbar\":{\"outlinewidth\":0,\"ticks\":\"\"}},\"marker\":{\"colorbar\":{\"outlinewidth\":0,\"ticks\":\"\"}},\"type\":\"scatter3d\"}],\"scattercarpet\":[{\"marker\":{\"colorbar\":{\"outlinewidth\":0,\"ticks\":\"\"}},\"type\":\"scattercarpet\"}],\"scattergeo\":[{\"marker\":{\"colorbar\":{\"outlinewidth\":0,\"ticks\":\"\"}},\"type\":\"scattergeo\"}],\"scattergl\":[{\"marker\":{\"colorbar\":{\"outlinewidth\":0,\"ticks\":\"\"}},\"type\":\"scattergl\"}],\"scattermapbox\":[{\"marker\":{\"colorbar\":{\"outlinewidth\":0,\"ticks\":\"\"}},\"type\":\"scattermapbox\"}],\"scatterpolar\":[{\"marker\":{\"colorbar\":{\"outlinewidth\":0,\"ticks\":\"\"}},\"type\":\"scatterpolar\"}],\"scatterpolargl\":[{\"marker\":{\"colorbar\":{\"outlinewidth\":0,\"ticks\":\"\"}},\"type\":\"scatterpolargl\"}],\"scatterternary\":[{\"marker\":{\"colorbar\":{\"outlinewidth\":0,\"ticks\":\"\"}},\"type\":\"scatterternary\"}],\"surface\":[{\"colorbar\":{\"outlinewidth\":0,\"ticks\":\"\"},\"colorscale\":[[0.0,\"#0d0887\"],[0.1111111111111111,\"#46039f\"],[0.2222222222222222,\"#7201a8\"],[0.3333333333333333,\"#9c179e\"],[0.4444444444444444,\"#bd3786\"],[0.5555555555555556,\"#d8576b\"],[0.6666666666666666,\"#ed7953\"],[0.7777777777777778,\"#fb9f3a\"],[0.8888888888888888,\"#fdca26\"],[1.0,\"#f0f921\"]],\"type\":\"surface\"}],\"table\":[{\"cells\":{\"fill\":{\"color\":\"#EBF0F8\"},\"line\":{\"color\":\"white\"}},\"header\":{\"fill\":{\"color\":\"#C8D4E3\"},\"line\":{\"color\":\"white\"}},\"type\":\"table\"}]},\"layout\":{\"annotationdefaults\":{\"arrowcolor\":\"#2a3f5f\",\"arrowhead\":0,\"arrowwidth\":1},\"autotypenumbers\":\"strict\",\"coloraxis\":{\"colorbar\":{\"outlinewidth\":0,\"ticks\":\"\"}},\"colorscale\":{\"diverging\":[[0,\"#8e0152\"],[0.1,\"#c51b7d\"],[0.2,\"#de77ae\"],[0.3,\"#f1b6da\"],[0.4,\"#fde0ef\"],[0.5,\"#f7f7f7\"],[0.6,\"#e6f5d0\"],[0.7,\"#b8e186\"],[0.8,\"#7fbc41\"],[0.9,\"#4d9221\"],[1,\"#276419\"]],\"sequential\":[[0.0,\"#0d0887\"],[0.1111111111111111,\"#46039f\"],[0.2222222222222222,\"#7201a8\"],[0.3333333333333333,\"#9c179e\"],[0.4444444444444444,\"#bd3786\"],[0.5555555555555556,\"#d8576b\"],[0.6666666666666666,\"#ed7953\"],[0.7777777777777778,\"#fb9f3a\"],[0.8888888888888888,\"#fdca26\"],[1.0,\"#f0f921\"]],\"sequentialminus\":[[0.0,\"#0d0887\"],[0.1111111111111111,\"#46039f\"],[0.2222222222222222,\"#7201a8\"],[0.3333333333333333,\"#9c179e\"],[0.4444444444444444,\"#bd3786\"],[0.5555555555555556,\"#d8576b\"],[0.6666666666666666,\"#ed7953\"],[0.7777777777777778,\"#fb9f3a\"],[0.8888888888888888,\"#fdca26\"],[1.0,\"#f0f921\"]]},\"colorway\":[\"#636efa\",\"#EF553B\",\"#00cc96\",\"#ab63fa\",\"#FFA15A\",\"#19d3f3\",\"#FF6692\",\"#B6E880\",\"#FF97FF\",\"#FECB52\"],\"font\":{\"color\":\"#2a3f5f\"},\"geo\":{\"bgcolor\":\"white\",\"lakecolor\":\"white\",\"landcolor\":\"#E5ECF6\",\"showlakes\":true,\"showland\":true,\"subunitcolor\":\"white\"},\"hoverlabel\":{\"align\":\"left\"},\"hovermode\":\"closest\",\"mapbox\":{\"style\":\"light\"},\"paper_bgcolor\":\"white\",\"plot_bgcolor\":\"#E5ECF6\",\"polar\":{\"angularaxis\":{\"gridcolor\":\"white\",\"linecolor\":\"white\",\"ticks\":\"\"},\"bgcolor\":\"#E5ECF6\",\"radialaxis\":{\"gridcolor\":\"white\",\"linecolor\":\"white\",\"ticks\":\"\"}},\"scene\":{\"xaxis\":{\"backgroundcolor\":\"#E5ECF6\",\"gridcolor\":\"white\",\"gridwidth\":2,\"linecolor\":\"white\",\"showbackground\":true,\"ticks\":\"\",\"zerolinecolor\":\"white\"},\"yaxis\":{\"backgroundcolor\":\"#E5ECF6\",\"gridcolor\":\"white\",\"gridwidth\":2,\"linecolor\":\"white\",\"showbackground\":true,\"ticks\":\"\",\"zerolinecolor\":\"white\"},\"zaxis\":{\"backgroundcolor\":\"#E5ECF6\",\"gridcolor\":\"white\",\"gridwidth\":2,\"linecolor\":\"white\",\"showbackground\":true,\"ticks\":\"\",\"zerolinecolor\":\"white\"}},\"shapedefaults\":{\"line\":{\"color\":\"#2a3f5f\"}},\"ternary\":{\"aaxis\":{\"gridcolor\":\"white\",\"linecolor\":\"white\",\"ticks\":\"\"},\"baxis\":{\"gridcolor\":\"white\",\"linecolor\":\"white\",\"ticks\":\"\"},\"bgcolor\":\"#E5ECF6\",\"caxis\":{\"gridcolor\":\"white\",\"linecolor\":\"white\",\"ticks\":\"\"}},\"title\":{\"x\":0.05},\"xaxis\":{\"automargin\":true,\"gridcolor\":\"white\",\"linecolor\":\"white\",\"ticks\":\"\",\"title\":{\"standoff\":15},\"zerolinecolor\":\"white\",\"zerolinewidth\":2},\"yaxis\":{\"automargin\":true,\"gridcolor\":\"white\",\"linecolor\":\"white\",\"ticks\":\"\",\"title\":{\"standoff\":15},\"zerolinecolor\":\"white\",\"zerolinewidth\":2}}},\"uniformtext\":{\"minsize\":8,\"mode\":\"hide\"}},                        {\"responsive\": true}                    ).then(function(){\n",
       "                            \n",
       "var gd = document.getElementById('44e5ca1e-6673-4013-8f8e-25759765aef4');\n",
       "var x = new MutationObserver(function (mutations, observer) {{\n",
       "        var display = window.getComputedStyle(gd).display;\n",
       "        if (!display || display === 'none') {{\n",
       "            console.log([gd, 'removed!']);\n",
       "            Plotly.purge(gd);\n",
       "            observer.disconnect();\n",
       "        }}\n",
       "}});\n",
       "\n",
       "// Listen for the removal of the full notebook cells\n",
       "var notebookContainer = gd.closest('#notebook-container');\n",
       "if (notebookContainer) {{\n",
       "    x.observe(notebookContainer, {childList: true});\n",
       "}}\n",
       "\n",
       "// Listen for the clearing of the current output cell\n",
       "var outputEl = gd.closest('.output');\n",
       "if (outputEl) {{\n",
       "    x.observe(outputEl, {childList: true});\n",
       "}}\n",
       "\n",
       "                        })                };                });            </script>        </div>"
      ]
     },
     "metadata": {},
     "output_type": "display_data"
    }
   ],
   "source": [
    "# https://plotly.com/python/bar-charts/\n",
    "\n",
    "import plotly.graph_objects as go\n",
    "\n",
    "years = fugas_merge['Country']\n",
    "\n",
    "fig = go.Figure()\n",
    "fig.add_trace(go.Bar(x=years, y=fugas_merge['Chance_insucesso'],\n",
    "                base=Negativo,\n",
    "                marker_color='crimson',\n",
    "                name='Chance de Falha'))\n",
    "fig.add_trace(go.Bar(x=years, y=fugas_merge['Chance_sucesso'],\n",
    "                base=0,\n",
    "                marker_color='lightslategrey',\n",
    "                name='Chance de Sucesso'\n",
    "                ))\n",
    "\n",
    "fig.update_traces(texttemplate='%{y:.2s}', textposition='outside')\n",
    "fig.update_layout(uniformtext_minsize=8, uniformtext_mode='hide')\n",
    "\n",
    "fig.show()"
   ]
  },
  {
   "cell_type": "markdown",
   "id": "63473ede",
   "metadata": {},
   "source": [
    "## Questão 4: Como o número de fugitivos afeta o sucesso?"
   ]
  },
  {
   "cell_type": "markdown",
   "id": "e16673e6",
   "metadata": {},
   "source": [
    "### Necessário retornar ao Web Scrapping pois a coluna \"Escapee(s)\" é trazida do HMTL para o Beautifulsoup sem as separações entre os nomes dos prisioneiros"
   ]
  },
  {
   "cell_type": "code",
   "execution_count": 49,
   "id": "24466ad6",
   "metadata": {
    "scrolled": false
   },
   "outputs": [
    {
     "data": {
      "text/plain": [
       "[                  Date                                        Prison name  \\\n",
       " 0      August 19, 1971                              Santa Martha Acatitla   \n",
       " 1     October 31, 1973                                      Mountjoy Jail   \n",
       " 2         May 24, 1978                 United States Penitentiary, Marion   \n",
       " 3    February 27, 1981             Fleury-Mérogis, Essonne, Ile de France   \n",
       " 4          May 7, 1981                    Orsainville Prison, Quebec City   \n",
       " 5        January, 1983                              Pentridge (HM Prison)   \n",
       " 6    December 19, 1985  Perry Correctional Institution, Pelzer, South ...   \n",
       " 7    December 31, 1985  Cândido Mendes penitentiary, Ilha Grande, Rio ...   \n",
       " 8         May 26, 1986                                 Prison de la Santé   \n",
       " 9     November 5, 1986           Federal Correctional Institution, Dublin   \n",
       " 10   November 23, 1986                         Prigione di Rebibbia, Roma   \n",
       " 11   December 10, 1987                                Gartree (HM Prison)   \n",
       " 12       July 11, 1988                                    Santa Fe prison   \n",
       " 13      April 17, 1989                Federal Holding Facility, Miami, FL   \n",
       " 14     August 19, 1989              Arkansas Valley Correctional Facility   \n",
       " 15       June 19, 1990                Kent Penitentiary, British Columbia   \n",
       " 16       April 7, 1991        Rio Piedras State Penitentiary, Puerto Rico   \n",
       " 17   February 24, 1992                                        Lyon Prison   \n",
       " 18       December 1992                     Touraine Central Prison, Tours   \n",
       " 19       June 17, 1993                     Touraine Central Prison, Tours   \n",
       " 20   December 30, 1996                     High Security Prison, Santiago   \n",
       " 21  September 18, 1997                                  De Geerhorst jail   \n",
       " 22      March 25, 1999           Metropolitan Remand and Reception Centre   \n",
       " 23        June 5, 2000  Martin Treatment Center for Sexually Violent P...   \n",
       " 24   December 13, 2000                                        Lyon prison   \n",
       " 25    January 19, 2001                                      Luynes prison   \n",
       " 26      March 24, 2001                                  Draguignan prison   \n",
       " 27        May 28, 2001                                     Fresnes prison   \n",
       " 28    January 17, 2002                           Parada Neto Penitentiary   \n",
       " 29   December 30, 2002                   Las Cucharas prison, Puerto Rico   \n",
       " 30       April 4, 2003                                      Luynes prison   \n",
       " 31           July 2005                                             France   \n",
       " 32   December 10, 2005                                       Aiton Prison   \n",
       " 33        June 6, 2006                                  Korydallos Prison   \n",
       " 34      April 15, 2007                               Lantin Prison, Liège   \n",
       " 35       July 15, 2007                                      Grasse prison   \n",
       " 36    October 28, 2007                                       Ittre prison   \n",
       " 37   February 22, 2009                                  Korydallos Prison   \n",
       " 38      April 27, 2009                           Domenjod Prison, Réunion   \n",
       " 39       July 23, 2009                                             Bruges   \n",
       " 40       June 25, 2010             HM Prison Isle of Wight, Isle of Wight   \n",
       " 41      March 22, 2012                          Sheksna, Penal colony N17   \n",
       " 42   February 24, 2013                            Trikala Prison, Trikala   \n",
       " 43      March 17, 2013            Saint-Jérôme Detention Facility, Quebec   \n",
       " 44        June 7, 2014             Orsainville Detention Facility, Quebec   \n",
       " 45   February 22, 2016                                              Thiva   \n",
       " 46        July 1, 2018                                   Réau, near Paris   \n",
       " 47  September 25, 2020                            Forest prison, Brussels   \n",
       " \n",
       "            Country Succeeded  \\\n",
       " 0           Mexico       Yes   \n",
       " 1          Ireland       Yes   \n",
       " 2    United States        No   \n",
       " 3           France       Yes   \n",
       " 4           Canada        No   \n",
       " 5        Australia        No   \n",
       " 6    United States       Yes   \n",
       " 7           Brazil       Yes   \n",
       " 8           France       Yes   \n",
       " 9    United States       Yes   \n",
       " 10           Italy       Yes   \n",
       " 11  United Kingdom       Yes   \n",
       " 12   United States       Yes   \n",
       " 13   United States        No   \n",
       " 14   United States       Yes   \n",
       " 15          Canada       Yes   \n",
       " 16     Puerto Rico       Yes   \n",
       " 17          France       Yes   \n",
       " 18          France        No   \n",
       " 19          France        No   \n",
       " 20           Chile       Yes   \n",
       " 21     Netherlands        No   \n",
       " 22       Australia       Yes   \n",
       " 23   United States       Yes   \n",
       " 24          France       Yes   \n",
       " 25          France       Yes   \n",
       " 26          France       Yes   \n",
       " 27          France        No   \n",
       " 28          Brazil       Yes   \n",
       " 29   United States       Yes   \n",
       " 30          France       Yes   \n",
       " 31          France        No   \n",
       " 32          France       Yes   \n",
       " 33          Greece       Yes   \n",
       " 34         Belgium       Yes   \n",
       " 35          France       Yes   \n",
       " 36         Belgium        No   \n",
       " 37          Greece       Yes   \n",
       " 38          France       Yes   \n",
       " 39         Belgium       Yes   \n",
       " 40  United Kingdom        No   \n",
       " 41          Russia       Yes   \n",
       " 42          Greece        No   \n",
       " 43          Canada       Yes   \n",
       " 44          Canada       Yes   \n",
       " 45          Greece        No   \n",
       " 46          France       Yes   \n",
       " 47         Belgium        No   \n",
       " \n",
       "                                            Escapee(s)  \\\n",
       " 0   Joel David Kaplan Carlos Antonio Contreras Castro   \n",
       " 1                JB O'Hagan Seamus TwomeyKevin Mallon   \n",
       " 2   Garrett Brock TrapnellMartin Joseph McNallyJam...   \n",
       " 3                         Gérard DupréDaniel Beaumont   \n",
       " 4   Marina Paquet (hijacker)Giles Arseneault (pris...   \n",
       " 5                                      David McMillan   \n",
       " 6   James Rodney LeonardWilliam Douglas BallewJess...   \n",
       " 7     José Carlos dos Reis Encina, a.k.a. \"Escadinha\"   \n",
       " 8                                      Michel Vaujour   \n",
       " 9                                      Samantha Lopez   \n",
       " 10  André BellaïcheGianluigi EspositoLuciano Cipol...   \n",
       " 11                          Sydney DraperJohn Kendall   \n",
       " 12         Mahoney Danny Francis MitchellRandy Lackey   \n",
       " 13                                         Ben Kramer   \n",
       " 14                        Ralph BrownFreddie Gonzales   \n",
       " 15                            Robert FordDavid Thomas   \n",
       " 16                                       William Lane   \n",
       " 17                                                  —   \n",
       " 18                                                  —   \n",
       " 19                                     Michel Vaujour   \n",
       " 20  Four members of the Manuel Rodriguez Patriotic...   \n",
       " 21                                                  —   \n",
       " 22                                       John Killick   \n",
       " 23                                    Steven Whitsett   \n",
       " 24                                                  —   \n",
       " 25                                       Pascal Payet   \n",
       " 26  Abdelhamid CarnousEmile Forma-SariJean-Philipp...   \n",
       " 27                                                  —   \n",
       " 28                                                  —   \n",
       " 29  Orlando Cartagena Jose Rodriguez Victor Diaz H...   \n",
       " 30           Eric AlboreoFranck PerlettoMichel Valero   \n",
       " 31                                                  —   \n",
       " 32    Hubert SellesJean-Claude MorettiMohamed Bessame   \n",
       " 33                               Vassilis Paleokostas   \n",
       " 34                                     Eric Ferdinand   \n",
       " 35                                       Pascal Payet   \n",
       " 36                                    Nordin Benallal   \n",
       " 37                     Vasilis PaleokostasAlket Rizai   \n",
       " 38                         Alexin JismyFabrice Michel   \n",
       " 39          Ashraf Sekkaki plus three other criminals   \n",
       " 40                                     Brian Lawrence   \n",
       " 41                                   Alexey Shestakov   \n",
       " 42                                 Panagiotis Vlastos   \n",
       " 43              Benjamin Hudon-BarbeauDanny Provençal   \n",
       " 44            Yves DenisDenis LefebvreSerge Pomerleau   \n",
       " 45                           Pola RoupaNikos Maziotis   \n",
       " 46                                       Rédoine Faïd   \n",
       " 47                                         Kristel A.   \n",
       " \n",
       "                                               Details  \n",
       " 0   Joel David Kaplan was a New York businessman w...  \n",
       " 1   On October 31, 1973 an IRA member hijacked a h...  \n",
       " 2   43-year-old Barbara Ann Oswald hijacked a Sain...  \n",
       " 3   With the help of Serge Coutel, Gérard Dupré an...  \n",
       " 4   Marina Paquet held a sawed off shotgun against...  \n",
       " 5   Arrests were made for the 1983 attempted helic...  \n",
       " 6   One murderer, James Rodney Leonard, and two ar...  \n",
       " 7   Drug lord Encina was rescued by José Carlos Gr...  \n",
       " 8   Vaujour had 28 years to serve for attempted mu...  \n",
       " 9   Ronald J. McIntosh walked away from a minimum ...  \n",
       " 10  A red cross helicopter was hijacked by two gun...  \n",
       " 11  At 3:16 p.m. on December 10, 1987, John Kendal...  \n",
       " 12  Pilot Charles Bella was hired to fly a real es...  \n",
       " 13  Famous Apache Boat owner and racer Ben Kramer ...  \n",
       " 14  Colorado prison inmates Ralph Brown and Freddi...  \n",
       " 15  Two prisoners, Robert Ford and David Thomas, e...  \n",
       " 16  Inmates were able to escape when a helicopter ...  \n",
       " 17  Two armed men hijacked a helicopter in Albertv...  \n",
       " 18  The would-be escapee was shot dead by prison g...  \n",
       " 19  Vaujour and his wife were imprisoned in 1991. ...  \n",
       " 20  Two women suspected of involvement were Irish ...  \n",
       " 21  A September 18, 1997 escape attempt ended in f...  \n",
       " 22  On March 25, 1999, librarian Lucy Dudko hired ...  \n",
       " 23  Steven Whitsett was serving a civil commitment...  \n",
       " 24  Three men were able to escape a prison near Ly...  \n",
       " 25  Pascal Payet escaped from Luynes prison using ...  \n",
       " 26  On March 24, 2001, an armed man hijacked a hel...  \n",
       " 27  (Although not a helicopter escape in the trues...  \n",
       " 28  A helicopter was flown into Parada Neto Penite...  \n",
       " 29  In Puerto Rico five prisoners escaped from Las...  \n",
       " 30  Pascal Payet organized the helicopter escape o...  \n",
       " 31  A helicopter escape attempt was foiled when al...  \n",
       " 32  On December 10, 2005, two men rented a helicop...  \n",
       " 33  On June 6, 2006, Nikos Paleokostas and another...  \n",
       " 34  Two men hijacked a small helicopter and forced...  \n",
       " 35  Pascal Payet, 43, escaped for the third time f...  \n",
       " 36  On Oct 28, 2007, Nordin Benallal, self-styled ...  \n",
       " 37  On February 22, 2009 Vasilis Paleokostas and a...  \n",
       " 38  Juliano Verbard was a guru of the Sorrowful an...  \n",
       " 39  A man hijacked a helicopter and forced its pil...  \n",
       " 40  While never actually reaching the execution ph...  \n",
       " 41  Shestakov was whisked away from a penal colony...  \n",
       " 42  The chartered helicopter — carrying two armed ...  \n",
       " 43  Two inmates escaped from the Saint-Jérôme Dete...  \n",
       " 44  Three detainees awaiting trial for murder esca...  \n",
       " 45  A helicopter pilot foiled an attempted hijack ...  \n",
       " 46  Faïd was helped by several heavily armed men w...  \n",
       " 47  Three armed men hijacked a Eurocopter AS355 he...  ]"
      ]
     },
     "execution_count": 49,
     "metadata": {},
     "output_type": "execute_result"
    }
   ],
   "source": [
    "dados=pd.read_html(str(helicopter_escape))\n",
    "dados"
   ]
  }
 ],
 "metadata": {
  "celltoolbar": "Raw Cell Format",
  "kernelspec": {
   "display_name": "Python 3 (ipykernel)",
   "language": "python",
   "name": "python3"
  },
  "language_info": {
   "codemirror_mode": {
    "name": "ipython",
    "version": 3
   },
   "file_extension": ".py",
   "mimetype": "text/x-python",
   "name": "python",
   "nbconvert_exporter": "python",
   "pygments_lexer": "ipython3",
   "version": "3.9.12"
  }
 },
 "nbformat": 4,
 "nbformat_minor": 5
}
